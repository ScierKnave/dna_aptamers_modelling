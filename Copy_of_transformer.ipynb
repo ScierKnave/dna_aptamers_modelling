{
  "cells": [
    {
      "cell_type": "markdown",
      "metadata": {
        "id": "view-in-github",
        "colab_type": "text"
      },
      "source": [
        "<a href=\"https://colab.research.google.com/github/ScierKnave/dna_aptamers_modelling/blob/main/Copy_of_transformer.ipynb\" target=\"_parent\"><img src=\"https://colab.research.google.com/assets/colab-badge.svg\" alt=\"Open In Colab\"/></a>"
      ]
    },
    {
      "cell_type": "code",
      "execution_count": 16,
      "metadata": {
        "id": "OvvkIKdVhMwf"
      },
      "outputs": [],
      "source": [
        "import math\n",
        "import os\n",
        "import torch\n",
        "from torch import nn, Tensor\n",
        "import torch.nn.functional as F\n",
        "from torch.nn import TransformerEncoder, TransformerEncoderLayer\n",
        "from torch.utils.data import TensorDataset, DataLoader\n",
        "device = torch.device('cuda' if torch.cuda.is_available() else 'cpu')\n",
        "import json\n",
        "import pandas as pd\n",
        "import numpy as np\n",
        "import sklearn\n",
        "from sklearn.preprocessing import OneHotEncoder\n",
        "\n",
        "if torch.cuda.is_available():\n",
        "  torch.set_default_tensor_type('torch.cuda.FloatTensor')"
      ]
    },
    {
      "cell_type": "markdown",
      "metadata": {
        "id": "N6_JjGTPhMwg"
      },
      "source": [
        "# Hyperparameters"
      ]
    },
    {
      "cell_type": "code",
      "execution_count": 17,
      "metadata": {
        "id": "oYsS0wzFhMwh"
      },
      "outputs": [],
      "source": [
        "# Transformer HyperHPeters\n",
        "# The length of our token sequences\n",
        "ntokens_HP = 30\n",
        "# Number of attention heads\n",
        "nheads_HP = 8\n",
        "# The encoding dimensions of our tokens\n",
        "token_encode_size_HP = 4\n",
        "# The embedding string size\n",
        "# Pytorch will cut this embedded sequence \n",
        "# and give an equal amount to each head, different \n",
        "# than in theory \n",
        "embed_size_HP = token_encode_size_HP *  nheads_HP\n",
        "# Output size of the heads, which \n",
        "# learn an embedding.\n",
        "head_embedsize_HP = 4\n",
        "# For some reason PyTorch needs us to do this manually\n",
        "d_model_HP = head_embedsize_HP * nheads_HP\n",
        "# No dropout for now\n",
        "dropout_HP = 0\n",
        "# Standard stuff\n",
        "activation_HP = \"relu\"\n",
        "layer_norm_eps_HP = 1e-5\n",
        "batch_first_HP = True\n",
        "norm_first_HP = False\n",
        "\n",
        "# Trainig and validation Hyperparameters\n",
        "datasetsize_HP = 100\n",
        "split_HP = 0.9\n",
        "batchsize_HP = 32\n",
        "batchsize_HP = min(batchsize_HP, (int)(datasetsize_HP*0.2))\n",
        "nepochs_HP = 10\n",
        "device = torch.device(\"cuda\" if torch.cuda.is_available() else \"cpu\")\n",
        "loss_HP = nn.MSELoss()\n",
        "learnrate_HP = 1e-4"
      ]
    },
    {
      "cell_type": "code",
      "execution_count": 18,
      "metadata": {
        "id": "o7GGnLREhMwi",
        "outputId": "dc842e1c-07dd-49cd-8c14-6fb2af094f13",
        "colab": {
          "base_uri": "https://localhost:8080/",
          "height": 53
        }
      },
      "outputs": [
        {
          "output_type": "execute_result",
          "data": {
            "text/plain": [
              "'\\nembed_layer = nn.Embedding(4, 16)\\ninput = torch.rand(10, 30).to(torch.int)\\nembedded = embed_layer(input)\\nprint(output.shape)\\n\\nencoder_layer = nn.TransformerEncoderLayer(d_model=16, nhead=8)\\nout = encoder_layer(embedded)\\nprint(out.shape)\\n'"
            ],
            "application/vnd.google.colaboratory.intrinsic+json": {
              "type": "string"
            }
          },
          "metadata": {},
          "execution_count": 18
        }
      ],
      "source": [
        "'''\n",
        "embed_layer = nn.Embedding(4, 16)\n",
        "input = torch.rand(10, 30).to(torch.int)\n",
        "embedded = embed_layer(input)\n",
        "print(output.shape)\n",
        "\n",
        "encoder_layer = nn.TransformerEncoderLayer(d_model=16, nhead=8)\n",
        "out = encoder_layer(embedded)\n",
        "print(out.shape)\n",
        "'''"
      ]
    },
    {
      "cell_type": "markdown",
      "metadata": {
        "id": "r0-3qv1dhMwj"
      },
      "source": [
        "# Import and preprocess the data"
      ]
    },
    {
      "cell_type": "code",
      "source": [
        "from google.colab import drive\n",
        "drive.mount('/content/drive')"
      ],
      "metadata": {
        "id": "wynUGTAZXZ-A",
        "outputId": "518e01f2-03af-4b72-b8f6-0454ceba6304",
        "colab": {
          "base_uri": "https://localhost:8080/"
        }
      },
      "execution_count": 19,
      "outputs": [
        {
          "output_type": "stream",
          "name": "stdout",
          "text": [
            "Drive already mounted at /content/drive; to attempt to forcibly remount, call drive.mount(\"/content/drive\", force_remount=True).\n"
          ]
        }
      ]
    },
    {
      "cell_type": "code",
      "execution_count": 20,
      "metadata": {
        "id": "OSkzaVSmhMwj"
      },
      "outputs": [],
      "source": [
        "features_df = pd.read_json('/content/drive/MyDrive/strandenergylist.json')\n",
        "energy_df = features_df[1]\n",
        "energy_df = energy_df.head(datasetsize_HP)\n",
        "features_df = features_df.head(datasetsize_HP)\n",
        "features_df = features_df[0].str.split('', expand=True)\n",
        "features_df = features_df.drop([0, 31], axis=1)\n",
        "labels_df = features_df[1]"
      ]
    },
    {
      "cell_type": "markdown",
      "metadata": {
        "id": "bphVGGvhhMwj"
      },
      "source": [
        "### Transformation into pytorch tensors"
      ]
    },
    {
      "cell_type": "code",
      "execution_count": 21,
      "metadata": {
        "id": "8r4fpLUShMwj"
      },
      "outputs": [],
      "source": [
        "# Transform string features into as DNA tensor\n",
        "dna = features_df.to_numpy()\n",
        "for i in range(dna.shape[0]):\n",
        "    for j in range(dna.shape[1]):\n",
        "        if (dna[i,j] == 'A'): dna[i,j] = 0\n",
        "        if (dna[i,j] == 'C'): dna[i,j] = 1\n",
        "        if (dna[i,j] == 'G'): dna[i,j] = 2\n",
        "        if (dna[i,j] == 'T'): dna[i,j] = 3\n",
        "dna = dna.astype(int)\n",
        "dna = torch.from_numpy(dna)\n",
        "#dna = F.one_hot(dna.to(torch.int64), num_classes=4).to(device)\n",
        "#dna = dna.reshape(datasetsize_HP, 120)\n",
        "# Get free energy as pytorch tensor\n",
        "energy = torch.tensor(energy_df.values).to(torch.float)"
      ]
    },
    {
      "cell_type": "markdown",
      "metadata": {
        "id": "PWpoKxrbhMwk"
      },
      "source": [
        "### Creation of test and validation iterators"
      ]
    },
    {
      "cell_type": "code",
      "execution_count": 22,
      "metadata": {
        "id": "ImeH9IDxhMwk"
      },
      "outputs": [],
      "source": [
        "dataset = TensorDataset(dna, energy)\n",
        "ntrain = (int) (split_HP * datasetsize_HP)\n",
        "ntest = datasetsize_HP - ntrain\n",
        "train_set, vali_set = torch.utils.data.random_split(dataset, [ntrain, ntest], generator=torch.Generator(device='cuda'))\n",
        "\n",
        "train_dataloader = DataLoader(train_set, batch_size=batchsize_HP, shuffle=True, generator=torch.Generator(device='cuda'))\n",
        "vali_dataloader = DataLoader(vali_set, batch_size=batchsize_HP, shuffle=True, generator=torch.Generator(device='cuda'))"
      ]
    },
    {
      "cell_type": "code",
      "source": [
        "len(train_dataloader.dataset)"
      ],
      "metadata": {
        "id": "U24d6amw07bb",
        "outputId": "d4b50b60-9a01-4b9d-c03c-848f4f97a1bc",
        "colab": {
          "base_uri": "https://localhost:8080/"
        }
      },
      "execution_count": 23,
      "outputs": [
        {
          "output_type": "execute_result",
          "data": {
            "text/plain": [
              "90"
            ]
          },
          "metadata": {},
          "execution_count": 23
        }
      ]
    },
    {
      "cell_type": "markdown",
      "metadata": {
        "id": "mE4uz7nehMwi"
      },
      "source": [
        "# Create the transformer model"
      ]
    },
    {
      "cell_type": "code",
      "execution_count": 24,
      "metadata": {
        "id": "VDT-LncKhMwi"
      },
      "outputs": [],
      "source": [
        "# Created entirely by the Pytorch team and pasted here.\n",
        "# Adds information of position in the encoding of the tokens.\n",
        "class PositionalEncoding(nn.Module):\n",
        "    def __init__(self, d_model: int, dropout: float = 0.1, max_len: int = 5000):\n",
        "        super().__init__()\n",
        "        self.dropout = nn.Dropout(p=dropout)\n",
        "        position = torch.arange(max_len).unsqueeze(1)\n",
        "        div_term = torch.exp(torch.arange(0, d_model, 2) * (-math.log(10000.0) / d_model))\n",
        "        pe = torch.zeros(max_len, 1, d_model)\n",
        "        pe[:, 0, 0::2] = torch.sin(position * div_term)\n",
        "        pe[:, 0, 1::2] = torch.cos(position * div_term)\n",
        "        self.register_buffer('pe', pe)\n",
        "    def forward(self, x: Tensor) -> Tensor:\n",
        "        \"\"\"\n",
        "        Args:\n",
        "            x: Tensor, shape [seq_len, batch_size, embedding_dim]\n",
        "        \"\"\"\n",
        "        x = x + self.pe[:x.size(0)]\n",
        "        return self.dropout(x)\n",
        "\n",
        "class RegressionTranformer(nn.Module):\n",
        "    def __init__(self):\n",
        "        super(RegressionTranformer, self).__init__()\n",
        "        self.encoder = nn.TransformerEncoderLayer(\n",
        "            d_model = embed_size_HP,\n",
        "            nhead = nheads_HP,\n",
        "            dropout = dropout_HP,\n",
        "            activation = activation_HP,\n",
        "            layer_norm_eps = layer_norm_eps_HP,\n",
        "            batch_first = batch_first_HP,\n",
        "            norm_first = norm_first_HP\n",
        "        )\n",
        "        # Takes indexed sequences of tokens and embeds them.\n",
        "        # [batch_size, seq_len] -> [seq_len, batch_size, embedding_dim] TODO check this!\n",
        "        self.embedder = nn.Embedding(ntokens_HP, embed_size_HP)\n",
        "        # Will add information about position in sequence to each token.\n",
        "        # The second argument is the dropout probability.\n",
        "        # [seq_len, batch_size, embedding_dim] -> [seq_len, batch_size, embedding_dim] TODO check this!\n",
        "        self.posi_encoder = PositionalEncoding(embed_size_HP, 0.5)\n",
        "\n",
        "        # This final layer will take the represented ouput and maps to a real number.\n",
        "        # [batch_size, flatten_seq_len] -> [1]\n",
        "        self.linear = nn.Linear(embed_size_HP * ntokens_HP, 1)\n",
        "\n",
        "\n",
        "    def forward(self, x):\n",
        "        #print(\"embedder input: \", x.shape)\n",
        "        ŷ = self.embedder(x)\n",
        "        #print(\"embedder output: \", ŷ.shape)\n",
        "\n",
        "        ŷ = torch.permute(ŷ, (1,0,2)).to(device) # Necessary for the posi. enc. function.\n",
        "        #print(\"posi input: \", ŷ.shape)\n",
        "        ŷ = self.posi_encoder(ŷ)\n",
        "        #print(\"posi output: \", ŷ.shape)\n",
        "\n",
        "        ŷ = torch.permute(ŷ, (1,0,2)).to(device) # Back to normal\n",
        "        #print(\"encod input: \", ŷ.shape)\n",
        "        ŷ = self.encoder(ŷ)\n",
        "        #print(\"encod output: \", ŷ.shape)\n",
        "\n",
        "        #print(\"concat input: \", ŷ.shape)\n",
        "        ŷ = ŷ.flatten(1,2).to(device)\n",
        "        #print(\"concat output: \", ŷ.shape)\n",
        "\n",
        "        #print(\"linear input: \", ŷ.shape)\n",
        "        ŷ = self.linear(ŷ)\n",
        "        #print(\"linear output: \", ŷ.shape)\n",
        "\n",
        "        return ŷ\n",
        "        \n",
        "transformer = RegressionTranformer().to(device)"
      ]
    },
    {
      "cell_type": "markdown",
      "metadata": {
        "id": "C12-5_uchMwk"
      },
      "source": [
        "# Train the Transformer"
      ]
    },
    {
      "cell_type": "code",
      "execution_count": 25,
      "metadata": {
        "id": "y5yz-zoWhMwk",
        "outputId": "7add1b75-cd4f-4bb5-f9f6-20daf1abb036",
        "colab": {
          "base_uri": "https://localhost:8080/"
        }
      },
      "outputs": [
        {
          "output_type": "stream",
          "name": "stdout",
          "text": [
            "[1] Training loss: 10.096\n",
            "[1] Test loss: 4.841\n",
            "[2] Training loss: 5.656\n",
            "[2] Test loss: 2.068\n",
            "[3] Training loss: 3.498\n",
            "[3] Test loss: 1.858\n",
            "[4] Training loss: 1.957\n",
            "[4] Test loss: 2.968\n",
            "[5] Training loss: 1.478\n",
            "[5] Test loss: 4.528\n",
            "[6] Training loss: 1.485\n",
            "[6] Test loss: 5.717\n",
            "[7] Training loss: 1.461\n",
            "[7] Test loss: 6.115\n",
            "[8] Training loss: 1.468\n",
            "[8] Test loss: 5.958\n",
            "[9] Training loss: 1.368\n",
            "[9] Test loss: 5.409\n",
            "[10] Training loss: 1.430\n",
            "[10] Test loss: 4.743\n"
          ]
        }
      ],
      "source": [
        "def get_reg_accuracy():\n",
        "    total = 0\n",
        "    \n",
        "    with torch.inference_mode():\n",
        "      transformer.eval()\n",
        "      for x_batch, y_batch in vali_dataloader:\n",
        "            x_batch = x_batch.to(device)\n",
        "            y_batch = y_batch.to(device)\n",
        "            ŷ_batch = transformer(x_batch)\n",
        "            batch_loss = loss_HP(ŷ_batch, y_batch.unsqueeze(1))\n",
        "            total += batchsize_HP * batch_loss.item()\n",
        "\n",
        "    transformer.train()\n",
        "    return total / (datasetsize_HP*(1-split_HP))\n",
        "\n",
        "\n",
        "transformer_optimizer = torch.optim.Adam(transformer.parameters(), lr=learnrate_HP)\n",
        "def trainroutine():\n",
        "    for epoch in range(nepochs_HP):\n",
        "        running_loss = 0.0\n",
        "        for i, (x_batch, y_batch) in enumerate(train_dataloader):\n",
        "            x_batch = x_batch.to(device)\n",
        "            y_batch = y_batch.to(device)\n",
        "\n",
        "            transformer_optimizer.zero_grad()\n",
        "            \n",
        "            # Forward propagation\n",
        "            ŷ_batch = transformer(x_batch)\n",
        "            \n",
        "            # Backpropagation\n",
        "            batch_loss = loss_HP(ŷ_batch, y_batch.unsqueeze(1))\n",
        "            batch_loss.backward()\n",
        "            transformer_optimizer.step()\n",
        "            \n",
        "            \n",
        "\n",
        "            # Print statistics\n",
        "            running_loss += batch_loss.item()*batchsize_HP\n",
        "        print(\"[%d] Training loss: %.3f\" %(epoch+1, running_loss/(datasetsize_HP*split_HP)))\n",
        "        print(\"[%d] Test loss: %.3f\" %(epoch+1, get_reg_accuracy()))\n",
        "        \n",
        "trainroutine()\n",
        "torch.save(transformer.state_dict(),\"transformer_weights.pt\")\n"
      ]
    },
    {
      "cell_type": "code",
      "source": [
        "model_parameters = filter(lambda p: p.requires_grad, transformer.parameters())\n",
        "params = sum([np.prod(p.size()) for p in model_parameters])\n",
        "print(params)"
      ],
      "metadata": {
        "colab": {
          "base_uri": "https://localhost:8080/"
        },
        "id": "M4XJcp1zx-3_",
        "outputId": "b05e46b7-5aba-4cb9-fa5e-bc5ccb6b4bd8"
      },
      "execution_count": 26,
      "outputs": [
        {
          "output_type": "stream",
          "name": "stdout",
          "text": [
            "139425\n"
          ]
        }
      ]
    },
    {
      "cell_type": "markdown",
      "metadata": {
        "id": "_tJDjYNIhMwk"
      },
      "source": [
        "# Get validation accuracy"
      ]
    },
    {
      "cell_type": "code",
      "execution_count": 27,
      "metadata": {
        "id": "pbpgD4MohMwk"
      },
      "outputs": [],
      "source": [
        "def get_reg_accuracy():\n",
        "    total = 0\n",
        "    \n",
        "    with torch.inference_mode():\n",
        "      transformer.eval()\n",
        "      for x_batch, y_batch in vali_dataloader:\n",
        "            x_batch = x_batch.to(device)\n",
        "            y_batch = y_batch.to(device)\n",
        "            ŷ_batch = transformer(x_batch)\n",
        "            batch_loss = loss_HP(ŷ_batch, y_batch.unsqueeze(1))\n",
        "            total += batchsize_HP * batch_loss.item()\n",
        "\n",
        "    transformer.train()\n",
        "#print( get_reg_accuracy() )"
      ]
    },
    {
      "cell_type": "markdown",
      "metadata": {
        "id": "N4peNfb_hMwl"
      },
      "source": [
        "# Notes\n",
        "\n",
        "- We could add a positionnal encoding (with\n",
        "PositionalEncoding) (see https://pytorch.org/tutorials/beginner/transformer_tutorial.html)\n",
        "\n",
        "Usually, embedding is done in order to compress the representation of words (loss of information).\n",
        "In our case, their are 4 possible tokens, which means that no compression is needed."
      ]
    }
  ],
  "metadata": {
    "kernelspec": {
      "display_name": "base",
      "language": "python",
      "name": "python3"
    },
    "language_info": {
      "codemirror_mode": {
        "name": "ipython",
        "version": 3
      },
      "file_extension": ".py",
      "mimetype": "text/x-python",
      "name": "python",
      "nbconvert_exporter": "python",
      "pygments_lexer": "ipython3",
      "version": "3.10.8"
    },
    "orig_nbformat": 4,
    "colab": {
      "provenance": [],
      "include_colab_link": true
    },
    "accelerator": "GPU",
    "gpuClass": "standard"
  },
  "nbformat": 4,
  "nbformat_minor": 0
}