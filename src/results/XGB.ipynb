{
 "cells": [
  {
   "cell_type": "code",
   "execution_count": 1,
   "metadata": {
    "collapsed": true
   },
   "outputs": [
    {
     "name": "stderr",
     "output_type": "stream",
     "text": [
      "C:\\Users\\GM\\miniconda3\\envs\\eegmeg\\lib\\site-packages\\tqdm\\auto.py:22: TqdmWarning: IProgress not found. Please update jupyter and ipywidgets. See https://ipywidgets.readthedocs.io/en/stable/user_install.html\n",
      "  from .autonotebook import tqdm as notebook_tqdm\n"
     ]
    }
   ],
   "source": [
    "import json\n",
    "import pandas as pd\n",
    "import sklearn as sk\n",
    "from sklearn.preprocessing import OneHotEncoder\n",
    "import numpy as np\n",
    "from sklearn.model_selection import train_test_split\n",
    "from sklearn import metrics\n",
    "import xgboost as xgb\n",
    "from sklearn.compose import ColumnTransformer\n",
    "from sklearn.preprocessing import StandardScaler\n",
    "import matplotlib.pyplot as plt\n",
    "import seaborn as sns\n",
    "import torch\n",
    "from torch.utils.data import Dataset"
   ]
  },
  {
   "cell_type": "code",
   "execution_count": 2,
   "outputs": [],
   "source": [
    "import torch\n",
    "import torch.nn as nn\n",
    "import torch.nn.functional as F\n",
    "from torch.utils.data import TensorDataset, DataLoader\n",
    "import json\n",
    "import numpy as np\n",
    "from torchvision import models"
   ],
   "metadata": {
    "collapsed": false
   }
  },
  {
   "cell_type": "code",
   "execution_count": 3,
   "outputs": [],
   "source": [
    "from os import listdir"
   ],
   "metadata": {
    "collapsed": false
   }
  },
  {
   "cell_type": "code",
   "execution_count": 4,
   "outputs": [],
   "source": [
    "num_epochs = 30\n",
    "batch_size = 32\n",
    "learning_rate = 0.001\n",
    "device = torch.device(\"cuda\" if torch.cuda.is_available() else \"cpu\")"
   ],
   "metadata": {
    "collapsed": false
   }
  },
  {
   "cell_type": "code",
   "execution_count": 5,
   "outputs": [],
   "source": [
    "f = open(\"C:/Users/GM/Desktop/DNA/src/data/strandenergylist.json\")\n",
    "data = json.load(f)\n",
    "energy = []\n",
    "strands = []\n",
    "for pair in data:\n",
    "    energy.append(pair[1])\n",
    "    strands.append(pair[0])"
   ],
   "metadata": {
    "collapsed": false
   }
  },
  {
   "cell_type": "code",
   "execution_count": 6,
   "outputs": [],
   "source": [
    "intstrands = []\n",
    "for strand in strands:\n",
    "    intstrand = []\n",
    "    for base in strand:\n",
    "        if base == \"A\":\n",
    "            intstrand.append(0)\n",
    "        if base == \"T\":\n",
    "            intstrand.append(1)\n",
    "        if base == \"C\":\n",
    "            intstrand.append(2)\n",
    "        if base == \"G\":\n",
    "            intstrand.append(3)\n",
    "    intstrands.append(intstrand)"
   ],
   "metadata": {
    "collapsed": false
   }
  },
  {
   "cell_type": "code",
   "execution_count": 7,
   "outputs": [],
   "source": [
    "strandstensor = torch.tensor(intstrands)\n",
    "onehotstrands = F.one_hot(strandstensor, num_classes=4)\n",
    "onehotstrands = onehotstrands.reshape(1000000,120)\n",
    "energytensor = torch.tensor(energy)"
   ],
   "metadata": {
    "collapsed": false
   }
  },
  {
   "cell_type": "code",
   "execution_count": 8,
   "outputs": [],
   "source": [
    "dataset = TensorDataset(onehotstrands.type(torch.float32), energytensor)\n",
    "train_set, test_set = torch.utils.data.random_split(dataset, [900000, 100000])\n",
    "dataloader = DataLoader(train_set, batch_size=batch_size, shuffle=True)\n",
    "testdataloader = DataLoader(test_set, batch_size=batch_size, shuffle=False)"
   ],
   "metadata": {
    "collapsed": false
   }
  },
  {
   "cell_type": "code",
   "execution_count": 9,
   "outputs": [],
   "source": [
    "class RegressionLSTM(nn.Module):\n",
    "    def __init__(self):\n",
    "        super(RegressionLSTM, self).__init__()\n",
    "\n",
    "        self.lstm = nn.LSTM(input_size=120, hidden_size=270, num_layers=2, dropout=0.6)\n",
    "        self.fc1 = nn.Linear(270,1)\n",
    "\n",
    "    def forward(self, x):\n",
    "        x, _ = self.lstm(x)\n",
    "        x = self.fc1(x)\n",
    "\n",
    "        return x"
   ],
   "metadata": {
    "collapsed": false
   }
  },
  {
   "cell_type": "code",
   "execution_count": 10,
   "outputs": [],
   "source": [
    "lstm = RegressionLSTM()\n",
    "lstm.to(device)\n",
    "lstmcriterion = nn.MSELoss()\n",
    "lstmoptimizer = torch.optim.Adam(lstm.parameters(), lr=learning_rate)"
   ],
   "metadata": {
    "collapsed": false
   }
  },
  {
   "cell_type": "code",
   "execution_count": 11,
   "outputs": [
    {
     "name": "stdout",
     "output_type": "stream",
     "text": [
      "1008991\n"
     ]
    }
   ],
   "source": [
    "model_parameters = filter(lambda p: p.requires_grad, lstm.parameters())\n",
    "params = sum([np.prod(p.size()) for p in model_parameters])\n",
    "print(params)"
   ],
   "metadata": {
    "collapsed": false
   }
  },
  {
   "cell_type": "code",
   "execution_count": 12,
   "outputs": [],
   "source": [
    "X = onehotstrands.numpy()"
   ],
   "metadata": {
    "collapsed": false
   }
  },
  {
   "cell_type": "code",
   "execution_count": 13,
   "outputs": [],
   "source": [
    "y = energytensor.numpy()"
   ],
   "metadata": {
    "collapsed": false
   }
  },
  {
   "cell_type": "code",
   "execution_count": 14,
   "outputs": [],
   "source": [
    "import pandas as pd\n",
    "from sklearn.model_selection import train_test_split"
   ],
   "metadata": {
    "collapsed": false
   }
  },
  {
   "cell_type": "code",
   "execution_count": 15,
   "outputs": [],
   "source": [
    "RANDOM_SEED = 42\n",
    "\n",
    "# Split into train,validation and test\n",
    "X_train, X_val_test, y_train, y_val_test = train_test_split(X,y,test_size=0.2, random_state=RANDOM_SEED)\n",
    "X_val, X_test, y_val, y_test = train_test_split(X_val_test,y_val_test,test_size=0.5, random_state=RANDOM_SEED)"
   ],
   "metadata": {
    "collapsed": false
   }
  },
  {
   "cell_type": "code",
   "execution_count": 16,
   "outputs": [
    {
     "data": {
      "text/plain": "((800000, 120), (100000, 120), (100000, 120))"
     },
     "execution_count": 16,
     "metadata": {},
     "output_type": "execute_result"
    }
   ],
   "source": [
    "X_train.shape, X_val.shape, X_test.shape"
   ],
   "metadata": {
    "collapsed": false
   }
  },
  {
   "cell_type": "code",
   "execution_count": 17,
   "outputs": [],
   "source": [
    "import xgboost as xgb\n",
    "from sklearn.metrics import mean_squared_error as MSE\n",
    "from sklearn.metrics import mean_absolute_error\n",
    "from sklearn.metrics import r2_score"
   ],
   "metadata": {
    "collapsed": false
   }
  },
  {
   "cell_type": "code",
   "execution_count": 18,
   "outputs": [],
   "source": [
    "X_train, X_val_test, y_train, y_val_test = train_test_split(X,y,test_size=0.1, random_state=RANDOM_SEED)"
   ],
   "metadata": {
    "collapsed": false
   }
  },
  {
   "cell_type": "code",
   "execution_count": 21,
   "outputs": [
    {
     "name": "stdout",
     "output_type": "stream",
     "text": [
      "MSE :  0.993166\n",
      "RMSE :  0.996577\n",
      "MAE :  0.754646\n",
      "R2 :  0.398504\n"
     ]
    }
   ],
   "source": [
    "clf_xgb = xgb.XGBRegressor(tree_method='gpu_hist', seed = RANDOM_SEED)\n",
    "# Fit the model using predictor X and response y.\n",
    "clf_xgb.fit(X_train, y_train)\n",
    "\n",
    "# Baseline model\n",
    "y_pred_train = clf_xgb.predict(X_train)\n",
    "\n",
    "# RMSE Computation\n",
    "mse = MSE(y_train, y_pred_train)\n",
    "rmse = np.sqrt(MSE(y_train, y_pred_train))\n",
    "mae = mean_absolute_error(y_train, y_pred_train)\n",
    "r2 = r2_score(y_train, y_pred_train)\n",
    "print(\"MSE : % f\" %(mse))\n",
    "print(\"RMSE : % f\" %(rmse))\n",
    "print(\"MAE : % f\" %(mae))\n",
    "print(\"R2 : % f\" %(r2))"
   ],
   "metadata": {
    "collapsed": false
   }
  },
  {
   "cell_type": "code",
   "execution_count": 22,
   "outputs": [
    {
     "name": "stdout",
     "output_type": "stream",
     "text": [
      "MSE :  1.016363\n",
      "RMSE :  1.008148\n",
      "MAE :  0.762533\n",
      "R2 :  0.378915\n"
     ]
    }
   ],
   "source": [
    "y_pred_val = clf_xgb.predict(X_val_test)\n",
    "\n",
    "mse = MSE(y_val_test, y_pred_val)\n",
    "rmse = np.sqrt(MSE(y_val_test, y_pred_val))\n",
    "mae = mean_absolute_error(y_val_test, y_pred_val)\n",
    "r2 = r2_score(y_val_test, y_pred_val)\n",
    "print(\"MSE : % f\" %(mse))\n",
    "print(\"RMSE : % f\" %(rmse))\n",
    "print(\"MAE : % f\" %(mae))\n",
    "print(\"R2 : % f\" %(r2))"
   ],
   "metadata": {
    "collapsed": false
   }
  },
  {
   "cell_type": "code",
   "execution_count": null,
   "outputs": [],
   "source": [],
   "metadata": {
    "collapsed": false
   }
  }
 ],
 "metadata": {
  "kernelspec": {
   "display_name": "Python 3",
   "language": "python",
   "name": "python3"
  },
  "language_info": {
   "codemirror_mode": {
    "name": "ipython",
    "version": 2
   },
   "file_extension": ".py",
   "mimetype": "text/x-python",
   "name": "python",
   "nbconvert_exporter": "python",
   "pygments_lexer": "ipython2",
   "version": "2.7.6"
  }
 },
 "nbformat": 4,
 "nbformat_minor": 0
}
