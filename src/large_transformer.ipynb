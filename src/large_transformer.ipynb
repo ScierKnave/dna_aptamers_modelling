{
  "cells": [
    {
      "cell_type": "code",
      "execution_count": null,
      "metadata": {
        "id": "OvvkIKdVhMwf"
      },
      "outputs": [],
      "source": [
        "import math\n",
        "import os\n",
        "import torch\n",
        "from torch import nn, Tensor\n",
        "import torch.nn.functional as F\n",
        "from torch.nn import TransformerEncoder, TransformerEncoderLayer\n",
        "from torch.utils.data import TensorDataset, DataLoader\n",
        "device = torch.device('cuda' if torch.cuda.is_available() else 'cpu')\n",
        "import json\n",
        "import pandas as pd\n",
        "import numpy as np\n",
        "import sklearn\n",
        "from sklearn.preprocessing import OneHotEncoder\n",
        "\n",
        "if torch.cuda.is_available():\n",
        "  torch.set_default_tensor_type('torch.cuda.FloatTensor')"
      ]
    },
    {
      "cell_type": "markdown",
      "metadata": {
        "id": "N6_JjGTPhMwg"
      },
      "source": [
        "# Hyperparameters"
      ]
    },
    {
      "cell_type": "code",
      "execution_count": null,
      "metadata": {
        "id": "oYsS0wzFhMwh"
      },
      "outputs": [],
      "source": [
        "# Transformer HyperHPeters\n",
        "# The length of our token sequences\n",
        "ntokens_HP = 30\n",
        "# Number of attention heads\n",
        "nheads_HP = 16\n",
        "# The encoding dimensions of our tokens\n",
        "token_encode_size_HP = 16\n",
        "# The embedding string size\n",
        "# Pytorch will cut this embedded sequence \n",
        "# and give an equal amount to each head, different \n",
        "# than in theory \n",
        "embed_size_HP = token_encode_size_HP *  nheads_HP\n",
        "# Output size of the heads, which \n",
        "# learn an embedding.\n",
        "head_embedsize_HP = 4\n",
        "# No dropout for now\n",
        "dropout_HP = 0.1\n",
        "# Number of encoding layers\n",
        "n_encoders_HP = 6\n",
        "\n",
        "# Standard stuff\n",
        "activation_HP = \"relu\"\n",
        "layer_norm_eps_HP = 1e-5\n",
        "batch_first_HP = True\n",
        "norm_first_HP = False\n",
        "\n",
        "# Trainig and validation Hyperparameters\n",
        "datasetsize_HP = 1000000\n",
        "split_HP = 0.9\n",
        "batchsize_HP = 256\n",
        "batchsize_HP = min(batchsize_HP, (int)(datasetsize_HP*0.2))\n",
        "nepochs_HP = 10\n",
        "device = torch.device(\"cuda\" if torch.cuda.is_available() else \"cpu\")\n",
        "loss_HP = nn.MSELoss()\n",
        "learnrate_HP = 1e-4"
      ]
    },
    {
      "cell_type": "markdown",
      "metadata": {
        "id": "r0-3qv1dhMwj"
      },
      "source": [
        "# Import and preprocess the data"
      ]
    },
    {
      "cell_type": "code",
      "execution_count": null,
      "metadata": {
        "id": "8r4fpLUShMwj"
      },
      "outputs": [],
      "source": [
        "# Json -> Dataframe\n",
        "features_df = pd.read_json('strandenergylist.json')\n",
        "energy_df = features_df[1]\n",
        "energy_df = energy_df.head(datasetsize_HP)\n",
        "features_df = features_df.head(datasetsize_HP)\n",
        "features_df = features_df[0].str.split('', expand=True)\n",
        "features_df = features_df.drop([0, 31], axis=1)\n",
        "labels_df = features_df[1]\n",
        "\n",
        "\n",
        "# Dataframe -> Tensors\n",
        "dna = features_df.to_numpy()\n",
        "for i in range(dna.shape[0]):\n",
        "    for j in range(dna.shape[1]):\n",
        "        if (dna[i,j] == 'A'): dna[i,j] = 0\n",
        "        if (dna[i,j] == 'C'): dna[i,j] = 1\n",
        "        if (dna[i,j] == 'G'): dna[i,j] = 2\n",
        "        if (dna[i,j] == 'T'): dna[i,j] = 3\n",
        "dna = dna.astype(int)\n",
        "dna = torch.from_numpy(dna)\n",
        "energy = torch.tensor(energy_df.values).to(torch.float)\n",
        "\n",
        "\n",
        "# Tensors -> Dataloaders\n",
        "dataset = TensorDataset(dna, energy)\n",
        "ntrain = (int) (split_HP * datasetsize_HP)\n",
        "ntest = datasetsize_HP - ntrain\n",
        "train_set, vali_set = torch.utils.data.random_split(dataset, [ntrain, ntest], \n",
        "                                                    generator=torch.Generator(device='cuda'))\n",
        "\n",
        "train_dataloader = DataLoader(train_set, batch_size=batchsize_HP, shuffle=True, \n",
        "                              generator=torch.Generator(device='cuda'))\n",
        "vali_dataloader = DataLoader(vali_set, batch_size=1, shuffle=False, \n",
        "                             generator=torch.Generator(device='cuda'))"
      ]
    },
    {
      "cell_type": "markdown",
      "metadata": {
        "id": "mE4uz7nehMwi"
      },
      "source": [
        "# Create the transformer model"
      ]
    },
    {
      "cell_type": "code",
      "execution_count": null,
      "metadata": {
        "id": "VDT-LncKhMwi"
      },
      "outputs": [],
      "source": [
        "# Created entirely by the Pytorch team and pasted here.\n",
        "# Adds information of position in the encoding of the tokens.\n",
        "class PositionalEncoding(nn.Module):\n",
        "    def __init__(self, d_model: int, dropout: float = 0.1, max_len: int = 5000):\n",
        "        super().__init__()\n",
        "        self.dropout = nn.Dropout(p=dropout)\n",
        "        position = torch.arange(max_len).unsqueeze(1)\n",
        "        div_term = torch.exp(torch.arange(0, d_model, 2) * (-math.log(10000.0) / d_model))\n",
        "        pe = torch.zeros(max_len, 1, d_model)\n",
        "        pe[:, 0, 0::2] = torch.sin(position * div_term)\n",
        "        pe[:, 0, 1::2] = torch.cos(position * div_term)\n",
        "        self.register_buffer('pe', pe)\n",
        "    def forward(self, x: Tensor) -> Tensor:\n",
        "        \"\"\"\n",
        "        Args:\n",
        "            x: Tensor, shape [seq_len, batch_size, embedding_dim]\n",
        "        \"\"\"\n",
        "        x = x + self.pe[:x.size(0)]\n",
        "        return self.dropout(x)\n",
        "\n",
        "class RegressionTranformer(nn.Module):\n",
        "    def __init__(self):\n",
        "        super(RegressionTranformer, self).__init__()\n",
        "\n",
        "        # Takes indexed sequences of tokens and embeds them.\n",
        "        # [batch_size, seq_len] -> [seq_len, batch_size, embedding_dim] TODO check this!\n",
        "        self.embedder = nn.Embedding(ntokens_HP, embed_size_HP)\n",
        "\n",
        "        # Will add information about position in sequence to each token.\n",
        "        # The second argument is the dropout probability.\n",
        "        # [seq_len, batch_size, embedding_dim] -> [seq_len, batch_size, embedding_dim] TODO check this!\n",
        "        self.posi_encoder = PositionalEncoding(embed_size_HP, 0.5)\n",
        "\n",
        "        # The core of our regression transformer\n",
        "        transformer_encoder_layer = nn.TransformerEncoderLayer(\n",
        "            d_model = embed_size_HP,\n",
        "            nhead = nheads_HP,\n",
        "            dropout = dropout_HP,\n",
        "            activation = activation_HP,\n",
        "            layer_norm_eps = layer_norm_eps_HP,\n",
        "            batch_first = batch_first_HP,\n",
        "            norm_first = norm_first_HP\n",
        "        )\n",
        "        self.encoding_layers = nn.TransformerEncoder(transformer_encoder_layer, n_encoders_HP)\n",
        "\n",
        "      \n",
        "        # A linear map returning a scalar value, which is the predicted free\n",
        "        # energy of the input sequence.\n",
        "        # [batch_size, flatten_seq_len] -> [1]\n",
        "        self.linear = nn.Linear(embed_size_HP * ntokens_HP, 1) \n",
        "\n",
        "\n",
        "    def forward(self, x):\n",
        "        ŷ =  self.embedder(x)\n",
        "\n",
        "        # Normalise the encoding.\n",
        "        ŷ = ŷ * (1 / math.sqrt(embed_size_HP))\n",
        "\n",
        "        # Add positionnal encoding\n",
        "        ŷ = torch.permute(ŷ, (1,0,2)) # Necessary for the posi. enc. function.\n",
        "        ŷ = self.posi_encoder(ŷ)\n",
        "\n",
        "        # Apply the attention mechanisms\n",
        "        ŷ = torch.permute(ŷ, (1,0,2)) # Back to normal\n",
        "        ŷ = self.encoding_layers(ŷ)\n",
        "\n",
        "        # Flatten the outputs\n",
        "        ŷ = ŷ.flatten(1,2)\n",
        "\n",
        "        # Apply last linear layer for regression\n",
        "        ŷ = self.linear(ŷ)\n",
        "\n",
        "        return ŷ\n",
        "        \n",
        "transformer = RegressionTranformer().to(device)"
      ]
    },
    {
      "cell_type": "markdown",
      "metadata": {
        "id": "C12-5_uchMwk"
      },
      "source": [
        "# Train the Transformer"
      ]
    },
    {
      "cell_type": "code",
      "execution_count": null,
      "metadata": {
        "id": "y5yz-zoWhMwk",
        "colab": {
          "base_uri": "https://localhost:8080/"
        },
        "outputId": "2bf4e5b5-181c-49e5-9ee5-d55d1af2a077"
      },
      "outputs": [
        {
          "output_type": "stream",
          "name": "stdout",
          "text": [
            "Training loss: [1.40719]\n",
            "Test loss: [1.27038]\n",
            "Training loss: [1.40719, 1.19603]\n",
            "Test loss: [1.27038, 1.09003]\n",
            "Training loss: [1.40719, 1.19603, 1.07546]\n",
            "Test loss: [1.27038, 1.09003, 1.063]\n",
            "Training loss: [1.40719, 1.19603, 1.07546, 1.03435]\n",
            "Test loss: [1.27038, 1.09003, 1.063, 1.02674]\n",
            "Training loss: [1.40719, 1.19603, 1.07546, 1.03435, 0.99871]\n",
            "Test loss: [1.27038, 1.09003, 1.063, 1.02674, 0.9411]\n",
            "Training loss: [1.40719, 1.19603, 1.07546, 1.03435, 0.99871, 0.92485]\n",
            "Test loss: [1.27038, 1.09003, 1.063, 1.02674, 0.9411, 0.81243]\n",
            "Training loss: [1.40719, 1.19603, 1.07546, 1.03435, 0.99871, 0.92485, 0.82452]\n",
            "Test loss: [1.27038, 1.09003, 1.063, 1.02674, 0.9411, 0.81243, 0.72119]\n",
            "Training loss: [1.40719, 1.19603, 1.07546, 1.03435, 0.99871, 0.92485, 0.82452, 0.55667]\n",
            "Test loss: [1.27038, 1.09003, 1.063, 1.02674, 0.9411, 0.81243, 0.72119, 0.37143]\n",
            "Training loss: [1.40719, 1.19603, 1.07546, 1.03435, 0.99871, 0.92485, 0.82452, 0.55667, 0.32237]\n",
            "Test loss: [1.27038, 1.09003, 1.063, 1.02674, 0.9411, 0.81243, 0.72119, 0.37143, 0.335]\n",
            "Training loss: [1.40719, 1.19603, 1.07546, 1.03435, 0.99871, 0.92485, 0.82452, 0.55667, 0.32237, 0.25441]\n",
            "Test loss: [1.27038, 1.09003, 1.063, 1.02674, 0.9411, 0.81243, 0.72119, 0.37143, 0.335, 0.30692]\n"
          ]
        }
      ],
      "source": [
        "# Train # 1\n",
        "def get_reg_accuracy():\n",
        "    total = 0\n",
        "    \n",
        "    with torch.inference_mode():\n",
        "      transformer.eval()\n",
        "      for x_batch, y_batch in vali_dataloader:\n",
        "            x_batch = x_batch.to(device)\n",
        "            y_batch = y_batch.to(device)\n",
        "            ŷ_batch = transformer(x_batch)\n",
        "            batch_loss = loss_HP(ŷ_batch, y_batch.unsqueeze(1))\n",
        "            total += batchsize_HP * batch_loss.item()\n",
        "\n",
        "    transformer.train()\n",
        "    return total / (datasetsize_HP*(1-split_HP))\n",
        "\n",
        "\n",
        "transformer_optimizer = torch.optim.Adam(transformer.parameters(), lr=learnrate_HP)\n",
        "\n",
        "trainloss = []\n",
        "testloss = []\n",
        "\n",
        "def trainroutine():\n",
        "    global trainloss, testloss\n",
        "    for epoch in range(nepochs_HP):\n",
        "        running_loss = 0.0\n",
        "        for i, (x_batch, y_batch) in enumerate(train_dataloader):\n",
        "            # Put the data on the device\n",
        "            x_batch = x_batch.to(device)\n",
        "            y_batch = y_batch.to(device)\n",
        "            \n",
        "            # Forward propagation\n",
        "            ŷ_batch = transformer(x_batch)\n",
        "            \n",
        "            # Backpropagation\n",
        "            batch_loss = loss_HP(ŷ_batch, y_batch.unsqueeze(1))\n",
        "            transformer_optimizer.zero_grad()\n",
        "            batch_loss.backward()\n",
        "            transformer_optimizer.step()\n",
        "            \n",
        "\n",
        "            # Print statistics\n",
        "            running_loss += batch_loss.item()*batchsize_HP\n",
        "        \n",
        "        # Print the results through the epochs\n",
        "        trainloss = trainloss + [ round(running_loss/(datasetsize_HP*split_HP), 5) ]\n",
        "        print(\"Training loss:\", trainloss)\n",
        "        testloss = testloss + [ round(get_reg_accuracy(), 5) ]\n",
        "        print(\"Test loss:\", testloss)\n",
        "        \n",
        "trainroutine()\n",
        "torch.save(transformer.state_dict(),\"transformer_weights.pt\")\n"
      ]
    },
    {
      "cell_type": "code",
      "source": [
        "# Train # 2\n",
        "def get_reg_accuracy():\n",
        "    total = 0\n",
        "    \n",
        "    with torch.inference_mode():\n",
        "      transformer.eval()\n",
        "      for x_batch, y_batch in vali_dataloader:\n",
        "            x_batch = x_batch.to(device)\n",
        "            y_batch = y_batch.to(device)\n",
        "            ŷ_batch = transformer(x_batch)\n",
        "            batch_loss = loss_HP(ŷ_batch, y_batch.unsqueeze(1))\n",
        "            total += batchsize_HP * batch_loss.item()\n",
        "\n",
        "    transformer.train()\n",
        "    return total / (datasetsize_HP*(1-split_HP))\n",
        "\n",
        "\n",
        "transformer_optimizer = torch.optim.Adam(transformer.parameters(), lr=learnrate_HP)\n",
        "\n",
        "trainloss = []\n",
        "testloss = []\n",
        "\n",
        "def trainroutine():\n",
        "    global trainloss, testloss\n",
        "    for epoch in range(nepochs_HP):\n",
        "        running_loss = 0.0\n",
        "        for i, (x_batch, y_batch) in enumerate(train_dataloader):\n",
        "            # Put the data on the device\n",
        "            x_batch = x_batch.to(device)\n",
        "            y_batch = y_batch.to(device)\n",
        "            \n",
        "            # Forward propagation\n",
        "            ŷ_batch = transformer(x_batch)\n",
        "            \n",
        "            # Backpropagation\n",
        "            batch_loss = loss_HP(ŷ_batch, y_batch.unsqueeze(1))\n",
        "            transformer_optimizer.zero_grad()\n",
        "            batch_loss.backward()\n",
        "            transformer_optimizer.step()\n",
        "            \n",
        "\n",
        "            # Print statistics\n",
        "            running_loss += batch_loss.item()*batchsize_HP\n",
        "        \n",
        "        # Print the results through the epochs\n",
        "        trainloss = trainloss + [ round(running_loss/(datasetsize_HP*split_HP), 5) ]\n",
        "        print(\"Training loss:\", trainloss)\n",
        "        testloss = testloss + [ round(get_reg_accuracy(), 5) ]\n",
        "        print(\"Test loss:\", testloss)\n",
        "        \n",
        "trainroutine()\n",
        "torch.save(transformer.state_dict(),\"transformer_weights.pt\")"
      ],
      "metadata": {
        "colab": {
          "base_uri": "https://localhost:8080/"
        },
        "id": "1rKBUbonMbjO",
        "outputId": "71d41271-b4ea-46ca-b826-bced3e5a2ded"
      },
      "execution_count": null,
      "outputs": [
        {
          "output_type": "stream",
          "name": "stdout",
          "text": [
            "Training loss: [0.22026]\n",
            "Test loss: [0.18343]\n",
            "Training loss: [0.22026, 0.19513]\n",
            "Test loss: [0.18343, 0.24517]\n",
            "Training loss: [0.22026, 0.19513, 0.17647]\n",
            "Test loss: [0.18343, 0.24517, 0.17352]\n",
            "Training loss: [0.22026, 0.19513, 0.17647, 0.16067]\n",
            "Test loss: [0.18343, 0.24517, 0.17352, 0.18647]\n",
            "Training loss: [0.22026, 0.19513, 0.17647, 0.16067, 0.14853]\n",
            "Test loss: [0.18343, 0.24517, 0.17352, 0.18647, 0.16439]\n",
            "Training loss: [0.22026, 0.19513, 0.17647, 0.16067, 0.14853, 0.13872]\n",
            "Test loss: [0.18343, 0.24517, 0.17352, 0.18647, 0.16439, 0.17732]\n",
            "Training loss: [0.22026, 0.19513, 0.17647, 0.16067, 0.14853, 0.13872, 0.12975]\n",
            "Test loss: [0.18343, 0.24517, 0.17352, 0.18647, 0.16439, 0.17732, 0.14472]\n",
            "Training loss: [0.22026, 0.19513, 0.17647, 0.16067, 0.14853, 0.13872, 0.12975, 0.12222]\n",
            "Test loss: [0.18343, 0.24517, 0.17352, 0.18647, 0.16439, 0.17732, 0.14472, 0.15336]\n",
            "Training loss: [0.22026, 0.19513, 0.17647, 0.16067, 0.14853, 0.13872, 0.12975, 0.12222, 0.11627]\n",
            "Test loss: [0.18343, 0.24517, 0.17352, 0.18647, 0.16439, 0.17732, 0.14472, 0.15336, 0.17588]\n",
            "Training loss: [0.22026, 0.19513, 0.17647, 0.16067, 0.14853, 0.13872, 0.12975, 0.12222, 0.11627, 0.11073]\n",
            "Test loss: [0.18343, 0.24517, 0.17352, 0.18647, 0.16439, 0.17732, 0.14472, 0.15336, 0.17588, 0.14467]\n"
          ]
        }
      ]
    },
    {
      "cell_type": "code",
      "source": [
        "# Train # 3\n",
        "def get_reg_accuracy():\n",
        "    total = 0\n",
        "    \n",
        "    with torch.inference_mode():\n",
        "      transformer.eval()\n",
        "      for x_batch, y_batch in vali_dataloader:\n",
        "            x_batch = x_batch.to(device)\n",
        "            y_batch = y_batch.to(device)\n",
        "            ŷ_batch = transformer(x_batch)\n",
        "            batch_loss = loss_HP(ŷ_batch, y_batch.unsqueeze(1))\n",
        "            total += batchsize_HP * batch_loss.item()\n",
        "\n",
        "    transformer.train()\n",
        "    return total / (datasetsize_HP*(1-split_HP))\n",
        "\n",
        "\n",
        "transformer_optimizer = torch.optim.Adam(transformer.parameters(), lr=learnrate_HP)\n",
        "\n",
        "trainloss = []\n",
        "testloss = []\n",
        "\n",
        "def trainroutine():\n",
        "    global trainloss, testloss\n",
        "    for epoch in range(nepochs_HP):\n",
        "        running_loss = 0.0\n",
        "        for i, (x_batch, y_batch) in enumerate(train_dataloader):\n",
        "            # Put the data on the device\n",
        "            x_batch = x_batch.to(device)\n",
        "            y_batch = y_batch.to(device)\n",
        "            \n",
        "            # Forward propagation\n",
        "            ŷ_batch = transformer(x_batch)\n",
        "            \n",
        "            # Backpropagation\n",
        "            batch_loss = loss_HP(ŷ_batch, y_batch.unsqueeze(1))\n",
        "            transformer_optimizer.zero_grad()\n",
        "            batch_loss.backward()\n",
        "            transformer_optimizer.step()\n",
        "            \n",
        "\n",
        "            # Print statistics\n",
        "            running_loss += batch_loss.item()*batchsize_HP\n",
        "        \n",
        "        # Print the results through the epochs\n",
        "        trainloss = trainloss + [ round(running_loss/(datasetsize_HP*split_HP), 5) ]\n",
        "        print(\"Training loss:\", trainloss)\n",
        "        testloss = testloss + [ round(get_reg_accuracy(), 5) ]\n",
        "        print(\"Test loss:\", testloss)\n",
        "        \n",
        "trainroutine()\n",
        "torch.save(transformer.state_dict(),\"transformer_weights.pt\")"
      ],
      "metadata": {
        "colab": {
          "base_uri": "https://localhost:8080/"
        },
        "id": "M8o96gpcyLDl",
        "outputId": "3f0d616b-0853-4e69-fe3b-bb02693d234d"
      },
      "execution_count": null,
      "outputs": [
        {
          "output_type": "stream",
          "name": "stdout",
          "text": [
            "Training loss: [0.10611]\n",
            "Test loss: [0.1198]\n",
            "Training loss: [0.10611, 0.10136]\n",
            "Test loss: [0.1198, 0.14323]\n",
            "Training loss: [0.10611, 0.10136, 0.09722]\n",
            "Test loss: [0.1198, 0.14323, 0.16825]\n",
            "Training loss: [0.10611, 0.10136, 0.09722, 0.09356]\n",
            "Test loss: [0.1198, 0.14323, 0.16825, 0.11015]\n",
            "Training loss: [0.10611, 0.10136, 0.09722, 0.09356, 0.09133]\n",
            "Test loss: [0.1198, 0.14323, 0.16825, 0.11015, 0.14036]\n",
            "Training loss: [0.10611, 0.10136, 0.09722, 0.09356, 0.09133, 0.08628]\n",
            "Test loss: [0.1198, 0.14323, 0.16825, 0.11015, 0.14036, 0.1212]\n",
            "Training loss: [0.10611, 0.10136, 0.09722, 0.09356, 0.09133, 0.08628, 0.08416]\n",
            "Test loss: [0.1198, 0.14323, 0.16825, 0.11015, 0.14036, 0.1212, 0.12244]\n",
            "Training loss: [0.10611, 0.10136, 0.09722, 0.09356, 0.09133, 0.08628, 0.08416, 0.08096]\n",
            "Test loss: [0.1198, 0.14323, 0.16825, 0.11015, 0.14036, 0.1212, 0.12244, 0.11991]\n",
            "Training loss: [0.10611, 0.10136, 0.09722, 0.09356, 0.09133, 0.08628, 0.08416, 0.08096, 0.07822]\n",
            "Test loss: [0.1198, 0.14323, 0.16825, 0.11015, 0.14036, 0.1212, 0.12244, 0.11991, 0.12086]\n",
            "Training loss: [0.10611, 0.10136, 0.09722, 0.09356, 0.09133, 0.08628, 0.08416, 0.08096, 0.07822, 0.07664]\n",
            "Test loss: [0.1198, 0.14323, 0.16825, 0.11015, 0.14036, 0.1212, 0.12244, 0.11991, 0.12086, 0.15658]\n"
          ]
        }
      ]
    },
    {
      "cell_type": "code",
      "source": [
        "model_parameters = filter(lambda p: p.requires_grad, transformer.parameters())\n",
        "params = sum([np.prod(p.size()) for p in model_parameters])\n",
        "print(params)"
      ],
      "metadata": {
        "id": "M4XJcp1zx-3_",
        "colab": {
          "base_uri": "https://localhost:8080/"
        },
        "outputId": "c3e217d9-19fe-4ef8-a733-aab9f69013ea"
      },
      "execution_count": null,
      "outputs": [
        {
          "output_type": "stream",
          "name": "stdout",
          "text": [
            "7905793\n"
          ]
        }
      ]
    }
  ],
  "metadata": {
    "kernelspec": {
      "display_name": "base",
      "language": "python",
      "name": "python3"
    },
    "language_info": {
      "codemirror_mode": {
        "name": "ipython",
        "version": 3
      },
      "file_extension": ".py",
      "mimetype": "text/x-python",
      "name": "python",
      "nbconvert_exporter": "python",
      "pygments_lexer": "ipython3",
      "version": "3.10.8"
    },
    "orig_nbformat": 4,
    "colab": {
      "provenance": []
    },
    "accelerator": "GPU",
    "gpuClass": "standard"
  },
  "nbformat": 4,
  "nbformat_minor": 0
}