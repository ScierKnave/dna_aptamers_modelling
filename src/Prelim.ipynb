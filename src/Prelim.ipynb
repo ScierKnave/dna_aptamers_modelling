{
 "cells": [
  {
   "cell_type": "code",
   "execution_count": 1,
   "outputs": [
    {
     "name": "stderr",
     "output_type": "stream",
     "text": [
      "C:\\Users\\GM\\miniconda3\\envs\\eegmeg\\lib\\site-packages\\tqdm\\auto.py:22: TqdmWarning: IProgress not found. Please update jupyter and ipywidgets. See https://ipywidgets.readthedocs.io/en/stable/user_install.html\n",
      "  from .autonotebook import tqdm as notebook_tqdm\n"
     ]
    }
   ],
   "source": [
    "import json\n",
    "import pandas as pd\n",
    "import sklearn as sk\n",
    "from sklearn.preprocessing import OneHotEncoder\n",
    "import numpy as np\n",
    "from sklearn.model_selection import train_test_split\n",
    "from sklearn import metrics\n",
    "import xgboost as xgb\n",
    "from sklearn.compose import ColumnTransformer\n",
    "from sklearn.preprocessing import StandardScaler\n",
    "import matplotlib.pyplot as plt\n",
    "import seaborn as sns\n",
    "import torch\n",
    "from torch.utils.data import Dataset"
   ],
   "metadata": {
    "collapsed": false
   }
  },
  {
   "cell_type": "markdown",
   "source": [
    "### load data"
   ],
   "metadata": {
    "collapsed": false
   }
  },
  {
   "cell_type": "code",
   "execution_count": 2,
   "metadata": {
    "collapsed": true
   },
   "outputs": [
    {
     "data": {
      "text/plain": "                                     0         1\n0       ATTACTTGCATGACGATCGTTGGTCGGCTC -3.002072\n1       TTAACCCGGCGTTTAGCCTCAATGAACTGC -3.578137\n2       AATCCGTTTCGCCAGTGCCCTGGTCAAGGC -4.370569\n3       AGTTCTTCGTTACTTTCTGTTCTATAATAA -1.392860\n4       GACATTCTTTGGTTGCCGACTAAGTCGAAA -4.501841\n...                                ...       ...\n999995  TGACGCGGTGACCTGGGATAGAGACAATAG -2.063522\n999996  ACAATGGTTCAAACCAATTAAAAATGACCG -3.866087\n999997  GCCAAGAGTTATTTAAATGTCCCCAAGTCG -1.677556\n999998  GCCGGAGCAGCCTCGACGCACTCCATCCGA -4.132723\n999999  CTTTAGCTCCGGATGATGCGGTTTTCTTGT -2.961270\n\n[1000000 rows x 2 columns]",
      "text/html": "<div>\n<style scoped>\n    .dataframe tbody tr th:only-of-type {\n        vertical-align: middle;\n    }\n\n    .dataframe tbody tr th {\n        vertical-align: top;\n    }\n\n    .dataframe thead th {\n        text-align: right;\n    }\n</style>\n<table border=\"1\" class=\"dataframe\">\n  <thead>\n    <tr style=\"text-align: right;\">\n      <th></th>\n      <th>0</th>\n      <th>1</th>\n    </tr>\n  </thead>\n  <tbody>\n    <tr>\n      <th>0</th>\n      <td>ATTACTTGCATGACGATCGTTGGTCGGCTC</td>\n      <td>-3.002072</td>\n    </tr>\n    <tr>\n      <th>1</th>\n      <td>TTAACCCGGCGTTTAGCCTCAATGAACTGC</td>\n      <td>-3.578137</td>\n    </tr>\n    <tr>\n      <th>2</th>\n      <td>AATCCGTTTCGCCAGTGCCCTGGTCAAGGC</td>\n      <td>-4.370569</td>\n    </tr>\n    <tr>\n      <th>3</th>\n      <td>AGTTCTTCGTTACTTTCTGTTCTATAATAA</td>\n      <td>-1.392860</td>\n    </tr>\n    <tr>\n      <th>4</th>\n      <td>GACATTCTTTGGTTGCCGACTAAGTCGAAA</td>\n      <td>-4.501841</td>\n    </tr>\n    <tr>\n      <th>...</th>\n      <td>...</td>\n      <td>...</td>\n    </tr>\n    <tr>\n      <th>999995</th>\n      <td>TGACGCGGTGACCTGGGATAGAGACAATAG</td>\n      <td>-2.063522</td>\n    </tr>\n    <tr>\n      <th>999996</th>\n      <td>ACAATGGTTCAAACCAATTAAAAATGACCG</td>\n      <td>-3.866087</td>\n    </tr>\n    <tr>\n      <th>999997</th>\n      <td>GCCAAGAGTTATTTAAATGTCCCCAAGTCG</td>\n      <td>-1.677556</td>\n    </tr>\n    <tr>\n      <th>999998</th>\n      <td>GCCGGAGCAGCCTCGACGCACTCCATCCGA</td>\n      <td>-4.132723</td>\n    </tr>\n    <tr>\n      <th>999999</th>\n      <td>CTTTAGCTCCGGATGATGCGGTTTTCTTGT</td>\n      <td>-2.961270</td>\n    </tr>\n  </tbody>\n</table>\n<p>1000000 rows × 2 columns</p>\n</div>"
     },
     "execution_count": 2,
     "metadata": {},
     "output_type": "execute_result"
    }
   ],
   "source": [
    "df = pd.read_json('data/strandenergylist.json')\n",
    "df"
   ]
  },
  {
   "cell_type": "markdown",
   "source": [
    "### expand features to multiple rows"
   ],
   "metadata": {
    "collapsed": false
   }
  },
  {
   "cell_type": "code",
   "execution_count": 3,
   "metadata": {
    "collapsed": false
   },
   "outputs": [
    {
     "data": {
      "text/plain": "       0  1  2  3  4  5  6  7  8  9   ... 22 23 24 25 26 27 28 29 30 31\n0          A  T  T  A  C  T  T  G  C  ...  G  G  T  C  G  G  C  T  C   \n1          T  T  A  A  C  C  C  G  G  ...  A  T  G  A  A  C  T  G  C   \n2          A  A  T  C  C  G  T  T  T  ...  G  G  T  C  A  A  G  G  C   \n3          A  G  T  T  C  T  T  C  G  ...  C  T  A  T  A  A  T  A  A   \n4          G  A  C  A  T  T  C  T  T  ...  A  A  G  T  C  G  A  A  A   \n...    .. .. .. .. .. .. .. .. .. ..  ... .. .. .. .. .. .. .. .. .. ..\n999995     T  G  A  C  G  C  G  G  T  ...  A  G  A  C  A  A  T  A  G   \n999996     A  C  A  A  T  G  G  T  T  ...  A  A  A  T  G  A  C  C  G   \n999997     G  C  C  A  A  G  A  G  T  ...  C  C  C  A  A  G  T  C  G   \n999998     G  C  C  G  G  A  G  C  A  ...  T  C  C  A  T  C  C  G  A   \n999999     C  T  T  T  A  G  C  T  C  ...  T  T  T  T  C  T  T  G  T   \n\n[1000000 rows x 32 columns]",
      "text/html": "<div>\n<style scoped>\n    .dataframe tbody tr th:only-of-type {\n        vertical-align: middle;\n    }\n\n    .dataframe tbody tr th {\n        vertical-align: top;\n    }\n\n    .dataframe thead th {\n        text-align: right;\n    }\n</style>\n<table border=\"1\" class=\"dataframe\">\n  <thead>\n    <tr style=\"text-align: right;\">\n      <th></th>\n      <th>0</th>\n      <th>1</th>\n      <th>2</th>\n      <th>3</th>\n      <th>4</th>\n      <th>5</th>\n      <th>6</th>\n      <th>7</th>\n      <th>8</th>\n      <th>9</th>\n      <th>...</th>\n      <th>22</th>\n      <th>23</th>\n      <th>24</th>\n      <th>25</th>\n      <th>26</th>\n      <th>27</th>\n      <th>28</th>\n      <th>29</th>\n      <th>30</th>\n      <th>31</th>\n    </tr>\n  </thead>\n  <tbody>\n    <tr>\n      <th>0</th>\n      <td></td>\n      <td>A</td>\n      <td>T</td>\n      <td>T</td>\n      <td>A</td>\n      <td>C</td>\n      <td>T</td>\n      <td>T</td>\n      <td>G</td>\n      <td>C</td>\n      <td>...</td>\n      <td>G</td>\n      <td>G</td>\n      <td>T</td>\n      <td>C</td>\n      <td>G</td>\n      <td>G</td>\n      <td>C</td>\n      <td>T</td>\n      <td>C</td>\n      <td></td>\n    </tr>\n    <tr>\n      <th>1</th>\n      <td></td>\n      <td>T</td>\n      <td>T</td>\n      <td>A</td>\n      <td>A</td>\n      <td>C</td>\n      <td>C</td>\n      <td>C</td>\n      <td>G</td>\n      <td>G</td>\n      <td>...</td>\n      <td>A</td>\n      <td>T</td>\n      <td>G</td>\n      <td>A</td>\n      <td>A</td>\n      <td>C</td>\n      <td>T</td>\n      <td>G</td>\n      <td>C</td>\n      <td></td>\n    </tr>\n    <tr>\n      <th>2</th>\n      <td></td>\n      <td>A</td>\n      <td>A</td>\n      <td>T</td>\n      <td>C</td>\n      <td>C</td>\n      <td>G</td>\n      <td>T</td>\n      <td>T</td>\n      <td>T</td>\n      <td>...</td>\n      <td>G</td>\n      <td>G</td>\n      <td>T</td>\n      <td>C</td>\n      <td>A</td>\n      <td>A</td>\n      <td>G</td>\n      <td>G</td>\n      <td>C</td>\n      <td></td>\n    </tr>\n    <tr>\n      <th>3</th>\n      <td></td>\n      <td>A</td>\n      <td>G</td>\n      <td>T</td>\n      <td>T</td>\n      <td>C</td>\n      <td>T</td>\n      <td>T</td>\n      <td>C</td>\n      <td>G</td>\n      <td>...</td>\n      <td>C</td>\n      <td>T</td>\n      <td>A</td>\n      <td>T</td>\n      <td>A</td>\n      <td>A</td>\n      <td>T</td>\n      <td>A</td>\n      <td>A</td>\n      <td></td>\n    </tr>\n    <tr>\n      <th>4</th>\n      <td></td>\n      <td>G</td>\n      <td>A</td>\n      <td>C</td>\n      <td>A</td>\n      <td>T</td>\n      <td>T</td>\n      <td>C</td>\n      <td>T</td>\n      <td>T</td>\n      <td>...</td>\n      <td>A</td>\n      <td>A</td>\n      <td>G</td>\n      <td>T</td>\n      <td>C</td>\n      <td>G</td>\n      <td>A</td>\n      <td>A</td>\n      <td>A</td>\n      <td></td>\n    </tr>\n    <tr>\n      <th>...</th>\n      <td>...</td>\n      <td>...</td>\n      <td>...</td>\n      <td>...</td>\n      <td>...</td>\n      <td>...</td>\n      <td>...</td>\n      <td>...</td>\n      <td>...</td>\n      <td>...</td>\n      <td>...</td>\n      <td>...</td>\n      <td>...</td>\n      <td>...</td>\n      <td>...</td>\n      <td>...</td>\n      <td>...</td>\n      <td>...</td>\n      <td>...</td>\n      <td>...</td>\n      <td>...</td>\n    </tr>\n    <tr>\n      <th>999995</th>\n      <td></td>\n      <td>T</td>\n      <td>G</td>\n      <td>A</td>\n      <td>C</td>\n      <td>G</td>\n      <td>C</td>\n      <td>G</td>\n      <td>G</td>\n      <td>T</td>\n      <td>...</td>\n      <td>A</td>\n      <td>G</td>\n      <td>A</td>\n      <td>C</td>\n      <td>A</td>\n      <td>A</td>\n      <td>T</td>\n      <td>A</td>\n      <td>G</td>\n      <td></td>\n    </tr>\n    <tr>\n      <th>999996</th>\n      <td></td>\n      <td>A</td>\n      <td>C</td>\n      <td>A</td>\n      <td>A</td>\n      <td>T</td>\n      <td>G</td>\n      <td>G</td>\n      <td>T</td>\n      <td>T</td>\n      <td>...</td>\n      <td>A</td>\n      <td>A</td>\n      <td>A</td>\n      <td>T</td>\n      <td>G</td>\n      <td>A</td>\n      <td>C</td>\n      <td>C</td>\n      <td>G</td>\n      <td></td>\n    </tr>\n    <tr>\n      <th>999997</th>\n      <td></td>\n      <td>G</td>\n      <td>C</td>\n      <td>C</td>\n      <td>A</td>\n      <td>A</td>\n      <td>G</td>\n      <td>A</td>\n      <td>G</td>\n      <td>T</td>\n      <td>...</td>\n      <td>C</td>\n      <td>C</td>\n      <td>C</td>\n      <td>A</td>\n      <td>A</td>\n      <td>G</td>\n      <td>T</td>\n      <td>C</td>\n      <td>G</td>\n      <td></td>\n    </tr>\n    <tr>\n      <th>999998</th>\n      <td></td>\n      <td>G</td>\n      <td>C</td>\n      <td>C</td>\n      <td>G</td>\n      <td>G</td>\n      <td>A</td>\n      <td>G</td>\n      <td>C</td>\n      <td>A</td>\n      <td>...</td>\n      <td>T</td>\n      <td>C</td>\n      <td>C</td>\n      <td>A</td>\n      <td>T</td>\n      <td>C</td>\n      <td>C</td>\n      <td>G</td>\n      <td>A</td>\n      <td></td>\n    </tr>\n    <tr>\n      <th>999999</th>\n      <td></td>\n      <td>C</td>\n      <td>T</td>\n      <td>T</td>\n      <td>T</td>\n      <td>A</td>\n      <td>G</td>\n      <td>C</td>\n      <td>T</td>\n      <td>C</td>\n      <td>...</td>\n      <td>T</td>\n      <td>T</td>\n      <td>T</td>\n      <td>T</td>\n      <td>C</td>\n      <td>T</td>\n      <td>T</td>\n      <td>G</td>\n      <td>T</td>\n      <td></td>\n    </tr>\n  </tbody>\n</table>\n<p>1000000 rows × 32 columns</p>\n</div>"
     },
     "execution_count": 3,
     "metadata": {},
     "output_type": "execute_result"
    }
   ],
   "source": [
    "df_exp = df[0].str.split('', expand=True)\n",
    "df_exp"
   ]
  },
  {
   "cell_type": "markdown",
   "source": [
    "### add labels"
   ],
   "metadata": {
    "collapsed": false
   }
  },
  {
   "cell_type": "code",
   "execution_count": 4,
   "metadata": {
    "collapsed": false
   },
   "outputs": [
    {
     "data": {
      "text/plain": "       0  1  2  3  4  5  6  7  8  9   ... 22 23 24 25 26 27 28 29 30        31\n0          A  T  T  A  C  T  T  G  C  ...  G  G  T  C  G  G  C  T  C -3.002072\n1          T  T  A  A  C  C  C  G  G  ...  A  T  G  A  A  C  T  G  C -3.578137\n2          A  A  T  C  C  G  T  T  T  ...  G  G  T  C  A  A  G  G  C -4.370569\n3          A  G  T  T  C  T  T  C  G  ...  C  T  A  T  A  A  T  A  A -1.392860\n4          G  A  C  A  T  T  C  T  T  ...  A  A  G  T  C  G  A  A  A -4.501841\n...    .. .. .. .. .. .. .. .. .. ..  ... .. .. .. .. .. .. .. .. ..       ...\n999995     T  G  A  C  G  C  G  G  T  ...  A  G  A  C  A  A  T  A  G -2.063522\n999996     A  C  A  A  T  G  G  T  T  ...  A  A  A  T  G  A  C  C  G -3.866087\n999997     G  C  C  A  A  G  A  G  T  ...  C  C  C  A  A  G  T  C  G -1.677556\n999998     G  C  C  G  G  A  G  C  A  ...  T  C  C  A  T  C  C  G  A -4.132723\n999999     C  T  T  T  A  G  C  T  C  ...  T  T  T  T  C  T  T  G  T -2.961270\n\n[1000000 rows x 32 columns]",
      "text/html": "<div>\n<style scoped>\n    .dataframe tbody tr th:only-of-type {\n        vertical-align: middle;\n    }\n\n    .dataframe tbody tr th {\n        vertical-align: top;\n    }\n\n    .dataframe thead th {\n        text-align: right;\n    }\n</style>\n<table border=\"1\" class=\"dataframe\">\n  <thead>\n    <tr style=\"text-align: right;\">\n      <th></th>\n      <th>0</th>\n      <th>1</th>\n      <th>2</th>\n      <th>3</th>\n      <th>4</th>\n      <th>5</th>\n      <th>6</th>\n      <th>7</th>\n      <th>8</th>\n      <th>9</th>\n      <th>...</th>\n      <th>22</th>\n      <th>23</th>\n      <th>24</th>\n      <th>25</th>\n      <th>26</th>\n      <th>27</th>\n      <th>28</th>\n      <th>29</th>\n      <th>30</th>\n      <th>31</th>\n    </tr>\n  </thead>\n  <tbody>\n    <tr>\n      <th>0</th>\n      <td></td>\n      <td>A</td>\n      <td>T</td>\n      <td>T</td>\n      <td>A</td>\n      <td>C</td>\n      <td>T</td>\n      <td>T</td>\n      <td>G</td>\n      <td>C</td>\n      <td>...</td>\n      <td>G</td>\n      <td>G</td>\n      <td>T</td>\n      <td>C</td>\n      <td>G</td>\n      <td>G</td>\n      <td>C</td>\n      <td>T</td>\n      <td>C</td>\n      <td>-3.002072</td>\n    </tr>\n    <tr>\n      <th>1</th>\n      <td></td>\n      <td>T</td>\n      <td>T</td>\n      <td>A</td>\n      <td>A</td>\n      <td>C</td>\n      <td>C</td>\n      <td>C</td>\n      <td>G</td>\n      <td>G</td>\n      <td>...</td>\n      <td>A</td>\n      <td>T</td>\n      <td>G</td>\n      <td>A</td>\n      <td>A</td>\n      <td>C</td>\n      <td>T</td>\n      <td>G</td>\n      <td>C</td>\n      <td>-3.578137</td>\n    </tr>\n    <tr>\n      <th>2</th>\n      <td></td>\n      <td>A</td>\n      <td>A</td>\n      <td>T</td>\n      <td>C</td>\n      <td>C</td>\n      <td>G</td>\n      <td>T</td>\n      <td>T</td>\n      <td>T</td>\n      <td>...</td>\n      <td>G</td>\n      <td>G</td>\n      <td>T</td>\n      <td>C</td>\n      <td>A</td>\n      <td>A</td>\n      <td>G</td>\n      <td>G</td>\n      <td>C</td>\n      <td>-4.370569</td>\n    </tr>\n    <tr>\n      <th>3</th>\n      <td></td>\n      <td>A</td>\n      <td>G</td>\n      <td>T</td>\n      <td>T</td>\n      <td>C</td>\n      <td>T</td>\n      <td>T</td>\n      <td>C</td>\n      <td>G</td>\n      <td>...</td>\n      <td>C</td>\n      <td>T</td>\n      <td>A</td>\n      <td>T</td>\n      <td>A</td>\n      <td>A</td>\n      <td>T</td>\n      <td>A</td>\n      <td>A</td>\n      <td>-1.392860</td>\n    </tr>\n    <tr>\n      <th>4</th>\n      <td></td>\n      <td>G</td>\n      <td>A</td>\n      <td>C</td>\n      <td>A</td>\n      <td>T</td>\n      <td>T</td>\n      <td>C</td>\n      <td>T</td>\n      <td>T</td>\n      <td>...</td>\n      <td>A</td>\n      <td>A</td>\n      <td>G</td>\n      <td>T</td>\n      <td>C</td>\n      <td>G</td>\n      <td>A</td>\n      <td>A</td>\n      <td>A</td>\n      <td>-4.501841</td>\n    </tr>\n    <tr>\n      <th>...</th>\n      <td>...</td>\n      <td>...</td>\n      <td>...</td>\n      <td>...</td>\n      <td>...</td>\n      <td>...</td>\n      <td>...</td>\n      <td>...</td>\n      <td>...</td>\n      <td>...</td>\n      <td>...</td>\n      <td>...</td>\n      <td>...</td>\n      <td>...</td>\n      <td>...</td>\n      <td>...</td>\n      <td>...</td>\n      <td>...</td>\n      <td>...</td>\n      <td>...</td>\n      <td>...</td>\n    </tr>\n    <tr>\n      <th>999995</th>\n      <td></td>\n      <td>T</td>\n      <td>G</td>\n      <td>A</td>\n      <td>C</td>\n      <td>G</td>\n      <td>C</td>\n      <td>G</td>\n      <td>G</td>\n      <td>T</td>\n      <td>...</td>\n      <td>A</td>\n      <td>G</td>\n      <td>A</td>\n      <td>C</td>\n      <td>A</td>\n      <td>A</td>\n      <td>T</td>\n      <td>A</td>\n      <td>G</td>\n      <td>-2.063522</td>\n    </tr>\n    <tr>\n      <th>999996</th>\n      <td></td>\n      <td>A</td>\n      <td>C</td>\n      <td>A</td>\n      <td>A</td>\n      <td>T</td>\n      <td>G</td>\n      <td>G</td>\n      <td>T</td>\n      <td>T</td>\n      <td>...</td>\n      <td>A</td>\n      <td>A</td>\n      <td>A</td>\n      <td>T</td>\n      <td>G</td>\n      <td>A</td>\n      <td>C</td>\n      <td>C</td>\n      <td>G</td>\n      <td>-3.866087</td>\n    </tr>\n    <tr>\n      <th>999997</th>\n      <td></td>\n      <td>G</td>\n      <td>C</td>\n      <td>C</td>\n      <td>A</td>\n      <td>A</td>\n      <td>G</td>\n      <td>A</td>\n      <td>G</td>\n      <td>T</td>\n      <td>...</td>\n      <td>C</td>\n      <td>C</td>\n      <td>C</td>\n      <td>A</td>\n      <td>A</td>\n      <td>G</td>\n      <td>T</td>\n      <td>C</td>\n      <td>G</td>\n      <td>-1.677556</td>\n    </tr>\n    <tr>\n      <th>999998</th>\n      <td></td>\n      <td>G</td>\n      <td>C</td>\n      <td>C</td>\n      <td>G</td>\n      <td>G</td>\n      <td>A</td>\n      <td>G</td>\n      <td>C</td>\n      <td>A</td>\n      <td>...</td>\n      <td>T</td>\n      <td>C</td>\n      <td>C</td>\n      <td>A</td>\n      <td>T</td>\n      <td>C</td>\n      <td>C</td>\n      <td>G</td>\n      <td>A</td>\n      <td>-4.132723</td>\n    </tr>\n    <tr>\n      <th>999999</th>\n      <td></td>\n      <td>C</td>\n      <td>T</td>\n      <td>T</td>\n      <td>T</td>\n      <td>A</td>\n      <td>G</td>\n      <td>C</td>\n      <td>T</td>\n      <td>C</td>\n      <td>...</td>\n      <td>T</td>\n      <td>T</td>\n      <td>T</td>\n      <td>T</td>\n      <td>C</td>\n      <td>T</td>\n      <td>T</td>\n      <td>G</td>\n      <td>T</td>\n      <td>-2.961270</td>\n    </tr>\n  </tbody>\n</table>\n<p>1000000 rows × 32 columns</p>\n</div>"
     },
     "execution_count": 4,
     "metadata": {},
     "output_type": "execute_result"
    }
   ],
   "source": [
    "df_exp[31] = df[1]\n",
    "df_exp"
   ]
  },
  {
   "cell_type": "code",
   "execution_count": 5,
   "metadata": {
    "collapsed": false
   },
   "outputs": [
    {
     "data": {
      "text/plain": "       1  2  3  4  5  6  7  8  9  10  ... 22 23 24 25 26 27 28 29 30        31\n0       A  T  T  A  C  T  T  G  C  A  ...  G  G  T  C  G  G  C  T  C -3.002072\n1       T  T  A  A  C  C  C  G  G  C  ...  A  T  G  A  A  C  T  G  C -3.578137\n2       A  A  T  C  C  G  T  T  T  C  ...  G  G  T  C  A  A  G  G  C -4.370569\n3       A  G  T  T  C  T  T  C  G  T  ...  C  T  A  T  A  A  T  A  A -1.392860\n4       G  A  C  A  T  T  C  T  T  T  ...  A  A  G  T  C  G  A  A  A -4.501841\n...    .. .. .. .. .. .. .. .. .. ..  ... .. .. .. .. .. .. .. .. ..       ...\n999995  T  G  A  C  G  C  G  G  T  G  ...  A  G  A  C  A  A  T  A  G -2.063522\n999996  A  C  A  A  T  G  G  T  T  C  ...  A  A  A  T  G  A  C  C  G -3.866087\n999997  G  C  C  A  A  G  A  G  T  T  ...  C  C  C  A  A  G  T  C  G -1.677556\n999998  G  C  C  G  G  A  G  C  A  G  ...  T  C  C  A  T  C  C  G  A -4.132723\n999999  C  T  T  T  A  G  C  T  C  C  ...  T  T  T  T  C  T  T  G  T -2.961270\n\n[1000000 rows x 31 columns]",
      "text/html": "<div>\n<style scoped>\n    .dataframe tbody tr th:only-of-type {\n        vertical-align: middle;\n    }\n\n    .dataframe tbody tr th {\n        vertical-align: top;\n    }\n\n    .dataframe thead th {\n        text-align: right;\n    }\n</style>\n<table border=\"1\" class=\"dataframe\">\n  <thead>\n    <tr style=\"text-align: right;\">\n      <th></th>\n      <th>1</th>\n      <th>2</th>\n      <th>3</th>\n      <th>4</th>\n      <th>5</th>\n      <th>6</th>\n      <th>7</th>\n      <th>8</th>\n      <th>9</th>\n      <th>10</th>\n      <th>...</th>\n      <th>22</th>\n      <th>23</th>\n      <th>24</th>\n      <th>25</th>\n      <th>26</th>\n      <th>27</th>\n      <th>28</th>\n      <th>29</th>\n      <th>30</th>\n      <th>31</th>\n    </tr>\n  </thead>\n  <tbody>\n    <tr>\n      <th>0</th>\n      <td>A</td>\n      <td>T</td>\n      <td>T</td>\n      <td>A</td>\n      <td>C</td>\n      <td>T</td>\n      <td>T</td>\n      <td>G</td>\n      <td>C</td>\n      <td>A</td>\n      <td>...</td>\n      <td>G</td>\n      <td>G</td>\n      <td>T</td>\n      <td>C</td>\n      <td>G</td>\n      <td>G</td>\n      <td>C</td>\n      <td>T</td>\n      <td>C</td>\n      <td>-3.002072</td>\n    </tr>\n    <tr>\n      <th>1</th>\n      <td>T</td>\n      <td>T</td>\n      <td>A</td>\n      <td>A</td>\n      <td>C</td>\n      <td>C</td>\n      <td>C</td>\n      <td>G</td>\n      <td>G</td>\n      <td>C</td>\n      <td>...</td>\n      <td>A</td>\n      <td>T</td>\n      <td>G</td>\n      <td>A</td>\n      <td>A</td>\n      <td>C</td>\n      <td>T</td>\n      <td>G</td>\n      <td>C</td>\n      <td>-3.578137</td>\n    </tr>\n    <tr>\n      <th>2</th>\n      <td>A</td>\n      <td>A</td>\n      <td>T</td>\n      <td>C</td>\n      <td>C</td>\n      <td>G</td>\n      <td>T</td>\n      <td>T</td>\n      <td>T</td>\n      <td>C</td>\n      <td>...</td>\n      <td>G</td>\n      <td>G</td>\n      <td>T</td>\n      <td>C</td>\n      <td>A</td>\n      <td>A</td>\n      <td>G</td>\n      <td>G</td>\n      <td>C</td>\n      <td>-4.370569</td>\n    </tr>\n    <tr>\n      <th>3</th>\n      <td>A</td>\n      <td>G</td>\n      <td>T</td>\n      <td>T</td>\n      <td>C</td>\n      <td>T</td>\n      <td>T</td>\n      <td>C</td>\n      <td>G</td>\n      <td>T</td>\n      <td>...</td>\n      <td>C</td>\n      <td>T</td>\n      <td>A</td>\n      <td>T</td>\n      <td>A</td>\n      <td>A</td>\n      <td>T</td>\n      <td>A</td>\n      <td>A</td>\n      <td>-1.392860</td>\n    </tr>\n    <tr>\n      <th>4</th>\n      <td>G</td>\n      <td>A</td>\n      <td>C</td>\n      <td>A</td>\n      <td>T</td>\n      <td>T</td>\n      <td>C</td>\n      <td>T</td>\n      <td>T</td>\n      <td>T</td>\n      <td>...</td>\n      <td>A</td>\n      <td>A</td>\n      <td>G</td>\n      <td>T</td>\n      <td>C</td>\n      <td>G</td>\n      <td>A</td>\n      <td>A</td>\n      <td>A</td>\n      <td>-4.501841</td>\n    </tr>\n    <tr>\n      <th>...</th>\n      <td>...</td>\n      <td>...</td>\n      <td>...</td>\n      <td>...</td>\n      <td>...</td>\n      <td>...</td>\n      <td>...</td>\n      <td>...</td>\n      <td>...</td>\n      <td>...</td>\n      <td>...</td>\n      <td>...</td>\n      <td>...</td>\n      <td>...</td>\n      <td>...</td>\n      <td>...</td>\n      <td>...</td>\n      <td>...</td>\n      <td>...</td>\n      <td>...</td>\n      <td>...</td>\n    </tr>\n    <tr>\n      <th>999995</th>\n      <td>T</td>\n      <td>G</td>\n      <td>A</td>\n      <td>C</td>\n      <td>G</td>\n      <td>C</td>\n      <td>G</td>\n      <td>G</td>\n      <td>T</td>\n      <td>G</td>\n      <td>...</td>\n      <td>A</td>\n      <td>G</td>\n      <td>A</td>\n      <td>C</td>\n      <td>A</td>\n      <td>A</td>\n      <td>T</td>\n      <td>A</td>\n      <td>G</td>\n      <td>-2.063522</td>\n    </tr>\n    <tr>\n      <th>999996</th>\n      <td>A</td>\n      <td>C</td>\n      <td>A</td>\n      <td>A</td>\n      <td>T</td>\n      <td>G</td>\n      <td>G</td>\n      <td>T</td>\n      <td>T</td>\n      <td>C</td>\n      <td>...</td>\n      <td>A</td>\n      <td>A</td>\n      <td>A</td>\n      <td>T</td>\n      <td>G</td>\n      <td>A</td>\n      <td>C</td>\n      <td>C</td>\n      <td>G</td>\n      <td>-3.866087</td>\n    </tr>\n    <tr>\n      <th>999997</th>\n      <td>G</td>\n      <td>C</td>\n      <td>C</td>\n      <td>A</td>\n      <td>A</td>\n      <td>G</td>\n      <td>A</td>\n      <td>G</td>\n      <td>T</td>\n      <td>T</td>\n      <td>...</td>\n      <td>C</td>\n      <td>C</td>\n      <td>C</td>\n      <td>A</td>\n      <td>A</td>\n      <td>G</td>\n      <td>T</td>\n      <td>C</td>\n      <td>G</td>\n      <td>-1.677556</td>\n    </tr>\n    <tr>\n      <th>999998</th>\n      <td>G</td>\n      <td>C</td>\n      <td>C</td>\n      <td>G</td>\n      <td>G</td>\n      <td>A</td>\n      <td>G</td>\n      <td>C</td>\n      <td>A</td>\n      <td>G</td>\n      <td>...</td>\n      <td>T</td>\n      <td>C</td>\n      <td>C</td>\n      <td>A</td>\n      <td>T</td>\n      <td>C</td>\n      <td>C</td>\n      <td>G</td>\n      <td>A</td>\n      <td>-4.132723</td>\n    </tr>\n    <tr>\n      <th>999999</th>\n      <td>C</td>\n      <td>T</td>\n      <td>T</td>\n      <td>T</td>\n      <td>A</td>\n      <td>G</td>\n      <td>C</td>\n      <td>T</td>\n      <td>C</td>\n      <td>C</td>\n      <td>...</td>\n      <td>T</td>\n      <td>T</td>\n      <td>T</td>\n      <td>T</td>\n      <td>C</td>\n      <td>T</td>\n      <td>T</td>\n      <td>G</td>\n      <td>T</td>\n      <td>-2.961270</td>\n    </tr>\n  </tbody>\n</table>\n<p>1000000 rows × 31 columns</p>\n</div>"
     },
     "execution_count": 5,
     "metadata": {},
     "output_type": "execute_result"
    }
   ],
   "source": [
    "# Drop extra column\n",
    "df_clean = df_exp.drop([0], axis = 1)\n",
    "df_clean"
   ]
  },
  {
   "cell_type": "markdown",
   "source": [
    "### add column names"
   ],
   "metadata": {
    "collapsed": false
   }
  },
  {
   "cell_type": "code",
   "execution_count": 6,
   "metadata": {
    "collapsed": false
   },
   "outputs": [],
   "source": [
    "df_clean.columns = ['one','two','three','four','five','six','seven','eight', 'nine', 'ten', 'eleven', 'twelve', 'thirteen', 'fourteen','fifteen','sixteen','seventeen', 'eighteen', 'nineteen', 'twenty', 'twentyone', 'twentytwo', 'twentythree', 'twentyfour', 'twentyfive', 'twentysix', 'twentyseven', 'twentyeight','twentynine','thrity', 'freeenergy']"
   ]
  },
  {
   "cell_type": "code",
   "execution_count": 7,
   "metadata": {
    "collapsed": false
   },
   "outputs": [
    {
     "data": {
      "text/plain": "       one two three four five six seven eight nine ten  ... twentytwo  \\\n0        A   T     T    A    C   T     T     G    C   A  ...         G   \n1        T   T     A    A    C   C     C     G    G   C  ...         A   \n2        A   A     T    C    C   G     T     T    T   C  ...         G   \n3        A   G     T    T    C   T     T     C    G   T  ...         C   \n4        G   A     C    A    T   T     C     T    T   T  ...         A   \n...     ..  ..   ...  ...  ...  ..   ...   ...  ...  ..  ...       ...   \n999995   T   G     A    C    G   C     G     G    T   G  ...         A   \n999996   A   C     A    A    T   G     G     T    T   C  ...         A   \n999997   G   C     C    A    A   G     A     G    T   T  ...         C   \n999998   G   C     C    G    G   A     G     C    A   G  ...         T   \n999999   C   T     T    T    A   G     C     T    C   C  ...         T   \n\n       twentythree twentyfour twentyfive twentysix twentyseven twentyeight  \\\n0                G          T          C         G           G           C   \n1                T          G          A         A           C           T   \n2                G          T          C         A           A           G   \n3                T          A          T         A           A           T   \n4                A          G          T         C           G           A   \n...            ...        ...        ...       ...         ...         ...   \n999995           G          A          C         A           A           T   \n999996           A          A          T         G           A           C   \n999997           C          C          A         A           G           T   \n999998           C          C          A         T           C           C   \n999999           T          T          T         C           T           T   \n\n       twentynine thrity freeenergy  \n0               T      C  -3.002072  \n1               G      C  -3.578137  \n2               G      C  -4.370569  \n3               A      A  -1.392860  \n4               A      A  -4.501841  \n...           ...    ...        ...  \n999995          A      G  -2.063522  \n999996          C      G  -3.866087  \n999997          C      G  -1.677556  \n999998          G      A  -4.132723  \n999999          G      T  -2.961270  \n\n[1000000 rows x 31 columns]",
      "text/html": "<div>\n<style scoped>\n    .dataframe tbody tr th:only-of-type {\n        vertical-align: middle;\n    }\n\n    .dataframe tbody tr th {\n        vertical-align: top;\n    }\n\n    .dataframe thead th {\n        text-align: right;\n    }\n</style>\n<table border=\"1\" class=\"dataframe\">\n  <thead>\n    <tr style=\"text-align: right;\">\n      <th></th>\n      <th>one</th>\n      <th>two</th>\n      <th>three</th>\n      <th>four</th>\n      <th>five</th>\n      <th>six</th>\n      <th>seven</th>\n      <th>eight</th>\n      <th>nine</th>\n      <th>ten</th>\n      <th>...</th>\n      <th>twentytwo</th>\n      <th>twentythree</th>\n      <th>twentyfour</th>\n      <th>twentyfive</th>\n      <th>twentysix</th>\n      <th>twentyseven</th>\n      <th>twentyeight</th>\n      <th>twentynine</th>\n      <th>thrity</th>\n      <th>freeenergy</th>\n    </tr>\n  </thead>\n  <tbody>\n    <tr>\n      <th>0</th>\n      <td>A</td>\n      <td>T</td>\n      <td>T</td>\n      <td>A</td>\n      <td>C</td>\n      <td>T</td>\n      <td>T</td>\n      <td>G</td>\n      <td>C</td>\n      <td>A</td>\n      <td>...</td>\n      <td>G</td>\n      <td>G</td>\n      <td>T</td>\n      <td>C</td>\n      <td>G</td>\n      <td>G</td>\n      <td>C</td>\n      <td>T</td>\n      <td>C</td>\n      <td>-3.002072</td>\n    </tr>\n    <tr>\n      <th>1</th>\n      <td>T</td>\n      <td>T</td>\n      <td>A</td>\n      <td>A</td>\n      <td>C</td>\n      <td>C</td>\n      <td>C</td>\n      <td>G</td>\n      <td>G</td>\n      <td>C</td>\n      <td>...</td>\n      <td>A</td>\n      <td>T</td>\n      <td>G</td>\n      <td>A</td>\n      <td>A</td>\n      <td>C</td>\n      <td>T</td>\n      <td>G</td>\n      <td>C</td>\n      <td>-3.578137</td>\n    </tr>\n    <tr>\n      <th>2</th>\n      <td>A</td>\n      <td>A</td>\n      <td>T</td>\n      <td>C</td>\n      <td>C</td>\n      <td>G</td>\n      <td>T</td>\n      <td>T</td>\n      <td>T</td>\n      <td>C</td>\n      <td>...</td>\n      <td>G</td>\n      <td>G</td>\n      <td>T</td>\n      <td>C</td>\n      <td>A</td>\n      <td>A</td>\n      <td>G</td>\n      <td>G</td>\n      <td>C</td>\n      <td>-4.370569</td>\n    </tr>\n    <tr>\n      <th>3</th>\n      <td>A</td>\n      <td>G</td>\n      <td>T</td>\n      <td>T</td>\n      <td>C</td>\n      <td>T</td>\n      <td>T</td>\n      <td>C</td>\n      <td>G</td>\n      <td>T</td>\n      <td>...</td>\n      <td>C</td>\n      <td>T</td>\n      <td>A</td>\n      <td>T</td>\n      <td>A</td>\n      <td>A</td>\n      <td>T</td>\n      <td>A</td>\n      <td>A</td>\n      <td>-1.392860</td>\n    </tr>\n    <tr>\n      <th>4</th>\n      <td>G</td>\n      <td>A</td>\n      <td>C</td>\n      <td>A</td>\n      <td>T</td>\n      <td>T</td>\n      <td>C</td>\n      <td>T</td>\n      <td>T</td>\n      <td>T</td>\n      <td>...</td>\n      <td>A</td>\n      <td>A</td>\n      <td>G</td>\n      <td>T</td>\n      <td>C</td>\n      <td>G</td>\n      <td>A</td>\n      <td>A</td>\n      <td>A</td>\n      <td>-4.501841</td>\n    </tr>\n    <tr>\n      <th>...</th>\n      <td>...</td>\n      <td>...</td>\n      <td>...</td>\n      <td>...</td>\n      <td>...</td>\n      <td>...</td>\n      <td>...</td>\n      <td>...</td>\n      <td>...</td>\n      <td>...</td>\n      <td>...</td>\n      <td>...</td>\n      <td>...</td>\n      <td>...</td>\n      <td>...</td>\n      <td>...</td>\n      <td>...</td>\n      <td>...</td>\n      <td>...</td>\n      <td>...</td>\n      <td>...</td>\n    </tr>\n    <tr>\n      <th>999995</th>\n      <td>T</td>\n      <td>G</td>\n      <td>A</td>\n      <td>C</td>\n      <td>G</td>\n      <td>C</td>\n      <td>G</td>\n      <td>G</td>\n      <td>T</td>\n      <td>G</td>\n      <td>...</td>\n      <td>A</td>\n      <td>G</td>\n      <td>A</td>\n      <td>C</td>\n      <td>A</td>\n      <td>A</td>\n      <td>T</td>\n      <td>A</td>\n      <td>G</td>\n      <td>-2.063522</td>\n    </tr>\n    <tr>\n      <th>999996</th>\n      <td>A</td>\n      <td>C</td>\n      <td>A</td>\n      <td>A</td>\n      <td>T</td>\n      <td>G</td>\n      <td>G</td>\n      <td>T</td>\n      <td>T</td>\n      <td>C</td>\n      <td>...</td>\n      <td>A</td>\n      <td>A</td>\n      <td>A</td>\n      <td>T</td>\n      <td>G</td>\n      <td>A</td>\n      <td>C</td>\n      <td>C</td>\n      <td>G</td>\n      <td>-3.866087</td>\n    </tr>\n    <tr>\n      <th>999997</th>\n      <td>G</td>\n      <td>C</td>\n      <td>C</td>\n      <td>A</td>\n      <td>A</td>\n      <td>G</td>\n      <td>A</td>\n      <td>G</td>\n      <td>T</td>\n      <td>T</td>\n      <td>...</td>\n      <td>C</td>\n      <td>C</td>\n      <td>C</td>\n      <td>A</td>\n      <td>A</td>\n      <td>G</td>\n      <td>T</td>\n      <td>C</td>\n      <td>G</td>\n      <td>-1.677556</td>\n    </tr>\n    <tr>\n      <th>999998</th>\n      <td>G</td>\n      <td>C</td>\n      <td>C</td>\n      <td>G</td>\n      <td>G</td>\n      <td>A</td>\n      <td>G</td>\n      <td>C</td>\n      <td>A</td>\n      <td>G</td>\n      <td>...</td>\n      <td>T</td>\n      <td>C</td>\n      <td>C</td>\n      <td>A</td>\n      <td>T</td>\n      <td>C</td>\n      <td>C</td>\n      <td>G</td>\n      <td>A</td>\n      <td>-4.132723</td>\n    </tr>\n    <tr>\n      <th>999999</th>\n      <td>C</td>\n      <td>T</td>\n      <td>T</td>\n      <td>T</td>\n      <td>A</td>\n      <td>G</td>\n      <td>C</td>\n      <td>T</td>\n      <td>C</td>\n      <td>C</td>\n      <td>...</td>\n      <td>T</td>\n      <td>T</td>\n      <td>T</td>\n      <td>T</td>\n      <td>C</td>\n      <td>T</td>\n      <td>T</td>\n      <td>G</td>\n      <td>T</td>\n      <td>-2.961270</td>\n    </tr>\n  </tbody>\n</table>\n<p>1000000 rows × 31 columns</p>\n</div>"
     },
     "execution_count": 7,
     "metadata": {},
     "output_type": "execute_result"
    }
   ],
   "source": [
    "df_clean"
   ]
  },
  {
   "cell_type": "code",
   "execution_count": 8,
   "metadata": {
    "collapsed": false
   },
   "outputs": [
    {
     "data": {
      "text/plain": "array([['A', 'T', 'T', 'A', 'C', 'T', 'T', 'G', 'C', 'A', 'T', 'G', 'A',\n        'C', 'G', 'A', 'T', 'C', 'G', 'T', 'T', 'G', 'G', 'T', 'C', 'G',\n        'G', 'C', 'T', 'C'],\n       ['T', 'T', 'A', 'A', 'C', 'C', 'C', 'G', 'G', 'C', 'G', 'T', 'T',\n        'T', 'A', 'G', 'C', 'C', 'T', 'C', 'A', 'A', 'T', 'G', 'A', 'A',\n        'C', 'T', 'G', 'C']], dtype=object)"
     },
     "execution_count": 8,
     "metadata": {},
     "output_type": "execute_result"
    }
   ],
   "source": [
    "df_clean.iloc[:2,0:30].values"
   ]
  },
  {
   "cell_type": "markdown",
   "source": [
    "## One hot encoding"
   ],
   "metadata": {
    "collapsed": false
   }
  },
  {
   "cell_type": "code",
   "execution_count": 9,
   "outputs": [
    {
     "data": {
      "text/plain": "numpy.ndarray"
     },
     "execution_count": 9,
     "metadata": {},
     "output_type": "execute_result"
    }
   ],
   "source": [
    "# test\n",
    "def one_hot_encode(seq):\n",
    "    mapping = dict(zip(\"ACGT\", range(4)))\n",
    "    seq2 = [mapping[i] for i in seq]\n",
    "    return np.eye(4)[seq2]\n",
    "\n",
    "a = one_hot_encode(\"A\")\n",
    "type(a)"
   ],
   "metadata": {
    "collapsed": false
   }
  },
  {
   "cell_type": "code",
   "execution_count": 10,
   "metadata": {
    "collapsed": false
   },
   "outputs": [
    {
     "data": {
      "text/plain": "                            0                       1   \\\n0       [[1.0, 0.0, 0.0, 0.0]]  [[0.0, 0.0, 0.0, 1.0]]   \n1       [[0.0, 0.0, 0.0, 1.0]]  [[0.0, 0.0, 0.0, 1.0]]   \n2       [[1.0, 0.0, 0.0, 0.0]]  [[1.0, 0.0, 0.0, 0.0]]   \n3       [[1.0, 0.0, 0.0, 0.0]]  [[0.0, 0.0, 1.0, 0.0]]   \n4       [[0.0, 0.0, 1.0, 0.0]]  [[1.0, 0.0, 0.0, 0.0]]   \n...                        ...                     ...   \n999995  [[0.0, 0.0, 0.0, 1.0]]  [[0.0, 0.0, 1.0, 0.0]]   \n999996  [[1.0, 0.0, 0.0, 0.0]]  [[0.0, 1.0, 0.0, 0.0]]   \n999997  [[0.0, 0.0, 1.0, 0.0]]  [[0.0, 1.0, 0.0, 0.0]]   \n999998  [[0.0, 0.0, 1.0, 0.0]]  [[0.0, 1.0, 0.0, 0.0]]   \n999999  [[0.0, 1.0, 0.0, 0.0]]  [[0.0, 0.0, 0.0, 1.0]]   \n\n                            2                       3   \\\n0       [[0.0, 0.0, 0.0, 1.0]]  [[1.0, 0.0, 0.0, 0.0]]   \n1       [[1.0, 0.0, 0.0, 0.0]]  [[1.0, 0.0, 0.0, 0.0]]   \n2       [[0.0, 0.0, 0.0, 1.0]]  [[0.0, 1.0, 0.0, 0.0]]   \n3       [[0.0, 0.0, 0.0, 1.0]]  [[0.0, 0.0, 0.0, 1.0]]   \n4       [[0.0, 1.0, 0.0, 0.0]]  [[1.0, 0.0, 0.0, 0.0]]   \n...                        ...                     ...   \n999995  [[1.0, 0.0, 0.0, 0.0]]  [[0.0, 1.0, 0.0, 0.0]]   \n999996  [[1.0, 0.0, 0.0, 0.0]]  [[1.0, 0.0, 0.0, 0.0]]   \n999997  [[0.0, 1.0, 0.0, 0.0]]  [[1.0, 0.0, 0.0, 0.0]]   \n999998  [[0.0, 1.0, 0.0, 0.0]]  [[0.0, 0.0, 1.0, 0.0]]   \n999999  [[0.0, 0.0, 0.0, 1.0]]  [[0.0, 0.0, 0.0, 1.0]]   \n\n                            4                       5   \\\n0       [[0.0, 1.0, 0.0, 0.0]]  [[0.0, 0.0, 0.0, 1.0]]   \n1       [[0.0, 1.0, 0.0, 0.0]]  [[0.0, 1.0, 0.0, 0.0]]   \n2       [[0.0, 1.0, 0.0, 0.0]]  [[0.0, 0.0, 1.0, 0.0]]   \n3       [[0.0, 1.0, 0.0, 0.0]]  [[0.0, 0.0, 0.0, 1.0]]   \n4       [[0.0, 0.0, 0.0, 1.0]]  [[0.0, 0.0, 0.0, 1.0]]   \n...                        ...                     ...   \n999995  [[0.0, 0.0, 1.0, 0.0]]  [[0.0, 1.0, 0.0, 0.0]]   \n999996  [[0.0, 0.0, 0.0, 1.0]]  [[0.0, 0.0, 1.0, 0.0]]   \n999997  [[1.0, 0.0, 0.0, 0.0]]  [[0.0, 0.0, 1.0, 0.0]]   \n999998  [[0.0, 0.0, 1.0, 0.0]]  [[1.0, 0.0, 0.0, 0.0]]   \n999999  [[1.0, 0.0, 0.0, 0.0]]  [[0.0, 0.0, 1.0, 0.0]]   \n\n                            6                       7   \\\n0       [[0.0, 0.0, 0.0, 1.0]]  [[0.0, 0.0, 1.0, 0.0]]   \n1       [[0.0, 1.0, 0.0, 0.0]]  [[0.0, 0.0, 1.0, 0.0]]   \n2       [[0.0, 0.0, 0.0, 1.0]]  [[0.0, 0.0, 0.0, 1.0]]   \n3       [[0.0, 0.0, 0.0, 1.0]]  [[0.0, 1.0, 0.0, 0.0]]   \n4       [[0.0, 1.0, 0.0, 0.0]]  [[0.0, 0.0, 0.0, 1.0]]   \n...                        ...                     ...   \n999995  [[0.0, 0.0, 1.0, 0.0]]  [[0.0, 0.0, 1.0, 0.0]]   \n999996  [[0.0, 0.0, 1.0, 0.0]]  [[0.0, 0.0, 0.0, 1.0]]   \n999997  [[1.0, 0.0, 0.0, 0.0]]  [[0.0, 0.0, 1.0, 0.0]]   \n999998  [[0.0, 0.0, 1.0, 0.0]]  [[0.0, 1.0, 0.0, 0.0]]   \n999999  [[0.0, 1.0, 0.0, 0.0]]  [[0.0, 0.0, 0.0, 1.0]]   \n\n                            8                       9   ...  \\\n0       [[0.0, 1.0, 0.0, 0.0]]  [[1.0, 0.0, 0.0, 0.0]]  ...   \n1       [[0.0, 0.0, 1.0, 0.0]]  [[0.0, 1.0, 0.0, 0.0]]  ...   \n2       [[0.0, 0.0, 0.0, 1.0]]  [[0.0, 1.0, 0.0, 0.0]]  ...   \n3       [[0.0, 0.0, 1.0, 0.0]]  [[0.0, 0.0, 0.0, 1.0]]  ...   \n4       [[0.0, 0.0, 0.0, 1.0]]  [[0.0, 0.0, 0.0, 1.0]]  ...   \n...                        ...                     ...  ...   \n999995  [[0.0, 0.0, 0.0, 1.0]]  [[0.0, 0.0, 1.0, 0.0]]  ...   \n999996  [[0.0, 0.0, 0.0, 1.0]]  [[0.0, 1.0, 0.0, 0.0]]  ...   \n999997  [[0.0, 0.0, 0.0, 1.0]]  [[0.0, 0.0, 0.0, 1.0]]  ...   \n999998  [[1.0, 0.0, 0.0, 0.0]]  [[0.0, 0.0, 1.0, 0.0]]  ...   \n999999  [[0.0, 1.0, 0.0, 0.0]]  [[0.0, 1.0, 0.0, 0.0]]  ...   \n\n                            20                      21  \\\n0       [[0.0, 0.0, 0.0, 1.0]]  [[0.0, 0.0, 1.0, 0.0]]   \n1       [[1.0, 0.0, 0.0, 0.0]]  [[1.0, 0.0, 0.0, 0.0]]   \n2       [[0.0, 0.0, 0.0, 1.0]]  [[0.0, 0.0, 1.0, 0.0]]   \n3       [[0.0, 0.0, 0.0, 1.0]]  [[0.0, 1.0, 0.0, 0.0]]   \n4       [[0.0, 0.0, 0.0, 1.0]]  [[1.0, 0.0, 0.0, 0.0]]   \n...                        ...                     ...   \n999995  [[0.0, 0.0, 1.0, 0.0]]  [[1.0, 0.0, 0.0, 0.0]]   \n999996  [[1.0, 0.0, 0.0, 0.0]]  [[1.0, 0.0, 0.0, 0.0]]   \n999997  [[0.0, 1.0, 0.0, 0.0]]  [[0.0, 1.0, 0.0, 0.0]]   \n999998  [[0.0, 1.0, 0.0, 0.0]]  [[0.0, 0.0, 0.0, 1.0]]   \n999999  [[0.0, 0.0, 1.0, 0.0]]  [[0.0, 0.0, 0.0, 1.0]]   \n\n                            22                      23  \\\n0       [[0.0, 0.0, 1.0, 0.0]]  [[0.0, 0.0, 0.0, 1.0]]   \n1       [[0.0, 0.0, 0.0, 1.0]]  [[0.0, 0.0, 1.0, 0.0]]   \n2       [[0.0, 0.0, 1.0, 0.0]]  [[0.0, 0.0, 0.0, 1.0]]   \n3       [[0.0, 0.0, 0.0, 1.0]]  [[1.0, 0.0, 0.0, 0.0]]   \n4       [[1.0, 0.0, 0.0, 0.0]]  [[0.0, 0.0, 1.0, 0.0]]   \n...                        ...                     ...   \n999995  [[0.0, 0.0, 1.0, 0.0]]  [[1.0, 0.0, 0.0, 0.0]]   \n999996  [[1.0, 0.0, 0.0, 0.0]]  [[1.0, 0.0, 0.0, 0.0]]   \n999997  [[0.0, 1.0, 0.0, 0.0]]  [[0.0, 1.0, 0.0, 0.0]]   \n999998  [[0.0, 1.0, 0.0, 0.0]]  [[0.0, 1.0, 0.0, 0.0]]   \n999999  [[0.0, 0.0, 0.0, 1.0]]  [[0.0, 0.0, 0.0, 1.0]]   \n\n                            24                      25  \\\n0       [[0.0, 1.0, 0.0, 0.0]]  [[0.0, 0.0, 1.0, 0.0]]   \n1       [[1.0, 0.0, 0.0, 0.0]]  [[1.0, 0.0, 0.0, 0.0]]   \n2       [[0.0, 1.0, 0.0, 0.0]]  [[1.0, 0.0, 0.0, 0.0]]   \n3       [[0.0, 0.0, 0.0, 1.0]]  [[1.0, 0.0, 0.0, 0.0]]   \n4       [[0.0, 0.0, 0.0, 1.0]]  [[0.0, 1.0, 0.0, 0.0]]   \n...                        ...                     ...   \n999995  [[0.0, 1.0, 0.0, 0.0]]  [[1.0, 0.0, 0.0, 0.0]]   \n999996  [[0.0, 0.0, 0.0, 1.0]]  [[0.0, 0.0, 1.0, 0.0]]   \n999997  [[1.0, 0.0, 0.0, 0.0]]  [[1.0, 0.0, 0.0, 0.0]]   \n999998  [[1.0, 0.0, 0.0, 0.0]]  [[0.0, 0.0, 0.0, 1.0]]   \n999999  [[0.0, 0.0, 0.0, 1.0]]  [[0.0, 1.0, 0.0, 0.0]]   \n\n                            26                      27  \\\n0       [[0.0, 0.0, 1.0, 0.0]]  [[0.0, 1.0, 0.0, 0.0]]   \n1       [[0.0, 1.0, 0.0, 0.0]]  [[0.0, 0.0, 0.0, 1.0]]   \n2       [[1.0, 0.0, 0.0, 0.0]]  [[0.0, 0.0, 1.0, 0.0]]   \n3       [[1.0, 0.0, 0.0, 0.0]]  [[0.0, 0.0, 0.0, 1.0]]   \n4       [[0.0, 0.0, 1.0, 0.0]]  [[1.0, 0.0, 0.0, 0.0]]   \n...                        ...                     ...   \n999995  [[1.0, 0.0, 0.0, 0.0]]  [[0.0, 0.0, 0.0, 1.0]]   \n999996  [[1.0, 0.0, 0.0, 0.0]]  [[0.0, 1.0, 0.0, 0.0]]   \n999997  [[0.0, 0.0, 1.0, 0.0]]  [[0.0, 0.0, 0.0, 1.0]]   \n999998  [[0.0, 1.0, 0.0, 0.0]]  [[0.0, 1.0, 0.0, 0.0]]   \n999999  [[0.0, 0.0, 0.0, 1.0]]  [[0.0, 0.0, 0.0, 1.0]]   \n\n                            28                      29  \n0       [[0.0, 0.0, 0.0, 1.0]]  [[0.0, 1.0, 0.0, 0.0]]  \n1       [[0.0, 0.0, 1.0, 0.0]]  [[0.0, 1.0, 0.0, 0.0]]  \n2       [[0.0, 0.0, 1.0, 0.0]]  [[0.0, 1.0, 0.0, 0.0]]  \n3       [[1.0, 0.0, 0.0, 0.0]]  [[1.0, 0.0, 0.0, 0.0]]  \n4       [[1.0, 0.0, 0.0, 0.0]]  [[1.0, 0.0, 0.0, 0.0]]  \n...                        ...                     ...  \n999995  [[1.0, 0.0, 0.0, 0.0]]  [[0.0, 0.0, 1.0, 0.0]]  \n999996  [[0.0, 1.0, 0.0, 0.0]]  [[0.0, 0.0, 1.0, 0.0]]  \n999997  [[0.0, 1.0, 0.0, 0.0]]  [[0.0, 0.0, 1.0, 0.0]]  \n999998  [[0.0, 0.0, 1.0, 0.0]]  [[1.0, 0.0, 0.0, 0.0]]  \n999999  [[0.0, 0.0, 1.0, 0.0]]  [[0.0, 0.0, 0.0, 1.0]]  \n\n[1000000 rows x 30 columns]",
      "text/html": "<div>\n<style scoped>\n    .dataframe tbody tr th:only-of-type {\n        vertical-align: middle;\n    }\n\n    .dataframe tbody tr th {\n        vertical-align: top;\n    }\n\n    .dataframe thead th {\n        text-align: right;\n    }\n</style>\n<table border=\"1\" class=\"dataframe\">\n  <thead>\n    <tr style=\"text-align: right;\">\n      <th></th>\n      <th>0</th>\n      <th>1</th>\n      <th>2</th>\n      <th>3</th>\n      <th>4</th>\n      <th>5</th>\n      <th>6</th>\n      <th>7</th>\n      <th>8</th>\n      <th>9</th>\n      <th>...</th>\n      <th>20</th>\n      <th>21</th>\n      <th>22</th>\n      <th>23</th>\n      <th>24</th>\n      <th>25</th>\n      <th>26</th>\n      <th>27</th>\n      <th>28</th>\n      <th>29</th>\n    </tr>\n  </thead>\n  <tbody>\n    <tr>\n      <th>0</th>\n      <td>[[1.0, 0.0, 0.0, 0.0]]</td>\n      <td>[[0.0, 0.0, 0.0, 1.0]]</td>\n      <td>[[0.0, 0.0, 0.0, 1.0]]</td>\n      <td>[[1.0, 0.0, 0.0, 0.0]]</td>\n      <td>[[0.0, 1.0, 0.0, 0.0]]</td>\n      <td>[[0.0, 0.0, 0.0, 1.0]]</td>\n      <td>[[0.0, 0.0, 0.0, 1.0]]</td>\n      <td>[[0.0, 0.0, 1.0, 0.0]]</td>\n      <td>[[0.0, 1.0, 0.0, 0.0]]</td>\n      <td>[[1.0, 0.0, 0.0, 0.0]]</td>\n      <td>...</td>\n      <td>[[0.0, 0.0, 0.0, 1.0]]</td>\n      <td>[[0.0, 0.0, 1.0, 0.0]]</td>\n      <td>[[0.0, 0.0, 1.0, 0.0]]</td>\n      <td>[[0.0, 0.0, 0.0, 1.0]]</td>\n      <td>[[0.0, 1.0, 0.0, 0.0]]</td>\n      <td>[[0.0, 0.0, 1.0, 0.0]]</td>\n      <td>[[0.0, 0.0, 1.0, 0.0]]</td>\n      <td>[[0.0, 1.0, 0.0, 0.0]]</td>\n      <td>[[0.0, 0.0, 0.0, 1.0]]</td>\n      <td>[[0.0, 1.0, 0.0, 0.0]]</td>\n    </tr>\n    <tr>\n      <th>1</th>\n      <td>[[0.0, 0.0, 0.0, 1.0]]</td>\n      <td>[[0.0, 0.0, 0.0, 1.0]]</td>\n      <td>[[1.0, 0.0, 0.0, 0.0]]</td>\n      <td>[[1.0, 0.0, 0.0, 0.0]]</td>\n      <td>[[0.0, 1.0, 0.0, 0.0]]</td>\n      <td>[[0.0, 1.0, 0.0, 0.0]]</td>\n      <td>[[0.0, 1.0, 0.0, 0.0]]</td>\n      <td>[[0.0, 0.0, 1.0, 0.0]]</td>\n      <td>[[0.0, 0.0, 1.0, 0.0]]</td>\n      <td>[[0.0, 1.0, 0.0, 0.0]]</td>\n      <td>...</td>\n      <td>[[1.0, 0.0, 0.0, 0.0]]</td>\n      <td>[[1.0, 0.0, 0.0, 0.0]]</td>\n      <td>[[0.0, 0.0, 0.0, 1.0]]</td>\n      <td>[[0.0, 0.0, 1.0, 0.0]]</td>\n      <td>[[1.0, 0.0, 0.0, 0.0]]</td>\n      <td>[[1.0, 0.0, 0.0, 0.0]]</td>\n      <td>[[0.0, 1.0, 0.0, 0.0]]</td>\n      <td>[[0.0, 0.0, 0.0, 1.0]]</td>\n      <td>[[0.0, 0.0, 1.0, 0.0]]</td>\n      <td>[[0.0, 1.0, 0.0, 0.0]]</td>\n    </tr>\n    <tr>\n      <th>2</th>\n      <td>[[1.0, 0.0, 0.0, 0.0]]</td>\n      <td>[[1.0, 0.0, 0.0, 0.0]]</td>\n      <td>[[0.0, 0.0, 0.0, 1.0]]</td>\n      <td>[[0.0, 1.0, 0.0, 0.0]]</td>\n      <td>[[0.0, 1.0, 0.0, 0.0]]</td>\n      <td>[[0.0, 0.0, 1.0, 0.0]]</td>\n      <td>[[0.0, 0.0, 0.0, 1.0]]</td>\n      <td>[[0.0, 0.0, 0.0, 1.0]]</td>\n      <td>[[0.0, 0.0, 0.0, 1.0]]</td>\n      <td>[[0.0, 1.0, 0.0, 0.0]]</td>\n      <td>...</td>\n      <td>[[0.0, 0.0, 0.0, 1.0]]</td>\n      <td>[[0.0, 0.0, 1.0, 0.0]]</td>\n      <td>[[0.0, 0.0, 1.0, 0.0]]</td>\n      <td>[[0.0, 0.0, 0.0, 1.0]]</td>\n      <td>[[0.0, 1.0, 0.0, 0.0]]</td>\n      <td>[[1.0, 0.0, 0.0, 0.0]]</td>\n      <td>[[1.0, 0.0, 0.0, 0.0]]</td>\n      <td>[[0.0, 0.0, 1.0, 0.0]]</td>\n      <td>[[0.0, 0.0, 1.0, 0.0]]</td>\n      <td>[[0.0, 1.0, 0.0, 0.0]]</td>\n    </tr>\n    <tr>\n      <th>3</th>\n      <td>[[1.0, 0.0, 0.0, 0.0]]</td>\n      <td>[[0.0, 0.0, 1.0, 0.0]]</td>\n      <td>[[0.0, 0.0, 0.0, 1.0]]</td>\n      <td>[[0.0, 0.0, 0.0, 1.0]]</td>\n      <td>[[0.0, 1.0, 0.0, 0.0]]</td>\n      <td>[[0.0, 0.0, 0.0, 1.0]]</td>\n      <td>[[0.0, 0.0, 0.0, 1.0]]</td>\n      <td>[[0.0, 1.0, 0.0, 0.0]]</td>\n      <td>[[0.0, 0.0, 1.0, 0.0]]</td>\n      <td>[[0.0, 0.0, 0.0, 1.0]]</td>\n      <td>...</td>\n      <td>[[0.0, 0.0, 0.0, 1.0]]</td>\n      <td>[[0.0, 1.0, 0.0, 0.0]]</td>\n      <td>[[0.0, 0.0, 0.0, 1.0]]</td>\n      <td>[[1.0, 0.0, 0.0, 0.0]]</td>\n      <td>[[0.0, 0.0, 0.0, 1.0]]</td>\n      <td>[[1.0, 0.0, 0.0, 0.0]]</td>\n      <td>[[1.0, 0.0, 0.0, 0.0]]</td>\n      <td>[[0.0, 0.0, 0.0, 1.0]]</td>\n      <td>[[1.0, 0.0, 0.0, 0.0]]</td>\n      <td>[[1.0, 0.0, 0.0, 0.0]]</td>\n    </tr>\n    <tr>\n      <th>4</th>\n      <td>[[0.0, 0.0, 1.0, 0.0]]</td>\n      <td>[[1.0, 0.0, 0.0, 0.0]]</td>\n      <td>[[0.0, 1.0, 0.0, 0.0]]</td>\n      <td>[[1.0, 0.0, 0.0, 0.0]]</td>\n      <td>[[0.0, 0.0, 0.0, 1.0]]</td>\n      <td>[[0.0, 0.0, 0.0, 1.0]]</td>\n      <td>[[0.0, 1.0, 0.0, 0.0]]</td>\n      <td>[[0.0, 0.0, 0.0, 1.0]]</td>\n      <td>[[0.0, 0.0, 0.0, 1.0]]</td>\n      <td>[[0.0, 0.0, 0.0, 1.0]]</td>\n      <td>...</td>\n      <td>[[0.0, 0.0, 0.0, 1.0]]</td>\n      <td>[[1.0, 0.0, 0.0, 0.0]]</td>\n      <td>[[1.0, 0.0, 0.0, 0.0]]</td>\n      <td>[[0.0, 0.0, 1.0, 0.0]]</td>\n      <td>[[0.0, 0.0, 0.0, 1.0]]</td>\n      <td>[[0.0, 1.0, 0.0, 0.0]]</td>\n      <td>[[0.0, 0.0, 1.0, 0.0]]</td>\n      <td>[[1.0, 0.0, 0.0, 0.0]]</td>\n      <td>[[1.0, 0.0, 0.0, 0.0]]</td>\n      <td>[[1.0, 0.0, 0.0, 0.0]]</td>\n    </tr>\n    <tr>\n      <th>...</th>\n      <td>...</td>\n      <td>...</td>\n      <td>...</td>\n      <td>...</td>\n      <td>...</td>\n      <td>...</td>\n      <td>...</td>\n      <td>...</td>\n      <td>...</td>\n      <td>...</td>\n      <td>...</td>\n      <td>...</td>\n      <td>...</td>\n      <td>...</td>\n      <td>...</td>\n      <td>...</td>\n      <td>...</td>\n      <td>...</td>\n      <td>...</td>\n      <td>...</td>\n      <td>...</td>\n    </tr>\n    <tr>\n      <th>999995</th>\n      <td>[[0.0, 0.0, 0.0, 1.0]]</td>\n      <td>[[0.0, 0.0, 1.0, 0.0]]</td>\n      <td>[[1.0, 0.0, 0.0, 0.0]]</td>\n      <td>[[0.0, 1.0, 0.0, 0.0]]</td>\n      <td>[[0.0, 0.0, 1.0, 0.0]]</td>\n      <td>[[0.0, 1.0, 0.0, 0.0]]</td>\n      <td>[[0.0, 0.0, 1.0, 0.0]]</td>\n      <td>[[0.0, 0.0, 1.0, 0.0]]</td>\n      <td>[[0.0, 0.0, 0.0, 1.0]]</td>\n      <td>[[0.0, 0.0, 1.0, 0.0]]</td>\n      <td>...</td>\n      <td>[[0.0, 0.0, 1.0, 0.0]]</td>\n      <td>[[1.0, 0.0, 0.0, 0.0]]</td>\n      <td>[[0.0, 0.0, 1.0, 0.0]]</td>\n      <td>[[1.0, 0.0, 0.0, 0.0]]</td>\n      <td>[[0.0, 1.0, 0.0, 0.0]]</td>\n      <td>[[1.0, 0.0, 0.0, 0.0]]</td>\n      <td>[[1.0, 0.0, 0.0, 0.0]]</td>\n      <td>[[0.0, 0.0, 0.0, 1.0]]</td>\n      <td>[[1.0, 0.0, 0.0, 0.0]]</td>\n      <td>[[0.0, 0.0, 1.0, 0.0]]</td>\n    </tr>\n    <tr>\n      <th>999996</th>\n      <td>[[1.0, 0.0, 0.0, 0.0]]</td>\n      <td>[[0.0, 1.0, 0.0, 0.0]]</td>\n      <td>[[1.0, 0.0, 0.0, 0.0]]</td>\n      <td>[[1.0, 0.0, 0.0, 0.0]]</td>\n      <td>[[0.0, 0.0, 0.0, 1.0]]</td>\n      <td>[[0.0, 0.0, 1.0, 0.0]]</td>\n      <td>[[0.0, 0.0, 1.0, 0.0]]</td>\n      <td>[[0.0, 0.0, 0.0, 1.0]]</td>\n      <td>[[0.0, 0.0, 0.0, 1.0]]</td>\n      <td>[[0.0, 1.0, 0.0, 0.0]]</td>\n      <td>...</td>\n      <td>[[1.0, 0.0, 0.0, 0.0]]</td>\n      <td>[[1.0, 0.0, 0.0, 0.0]]</td>\n      <td>[[1.0, 0.0, 0.0, 0.0]]</td>\n      <td>[[1.0, 0.0, 0.0, 0.0]]</td>\n      <td>[[0.0, 0.0, 0.0, 1.0]]</td>\n      <td>[[0.0, 0.0, 1.0, 0.0]]</td>\n      <td>[[1.0, 0.0, 0.0, 0.0]]</td>\n      <td>[[0.0, 1.0, 0.0, 0.0]]</td>\n      <td>[[0.0, 1.0, 0.0, 0.0]]</td>\n      <td>[[0.0, 0.0, 1.0, 0.0]]</td>\n    </tr>\n    <tr>\n      <th>999997</th>\n      <td>[[0.0, 0.0, 1.0, 0.0]]</td>\n      <td>[[0.0, 1.0, 0.0, 0.0]]</td>\n      <td>[[0.0, 1.0, 0.0, 0.0]]</td>\n      <td>[[1.0, 0.0, 0.0, 0.0]]</td>\n      <td>[[1.0, 0.0, 0.0, 0.0]]</td>\n      <td>[[0.0, 0.0, 1.0, 0.0]]</td>\n      <td>[[1.0, 0.0, 0.0, 0.0]]</td>\n      <td>[[0.0, 0.0, 1.0, 0.0]]</td>\n      <td>[[0.0, 0.0, 0.0, 1.0]]</td>\n      <td>[[0.0, 0.0, 0.0, 1.0]]</td>\n      <td>...</td>\n      <td>[[0.0, 1.0, 0.0, 0.0]]</td>\n      <td>[[0.0, 1.0, 0.0, 0.0]]</td>\n      <td>[[0.0, 1.0, 0.0, 0.0]]</td>\n      <td>[[0.0, 1.0, 0.0, 0.0]]</td>\n      <td>[[1.0, 0.0, 0.0, 0.0]]</td>\n      <td>[[1.0, 0.0, 0.0, 0.0]]</td>\n      <td>[[0.0, 0.0, 1.0, 0.0]]</td>\n      <td>[[0.0, 0.0, 0.0, 1.0]]</td>\n      <td>[[0.0, 1.0, 0.0, 0.0]]</td>\n      <td>[[0.0, 0.0, 1.0, 0.0]]</td>\n    </tr>\n    <tr>\n      <th>999998</th>\n      <td>[[0.0, 0.0, 1.0, 0.0]]</td>\n      <td>[[0.0, 1.0, 0.0, 0.0]]</td>\n      <td>[[0.0, 1.0, 0.0, 0.0]]</td>\n      <td>[[0.0, 0.0, 1.0, 0.0]]</td>\n      <td>[[0.0, 0.0, 1.0, 0.0]]</td>\n      <td>[[1.0, 0.0, 0.0, 0.0]]</td>\n      <td>[[0.0, 0.0, 1.0, 0.0]]</td>\n      <td>[[0.0, 1.0, 0.0, 0.0]]</td>\n      <td>[[1.0, 0.0, 0.0, 0.0]]</td>\n      <td>[[0.0, 0.0, 1.0, 0.0]]</td>\n      <td>...</td>\n      <td>[[0.0, 1.0, 0.0, 0.0]]</td>\n      <td>[[0.0, 0.0, 0.0, 1.0]]</td>\n      <td>[[0.0, 1.0, 0.0, 0.0]]</td>\n      <td>[[0.0, 1.0, 0.0, 0.0]]</td>\n      <td>[[1.0, 0.0, 0.0, 0.0]]</td>\n      <td>[[0.0, 0.0, 0.0, 1.0]]</td>\n      <td>[[0.0, 1.0, 0.0, 0.0]]</td>\n      <td>[[0.0, 1.0, 0.0, 0.0]]</td>\n      <td>[[0.0, 0.0, 1.0, 0.0]]</td>\n      <td>[[1.0, 0.0, 0.0, 0.0]]</td>\n    </tr>\n    <tr>\n      <th>999999</th>\n      <td>[[0.0, 1.0, 0.0, 0.0]]</td>\n      <td>[[0.0, 0.0, 0.0, 1.0]]</td>\n      <td>[[0.0, 0.0, 0.0, 1.0]]</td>\n      <td>[[0.0, 0.0, 0.0, 1.0]]</td>\n      <td>[[1.0, 0.0, 0.0, 0.0]]</td>\n      <td>[[0.0, 0.0, 1.0, 0.0]]</td>\n      <td>[[0.0, 1.0, 0.0, 0.0]]</td>\n      <td>[[0.0, 0.0, 0.0, 1.0]]</td>\n      <td>[[0.0, 1.0, 0.0, 0.0]]</td>\n      <td>[[0.0, 1.0, 0.0, 0.0]]</td>\n      <td>...</td>\n      <td>[[0.0, 0.0, 1.0, 0.0]]</td>\n      <td>[[0.0, 0.0, 0.0, 1.0]]</td>\n      <td>[[0.0, 0.0, 0.0, 1.0]]</td>\n      <td>[[0.0, 0.0, 0.0, 1.0]]</td>\n      <td>[[0.0, 0.0, 0.0, 1.0]]</td>\n      <td>[[0.0, 1.0, 0.0, 0.0]]</td>\n      <td>[[0.0, 0.0, 0.0, 1.0]]</td>\n      <td>[[0.0, 0.0, 0.0, 1.0]]</td>\n      <td>[[0.0, 0.0, 1.0, 0.0]]</td>\n      <td>[[0.0, 0.0, 0.0, 1.0]]</td>\n    </tr>\n  </tbody>\n</table>\n<p>1000000 rows × 30 columns</p>\n</div>"
     },
     "execution_count": 10,
     "metadata": {},
     "output_type": "execute_result"
    }
   ],
   "source": [
    "df_one_hot = pd.DataFrame()\n",
    "for i in range(30):\n",
    "    df_one_hot[i] = df_clean.iloc[:,i].apply(lambda x: one_hot_encode(x))\n",
    "df_one_hot"
   ]
  },
  {
   "cell_type": "code",
   "execution_count": 11,
   "metadata": {
    "collapsed": false
   },
   "outputs": [
    {
     "data": {
      "text/plain": "numpy.ndarray"
     },
     "execution_count": 11,
     "metadata": {},
     "output_type": "execute_result"
    }
   ],
   "source": [
    "type(df_one_hot[0][0])"
   ]
  },
  {
   "cell_type": "code",
   "execution_count": 12,
   "metadata": {
    "collapsed": false
   },
   "outputs": [
    {
     "data": {
      "text/plain": "                             0                       1  \\\n0       [[1.0, 0.0, 0.0, 0.0]]  [[0.0, 0.0, 0.0, 1.0]]   \n1       [[0.0, 0.0, 0.0, 1.0]]  [[0.0, 0.0, 0.0, 1.0]]   \n2       [[1.0, 0.0, 0.0, 0.0]]  [[1.0, 0.0, 0.0, 0.0]]   \n3       [[1.0, 0.0, 0.0, 0.0]]  [[0.0, 0.0, 1.0, 0.0]]   \n4       [[0.0, 0.0, 1.0, 0.0]]  [[1.0, 0.0, 0.0, 0.0]]   \n...                        ...                     ...   \n999995  [[0.0, 0.0, 0.0, 1.0]]  [[0.0, 0.0, 1.0, 0.0]]   \n999996  [[1.0, 0.0, 0.0, 0.0]]  [[0.0, 1.0, 0.0, 0.0]]   \n999997  [[0.0, 0.0, 1.0, 0.0]]  [[0.0, 1.0, 0.0, 0.0]]   \n999998  [[0.0, 0.0, 1.0, 0.0]]  [[0.0, 1.0, 0.0, 0.0]]   \n999999  [[0.0, 1.0, 0.0, 0.0]]  [[0.0, 0.0, 0.0, 1.0]]   \n\n                             2                       3  \\\n0       [[0.0, 0.0, 0.0, 1.0]]  [[1.0, 0.0, 0.0, 0.0]]   \n1       [[1.0, 0.0, 0.0, 0.0]]  [[1.0, 0.0, 0.0, 0.0]]   \n2       [[0.0, 0.0, 0.0, 1.0]]  [[0.0, 1.0, 0.0, 0.0]]   \n3       [[0.0, 0.0, 0.0, 1.0]]  [[0.0, 0.0, 0.0, 1.0]]   \n4       [[0.0, 1.0, 0.0, 0.0]]  [[1.0, 0.0, 0.0, 0.0]]   \n...                        ...                     ...   \n999995  [[1.0, 0.0, 0.0, 0.0]]  [[0.0, 1.0, 0.0, 0.0]]   \n999996  [[1.0, 0.0, 0.0, 0.0]]  [[1.0, 0.0, 0.0, 0.0]]   \n999997  [[0.0, 1.0, 0.0, 0.0]]  [[1.0, 0.0, 0.0, 0.0]]   \n999998  [[0.0, 1.0, 0.0, 0.0]]  [[0.0, 0.0, 1.0, 0.0]]   \n999999  [[0.0, 0.0, 0.0, 1.0]]  [[0.0, 0.0, 0.0, 1.0]]   \n\n                             4                       5  \\\n0       [[0.0, 1.0, 0.0, 0.0]]  [[0.0, 0.0, 0.0, 1.0]]   \n1       [[0.0, 1.0, 0.0, 0.0]]  [[0.0, 1.0, 0.0, 0.0]]   \n2       [[0.0, 1.0, 0.0, 0.0]]  [[0.0, 0.0, 1.0, 0.0]]   \n3       [[0.0, 1.0, 0.0, 0.0]]  [[0.0, 0.0, 0.0, 1.0]]   \n4       [[0.0, 0.0, 0.0, 1.0]]  [[0.0, 0.0, 0.0, 1.0]]   \n...                        ...                     ...   \n999995  [[0.0, 0.0, 1.0, 0.0]]  [[0.0, 1.0, 0.0, 0.0]]   \n999996  [[0.0, 0.0, 0.0, 1.0]]  [[0.0, 0.0, 1.0, 0.0]]   \n999997  [[1.0, 0.0, 0.0, 0.0]]  [[0.0, 0.0, 1.0, 0.0]]   \n999998  [[0.0, 0.0, 1.0, 0.0]]  [[1.0, 0.0, 0.0, 0.0]]   \n999999  [[1.0, 0.0, 0.0, 0.0]]  [[0.0, 0.0, 1.0, 0.0]]   \n\n                             6                       7  \\\n0       [[0.0, 0.0, 0.0, 1.0]]  [[0.0, 0.0, 1.0, 0.0]]   \n1       [[0.0, 1.0, 0.0, 0.0]]  [[0.0, 0.0, 1.0, 0.0]]   \n2       [[0.0, 0.0, 0.0, 1.0]]  [[0.0, 0.0, 0.0, 1.0]]   \n3       [[0.0, 0.0, 0.0, 1.0]]  [[0.0, 1.0, 0.0, 0.0]]   \n4       [[0.0, 1.0, 0.0, 0.0]]  [[0.0, 0.0, 0.0, 1.0]]   \n...                        ...                     ...   \n999995  [[0.0, 0.0, 1.0, 0.0]]  [[0.0, 0.0, 1.0, 0.0]]   \n999996  [[0.0, 0.0, 1.0, 0.0]]  [[0.0, 0.0, 0.0, 1.0]]   \n999997  [[1.0, 0.0, 0.0, 0.0]]  [[0.0, 0.0, 1.0, 0.0]]   \n999998  [[0.0, 0.0, 1.0, 0.0]]  [[0.0, 1.0, 0.0, 0.0]]   \n999999  [[0.0, 1.0, 0.0, 0.0]]  [[0.0, 0.0, 0.0, 1.0]]   \n\n                             8                       9  ...  \\\n0       [[0.0, 1.0, 0.0, 0.0]]  [[1.0, 0.0, 0.0, 0.0]]  ...   \n1       [[0.0, 0.0, 1.0, 0.0]]  [[0.0, 1.0, 0.0, 0.0]]  ...   \n2       [[0.0, 0.0, 0.0, 1.0]]  [[0.0, 1.0, 0.0, 0.0]]  ...   \n3       [[0.0, 0.0, 1.0, 0.0]]  [[0.0, 0.0, 0.0, 1.0]]  ...   \n4       [[0.0, 0.0, 0.0, 1.0]]  [[0.0, 0.0, 0.0, 1.0]]  ...   \n...                        ...                     ...  ...   \n999995  [[0.0, 0.0, 0.0, 1.0]]  [[0.0, 0.0, 1.0, 0.0]]  ...   \n999996  [[0.0, 0.0, 0.0, 1.0]]  [[0.0, 1.0, 0.0, 0.0]]  ...   \n999997  [[0.0, 0.0, 0.0, 1.0]]  [[0.0, 0.0, 0.0, 1.0]]  ...   \n999998  [[1.0, 0.0, 0.0, 0.0]]  [[0.0, 0.0, 1.0, 0.0]]  ...   \n999999  [[0.0, 1.0, 0.0, 0.0]]  [[0.0, 1.0, 0.0, 0.0]]  ...   \n\n                            21                      22  \\\n0       [[0.0, 0.0, 1.0, 0.0]]  [[0.0, 0.0, 1.0, 0.0]]   \n1       [[1.0, 0.0, 0.0, 0.0]]  [[0.0, 0.0, 0.0, 1.0]]   \n2       [[0.0, 0.0, 1.0, 0.0]]  [[0.0, 0.0, 1.0, 0.0]]   \n3       [[0.0, 1.0, 0.0, 0.0]]  [[0.0, 0.0, 0.0, 1.0]]   \n4       [[1.0, 0.0, 0.0, 0.0]]  [[1.0, 0.0, 0.0, 0.0]]   \n...                        ...                     ...   \n999995  [[1.0, 0.0, 0.0, 0.0]]  [[0.0, 0.0, 1.0, 0.0]]   \n999996  [[1.0, 0.0, 0.0, 0.0]]  [[1.0, 0.0, 0.0, 0.0]]   \n999997  [[0.0, 1.0, 0.0, 0.0]]  [[0.0, 1.0, 0.0, 0.0]]   \n999998  [[0.0, 0.0, 0.0, 1.0]]  [[0.0, 1.0, 0.0, 0.0]]   \n999999  [[0.0, 0.0, 0.0, 1.0]]  [[0.0, 0.0, 0.0, 1.0]]   \n\n                            23                      24  \\\n0       [[0.0, 0.0, 0.0, 1.0]]  [[0.0, 1.0, 0.0, 0.0]]   \n1       [[0.0, 0.0, 1.0, 0.0]]  [[1.0, 0.0, 0.0, 0.0]]   \n2       [[0.0, 0.0, 0.0, 1.0]]  [[0.0, 1.0, 0.0, 0.0]]   \n3       [[1.0, 0.0, 0.0, 0.0]]  [[0.0, 0.0, 0.0, 1.0]]   \n4       [[0.0, 0.0, 1.0, 0.0]]  [[0.0, 0.0, 0.0, 1.0]]   \n...                        ...                     ...   \n999995  [[1.0, 0.0, 0.0, 0.0]]  [[0.0, 1.0, 0.0, 0.0]]   \n999996  [[1.0, 0.0, 0.0, 0.0]]  [[0.0, 0.0, 0.0, 1.0]]   \n999997  [[0.0, 1.0, 0.0, 0.0]]  [[1.0, 0.0, 0.0, 0.0]]   \n999998  [[0.0, 1.0, 0.0, 0.0]]  [[1.0, 0.0, 0.0, 0.0]]   \n999999  [[0.0, 0.0, 0.0, 1.0]]  [[0.0, 0.0, 0.0, 1.0]]   \n\n                            25                      26  \\\n0       [[0.0, 0.0, 1.0, 0.0]]  [[0.0, 0.0, 1.0, 0.0]]   \n1       [[1.0, 0.0, 0.0, 0.0]]  [[0.0, 1.0, 0.0, 0.0]]   \n2       [[1.0, 0.0, 0.0, 0.0]]  [[1.0, 0.0, 0.0, 0.0]]   \n3       [[1.0, 0.0, 0.0, 0.0]]  [[1.0, 0.0, 0.0, 0.0]]   \n4       [[0.0, 1.0, 0.0, 0.0]]  [[0.0, 0.0, 1.0, 0.0]]   \n...                        ...                     ...   \n999995  [[1.0, 0.0, 0.0, 0.0]]  [[1.0, 0.0, 0.0, 0.0]]   \n999996  [[0.0, 0.0, 1.0, 0.0]]  [[1.0, 0.0, 0.0, 0.0]]   \n999997  [[1.0, 0.0, 0.0, 0.0]]  [[0.0, 0.0, 1.0, 0.0]]   \n999998  [[0.0, 0.0, 0.0, 1.0]]  [[0.0, 1.0, 0.0, 0.0]]   \n999999  [[0.0, 1.0, 0.0, 0.0]]  [[0.0, 0.0, 0.0, 1.0]]   \n\n                            27                      28  \\\n0       [[0.0, 1.0, 0.0, 0.0]]  [[0.0, 0.0, 0.0, 1.0]]   \n1       [[0.0, 0.0, 0.0, 1.0]]  [[0.0, 0.0, 1.0, 0.0]]   \n2       [[0.0, 0.0, 1.0, 0.0]]  [[0.0, 0.0, 1.0, 0.0]]   \n3       [[0.0, 0.0, 0.0, 1.0]]  [[1.0, 0.0, 0.0, 0.0]]   \n4       [[1.0, 0.0, 0.0, 0.0]]  [[1.0, 0.0, 0.0, 0.0]]   \n...                        ...                     ...   \n999995  [[0.0, 0.0, 0.0, 1.0]]  [[1.0, 0.0, 0.0, 0.0]]   \n999996  [[0.0, 1.0, 0.0, 0.0]]  [[0.0, 1.0, 0.0, 0.0]]   \n999997  [[0.0, 0.0, 0.0, 1.0]]  [[0.0, 1.0, 0.0, 0.0]]   \n999998  [[0.0, 1.0, 0.0, 0.0]]  [[0.0, 0.0, 1.0, 0.0]]   \n999999  [[0.0, 0.0, 0.0, 1.0]]  [[0.0, 0.0, 1.0, 0.0]]   \n\n                            29      free  \n0       [[0.0, 1.0, 0.0, 0.0]] -3.002072  \n1       [[0.0, 1.0, 0.0, 0.0]] -3.578137  \n2       [[0.0, 1.0, 0.0, 0.0]] -4.370569  \n3       [[1.0, 0.0, 0.0, 0.0]] -1.392860  \n4       [[1.0, 0.0, 0.0, 0.0]] -4.501841  \n...                        ...       ...  \n999995  [[0.0, 0.0, 1.0, 0.0]] -2.063522  \n999996  [[0.0, 0.0, 1.0, 0.0]] -3.866087  \n999997  [[0.0, 0.0, 1.0, 0.0]] -1.677556  \n999998  [[1.0, 0.0, 0.0, 0.0]] -4.132723  \n999999  [[0.0, 0.0, 0.0, 1.0]] -2.961270  \n\n[1000000 rows x 31 columns]",
      "text/html": "<div>\n<style scoped>\n    .dataframe tbody tr th:only-of-type {\n        vertical-align: middle;\n    }\n\n    .dataframe tbody tr th {\n        vertical-align: top;\n    }\n\n    .dataframe thead th {\n        text-align: right;\n    }\n</style>\n<table border=\"1\" class=\"dataframe\">\n  <thead>\n    <tr style=\"text-align: right;\">\n      <th></th>\n      <th>0</th>\n      <th>1</th>\n      <th>2</th>\n      <th>3</th>\n      <th>4</th>\n      <th>5</th>\n      <th>6</th>\n      <th>7</th>\n      <th>8</th>\n      <th>9</th>\n      <th>...</th>\n      <th>21</th>\n      <th>22</th>\n      <th>23</th>\n      <th>24</th>\n      <th>25</th>\n      <th>26</th>\n      <th>27</th>\n      <th>28</th>\n      <th>29</th>\n      <th>free</th>\n    </tr>\n  </thead>\n  <tbody>\n    <tr>\n      <th>0</th>\n      <td>[[1.0, 0.0, 0.0, 0.0]]</td>\n      <td>[[0.0, 0.0, 0.0, 1.0]]</td>\n      <td>[[0.0, 0.0, 0.0, 1.0]]</td>\n      <td>[[1.0, 0.0, 0.0, 0.0]]</td>\n      <td>[[0.0, 1.0, 0.0, 0.0]]</td>\n      <td>[[0.0, 0.0, 0.0, 1.0]]</td>\n      <td>[[0.0, 0.0, 0.0, 1.0]]</td>\n      <td>[[0.0, 0.0, 1.0, 0.0]]</td>\n      <td>[[0.0, 1.0, 0.0, 0.0]]</td>\n      <td>[[1.0, 0.0, 0.0, 0.0]]</td>\n      <td>...</td>\n      <td>[[0.0, 0.0, 1.0, 0.0]]</td>\n      <td>[[0.0, 0.0, 1.0, 0.0]]</td>\n      <td>[[0.0, 0.0, 0.0, 1.0]]</td>\n      <td>[[0.0, 1.0, 0.0, 0.0]]</td>\n      <td>[[0.0, 0.0, 1.0, 0.0]]</td>\n      <td>[[0.0, 0.0, 1.0, 0.0]]</td>\n      <td>[[0.0, 1.0, 0.0, 0.0]]</td>\n      <td>[[0.0, 0.0, 0.0, 1.0]]</td>\n      <td>[[0.0, 1.0, 0.0, 0.0]]</td>\n      <td>-3.002072</td>\n    </tr>\n    <tr>\n      <th>1</th>\n      <td>[[0.0, 0.0, 0.0, 1.0]]</td>\n      <td>[[0.0, 0.0, 0.0, 1.0]]</td>\n      <td>[[1.0, 0.0, 0.0, 0.0]]</td>\n      <td>[[1.0, 0.0, 0.0, 0.0]]</td>\n      <td>[[0.0, 1.0, 0.0, 0.0]]</td>\n      <td>[[0.0, 1.0, 0.0, 0.0]]</td>\n      <td>[[0.0, 1.0, 0.0, 0.0]]</td>\n      <td>[[0.0, 0.0, 1.0, 0.0]]</td>\n      <td>[[0.0, 0.0, 1.0, 0.0]]</td>\n      <td>[[0.0, 1.0, 0.0, 0.0]]</td>\n      <td>...</td>\n      <td>[[1.0, 0.0, 0.0, 0.0]]</td>\n      <td>[[0.0, 0.0, 0.0, 1.0]]</td>\n      <td>[[0.0, 0.0, 1.0, 0.0]]</td>\n      <td>[[1.0, 0.0, 0.0, 0.0]]</td>\n      <td>[[1.0, 0.0, 0.0, 0.0]]</td>\n      <td>[[0.0, 1.0, 0.0, 0.0]]</td>\n      <td>[[0.0, 0.0, 0.0, 1.0]]</td>\n      <td>[[0.0, 0.0, 1.0, 0.0]]</td>\n      <td>[[0.0, 1.0, 0.0, 0.0]]</td>\n      <td>-3.578137</td>\n    </tr>\n    <tr>\n      <th>2</th>\n      <td>[[1.0, 0.0, 0.0, 0.0]]</td>\n      <td>[[1.0, 0.0, 0.0, 0.0]]</td>\n      <td>[[0.0, 0.0, 0.0, 1.0]]</td>\n      <td>[[0.0, 1.0, 0.0, 0.0]]</td>\n      <td>[[0.0, 1.0, 0.0, 0.0]]</td>\n      <td>[[0.0, 0.0, 1.0, 0.0]]</td>\n      <td>[[0.0, 0.0, 0.0, 1.0]]</td>\n      <td>[[0.0, 0.0, 0.0, 1.0]]</td>\n      <td>[[0.0, 0.0, 0.0, 1.0]]</td>\n      <td>[[0.0, 1.0, 0.0, 0.0]]</td>\n      <td>...</td>\n      <td>[[0.0, 0.0, 1.0, 0.0]]</td>\n      <td>[[0.0, 0.0, 1.0, 0.0]]</td>\n      <td>[[0.0, 0.0, 0.0, 1.0]]</td>\n      <td>[[0.0, 1.0, 0.0, 0.0]]</td>\n      <td>[[1.0, 0.0, 0.0, 0.0]]</td>\n      <td>[[1.0, 0.0, 0.0, 0.0]]</td>\n      <td>[[0.0, 0.0, 1.0, 0.0]]</td>\n      <td>[[0.0, 0.0, 1.0, 0.0]]</td>\n      <td>[[0.0, 1.0, 0.0, 0.0]]</td>\n      <td>-4.370569</td>\n    </tr>\n    <tr>\n      <th>3</th>\n      <td>[[1.0, 0.0, 0.0, 0.0]]</td>\n      <td>[[0.0, 0.0, 1.0, 0.0]]</td>\n      <td>[[0.0, 0.0, 0.0, 1.0]]</td>\n      <td>[[0.0, 0.0, 0.0, 1.0]]</td>\n      <td>[[0.0, 1.0, 0.0, 0.0]]</td>\n      <td>[[0.0, 0.0, 0.0, 1.0]]</td>\n      <td>[[0.0, 0.0, 0.0, 1.0]]</td>\n      <td>[[0.0, 1.0, 0.0, 0.0]]</td>\n      <td>[[0.0, 0.0, 1.0, 0.0]]</td>\n      <td>[[0.0, 0.0, 0.0, 1.0]]</td>\n      <td>...</td>\n      <td>[[0.0, 1.0, 0.0, 0.0]]</td>\n      <td>[[0.0, 0.0, 0.0, 1.0]]</td>\n      <td>[[1.0, 0.0, 0.0, 0.0]]</td>\n      <td>[[0.0, 0.0, 0.0, 1.0]]</td>\n      <td>[[1.0, 0.0, 0.0, 0.0]]</td>\n      <td>[[1.0, 0.0, 0.0, 0.0]]</td>\n      <td>[[0.0, 0.0, 0.0, 1.0]]</td>\n      <td>[[1.0, 0.0, 0.0, 0.0]]</td>\n      <td>[[1.0, 0.0, 0.0, 0.0]]</td>\n      <td>-1.392860</td>\n    </tr>\n    <tr>\n      <th>4</th>\n      <td>[[0.0, 0.0, 1.0, 0.0]]</td>\n      <td>[[1.0, 0.0, 0.0, 0.0]]</td>\n      <td>[[0.0, 1.0, 0.0, 0.0]]</td>\n      <td>[[1.0, 0.0, 0.0, 0.0]]</td>\n      <td>[[0.0, 0.0, 0.0, 1.0]]</td>\n      <td>[[0.0, 0.0, 0.0, 1.0]]</td>\n      <td>[[0.0, 1.0, 0.0, 0.0]]</td>\n      <td>[[0.0, 0.0, 0.0, 1.0]]</td>\n      <td>[[0.0, 0.0, 0.0, 1.0]]</td>\n      <td>[[0.0, 0.0, 0.0, 1.0]]</td>\n      <td>...</td>\n      <td>[[1.0, 0.0, 0.0, 0.0]]</td>\n      <td>[[1.0, 0.0, 0.0, 0.0]]</td>\n      <td>[[0.0, 0.0, 1.0, 0.0]]</td>\n      <td>[[0.0, 0.0, 0.0, 1.0]]</td>\n      <td>[[0.0, 1.0, 0.0, 0.0]]</td>\n      <td>[[0.0, 0.0, 1.0, 0.0]]</td>\n      <td>[[1.0, 0.0, 0.0, 0.0]]</td>\n      <td>[[1.0, 0.0, 0.0, 0.0]]</td>\n      <td>[[1.0, 0.0, 0.0, 0.0]]</td>\n      <td>-4.501841</td>\n    </tr>\n    <tr>\n      <th>...</th>\n      <td>...</td>\n      <td>...</td>\n      <td>...</td>\n      <td>...</td>\n      <td>...</td>\n      <td>...</td>\n      <td>...</td>\n      <td>...</td>\n      <td>...</td>\n      <td>...</td>\n      <td>...</td>\n      <td>...</td>\n      <td>...</td>\n      <td>...</td>\n      <td>...</td>\n      <td>...</td>\n      <td>...</td>\n      <td>...</td>\n      <td>...</td>\n      <td>...</td>\n      <td>...</td>\n    </tr>\n    <tr>\n      <th>999995</th>\n      <td>[[0.0, 0.0, 0.0, 1.0]]</td>\n      <td>[[0.0, 0.0, 1.0, 0.0]]</td>\n      <td>[[1.0, 0.0, 0.0, 0.0]]</td>\n      <td>[[0.0, 1.0, 0.0, 0.0]]</td>\n      <td>[[0.0, 0.0, 1.0, 0.0]]</td>\n      <td>[[0.0, 1.0, 0.0, 0.0]]</td>\n      <td>[[0.0, 0.0, 1.0, 0.0]]</td>\n      <td>[[0.0, 0.0, 1.0, 0.0]]</td>\n      <td>[[0.0, 0.0, 0.0, 1.0]]</td>\n      <td>[[0.0, 0.0, 1.0, 0.0]]</td>\n      <td>...</td>\n      <td>[[1.0, 0.0, 0.0, 0.0]]</td>\n      <td>[[0.0, 0.0, 1.0, 0.0]]</td>\n      <td>[[1.0, 0.0, 0.0, 0.0]]</td>\n      <td>[[0.0, 1.0, 0.0, 0.0]]</td>\n      <td>[[1.0, 0.0, 0.0, 0.0]]</td>\n      <td>[[1.0, 0.0, 0.0, 0.0]]</td>\n      <td>[[0.0, 0.0, 0.0, 1.0]]</td>\n      <td>[[1.0, 0.0, 0.0, 0.0]]</td>\n      <td>[[0.0, 0.0, 1.0, 0.0]]</td>\n      <td>-2.063522</td>\n    </tr>\n    <tr>\n      <th>999996</th>\n      <td>[[1.0, 0.0, 0.0, 0.0]]</td>\n      <td>[[0.0, 1.0, 0.0, 0.0]]</td>\n      <td>[[1.0, 0.0, 0.0, 0.0]]</td>\n      <td>[[1.0, 0.0, 0.0, 0.0]]</td>\n      <td>[[0.0, 0.0, 0.0, 1.0]]</td>\n      <td>[[0.0, 0.0, 1.0, 0.0]]</td>\n      <td>[[0.0, 0.0, 1.0, 0.0]]</td>\n      <td>[[0.0, 0.0, 0.0, 1.0]]</td>\n      <td>[[0.0, 0.0, 0.0, 1.0]]</td>\n      <td>[[0.0, 1.0, 0.0, 0.0]]</td>\n      <td>...</td>\n      <td>[[1.0, 0.0, 0.0, 0.0]]</td>\n      <td>[[1.0, 0.0, 0.0, 0.0]]</td>\n      <td>[[1.0, 0.0, 0.0, 0.0]]</td>\n      <td>[[0.0, 0.0, 0.0, 1.0]]</td>\n      <td>[[0.0, 0.0, 1.0, 0.0]]</td>\n      <td>[[1.0, 0.0, 0.0, 0.0]]</td>\n      <td>[[0.0, 1.0, 0.0, 0.0]]</td>\n      <td>[[0.0, 1.0, 0.0, 0.0]]</td>\n      <td>[[0.0, 0.0, 1.0, 0.0]]</td>\n      <td>-3.866087</td>\n    </tr>\n    <tr>\n      <th>999997</th>\n      <td>[[0.0, 0.0, 1.0, 0.0]]</td>\n      <td>[[0.0, 1.0, 0.0, 0.0]]</td>\n      <td>[[0.0, 1.0, 0.0, 0.0]]</td>\n      <td>[[1.0, 0.0, 0.0, 0.0]]</td>\n      <td>[[1.0, 0.0, 0.0, 0.0]]</td>\n      <td>[[0.0, 0.0, 1.0, 0.0]]</td>\n      <td>[[1.0, 0.0, 0.0, 0.0]]</td>\n      <td>[[0.0, 0.0, 1.0, 0.0]]</td>\n      <td>[[0.0, 0.0, 0.0, 1.0]]</td>\n      <td>[[0.0, 0.0, 0.0, 1.0]]</td>\n      <td>...</td>\n      <td>[[0.0, 1.0, 0.0, 0.0]]</td>\n      <td>[[0.0, 1.0, 0.0, 0.0]]</td>\n      <td>[[0.0, 1.0, 0.0, 0.0]]</td>\n      <td>[[1.0, 0.0, 0.0, 0.0]]</td>\n      <td>[[1.0, 0.0, 0.0, 0.0]]</td>\n      <td>[[0.0, 0.0, 1.0, 0.0]]</td>\n      <td>[[0.0, 0.0, 0.0, 1.0]]</td>\n      <td>[[0.0, 1.0, 0.0, 0.0]]</td>\n      <td>[[0.0, 0.0, 1.0, 0.0]]</td>\n      <td>-1.677556</td>\n    </tr>\n    <tr>\n      <th>999998</th>\n      <td>[[0.0, 0.0, 1.0, 0.0]]</td>\n      <td>[[0.0, 1.0, 0.0, 0.0]]</td>\n      <td>[[0.0, 1.0, 0.0, 0.0]]</td>\n      <td>[[0.0, 0.0, 1.0, 0.0]]</td>\n      <td>[[0.0, 0.0, 1.0, 0.0]]</td>\n      <td>[[1.0, 0.0, 0.0, 0.0]]</td>\n      <td>[[0.0, 0.0, 1.0, 0.0]]</td>\n      <td>[[0.0, 1.0, 0.0, 0.0]]</td>\n      <td>[[1.0, 0.0, 0.0, 0.0]]</td>\n      <td>[[0.0, 0.0, 1.0, 0.0]]</td>\n      <td>...</td>\n      <td>[[0.0, 0.0, 0.0, 1.0]]</td>\n      <td>[[0.0, 1.0, 0.0, 0.0]]</td>\n      <td>[[0.0, 1.0, 0.0, 0.0]]</td>\n      <td>[[1.0, 0.0, 0.0, 0.0]]</td>\n      <td>[[0.0, 0.0, 0.0, 1.0]]</td>\n      <td>[[0.0, 1.0, 0.0, 0.0]]</td>\n      <td>[[0.0, 1.0, 0.0, 0.0]]</td>\n      <td>[[0.0, 0.0, 1.0, 0.0]]</td>\n      <td>[[1.0, 0.0, 0.0, 0.0]]</td>\n      <td>-4.132723</td>\n    </tr>\n    <tr>\n      <th>999999</th>\n      <td>[[0.0, 1.0, 0.0, 0.0]]</td>\n      <td>[[0.0, 0.0, 0.0, 1.0]]</td>\n      <td>[[0.0, 0.0, 0.0, 1.0]]</td>\n      <td>[[0.0, 0.0, 0.0, 1.0]]</td>\n      <td>[[1.0, 0.0, 0.0, 0.0]]</td>\n      <td>[[0.0, 0.0, 1.0, 0.0]]</td>\n      <td>[[0.0, 1.0, 0.0, 0.0]]</td>\n      <td>[[0.0, 0.0, 0.0, 1.0]]</td>\n      <td>[[0.0, 1.0, 0.0, 0.0]]</td>\n      <td>[[0.0, 1.0, 0.0, 0.0]]</td>\n      <td>...</td>\n      <td>[[0.0, 0.0, 0.0, 1.0]]</td>\n      <td>[[0.0, 0.0, 0.0, 1.0]]</td>\n      <td>[[0.0, 0.0, 0.0, 1.0]]</td>\n      <td>[[0.0, 0.0, 0.0, 1.0]]</td>\n      <td>[[0.0, 1.0, 0.0, 0.0]]</td>\n      <td>[[0.0, 0.0, 0.0, 1.0]]</td>\n      <td>[[0.0, 0.0, 0.0, 1.0]]</td>\n      <td>[[0.0, 0.0, 1.0, 0.0]]</td>\n      <td>[[0.0, 0.0, 0.0, 1.0]]</td>\n      <td>-2.961270</td>\n    </tr>\n  </tbody>\n</table>\n<p>1000000 rows × 31 columns</p>\n</div>"
     },
     "execution_count": 12,
     "metadata": {},
     "output_type": "execute_result"
    }
   ],
   "source": [
    "df_test = df_one_hot.copy()\n",
    "df_test['free']=df_clean['freeenergy']\n",
    "df_test"
   ]
  },
  {
   "cell_type": "code",
   "execution_count": 13,
   "outputs": [
    {
     "data": {
      "text/plain": "numpy.ndarray"
     },
     "execution_count": 13,
     "metadata": {},
     "output_type": "execute_result"
    }
   ],
   "source": [
    "type(df_test[0][0])"
   ],
   "metadata": {
    "collapsed": false
   }
  },
  {
   "cell_type": "code",
   "execution_count": 14,
   "outputs": [
    {
     "data": {
      "text/plain": "                          0                       1                       2  \\\n0    [[1.0, 0.0, 0.0, 0.0]]  [[0.0, 0.0, 0.0, 1.0]]  [[0.0, 0.0, 0.0, 1.0]]   \n1    [[0.0, 0.0, 0.0, 1.0]]  [[0.0, 0.0, 0.0, 1.0]]  [[1.0, 0.0, 0.0, 0.0]]   \n2    [[1.0, 0.0, 0.0, 0.0]]  [[1.0, 0.0, 0.0, 0.0]]  [[0.0, 0.0, 0.0, 1.0]]   \n3    [[1.0, 0.0, 0.0, 0.0]]  [[0.0, 0.0, 1.0, 0.0]]  [[0.0, 0.0, 0.0, 1.0]]   \n4    [[0.0, 0.0, 1.0, 0.0]]  [[1.0, 0.0, 0.0, 0.0]]  [[0.0, 1.0, 0.0, 0.0]]   \n..                      ...                     ...                     ...   \n995  [[0.0, 0.0, 0.0, 1.0]]  [[1.0, 0.0, 0.0, 0.0]]  [[0.0, 0.0, 0.0, 1.0]]   \n996  [[0.0, 0.0, 1.0, 0.0]]  [[0.0, 1.0, 0.0, 0.0]]  [[1.0, 0.0, 0.0, 0.0]]   \n997  [[0.0, 0.0, 1.0, 0.0]]  [[1.0, 0.0, 0.0, 0.0]]  [[0.0, 0.0, 0.0, 1.0]]   \n998  [[0.0, 1.0, 0.0, 0.0]]  [[0.0, 0.0, 1.0, 0.0]]  [[0.0, 0.0, 0.0, 1.0]]   \n999  [[0.0, 0.0, 1.0, 0.0]]  [[0.0, 1.0, 0.0, 0.0]]  [[1.0, 0.0, 0.0, 0.0]]   \n\n                          3                       4                       5  \\\n0    [[1.0, 0.0, 0.0, 0.0]]  [[0.0, 1.0, 0.0, 0.0]]  [[0.0, 0.0, 0.0, 1.0]]   \n1    [[1.0, 0.0, 0.0, 0.0]]  [[0.0, 1.0, 0.0, 0.0]]  [[0.0, 1.0, 0.0, 0.0]]   \n2    [[0.0, 1.0, 0.0, 0.0]]  [[0.0, 1.0, 0.0, 0.0]]  [[0.0, 0.0, 1.0, 0.0]]   \n3    [[0.0, 0.0, 0.0, 1.0]]  [[0.0, 1.0, 0.0, 0.0]]  [[0.0, 0.0, 0.0, 1.0]]   \n4    [[1.0, 0.0, 0.0, 0.0]]  [[0.0, 0.0, 0.0, 1.0]]  [[0.0, 0.0, 0.0, 1.0]]   \n..                      ...                     ...                     ...   \n995  [[0.0, 1.0, 0.0, 0.0]]  [[0.0, 0.0, 0.0, 1.0]]  [[0.0, 0.0, 1.0, 0.0]]   \n996  [[0.0, 1.0, 0.0, 0.0]]  [[0.0, 1.0, 0.0, 0.0]]  [[0.0, 0.0, 0.0, 1.0]]   \n997  [[0.0, 0.0, 0.0, 1.0]]  [[0.0, 0.0, 0.0, 1.0]]  [[0.0, 0.0, 0.0, 1.0]]   \n998  [[0.0, 0.0, 1.0, 0.0]]  [[1.0, 0.0, 0.0, 0.0]]  [[1.0, 0.0, 0.0, 0.0]]   \n999  [[0.0, 0.0, 1.0, 0.0]]  [[1.0, 0.0, 0.0, 0.0]]  [[0.0, 0.0, 1.0, 0.0]]   \n\n                          6                       7                       8  \\\n0    [[0.0, 0.0, 0.0, 1.0]]  [[0.0, 0.0, 1.0, 0.0]]  [[0.0, 1.0, 0.0, 0.0]]   \n1    [[0.0, 1.0, 0.0, 0.0]]  [[0.0, 0.0, 1.0, 0.0]]  [[0.0, 0.0, 1.0, 0.0]]   \n2    [[0.0, 0.0, 0.0, 1.0]]  [[0.0, 0.0, 0.0, 1.0]]  [[0.0, 0.0, 0.0, 1.0]]   \n3    [[0.0, 0.0, 0.0, 1.0]]  [[0.0, 1.0, 0.0, 0.0]]  [[0.0, 0.0, 1.0, 0.0]]   \n4    [[0.0, 1.0, 0.0, 0.0]]  [[0.0, 0.0, 0.0, 1.0]]  [[0.0, 0.0, 0.0, 1.0]]   \n..                      ...                     ...                     ...   \n995  [[0.0, 1.0, 0.0, 0.0]]  [[0.0, 0.0, 1.0, 0.0]]  [[0.0, 0.0, 1.0, 0.0]]   \n996  [[0.0, 0.0, 0.0, 1.0]]  [[0.0, 0.0, 1.0, 0.0]]  [[1.0, 0.0, 0.0, 0.0]]   \n997  [[0.0, 1.0, 0.0, 0.0]]  [[1.0, 0.0, 0.0, 0.0]]  [[0.0, 1.0, 0.0, 0.0]]   \n998  [[0.0, 1.0, 0.0, 0.0]]  [[0.0, 0.0, 0.0, 1.0]]  [[0.0, 0.0, 1.0, 0.0]]   \n999  [[0.0, 1.0, 0.0, 0.0]]  [[0.0, 0.0, 1.0, 0.0]]  [[1.0, 0.0, 0.0, 0.0]]   \n\n                          9  ...                      21  \\\n0    [[1.0, 0.0, 0.0, 0.0]]  ...  [[0.0, 0.0, 1.0, 0.0]]   \n1    [[0.0, 1.0, 0.0, 0.0]]  ...  [[1.0, 0.0, 0.0, 0.0]]   \n2    [[0.0, 1.0, 0.0, 0.0]]  ...  [[0.0, 0.0, 1.0, 0.0]]   \n3    [[0.0, 0.0, 0.0, 1.0]]  ...  [[0.0, 1.0, 0.0, 0.0]]   \n4    [[0.0, 0.0, 0.0, 1.0]]  ...  [[1.0, 0.0, 0.0, 0.0]]   \n..                      ...  ...                     ...   \n995  [[0.0, 0.0, 0.0, 1.0]]  ...  [[0.0, 0.0, 1.0, 0.0]]   \n996  [[0.0, 0.0, 1.0, 0.0]]  ...  [[0.0, 1.0, 0.0, 0.0]]   \n997  [[0.0, 0.0, 1.0, 0.0]]  ...  [[1.0, 0.0, 0.0, 0.0]]   \n998  [[0.0, 1.0, 0.0, 0.0]]  ...  [[0.0, 0.0, 0.0, 1.0]]   \n999  [[1.0, 0.0, 0.0, 0.0]]  ...  [[1.0, 0.0, 0.0, 0.0]]   \n\n                         22                      23                      24  \\\n0    [[0.0, 0.0, 1.0, 0.0]]  [[0.0, 0.0, 0.0, 1.0]]  [[0.0, 1.0, 0.0, 0.0]]   \n1    [[0.0, 0.0, 0.0, 1.0]]  [[0.0, 0.0, 1.0, 0.0]]  [[1.0, 0.0, 0.0, 0.0]]   \n2    [[0.0, 0.0, 1.0, 0.0]]  [[0.0, 0.0, 0.0, 1.0]]  [[0.0, 1.0, 0.0, 0.0]]   \n3    [[0.0, 0.0, 0.0, 1.0]]  [[1.0, 0.0, 0.0, 0.0]]  [[0.0, 0.0, 0.0, 1.0]]   \n4    [[1.0, 0.0, 0.0, 0.0]]  [[0.0, 0.0, 1.0, 0.0]]  [[0.0, 0.0, 0.0, 1.0]]   \n..                      ...                     ...                     ...   \n995  [[0.0, 0.0, 1.0, 0.0]]  [[0.0, 0.0, 1.0, 0.0]]  [[0.0, 0.0, 0.0, 1.0]]   \n996  [[1.0, 0.0, 0.0, 0.0]]  [[0.0, 0.0, 0.0, 1.0]]  [[0.0, 1.0, 0.0, 0.0]]   \n997  [[0.0, 0.0, 0.0, 1.0]]  [[0.0, 1.0, 0.0, 0.0]]  [[0.0, 1.0, 0.0, 0.0]]   \n998  [[0.0, 0.0, 1.0, 0.0]]  [[0.0, 0.0, 0.0, 1.0]]  [[1.0, 0.0, 0.0, 0.0]]   \n999  [[0.0, 0.0, 1.0, 0.0]]  [[0.0, 0.0, 1.0, 0.0]]  [[0.0, 0.0, 1.0, 0.0]]   \n\n                         25                      26                      27  \\\n0    [[0.0, 0.0, 1.0, 0.0]]  [[0.0, 0.0, 1.0, 0.0]]  [[0.0, 1.0, 0.0, 0.0]]   \n1    [[1.0, 0.0, 0.0, 0.0]]  [[0.0, 1.0, 0.0, 0.0]]  [[0.0, 0.0, 0.0, 1.0]]   \n2    [[1.0, 0.0, 0.0, 0.0]]  [[1.0, 0.0, 0.0, 0.0]]  [[0.0, 0.0, 1.0, 0.0]]   \n3    [[1.0, 0.0, 0.0, 0.0]]  [[1.0, 0.0, 0.0, 0.0]]  [[0.0, 0.0, 0.0, 1.0]]   \n4    [[0.0, 1.0, 0.0, 0.0]]  [[0.0, 0.0, 1.0, 0.0]]  [[1.0, 0.0, 0.0, 0.0]]   \n..                      ...                     ...                     ...   \n995  [[0.0, 1.0, 0.0, 0.0]]  [[0.0, 0.0, 1.0, 0.0]]  [[0.0, 0.0, 1.0, 0.0]]   \n996  [[0.0, 1.0, 0.0, 0.0]]  [[0.0, 0.0, 0.0, 1.0]]  [[1.0, 0.0, 0.0, 0.0]]   \n997  [[0.0, 0.0, 1.0, 0.0]]  [[0.0, 0.0, 1.0, 0.0]]  [[0.0, 1.0, 0.0, 0.0]]   \n998  [[1.0, 0.0, 0.0, 0.0]]  [[0.0, 0.0, 0.0, 1.0]]  [[0.0, 0.0, 0.0, 1.0]]   \n999  [[0.0, 1.0, 0.0, 0.0]]  [[0.0, 0.0, 1.0, 0.0]]  [[0.0, 0.0, 1.0, 0.0]]   \n\n                         28                      29      free  \n0    [[0.0, 0.0, 0.0, 1.0]]  [[0.0, 1.0, 0.0, 0.0]] -3.002072  \n1    [[0.0, 0.0, 1.0, 0.0]]  [[0.0, 1.0, 0.0, 0.0]] -3.578137  \n2    [[0.0, 0.0, 1.0, 0.0]]  [[0.0, 1.0, 0.0, 0.0]] -4.370569  \n3    [[1.0, 0.0, 0.0, 0.0]]  [[1.0, 0.0, 0.0, 0.0]] -1.392860  \n4    [[1.0, 0.0, 0.0, 0.0]]  [[1.0, 0.0, 0.0, 0.0]] -4.501841  \n..                      ...                     ...       ...  \n995  [[0.0, 0.0, 0.0, 1.0]]  [[1.0, 0.0, 0.0, 0.0]] -3.008021  \n996  [[0.0, 0.0, 0.0, 1.0]]  [[0.0, 0.0, 0.0, 1.0]] -3.414629  \n997  [[0.0, 1.0, 0.0, 0.0]]  [[1.0, 0.0, 0.0, 0.0]] -3.128622  \n998  [[0.0, 0.0, 0.0, 1.0]]  [[1.0, 0.0, 0.0, 0.0]] -1.912724  \n999  [[1.0, 0.0, 0.0, 0.0]]  [[1.0, 0.0, 0.0, 0.0]] -3.398811  \n\n[1000 rows x 31 columns]",
      "text/html": "<div>\n<style scoped>\n    .dataframe tbody tr th:only-of-type {\n        vertical-align: middle;\n    }\n\n    .dataframe tbody tr th {\n        vertical-align: top;\n    }\n\n    .dataframe thead th {\n        text-align: right;\n    }\n</style>\n<table border=\"1\" class=\"dataframe\">\n  <thead>\n    <tr style=\"text-align: right;\">\n      <th></th>\n      <th>0</th>\n      <th>1</th>\n      <th>2</th>\n      <th>3</th>\n      <th>4</th>\n      <th>5</th>\n      <th>6</th>\n      <th>7</th>\n      <th>8</th>\n      <th>9</th>\n      <th>...</th>\n      <th>21</th>\n      <th>22</th>\n      <th>23</th>\n      <th>24</th>\n      <th>25</th>\n      <th>26</th>\n      <th>27</th>\n      <th>28</th>\n      <th>29</th>\n      <th>free</th>\n    </tr>\n  </thead>\n  <tbody>\n    <tr>\n      <th>0</th>\n      <td>[[1.0, 0.0, 0.0, 0.0]]</td>\n      <td>[[0.0, 0.0, 0.0, 1.0]]</td>\n      <td>[[0.0, 0.0, 0.0, 1.0]]</td>\n      <td>[[1.0, 0.0, 0.0, 0.0]]</td>\n      <td>[[0.0, 1.0, 0.0, 0.0]]</td>\n      <td>[[0.0, 0.0, 0.0, 1.0]]</td>\n      <td>[[0.0, 0.0, 0.0, 1.0]]</td>\n      <td>[[0.0, 0.0, 1.0, 0.0]]</td>\n      <td>[[0.0, 1.0, 0.0, 0.0]]</td>\n      <td>[[1.0, 0.0, 0.0, 0.0]]</td>\n      <td>...</td>\n      <td>[[0.0, 0.0, 1.0, 0.0]]</td>\n      <td>[[0.0, 0.0, 1.0, 0.0]]</td>\n      <td>[[0.0, 0.0, 0.0, 1.0]]</td>\n      <td>[[0.0, 1.0, 0.0, 0.0]]</td>\n      <td>[[0.0, 0.0, 1.0, 0.0]]</td>\n      <td>[[0.0, 0.0, 1.0, 0.0]]</td>\n      <td>[[0.0, 1.0, 0.0, 0.0]]</td>\n      <td>[[0.0, 0.0, 0.0, 1.0]]</td>\n      <td>[[0.0, 1.0, 0.0, 0.0]]</td>\n      <td>-3.002072</td>\n    </tr>\n    <tr>\n      <th>1</th>\n      <td>[[0.0, 0.0, 0.0, 1.0]]</td>\n      <td>[[0.0, 0.0, 0.0, 1.0]]</td>\n      <td>[[1.0, 0.0, 0.0, 0.0]]</td>\n      <td>[[1.0, 0.0, 0.0, 0.0]]</td>\n      <td>[[0.0, 1.0, 0.0, 0.0]]</td>\n      <td>[[0.0, 1.0, 0.0, 0.0]]</td>\n      <td>[[0.0, 1.0, 0.0, 0.0]]</td>\n      <td>[[0.0, 0.0, 1.0, 0.0]]</td>\n      <td>[[0.0, 0.0, 1.0, 0.0]]</td>\n      <td>[[0.0, 1.0, 0.0, 0.0]]</td>\n      <td>...</td>\n      <td>[[1.0, 0.0, 0.0, 0.0]]</td>\n      <td>[[0.0, 0.0, 0.0, 1.0]]</td>\n      <td>[[0.0, 0.0, 1.0, 0.0]]</td>\n      <td>[[1.0, 0.0, 0.0, 0.0]]</td>\n      <td>[[1.0, 0.0, 0.0, 0.0]]</td>\n      <td>[[0.0, 1.0, 0.0, 0.0]]</td>\n      <td>[[0.0, 0.0, 0.0, 1.0]]</td>\n      <td>[[0.0, 0.0, 1.0, 0.0]]</td>\n      <td>[[0.0, 1.0, 0.0, 0.0]]</td>\n      <td>-3.578137</td>\n    </tr>\n    <tr>\n      <th>2</th>\n      <td>[[1.0, 0.0, 0.0, 0.0]]</td>\n      <td>[[1.0, 0.0, 0.0, 0.0]]</td>\n      <td>[[0.0, 0.0, 0.0, 1.0]]</td>\n      <td>[[0.0, 1.0, 0.0, 0.0]]</td>\n      <td>[[0.0, 1.0, 0.0, 0.0]]</td>\n      <td>[[0.0, 0.0, 1.0, 0.0]]</td>\n      <td>[[0.0, 0.0, 0.0, 1.0]]</td>\n      <td>[[0.0, 0.0, 0.0, 1.0]]</td>\n      <td>[[0.0, 0.0, 0.0, 1.0]]</td>\n      <td>[[0.0, 1.0, 0.0, 0.0]]</td>\n      <td>...</td>\n      <td>[[0.0, 0.0, 1.0, 0.0]]</td>\n      <td>[[0.0, 0.0, 1.0, 0.0]]</td>\n      <td>[[0.0, 0.0, 0.0, 1.0]]</td>\n      <td>[[0.0, 1.0, 0.0, 0.0]]</td>\n      <td>[[1.0, 0.0, 0.0, 0.0]]</td>\n      <td>[[1.0, 0.0, 0.0, 0.0]]</td>\n      <td>[[0.0, 0.0, 1.0, 0.0]]</td>\n      <td>[[0.0, 0.0, 1.0, 0.0]]</td>\n      <td>[[0.0, 1.0, 0.0, 0.0]]</td>\n      <td>-4.370569</td>\n    </tr>\n    <tr>\n      <th>3</th>\n      <td>[[1.0, 0.0, 0.0, 0.0]]</td>\n      <td>[[0.0, 0.0, 1.0, 0.0]]</td>\n      <td>[[0.0, 0.0, 0.0, 1.0]]</td>\n      <td>[[0.0, 0.0, 0.0, 1.0]]</td>\n      <td>[[0.0, 1.0, 0.0, 0.0]]</td>\n      <td>[[0.0, 0.0, 0.0, 1.0]]</td>\n      <td>[[0.0, 0.0, 0.0, 1.0]]</td>\n      <td>[[0.0, 1.0, 0.0, 0.0]]</td>\n      <td>[[0.0, 0.0, 1.0, 0.0]]</td>\n      <td>[[0.0, 0.0, 0.0, 1.0]]</td>\n      <td>...</td>\n      <td>[[0.0, 1.0, 0.0, 0.0]]</td>\n      <td>[[0.0, 0.0, 0.0, 1.0]]</td>\n      <td>[[1.0, 0.0, 0.0, 0.0]]</td>\n      <td>[[0.0, 0.0, 0.0, 1.0]]</td>\n      <td>[[1.0, 0.0, 0.0, 0.0]]</td>\n      <td>[[1.0, 0.0, 0.0, 0.0]]</td>\n      <td>[[0.0, 0.0, 0.0, 1.0]]</td>\n      <td>[[1.0, 0.0, 0.0, 0.0]]</td>\n      <td>[[1.0, 0.0, 0.0, 0.0]]</td>\n      <td>-1.392860</td>\n    </tr>\n    <tr>\n      <th>4</th>\n      <td>[[0.0, 0.0, 1.0, 0.0]]</td>\n      <td>[[1.0, 0.0, 0.0, 0.0]]</td>\n      <td>[[0.0, 1.0, 0.0, 0.0]]</td>\n      <td>[[1.0, 0.0, 0.0, 0.0]]</td>\n      <td>[[0.0, 0.0, 0.0, 1.0]]</td>\n      <td>[[0.0, 0.0, 0.0, 1.0]]</td>\n      <td>[[0.0, 1.0, 0.0, 0.0]]</td>\n      <td>[[0.0, 0.0, 0.0, 1.0]]</td>\n      <td>[[0.0, 0.0, 0.0, 1.0]]</td>\n      <td>[[0.0, 0.0, 0.0, 1.0]]</td>\n      <td>...</td>\n      <td>[[1.0, 0.0, 0.0, 0.0]]</td>\n      <td>[[1.0, 0.0, 0.0, 0.0]]</td>\n      <td>[[0.0, 0.0, 1.0, 0.0]]</td>\n      <td>[[0.0, 0.0, 0.0, 1.0]]</td>\n      <td>[[0.0, 1.0, 0.0, 0.0]]</td>\n      <td>[[0.0, 0.0, 1.0, 0.0]]</td>\n      <td>[[1.0, 0.0, 0.0, 0.0]]</td>\n      <td>[[1.0, 0.0, 0.0, 0.0]]</td>\n      <td>[[1.0, 0.0, 0.0, 0.0]]</td>\n      <td>-4.501841</td>\n    </tr>\n    <tr>\n      <th>...</th>\n      <td>...</td>\n      <td>...</td>\n      <td>...</td>\n      <td>...</td>\n      <td>...</td>\n      <td>...</td>\n      <td>...</td>\n      <td>...</td>\n      <td>...</td>\n      <td>...</td>\n      <td>...</td>\n      <td>...</td>\n      <td>...</td>\n      <td>...</td>\n      <td>...</td>\n      <td>...</td>\n      <td>...</td>\n      <td>...</td>\n      <td>...</td>\n      <td>...</td>\n      <td>...</td>\n    </tr>\n    <tr>\n      <th>995</th>\n      <td>[[0.0, 0.0, 0.0, 1.0]]</td>\n      <td>[[1.0, 0.0, 0.0, 0.0]]</td>\n      <td>[[0.0, 0.0, 0.0, 1.0]]</td>\n      <td>[[0.0, 1.0, 0.0, 0.0]]</td>\n      <td>[[0.0, 0.0, 0.0, 1.0]]</td>\n      <td>[[0.0, 0.0, 1.0, 0.0]]</td>\n      <td>[[0.0, 1.0, 0.0, 0.0]]</td>\n      <td>[[0.0, 0.0, 1.0, 0.0]]</td>\n      <td>[[0.0, 0.0, 1.0, 0.0]]</td>\n      <td>[[0.0, 0.0, 0.0, 1.0]]</td>\n      <td>...</td>\n      <td>[[0.0, 0.0, 1.0, 0.0]]</td>\n      <td>[[0.0, 0.0, 1.0, 0.0]]</td>\n      <td>[[0.0, 0.0, 1.0, 0.0]]</td>\n      <td>[[0.0, 0.0, 0.0, 1.0]]</td>\n      <td>[[0.0, 1.0, 0.0, 0.0]]</td>\n      <td>[[0.0, 0.0, 1.0, 0.0]]</td>\n      <td>[[0.0, 0.0, 1.0, 0.0]]</td>\n      <td>[[0.0, 0.0, 0.0, 1.0]]</td>\n      <td>[[1.0, 0.0, 0.0, 0.0]]</td>\n      <td>-3.008021</td>\n    </tr>\n    <tr>\n      <th>996</th>\n      <td>[[0.0, 0.0, 1.0, 0.0]]</td>\n      <td>[[0.0, 1.0, 0.0, 0.0]]</td>\n      <td>[[1.0, 0.0, 0.0, 0.0]]</td>\n      <td>[[0.0, 1.0, 0.0, 0.0]]</td>\n      <td>[[0.0, 1.0, 0.0, 0.0]]</td>\n      <td>[[0.0, 0.0, 0.0, 1.0]]</td>\n      <td>[[0.0, 0.0, 0.0, 1.0]]</td>\n      <td>[[0.0, 0.0, 1.0, 0.0]]</td>\n      <td>[[1.0, 0.0, 0.0, 0.0]]</td>\n      <td>[[0.0, 0.0, 1.0, 0.0]]</td>\n      <td>...</td>\n      <td>[[0.0, 1.0, 0.0, 0.0]]</td>\n      <td>[[1.0, 0.0, 0.0, 0.0]]</td>\n      <td>[[0.0, 0.0, 0.0, 1.0]]</td>\n      <td>[[0.0, 1.0, 0.0, 0.0]]</td>\n      <td>[[0.0, 1.0, 0.0, 0.0]]</td>\n      <td>[[0.0, 0.0, 0.0, 1.0]]</td>\n      <td>[[1.0, 0.0, 0.0, 0.0]]</td>\n      <td>[[0.0, 0.0, 0.0, 1.0]]</td>\n      <td>[[0.0, 0.0, 0.0, 1.0]]</td>\n      <td>-3.414629</td>\n    </tr>\n    <tr>\n      <th>997</th>\n      <td>[[0.0, 0.0, 1.0, 0.0]]</td>\n      <td>[[1.0, 0.0, 0.0, 0.0]]</td>\n      <td>[[0.0, 0.0, 0.0, 1.0]]</td>\n      <td>[[0.0, 0.0, 0.0, 1.0]]</td>\n      <td>[[0.0, 0.0, 0.0, 1.0]]</td>\n      <td>[[0.0, 0.0, 0.0, 1.0]]</td>\n      <td>[[0.0, 1.0, 0.0, 0.0]]</td>\n      <td>[[1.0, 0.0, 0.0, 0.0]]</td>\n      <td>[[0.0, 1.0, 0.0, 0.0]]</td>\n      <td>[[0.0, 0.0, 1.0, 0.0]]</td>\n      <td>...</td>\n      <td>[[1.0, 0.0, 0.0, 0.0]]</td>\n      <td>[[0.0, 0.0, 0.0, 1.0]]</td>\n      <td>[[0.0, 1.0, 0.0, 0.0]]</td>\n      <td>[[0.0, 1.0, 0.0, 0.0]]</td>\n      <td>[[0.0, 0.0, 1.0, 0.0]]</td>\n      <td>[[0.0, 0.0, 1.0, 0.0]]</td>\n      <td>[[0.0, 1.0, 0.0, 0.0]]</td>\n      <td>[[0.0, 1.0, 0.0, 0.0]]</td>\n      <td>[[1.0, 0.0, 0.0, 0.0]]</td>\n      <td>-3.128622</td>\n    </tr>\n    <tr>\n      <th>998</th>\n      <td>[[0.0, 1.0, 0.0, 0.0]]</td>\n      <td>[[0.0, 0.0, 1.0, 0.0]]</td>\n      <td>[[0.0, 0.0, 0.0, 1.0]]</td>\n      <td>[[0.0, 0.0, 1.0, 0.0]]</td>\n      <td>[[1.0, 0.0, 0.0, 0.0]]</td>\n      <td>[[1.0, 0.0, 0.0, 0.0]]</td>\n      <td>[[0.0, 1.0, 0.0, 0.0]]</td>\n      <td>[[0.0, 0.0, 0.0, 1.0]]</td>\n      <td>[[0.0, 0.0, 1.0, 0.0]]</td>\n      <td>[[0.0, 1.0, 0.0, 0.0]]</td>\n      <td>...</td>\n      <td>[[0.0, 0.0, 0.0, 1.0]]</td>\n      <td>[[0.0, 0.0, 1.0, 0.0]]</td>\n      <td>[[0.0, 0.0, 0.0, 1.0]]</td>\n      <td>[[1.0, 0.0, 0.0, 0.0]]</td>\n      <td>[[1.0, 0.0, 0.0, 0.0]]</td>\n      <td>[[0.0, 0.0, 0.0, 1.0]]</td>\n      <td>[[0.0, 0.0, 0.0, 1.0]]</td>\n      <td>[[0.0, 0.0, 0.0, 1.0]]</td>\n      <td>[[1.0, 0.0, 0.0, 0.0]]</td>\n      <td>-1.912724</td>\n    </tr>\n    <tr>\n      <th>999</th>\n      <td>[[0.0, 0.0, 1.0, 0.0]]</td>\n      <td>[[0.0, 1.0, 0.0, 0.0]]</td>\n      <td>[[1.0, 0.0, 0.0, 0.0]]</td>\n      <td>[[0.0, 0.0, 1.0, 0.0]]</td>\n      <td>[[1.0, 0.0, 0.0, 0.0]]</td>\n      <td>[[0.0, 0.0, 1.0, 0.0]]</td>\n      <td>[[0.0, 1.0, 0.0, 0.0]]</td>\n      <td>[[0.0, 0.0, 1.0, 0.0]]</td>\n      <td>[[1.0, 0.0, 0.0, 0.0]]</td>\n      <td>[[1.0, 0.0, 0.0, 0.0]]</td>\n      <td>...</td>\n      <td>[[1.0, 0.0, 0.0, 0.0]]</td>\n      <td>[[0.0, 0.0, 1.0, 0.0]]</td>\n      <td>[[0.0, 0.0, 1.0, 0.0]]</td>\n      <td>[[0.0, 0.0, 1.0, 0.0]]</td>\n      <td>[[0.0, 1.0, 0.0, 0.0]]</td>\n      <td>[[0.0, 0.0, 1.0, 0.0]]</td>\n      <td>[[0.0, 0.0, 1.0, 0.0]]</td>\n      <td>[[1.0, 0.0, 0.0, 0.0]]</td>\n      <td>[[1.0, 0.0, 0.0, 0.0]]</td>\n      <td>-3.398811</td>\n    </tr>\n  </tbody>\n</table>\n<p>1000 rows × 31 columns</p>\n</div>"
     },
     "execution_count": 14,
     "metadata": {},
     "output_type": "execute_result"
    }
   ],
   "source": [
    "df_trial = df_test.iloc[:1000,:]\n",
    "df_trial"
   ],
   "metadata": {
    "collapsed": false
   }
  },
  {
   "cell_type": "code",
   "execution_count": 15,
   "outputs": [
    {
     "data": {
      "text/plain": "numpy.ndarray"
     },
     "execution_count": 15,
     "metadata": {},
     "output_type": "execute_result"
    }
   ],
   "source": [
    "type(df_trial[0][0])"
   ],
   "metadata": {
    "collapsed": false
   }
  },
  {
   "cell_type": "code",
   "execution_count": 16,
   "metadata": {
    "collapsed": false
   },
   "outputs": [],
   "source": [
    "#df_trial.to_csv('data/df_trial.csv')"
   ]
  },
  {
   "cell_type": "markdown",
   "source": [
    "# Set up"
   ],
   "metadata": {
    "collapsed": false
   }
  },
  {
   "cell_type": "code",
   "execution_count": 17,
   "outputs": [],
   "source": [
    "#df_trial = pd.read_csv('data/df_trial.csv')\n",
    "#df_trial"
   ],
   "metadata": {
    "collapsed": false
   }
  },
  {
   "cell_type": "code",
   "execution_count": 18,
   "outputs": [
    {
     "data": {
      "text/plain": "<AxesSubplot: xlabel='free', ylabel='Count'>"
     },
     "execution_count": 18,
     "metadata": {},
     "output_type": "execute_result"
    },
    {
     "data": {
      "text/plain": "<Figure size 640x480 with 1 Axes>",
      "image/png": "[encoded data removed]"
     },
     "metadata": {},
     "output_type": "display_data"
    }
   ],
   "source": [
    "sns.histplot(data=df_trial, x='free')"
   ],
   "metadata": {
    "collapsed": false
   }
  },
  {
   "cell_type": "code",
   "execution_count": 19,
   "outputs": [],
   "source": [
    "free_mean = df_trial['free'].mean()\n",
    "free_std = df_trial['free'].std()\n",
    "\n",
    "df_std = df_trial.copy()"
   ],
   "metadata": {
    "collapsed": false
   }
  },
  {
   "cell_type": "code",
   "execution_count": 20,
   "outputs": [
    {
     "data": {
      "text/plain": "                          0                       1                       2  \\\n0    [[1.0, 0.0, 0.0, 0.0]]  [[0.0, 0.0, 0.0, 1.0]]  [[0.0, 0.0, 0.0, 1.0]]   \n1    [[0.0, 0.0, 0.0, 1.0]]  [[0.0, 0.0, 0.0, 1.0]]  [[1.0, 0.0, 0.0, 0.0]]   \n2    [[1.0, 0.0, 0.0, 0.0]]  [[1.0, 0.0, 0.0, 0.0]]  [[0.0, 0.0, 0.0, 1.0]]   \n3    [[1.0, 0.0, 0.0, 0.0]]  [[0.0, 0.0, 1.0, 0.0]]  [[0.0, 0.0, 0.0, 1.0]]   \n4    [[0.0, 0.0, 1.0, 0.0]]  [[1.0, 0.0, 0.0, 0.0]]  [[0.0, 1.0, 0.0, 0.0]]   \n..                      ...                     ...                     ...   \n995  [[0.0, 0.0, 0.0, 1.0]]  [[1.0, 0.0, 0.0, 0.0]]  [[0.0, 0.0, 0.0, 1.0]]   \n996  [[0.0, 0.0, 1.0, 0.0]]  [[0.0, 1.0, 0.0, 0.0]]  [[1.0, 0.0, 0.0, 0.0]]   \n997  [[0.0, 0.0, 1.0, 0.0]]  [[1.0, 0.0, 0.0, 0.0]]  [[0.0, 0.0, 0.0, 1.0]]   \n998  [[0.0, 1.0, 0.0, 0.0]]  [[0.0, 0.0, 1.0, 0.0]]  [[0.0, 0.0, 0.0, 1.0]]   \n999  [[0.0, 0.0, 1.0, 0.0]]  [[0.0, 1.0, 0.0, 0.0]]  [[1.0, 0.0, 0.0, 0.0]]   \n\n                          3                       4                       5  \\\n0    [[1.0, 0.0, 0.0, 0.0]]  [[0.0, 1.0, 0.0, 0.0]]  [[0.0, 0.0, 0.0, 1.0]]   \n1    [[1.0, 0.0, 0.0, 0.0]]  [[0.0, 1.0, 0.0, 0.0]]  [[0.0, 1.0, 0.0, 0.0]]   \n2    [[0.0, 1.0, 0.0, 0.0]]  [[0.0, 1.0, 0.0, 0.0]]  [[0.0, 0.0, 1.0, 0.0]]   \n3    [[0.0, 0.0, 0.0, 1.0]]  [[0.0, 1.0, 0.0, 0.0]]  [[0.0, 0.0, 0.0, 1.0]]   \n4    [[1.0, 0.0, 0.0, 0.0]]  [[0.0, 0.0, 0.0, 1.0]]  [[0.0, 0.0, 0.0, 1.0]]   \n..                      ...                     ...                     ...   \n995  [[0.0, 1.0, 0.0, 0.0]]  [[0.0, 0.0, 0.0, 1.0]]  [[0.0, 0.0, 1.0, 0.0]]   \n996  [[0.0, 1.0, 0.0, 0.0]]  [[0.0, 1.0, 0.0, 0.0]]  [[0.0, 0.0, 0.0, 1.0]]   \n997  [[0.0, 0.0, 0.0, 1.0]]  [[0.0, 0.0, 0.0, 1.0]]  [[0.0, 0.0, 0.0, 1.0]]   \n998  [[0.0, 0.0, 1.0, 0.0]]  [[1.0, 0.0, 0.0, 0.0]]  [[1.0, 0.0, 0.0, 0.0]]   \n999  [[0.0, 0.0, 1.0, 0.0]]  [[1.0, 0.0, 0.0, 0.0]]  [[0.0, 0.0, 1.0, 0.0]]   \n\n                          6                       7                       8  \\\n0    [[0.0, 0.0, 0.0, 1.0]]  [[0.0, 0.0, 1.0, 0.0]]  [[0.0, 1.0, 0.0, 0.0]]   \n1    [[0.0, 1.0, 0.0, 0.0]]  [[0.0, 0.0, 1.0, 0.0]]  [[0.0, 0.0, 1.0, 0.0]]   \n2    [[0.0, 0.0, 0.0, 1.0]]  [[0.0, 0.0, 0.0, 1.0]]  [[0.0, 0.0, 0.0, 1.0]]   \n3    [[0.0, 0.0, 0.0, 1.0]]  [[0.0, 1.0, 0.0, 0.0]]  [[0.0, 0.0, 1.0, 0.0]]   \n4    [[0.0, 1.0, 0.0, 0.0]]  [[0.0, 0.0, 0.0, 1.0]]  [[0.0, 0.0, 0.0, 1.0]]   \n..                      ...                     ...                     ...   \n995  [[0.0, 1.0, 0.0, 0.0]]  [[0.0, 0.0, 1.0, 0.0]]  [[0.0, 0.0, 1.0, 0.0]]   \n996  [[0.0, 0.0, 0.0, 1.0]]  [[0.0, 0.0, 1.0, 0.0]]  [[1.0, 0.0, 0.0, 0.0]]   \n997  [[0.0, 1.0, 0.0, 0.0]]  [[1.0, 0.0, 0.0, 0.0]]  [[0.0, 1.0, 0.0, 0.0]]   \n998  [[0.0, 1.0, 0.0, 0.0]]  [[0.0, 0.0, 0.0, 1.0]]  [[0.0, 0.0, 1.0, 0.0]]   \n999  [[0.0, 1.0, 0.0, 0.0]]  [[0.0, 0.0, 1.0, 0.0]]  [[1.0, 0.0, 0.0, 0.0]]   \n\n                          9  ...                      21  \\\n0    [[1.0, 0.0, 0.0, 0.0]]  ...  [[0.0, 0.0, 1.0, 0.0]]   \n1    [[0.0, 1.0, 0.0, 0.0]]  ...  [[1.0, 0.0, 0.0, 0.0]]   \n2    [[0.0, 1.0, 0.0, 0.0]]  ...  [[0.0, 0.0, 1.0, 0.0]]   \n3    [[0.0, 0.0, 0.0, 1.0]]  ...  [[0.0, 1.0, 0.0, 0.0]]   \n4    [[0.0, 0.0, 0.0, 1.0]]  ...  [[1.0, 0.0, 0.0, 0.0]]   \n..                      ...  ...                     ...   \n995  [[0.0, 0.0, 0.0, 1.0]]  ...  [[0.0, 0.0, 1.0, 0.0]]   \n996  [[0.0, 0.0, 1.0, 0.0]]  ...  [[0.0, 1.0, 0.0, 0.0]]   \n997  [[0.0, 0.0, 1.0, 0.0]]  ...  [[1.0, 0.0, 0.0, 0.0]]   \n998  [[0.0, 1.0, 0.0, 0.0]]  ...  [[0.0, 0.0, 0.0, 1.0]]   \n999  [[1.0, 0.0, 0.0, 0.0]]  ...  [[1.0, 0.0, 0.0, 0.0]]   \n\n                         22                      23                      24  \\\n0    [[0.0, 0.0, 1.0, 0.0]]  [[0.0, 0.0, 0.0, 1.0]]  [[0.0, 1.0, 0.0, 0.0]]   \n1    [[0.0, 0.0, 0.0, 1.0]]  [[0.0, 0.0, 1.0, 0.0]]  [[1.0, 0.0, 0.0, 0.0]]   \n2    [[0.0, 0.0, 1.0, 0.0]]  [[0.0, 0.0, 0.0, 1.0]]  [[0.0, 1.0, 0.0, 0.0]]   \n3    [[0.0, 0.0, 0.0, 1.0]]  [[1.0, 0.0, 0.0, 0.0]]  [[0.0, 0.0, 0.0, 1.0]]   \n4    [[1.0, 0.0, 0.0, 0.0]]  [[0.0, 0.0, 1.0, 0.0]]  [[0.0, 0.0, 0.0, 1.0]]   \n..                      ...                     ...                     ...   \n995  [[0.0, 0.0, 1.0, 0.0]]  [[0.0, 0.0, 1.0, 0.0]]  [[0.0, 0.0, 0.0, 1.0]]   \n996  [[1.0, 0.0, 0.0, 0.0]]  [[0.0, 0.0, 0.0, 1.0]]  [[0.0, 1.0, 0.0, 0.0]]   \n997  [[0.0, 0.0, 0.0, 1.0]]  [[0.0, 1.0, 0.0, 0.0]]  [[0.0, 1.0, 0.0, 0.0]]   \n998  [[0.0, 0.0, 1.0, 0.0]]  [[0.0, 0.0, 0.0, 1.0]]  [[1.0, 0.0, 0.0, 0.0]]   \n999  [[0.0, 0.0, 1.0, 0.0]]  [[0.0, 0.0, 1.0, 0.0]]  [[0.0, 0.0, 1.0, 0.0]]   \n\n                         25                      26                      27  \\\n0    [[0.0, 0.0, 1.0, 0.0]]  [[0.0, 0.0, 1.0, 0.0]]  [[0.0, 1.0, 0.0, 0.0]]   \n1    [[1.0, 0.0, 0.0, 0.0]]  [[0.0, 1.0, 0.0, 0.0]]  [[0.0, 0.0, 0.0, 1.0]]   \n2    [[1.0, 0.0, 0.0, 0.0]]  [[1.0, 0.0, 0.0, 0.0]]  [[0.0, 0.0, 1.0, 0.0]]   \n3    [[1.0, 0.0, 0.0, 0.0]]  [[1.0, 0.0, 0.0, 0.0]]  [[0.0, 0.0, 0.0, 1.0]]   \n4    [[0.0, 1.0, 0.0, 0.0]]  [[0.0, 0.0, 1.0, 0.0]]  [[1.0, 0.0, 0.0, 0.0]]   \n..                      ...                     ...                     ...   \n995  [[0.0, 1.0, 0.0, 0.0]]  [[0.0, 0.0, 1.0, 0.0]]  [[0.0, 0.0, 1.0, 0.0]]   \n996  [[0.0, 1.0, 0.0, 0.0]]  [[0.0, 0.0, 0.0, 1.0]]  [[1.0, 0.0, 0.0, 0.0]]   \n997  [[0.0, 0.0, 1.0, 0.0]]  [[0.0, 0.0, 1.0, 0.0]]  [[0.0, 1.0, 0.0, 0.0]]   \n998  [[1.0, 0.0, 0.0, 0.0]]  [[0.0, 0.0, 0.0, 1.0]]  [[0.0, 0.0, 0.0, 1.0]]   \n999  [[0.0, 1.0, 0.0, 0.0]]  [[0.0, 0.0, 1.0, 0.0]]  [[0.0, 0.0, 1.0, 0.0]]   \n\n                         28                      29      free  \n0    [[0.0, 0.0, 0.0, 1.0]]  [[0.0, 1.0, 0.0, 0.0]]  0.250181  \n1    [[0.0, 0.0, 1.0, 0.0]]  [[0.0, 1.0, 0.0, 0.0]] -0.202319  \n2    [[0.0, 0.0, 1.0, 0.0]]  [[0.0, 1.0, 0.0, 0.0]] -0.824777  \n3    [[1.0, 0.0, 0.0, 0.0]]  [[1.0, 0.0, 0.0, 0.0]]  1.514221  \n4    [[1.0, 0.0, 0.0, 0.0]]  [[1.0, 0.0, 0.0, 0.0]] -0.927891  \n..                      ...                     ...       ...  \n995  [[0.0, 0.0, 0.0, 1.0]]  [[1.0, 0.0, 0.0, 0.0]]  0.245509  \n996  [[0.0, 0.0, 0.0, 1.0]]  [[0.0, 0.0, 0.0, 1.0]] -0.073883  \n997  [[0.0, 1.0, 0.0, 0.0]]  [[1.0, 0.0, 0.0, 0.0]]  0.150776  \n998  [[0.0, 0.0, 0.0, 1.0]]  [[1.0, 0.0, 0.0, 0.0]]  1.105867  \n999  [[1.0, 0.0, 0.0, 0.0]]  [[1.0, 0.0, 0.0, 0.0]] -0.061459  \n\n[1000 rows x 31 columns]",
      "text/html": "<div>\n<style scoped>\n    .dataframe tbody tr th:only-of-type {\n        vertical-align: middle;\n    }\n\n    .dataframe tbody tr th {\n        vertical-align: top;\n    }\n\n    .dataframe thead th {\n        text-align: right;\n    }\n</style>\n<table border=\"1\" class=\"dataframe\">\n  <thead>\n    <tr style=\"text-align: right;\">\n      <th></th>\n      <th>0</th>\n      <th>1</th>\n      <th>2</th>\n      <th>3</th>\n      <th>4</th>\n      <th>5</th>\n      <th>6</th>\n      <th>7</th>\n      <th>8</th>\n      <th>9</th>\n      <th>...</th>\n      <th>21</th>\n      <th>22</th>\n      <th>23</th>\n      <th>24</th>\n      <th>25</th>\n      <th>26</th>\n      <th>27</th>\n      <th>28</th>\n      <th>29</th>\n      <th>free</th>\n    </tr>\n  </thead>\n  <tbody>\n    <tr>\n      <th>0</th>\n      <td>[[1.0, 0.0, 0.0, 0.0]]</td>\n      <td>[[0.0, 0.0, 0.0, 1.0]]</td>\n      <td>[[0.0, 0.0, 0.0, 1.0]]</td>\n      <td>[[1.0, 0.0, 0.0, 0.0]]</td>\n      <td>[[0.0, 1.0, 0.0, 0.0]]</td>\n      <td>[[0.0, 0.0, 0.0, 1.0]]</td>\n      <td>[[0.0, 0.0, 0.0, 1.0]]</td>\n      <td>[[0.0, 0.0, 1.0, 0.0]]</td>\n      <td>[[0.0, 1.0, 0.0, 0.0]]</td>\n      <td>[[1.0, 0.0, 0.0, 0.0]]</td>\n      <td>...</td>\n      <td>[[0.0, 0.0, 1.0, 0.0]]</td>\n      <td>[[0.0, 0.0, 1.0, 0.0]]</td>\n      <td>[[0.0, 0.0, 0.0, 1.0]]</td>\n      <td>[[0.0, 1.0, 0.0, 0.0]]</td>\n      <td>[[0.0, 0.0, 1.0, 0.0]]</td>\n      <td>[[0.0, 0.0, 1.0, 0.0]]</td>\n      <td>[[0.0, 1.0, 0.0, 0.0]]</td>\n      <td>[[0.0, 0.0, 0.0, 1.0]]</td>\n      <td>[[0.0, 1.0, 0.0, 0.0]]</td>\n      <td>0.250181</td>\n    </tr>\n    <tr>\n      <th>1</th>\n      <td>[[0.0, 0.0, 0.0, 1.0]]</td>\n      <td>[[0.0, 0.0, 0.0, 1.0]]</td>\n      <td>[[1.0, 0.0, 0.0, 0.0]]</td>\n      <td>[[1.0, 0.0, 0.0, 0.0]]</td>\n      <td>[[0.0, 1.0, 0.0, 0.0]]</td>\n      <td>[[0.0, 1.0, 0.0, 0.0]]</td>\n      <td>[[0.0, 1.0, 0.0, 0.0]]</td>\n      <td>[[0.0, 0.0, 1.0, 0.0]]</td>\n      <td>[[0.0, 0.0, 1.0, 0.0]]</td>\n      <td>[[0.0, 1.0, 0.0, 0.0]]</td>\n      <td>...</td>\n      <td>[[1.0, 0.0, 0.0, 0.0]]</td>\n      <td>[[0.0, 0.0, 0.0, 1.0]]</td>\n      <td>[[0.0, 0.0, 1.0, 0.0]]</td>\n      <td>[[1.0, 0.0, 0.0, 0.0]]</td>\n      <td>[[1.0, 0.0, 0.0, 0.0]]</td>\n      <td>[[0.0, 1.0, 0.0, 0.0]]</td>\n      <td>[[0.0, 0.0, 0.0, 1.0]]</td>\n      <td>[[0.0, 0.0, 1.0, 0.0]]</td>\n      <td>[[0.0, 1.0, 0.0, 0.0]]</td>\n      <td>-0.202319</td>\n    </tr>\n    <tr>\n      <th>2</th>\n      <td>[[1.0, 0.0, 0.0, 0.0]]</td>\n      <td>[[1.0, 0.0, 0.0, 0.0]]</td>\n      <td>[[0.0, 0.0, 0.0, 1.0]]</td>\n      <td>[[0.0, 1.0, 0.0, 0.0]]</td>\n      <td>[[0.0, 1.0, 0.0, 0.0]]</td>\n      <td>[[0.0, 0.0, 1.0, 0.0]]</td>\n      <td>[[0.0, 0.0, 0.0, 1.0]]</td>\n      <td>[[0.0, 0.0, 0.0, 1.0]]</td>\n      <td>[[0.0, 0.0, 0.0, 1.0]]</td>\n      <td>[[0.0, 1.0, 0.0, 0.0]]</td>\n      <td>...</td>\n      <td>[[0.0, 0.0, 1.0, 0.0]]</td>\n      <td>[[0.0, 0.0, 1.0, 0.0]]</td>\n      <td>[[0.0, 0.0, 0.0, 1.0]]</td>\n      <td>[[0.0, 1.0, 0.0, 0.0]]</td>\n      <td>[[1.0, 0.0, 0.0, 0.0]]</td>\n      <td>[[1.0, 0.0, 0.0, 0.0]]</td>\n      <td>[[0.0, 0.0, 1.0, 0.0]]</td>\n      <td>[[0.0, 0.0, 1.0, 0.0]]</td>\n      <td>[[0.0, 1.0, 0.0, 0.0]]</td>\n      <td>-0.824777</td>\n    </tr>\n    <tr>\n      <th>3</th>\n      <td>[[1.0, 0.0, 0.0, 0.0]]</td>\n      <td>[[0.0, 0.0, 1.0, 0.0]]</td>\n      <td>[[0.0, 0.0, 0.0, 1.0]]</td>\n      <td>[[0.0, 0.0, 0.0, 1.0]]</td>\n      <td>[[0.0, 1.0, 0.0, 0.0]]</td>\n      <td>[[0.0, 0.0, 0.0, 1.0]]</td>\n      <td>[[0.0, 0.0, 0.0, 1.0]]</td>\n      <td>[[0.0, 1.0, 0.0, 0.0]]</td>\n      <td>[[0.0, 0.0, 1.0, 0.0]]</td>\n      <td>[[0.0, 0.0, 0.0, 1.0]]</td>\n      <td>...</td>\n      <td>[[0.0, 1.0, 0.0, 0.0]]</td>\n      <td>[[0.0, 0.0, 0.0, 1.0]]</td>\n      <td>[[1.0, 0.0, 0.0, 0.0]]</td>\n      <td>[[0.0, 0.0, 0.0, 1.0]]</td>\n      <td>[[1.0, 0.0, 0.0, 0.0]]</td>\n      <td>[[1.0, 0.0, 0.0, 0.0]]</td>\n      <td>[[0.0, 0.0, 0.0, 1.0]]</td>\n      <td>[[1.0, 0.0, 0.0, 0.0]]</td>\n      <td>[[1.0, 0.0, 0.0, 0.0]]</td>\n      <td>1.514221</td>\n    </tr>\n    <tr>\n      <th>4</th>\n      <td>[[0.0, 0.0, 1.0, 0.0]]</td>\n      <td>[[1.0, 0.0, 0.0, 0.0]]</td>\n      <td>[[0.0, 1.0, 0.0, 0.0]]</td>\n      <td>[[1.0, 0.0, 0.0, 0.0]]</td>\n      <td>[[0.0, 0.0, 0.0, 1.0]]</td>\n      <td>[[0.0, 0.0, 0.0, 1.0]]</td>\n      <td>[[0.0, 1.0, 0.0, 0.0]]</td>\n      <td>[[0.0, 0.0, 0.0, 1.0]]</td>\n      <td>[[0.0, 0.0, 0.0, 1.0]]</td>\n      <td>[[0.0, 0.0, 0.0, 1.0]]</td>\n      <td>...</td>\n      <td>[[1.0, 0.0, 0.0, 0.0]]</td>\n      <td>[[1.0, 0.0, 0.0, 0.0]]</td>\n      <td>[[0.0, 0.0, 1.0, 0.0]]</td>\n      <td>[[0.0, 0.0, 0.0, 1.0]]</td>\n      <td>[[0.0, 1.0, 0.0, 0.0]]</td>\n      <td>[[0.0, 0.0, 1.0, 0.0]]</td>\n      <td>[[1.0, 0.0, 0.0, 0.0]]</td>\n      <td>[[1.0, 0.0, 0.0, 0.0]]</td>\n      <td>[[1.0, 0.0, 0.0, 0.0]]</td>\n      <td>-0.927891</td>\n    </tr>\n    <tr>\n      <th>...</th>\n      <td>...</td>\n      <td>...</td>\n      <td>...</td>\n      <td>...</td>\n      <td>...</td>\n      <td>...</td>\n      <td>...</td>\n      <td>...</td>\n      <td>...</td>\n      <td>...</td>\n      <td>...</td>\n      <td>...</td>\n      <td>...</td>\n      <td>...</td>\n      <td>...</td>\n      <td>...</td>\n      <td>...</td>\n      <td>...</td>\n      <td>...</td>\n      <td>...</td>\n      <td>...</td>\n    </tr>\n    <tr>\n      <th>995</th>\n      <td>[[0.0, 0.0, 0.0, 1.0]]</td>\n      <td>[[1.0, 0.0, 0.0, 0.0]]</td>\n      <td>[[0.0, 0.0, 0.0, 1.0]]</td>\n      <td>[[0.0, 1.0, 0.0, 0.0]]</td>\n      <td>[[0.0, 0.0, 0.0, 1.0]]</td>\n      <td>[[0.0, 0.0, 1.0, 0.0]]</td>\n      <td>[[0.0, 1.0, 0.0, 0.0]]</td>\n      <td>[[0.0, 0.0, 1.0, 0.0]]</td>\n      <td>[[0.0, 0.0, 1.0, 0.0]]</td>\n      <td>[[0.0, 0.0, 0.0, 1.0]]</td>\n      <td>...</td>\n      <td>[[0.0, 0.0, 1.0, 0.0]]</td>\n      <td>[[0.0, 0.0, 1.0, 0.0]]</td>\n      <td>[[0.0, 0.0, 1.0, 0.0]]</td>\n      <td>[[0.0, 0.0, 0.0, 1.0]]</td>\n      <td>[[0.0, 1.0, 0.0, 0.0]]</td>\n      <td>[[0.0, 0.0, 1.0, 0.0]]</td>\n      <td>[[0.0, 0.0, 1.0, 0.0]]</td>\n      <td>[[0.0, 0.0, 0.0, 1.0]]</td>\n      <td>[[1.0, 0.0, 0.0, 0.0]]</td>\n      <td>0.245509</td>\n    </tr>\n    <tr>\n      <th>996</th>\n      <td>[[0.0, 0.0, 1.0, 0.0]]</td>\n      <td>[[0.0, 1.0, 0.0, 0.0]]</td>\n      <td>[[1.0, 0.0, 0.0, 0.0]]</td>\n      <td>[[0.0, 1.0, 0.0, 0.0]]</td>\n      <td>[[0.0, 1.0, 0.0, 0.0]]</td>\n      <td>[[0.0, 0.0, 0.0, 1.0]]</td>\n      <td>[[0.0, 0.0, 0.0, 1.0]]</td>\n      <td>[[0.0, 0.0, 1.0, 0.0]]</td>\n      <td>[[1.0, 0.0, 0.0, 0.0]]</td>\n      <td>[[0.0, 0.0, 1.0, 0.0]]</td>\n      <td>...</td>\n      <td>[[0.0, 1.0, 0.0, 0.0]]</td>\n      <td>[[1.0, 0.0, 0.0, 0.0]]</td>\n      <td>[[0.0, 0.0, 0.0, 1.0]]</td>\n      <td>[[0.0, 1.0, 0.0, 0.0]]</td>\n      <td>[[0.0, 1.0, 0.0, 0.0]]</td>\n      <td>[[0.0, 0.0, 0.0, 1.0]]</td>\n      <td>[[1.0, 0.0, 0.0, 0.0]]</td>\n      <td>[[0.0, 0.0, 0.0, 1.0]]</td>\n      <td>[[0.0, 0.0, 0.0, 1.0]]</td>\n      <td>-0.073883</td>\n    </tr>\n    <tr>\n      <th>997</th>\n      <td>[[0.0, 0.0, 1.0, 0.0]]</td>\n      <td>[[1.0, 0.0, 0.0, 0.0]]</td>\n      <td>[[0.0, 0.0, 0.0, 1.0]]</td>\n      <td>[[0.0, 0.0, 0.0, 1.0]]</td>\n      <td>[[0.0, 0.0, 0.0, 1.0]]</td>\n      <td>[[0.0, 0.0, 0.0, 1.0]]</td>\n      <td>[[0.0, 1.0, 0.0, 0.0]]</td>\n      <td>[[1.0, 0.0, 0.0, 0.0]]</td>\n      <td>[[0.0, 1.0, 0.0, 0.0]]</td>\n      <td>[[0.0, 0.0, 1.0, 0.0]]</td>\n      <td>...</td>\n      <td>[[1.0, 0.0, 0.0, 0.0]]</td>\n      <td>[[0.0, 0.0, 0.0, 1.0]]</td>\n      <td>[[0.0, 1.0, 0.0, 0.0]]</td>\n      <td>[[0.0, 1.0, 0.0, 0.0]]</td>\n      <td>[[0.0, 0.0, 1.0, 0.0]]</td>\n      <td>[[0.0, 0.0, 1.0, 0.0]]</td>\n      <td>[[0.0, 1.0, 0.0, 0.0]]</td>\n      <td>[[0.0, 1.0, 0.0, 0.0]]</td>\n      <td>[[1.0, 0.0, 0.0, 0.0]]</td>\n      <td>0.150776</td>\n    </tr>\n    <tr>\n      <th>998</th>\n      <td>[[0.0, 1.0, 0.0, 0.0]]</td>\n      <td>[[0.0, 0.0, 1.0, 0.0]]</td>\n      <td>[[0.0, 0.0, 0.0, 1.0]]</td>\n      <td>[[0.0, 0.0, 1.0, 0.0]]</td>\n      <td>[[1.0, 0.0, 0.0, 0.0]]</td>\n      <td>[[1.0, 0.0, 0.0, 0.0]]</td>\n      <td>[[0.0, 1.0, 0.0, 0.0]]</td>\n      <td>[[0.0, 0.0, 0.0, 1.0]]</td>\n      <td>[[0.0, 0.0, 1.0, 0.0]]</td>\n      <td>[[0.0, 1.0, 0.0, 0.0]]</td>\n      <td>...</td>\n      <td>[[0.0, 0.0, 0.0, 1.0]]</td>\n      <td>[[0.0, 0.0, 1.0, 0.0]]</td>\n      <td>[[0.0, 0.0, 0.0, 1.0]]</td>\n      <td>[[1.0, 0.0, 0.0, 0.0]]</td>\n      <td>[[1.0, 0.0, 0.0, 0.0]]</td>\n      <td>[[0.0, 0.0, 0.0, 1.0]]</td>\n      <td>[[0.0, 0.0, 0.0, 1.0]]</td>\n      <td>[[0.0, 0.0, 0.0, 1.0]]</td>\n      <td>[[1.0, 0.0, 0.0, 0.0]]</td>\n      <td>1.105867</td>\n    </tr>\n    <tr>\n      <th>999</th>\n      <td>[[0.0, 0.0, 1.0, 0.0]]</td>\n      <td>[[0.0, 1.0, 0.0, 0.0]]</td>\n      <td>[[1.0, 0.0, 0.0, 0.0]]</td>\n      <td>[[0.0, 0.0, 1.0, 0.0]]</td>\n      <td>[[1.0, 0.0, 0.0, 0.0]]</td>\n      <td>[[0.0, 0.0, 1.0, 0.0]]</td>\n      <td>[[0.0, 1.0, 0.0, 0.0]]</td>\n      <td>[[0.0, 0.0, 1.0, 0.0]]</td>\n      <td>[[1.0, 0.0, 0.0, 0.0]]</td>\n      <td>[[1.0, 0.0, 0.0, 0.0]]</td>\n      <td>...</td>\n      <td>[[1.0, 0.0, 0.0, 0.0]]</td>\n      <td>[[0.0, 0.0, 1.0, 0.0]]</td>\n      <td>[[0.0, 0.0, 1.0, 0.0]]</td>\n      <td>[[0.0, 0.0, 1.0, 0.0]]</td>\n      <td>[[0.0, 1.0, 0.0, 0.0]]</td>\n      <td>[[0.0, 0.0, 1.0, 0.0]]</td>\n      <td>[[0.0, 0.0, 1.0, 0.0]]</td>\n      <td>[[1.0, 0.0, 0.0, 0.0]]</td>\n      <td>[[1.0, 0.0, 0.0, 0.0]]</td>\n      <td>-0.061459</td>\n    </tr>\n  </tbody>\n</table>\n<p>1000 rows × 31 columns</p>\n</div>"
     },
     "execution_count": 20,
     "metadata": {},
     "output_type": "execute_result"
    }
   ],
   "source": [
    "df_std = df_trial.copy()\n",
    "df_std['free'] = (df_trial['free']-free_mean)/free_std\n",
    "df_std"
   ],
   "metadata": {
    "collapsed": false
   }
  },
  {
   "cell_type": "code",
   "execution_count": null,
   "outputs": [],
   "source": [],
   "metadata": {
    "collapsed": false
   }
  },
  {
   "cell_type": "code",
   "execution_count": 21,
   "outputs": [],
   "source": [
    "#df_std = df_std.drop(['Unnamed: 0'], axis=1)\n",
    "#df_std"
   ],
   "metadata": {
    "collapsed": false
   }
  },
  {
   "cell_type": "code",
   "execution_count": 22,
   "outputs": [
    {
     "data": {
      "text/plain": "<AxesSubplot: xlabel='free', ylabel='Count'>"
     },
     "execution_count": 22,
     "metadata": {},
     "output_type": "execute_result"
    },
    {
     "data": {
      "text/plain": "<Figure size 640x480 with 1 Axes>",
      "image/png": "[encoded data removed]"
     },
     "metadata": {},
     "output_type": "display_data"
    }
   ],
   "source": [
    "sns.histplot(data=df_std, x='free')"
   ],
   "metadata": {
    "collapsed": false
   }
  },
  {
   "cell_type": "code",
   "execution_count": 23,
   "outputs": [
    {
     "data": {
      "text/plain": "numpy.ndarray"
     },
     "execution_count": 23,
     "metadata": {},
     "output_type": "execute_result"
    }
   ],
   "source": [
    "type(df_std[0][0])"
   ],
   "metadata": {
    "collapsed": false
   }
  },
  {
   "cell_type": "code",
   "execution_count": 24,
   "outputs": [
    {
     "data": {
      "text/plain": "[0,\n 1,\n 2,\n 3,\n 4,\n 5,\n 6,\n 7,\n 8,\n 9,\n 10,\n 11,\n 12,\n 13,\n 14,\n 15,\n 16,\n 17,\n 18,\n 19,\n 20,\n 21,\n 22,\n 23,\n 24,\n 25,\n 26,\n 27,\n 28,\n 29]"
     },
     "execution_count": 24,
     "metadata": {},
     "output_type": "execute_result"
    }
   ],
   "source": [
    "list(df_std.columns)[:-1]"
   ],
   "metadata": {
    "collapsed": false
   }
  },
  {
   "cell_type": "code",
   "execution_count": 25,
   "outputs": [
    {
     "data": {
      "text/plain": "'free'"
     },
     "execution_count": 25,
     "metadata": {},
     "output_type": "execute_result"
    }
   ],
   "source": [
    "target_energy = \"free\"\n",
    "features = list(df_std.columns)[:-1]\n",
    "features\n",
    "target_energy"
   ],
   "metadata": {
    "collapsed": false
   }
  },
  {
   "cell_type": "code",
   "execution_count": 38,
   "outputs": [],
   "source": [
    "class SequenceDataset(Dataset):\n",
    "    def __init__(self,dataframe,target,features,sequence_length=30):\n",
    "        self.features = features\n",
    "        self.target = target\n",
    "        self.sequence_length = sequence_length\n",
    "        self.y = torch.tensor(dataframe[self.target].values).float()\n",
    "        self.X = torch.tensor(dataframe[self.features].values).float()\n",
    "\n",
    "    def __len__(self):\n",
    "        return self.X.shape[0]\n",
    "\n",
    "    def __getitem__(self, i):\n",
    "        if i >= self.sequence_length - 1:\n",
    "            i_start = i - self.sequence_length + 1\n",
    "            x = self.X[i_start:(i + 1), :]\n",
    "        else:\n",
    "            padding = self.X[0].repeat(self.sequence_length - i - 1, 1)\n",
    "            x = self.X[0:(i + 1), :]\n",
    "            x = torch.cat((padding, x), 0)\n",
    "\n",
    "        return x, self.y[i]\n"
   ],
   "metadata": {
    "collapsed": false
   }
  },
  {
   "cell_type": "code",
   "execution_count": 95,
   "outputs": [
    {
     "data": {
      "text/plain": "numpy.ndarray"
     },
     "execution_count": 95,
     "metadata": {},
     "output_type": "execute_result"
    }
   ],
   "source": [
    "type(df_std[features].values[0][0])"
   ],
   "metadata": {
    "collapsed": false
   }
  },
  {
   "cell_type": "code",
   "execution_count": 99,
   "outputs": [
    {
     "data": {
      "text/plain": "numpy.ndarray"
     },
     "execution_count": 99,
     "metadata": {},
     "output_type": "execute_result"
    }
   ],
   "source": [
    "type(df_std[features].values)"
   ],
   "metadata": {
    "collapsed": false
   }
  },
  {
   "cell_type": "code",
   "execution_count": 118,
   "outputs": [
    {
     "name": "stdout",
     "output_type": "stream",
     "text": [
      "<class 'pandas.core.frame.DataFrame'>\n",
      "RangeIndex: 1000 entries, 0 to 999\n",
      "Data columns (total 31 columns):\n",
      " #   Column  Non-Null Count  Dtype  \n",
      "---  ------  --------------  -----  \n",
      " 0   0       1000 non-null   object \n",
      " 1   1       1000 non-null   object \n",
      " 2   2       1000 non-null   object \n",
      " 3   3       1000 non-null   object \n",
      " 4   4       1000 non-null   object \n",
      " 5   5       1000 non-null   object \n",
      " 6   6       1000 non-null   object \n",
      " 7   7       1000 non-null   object \n",
      " 8   8       1000 non-null   object \n",
      " 9   9       1000 non-null   object \n",
      " 10  10      1000 non-null   object \n",
      " 11  11      1000 non-null   object \n",
      " 12  12      1000 non-null   object \n",
      " 13  13      1000 non-null   object \n",
      " 14  14      1000 non-null   object \n",
      " 15  15      1000 non-null   object \n",
      " 16  16      1000 non-null   object \n",
      " 17  17      1000 non-null   object \n",
      " 18  18      1000 non-null   object \n",
      " 19  19      1000 non-null   object \n",
      " 20  20      1000 non-null   object \n",
      " 21  21      1000 non-null   object \n",
      " 22  22      1000 non-null   object \n",
      " 23  23      1000 non-null   object \n",
      " 24  24      1000 non-null   object \n",
      " 25  25      1000 non-null   object \n",
      " 26  26      1000 non-null   object \n",
      " 27  27      1000 non-null   object \n",
      " 28  28      1000 non-null   object \n",
      " 29  29      1000 non-null   object \n",
      " 30  free    1000 non-null   float64\n",
      "dtypes: float64(1), object(30)\n",
      "memory usage: 242.3+ KB\n"
     ]
    }
   ],
   "source": [
    "df_std.info()"
   ],
   "metadata": {
    "collapsed": false
   }
  },
  {
   "cell_type": "markdown",
   "source": [
    "# Problem: our dtypes are objects"
   ],
   "metadata": {
    "collapsed": false
   }
  },
  {
   "cell_type": "code",
   "execution_count": 110,
   "outputs": [
    {
     "data": {
      "text/plain": "array([[array([[1., 0., 0., 0.]]), array([[0., 0., 0., 1.]]),\n        array([[0., 0., 0., 1.]]), ..., array([[0., 1., 0., 0.]]),\n        array([[0., 0., 0., 1.]]), array([[0., 1., 0., 0.]])],\n       [array([[0., 0., 0., 1.]]), array([[0., 0., 0., 1.]]),\n        array([[1., 0., 0., 0.]]), ..., array([[0., 0., 0., 1.]]),\n        array([[0., 0., 1., 0.]]), array([[0., 1., 0., 0.]])],\n       [array([[1., 0., 0., 0.]]), array([[1., 0., 0., 0.]]),\n        array([[0., 0., 0., 1.]]), ..., array([[0., 0., 1., 0.]]),\n        array([[0., 0., 1., 0.]]), array([[0., 1., 0., 0.]])],\n       ...,\n       [array([[0., 0., 1., 0.]]), array([[1., 0., 0., 0.]]),\n        array([[0., 0., 0., 1.]]), ..., array([[0., 1., 0., 0.]]),\n        array([[0., 1., 0., 0.]]), array([[1., 0., 0., 0.]])],\n       [array([[0., 1., 0., 0.]]), array([[0., 0., 1., 0.]]),\n        array([[0., 0., 0., 1.]]), ..., array([[0., 0., 0., 1.]]),\n        array([[0., 0., 0., 1.]]), array([[1., 0., 0., 0.]])],\n       [array([[0., 0., 1., 0.]]), array([[0., 1., 0., 0.]]),\n        array([[1., 0., 0., 0.]]), ..., array([[0., 0., 1., 0.]]),\n        array([[1., 0., 0., 0.]]), array([[1., 0., 0., 0.]])]],\n      dtype=object)"
     },
     "execution_count": 110,
     "metadata": {},
     "output_type": "execute_result"
    }
   ],
   "source": [
    "df_np = df_std.iloc[:,:-1].to_numpy()\n",
    "df_np"
   ],
   "metadata": {
    "collapsed": false
   }
  },
  {
   "cell_type": "code",
   "execution_count": 117,
   "outputs": [
    {
     "data": {
      "text/plain": "array([[array([[1., 0., 0., 0.]]), array([[0., 0., 0., 1.]]),\n        array([[0., 0., 0., 1.]]), array([[1., 0., 0., 0.]]),\n        array([[0., 1., 0., 0.]]), array([[0., 0., 0., 1.]]),\n        array([[0., 0., 0., 1.]]), array([[0., 0., 1., 0.]]),\n        array([[0., 1., 0., 0.]]), array([[1., 0., 0., 0.]]),\n        array([[0., 0., 0., 1.]]), array([[0., 0., 1., 0.]]),\n        array([[1., 0., 0., 0.]]), array([[0., 1., 0., 0.]]),\n        array([[0., 0., 1., 0.]]), array([[1., 0., 0., 0.]]),\n        array([[0., 0., 0., 1.]]), array([[0., 1., 0., 0.]]),\n        array([[0., 0., 1., 0.]]), array([[0., 0., 0., 1.]]),\n        array([[0., 0., 0., 1.]]), array([[0., 0., 1., 0.]]),\n        array([[0., 0., 1., 0.]]), array([[0., 0., 0., 1.]]),\n        array([[0., 1., 0., 0.]]), array([[0., 0., 1., 0.]]),\n        array([[0., 0., 1., 0.]]), array([[0., 1., 0., 0.]]),\n        array([[0., 0., 0., 1.]]), array([[0., 1., 0., 0.]])],\n       [array([[0., 0., 0., 1.]]), array([[0., 0., 0., 1.]]),\n        array([[1., 0., 0., 0.]]), array([[1., 0., 0., 0.]]),\n        array([[0., 1., 0., 0.]]), array([[0., 1., 0., 0.]]),\n        array([[0., 1., 0., 0.]]), array([[0., 0., 1., 0.]]),\n        array([[0., 0., 1., 0.]]), array([[0., 1., 0., 0.]]),\n        array([[0., 0., 1., 0.]]), array([[0., 0., 0., 1.]]),\n        array([[0., 0., 0., 1.]]), array([[0., 0., 0., 1.]]),\n        array([[1., 0., 0., 0.]]), array([[0., 0., 1., 0.]]),\n        array([[0., 1., 0., 0.]]), array([[0., 1., 0., 0.]]),\n        array([[0., 0., 0., 1.]]), array([[0., 1., 0., 0.]]),\n        array([[1., 0., 0., 0.]]), array([[1., 0., 0., 0.]]),\n        array([[0., 0., 0., 1.]]), array([[0., 0., 1., 0.]]),\n        array([[1., 0., 0., 0.]]), array([[1., 0., 0., 0.]]),\n        array([[0., 1., 0., 0.]]), array([[0., 0., 0., 1.]]),\n        array([[0., 0., 1., 0.]]), array([[0., 1., 0., 0.]])],\n       [array([[1., 0., 0., 0.]]), array([[1., 0., 0., 0.]]),\n        array([[0., 0., 0., 1.]]), array([[0., 1., 0., 0.]]),\n        array([[0., 1., 0., 0.]]), array([[0., 0., 1., 0.]]),\n        array([[0., 0., 0., 1.]]), array([[0., 0., 0., 1.]]),\n        array([[0., 0., 0., 1.]]), array([[0., 1., 0., 0.]]),\n        array([[0., 0., 1., 0.]]), array([[0., 1., 0., 0.]]),\n        array([[0., 1., 0., 0.]]), array([[1., 0., 0., 0.]]),\n        array([[0., 0., 1., 0.]]), array([[0., 0., 0., 1.]]),\n        array([[0., 0., 1., 0.]]), array([[0., 1., 0., 0.]]),\n        array([[0., 1., 0., 0.]]), array([[0., 1., 0., 0.]]),\n        array([[0., 0., 0., 1.]]), array([[0., 0., 1., 0.]]),\n        array([[0., 0., 1., 0.]]), array([[0., 0., 0., 1.]]),\n        array([[0., 1., 0., 0.]]), array([[1., 0., 0., 0.]]),\n        array([[1., 0., 0., 0.]]), array([[0., 0., 1., 0.]]),\n        array([[0., 0., 1., 0.]]), array([[0., 1., 0., 0.]])],\n       [array([[1., 0., 0., 0.]]), array([[0., 0., 1., 0.]]),\n        array([[0., 0., 0., 1.]]), array([[0., 0., 0., 1.]]),\n        array([[0., 1., 0., 0.]]), array([[0., 0., 0., 1.]]),\n        array([[0., 0., 0., 1.]]), array([[0., 1., 0., 0.]]),\n        array([[0., 0., 1., 0.]]), array([[0., 0., 0., 1.]]),\n        array([[0., 0., 0., 1.]]), array([[1., 0., 0., 0.]]),\n        array([[0., 1., 0., 0.]]), array([[0., 0., 0., 1.]]),\n        array([[0., 0., 0., 1.]]), array([[0., 0., 0., 1.]]),\n        array([[0., 1., 0., 0.]]), array([[0., 0., 0., 1.]]),\n        array([[0., 0., 1., 0.]]), array([[0., 0., 0., 1.]]),\n        array([[0., 0., 0., 1.]]), array([[0., 1., 0., 0.]]),\n        array([[0., 0., 0., 1.]]), array([[1., 0., 0., 0.]]),\n        array([[0., 0., 0., 1.]]), array([[1., 0., 0., 0.]]),\n        array([[1., 0., 0., 0.]]), array([[0., 0., 0., 1.]]),\n        array([[1., 0., 0., 0.]]), array([[1., 0., 0., 0.]])],\n       [array([[0., 0., 1., 0.]]), array([[1., 0., 0., 0.]]),\n        array([[0., 1., 0., 0.]]), array([[1., 0., 0., 0.]]),\n        array([[0., 0., 0., 1.]]), array([[0., 0., 0., 1.]]),\n        array([[0., 1., 0., 0.]]), array([[0., 0., 0., 1.]]),\n        array([[0., 0., 0., 1.]]), array([[0., 0., 0., 1.]]),\n        array([[0., 0., 1., 0.]]), array([[0., 0., 1., 0.]]),\n        array([[0., 0., 0., 1.]]), array([[0., 0., 0., 1.]]),\n        array([[0., 0., 1., 0.]]), array([[0., 1., 0., 0.]]),\n        array([[0., 1., 0., 0.]]), array([[0., 0., 1., 0.]]),\n        array([[1., 0., 0., 0.]]), array([[0., 1., 0., 0.]]),\n        array([[0., 0., 0., 1.]]), array([[1., 0., 0., 0.]]),\n        array([[1., 0., 0., 0.]]), array([[0., 0., 1., 0.]]),\n        array([[0., 0., 0., 1.]]), array([[0., 1., 0., 0.]]),\n        array([[0., 0., 1., 0.]]), array([[1., 0., 0., 0.]]),\n        array([[1., 0., 0., 0.]]), array([[1., 0., 0., 0.]])],\n       [array([[0., 0., 1., 0.]]), array([[0., 1., 0., 0.]]),\n        array([[0., 0., 0., 1.]]), array([[0., 1., 0., 0.]]),\n        array([[0., 0., 1., 0.]]), array([[0., 0., 0., 1.]]),\n        array([[0., 1., 0., 0.]]), array([[0., 0., 1., 0.]]),\n        array([[0., 1., 0., 0.]]), array([[1., 0., 0., 0.]]),\n        array([[0., 1., 0., 0.]]), array([[0., 0., 0., 1.]]),\n        array([[0., 1., 0., 0.]]), array([[1., 0., 0., 0.]]),\n        array([[0., 0., 1., 0.]]), array([[0., 0., 0., 1.]]),\n        array([[0., 0., 0., 1.]]), array([[0., 0., 0., 1.]]),\n        array([[0., 1., 0., 0.]]), array([[0., 0., 1., 0.]]),\n        array([[0., 0., 1., 0.]]), array([[1., 0., 0., 0.]]),\n        array([[1., 0., 0., 0.]]), array([[0., 1., 0., 0.]]),\n        array([[0., 0., 0., 1.]]), array([[0., 0., 0., 1.]]),\n        array([[0., 0., 0., 1.]]), array([[0., 1., 0., 0.]]),\n        array([[1., 0., 0., 0.]]), array([[0., 0., 0., 1.]])],\n       [array([[1., 0., 0., 0.]]), array([[1., 0., 0., 0.]]),\n        array([[0., 0., 1., 0.]]), array([[0., 0., 1., 0.]]),\n        array([[0., 0., 1., 0.]]), array([[0., 0., 0., 1.]]),\n        array([[0., 0., 0., 1.]]), array([[0., 1., 0., 0.]]),\n        array([[0., 0., 1., 0.]]), array([[0., 0., 0., 1.]]),\n        array([[0., 0., 1., 0.]]), array([[0., 0., 0., 1.]]),\n        array([[0., 0., 1., 0.]]), array([[0., 0., 0., 1.]]),\n        array([[0., 0., 0., 1.]]), array([[0., 0., 1., 0.]]),\n        array([[0., 0., 1., 0.]]), array([[0., 0., 1., 0.]]),\n        array([[0., 0., 0., 1.]]), array([[0., 0., 0., 1.]]),\n        array([[0., 0., 0., 1.]]), array([[0., 0., 0., 1.]]),\n        array([[1., 0., 0., 0.]]), array([[0., 0., 1., 0.]]),\n        array([[0., 0., 0., 1.]]), array([[0., 1., 0., 0.]]),\n        array([[0., 0., 0., 1.]]), array([[1., 0., 0., 0.]]),\n        array([[0., 0., 1., 0.]]), array([[1., 0., 0., 0.]])],\n       [array([[0., 0., 1., 0.]]), array([[0., 0., 1., 0.]]),\n        array([[1., 0., 0., 0.]]), array([[0., 0., 0., 1.]]),\n        array([[0., 0., 1., 0.]]), array([[0., 0., 1., 0.]]),\n        array([[0., 1., 0., 0.]]), array([[0., 1., 0., 0.]]),\n        array([[0., 1., 0., 0.]]), array([[0., 0., 1., 0.]]),\n        array([[1., 0., 0., 0.]]), array([[1., 0., 0., 0.]]),\n        array([[0., 1., 0., 0.]]), array([[1., 0., 0., 0.]]),\n        array([[0., 0., 0., 1.]]), array([[0., 1., 0., 0.]]),\n        array([[0., 0., 0., 1.]]), array([[1., 0., 0., 0.]]),\n        array([[0., 0., 0., 1.]]), array([[0., 1., 0., 0.]]),\n        array([[0., 0., 1., 0.]]), array([[0., 1., 0., 0.]]),\n        array([[0., 0., 1., 0.]]), array([[1., 0., 0., 0.]]),\n        array([[1., 0., 0., 0.]]), array([[1., 0., 0., 0.]]),\n        array([[0., 0., 1., 0.]]), array([[0., 0., 0., 1.]]),\n        array([[0., 0., 1., 0.]]), array([[0., 1., 0., 0.]])],\n       [array([[0., 1., 0., 0.]]), array([[1., 0., 0., 0.]]),\n        array([[0., 0., 1., 0.]]), array([[0., 1., 0., 0.]]),\n        array([[1., 0., 0., 0.]]), array([[0., 0., 1., 0.]]),\n        array([[1., 0., 0., 0.]]), array([[0., 0., 0., 1.]]),\n        array([[0., 0., 0., 1.]]), array([[0., 0., 1., 0.]]),\n        array([[1., 0., 0., 0.]]), array([[0., 1., 0., 0.]]),\n        array([[0., 0., 0., 1.]]), array([[0., 0., 0., 1.]]),\n        array([[0., 0., 0., 1.]]), array([[0., 0., 0., 1.]]),\n        array([[0., 1., 0., 0.]]), array([[0., 0., 1., 0.]]),\n        array([[0., 0., 0., 1.]]), array([[0., 0., 1., 0.]]),\n        array([[0., 0., 0., 1.]]), array([[0., 0., 0., 1.]]),\n        array([[0., 1., 0., 0.]]), array([[1., 0., 0., 0.]]),\n        array([[0., 0., 0., 1.]]), array([[0., 1., 0., 0.]]),\n        array([[1., 0., 0., 0.]]), array([[0., 1., 0., 0.]]),\n        array([[0., 1., 0., 0.]]), array([[0., 0., 0., 1.]])],\n       [array([[0., 0., 1., 0.]]), array([[0., 0., 0., 1.]]),\n        array([[1., 0., 0., 0.]]), array([[1., 0., 0., 0.]]),\n        array([[0., 1., 0., 0.]]), array([[0., 0., 1., 0.]]),\n        array([[0., 1., 0., 0.]]), array([[1., 0., 0., 0.]]),\n        array([[0., 1., 0., 0.]]), array([[1., 0., 0., 0.]]),\n        array([[0., 0., 1., 0.]]), array([[0., 1., 0., 0.]]),\n        array([[0., 0., 1., 0.]]), array([[1., 0., 0., 0.]]),\n        array([[0., 0., 0., 1.]]), array([[0., 0., 0., 1.]]),\n        array([[1., 0., 0., 0.]]), array([[0., 0., 1., 0.]]),\n        array([[0., 1., 0., 0.]]), array([[0., 0., 0., 1.]]),\n        array([[0., 1., 0., 0.]]), array([[0., 1., 0., 0.]]),\n        array([[0., 0., 0., 1.]]), array([[0., 0., 0., 1.]]),\n        array([[0., 0., 1., 0.]]), array([[1., 0., 0., 0.]]),\n        array([[0., 1., 0., 0.]]), array([[0., 1., 0., 0.]]),\n        array([[0., 0., 0., 1.]]), array([[0., 1., 0., 0.]])],\n       [array([[0., 0., 0., 1.]]), array([[1., 0., 0., 0.]]),\n        array([[0., 0., 0., 1.]]), array([[1., 0., 0., 0.]]),\n        array([[0., 1., 0., 0.]]), array([[1., 0., 0., 0.]]),\n        array([[0., 0., 0., 1.]]), array([[0., 0., 1., 0.]]),\n        array([[0., 0., 1., 0.]]), array([[1., 0., 0., 0.]]),\n        array([[0., 0., 1., 0.]]), array([[0., 0., 0., 1.]]),\n        array([[0., 1., 0., 0.]]), array([[0., 0., 1., 0.]]),\n        array([[1., 0., 0., 0.]]), array([[0., 1., 0., 0.]]),\n        array([[0., 0., 0., 1.]]), array([[0., 1., 0., 0.]]),\n        array([[1., 0., 0., 0.]]), array([[0., 0., 0., 1.]]),\n        array([[1., 0., 0., 0.]]), array([[0., 0., 0., 1.]]),\n        array([[0., 1., 0., 0.]]), array([[0., 0., 1., 0.]]),\n        array([[0., 0., 1., 0.]]), array([[1., 0., 0., 0.]]),\n        array([[0., 1., 0., 0.]]), array([[1., 0., 0., 0.]]),\n        array([[1., 0., 0., 0.]]), array([[0., 0., 0., 1.]])],\n       [array([[1., 0., 0., 0.]]), array([[1., 0., 0., 0.]]),\n        array([[0., 0., 0., 1.]]), array([[0., 0., 1., 0.]]),\n        array([[0., 1., 0., 0.]]), array([[1., 0., 0., 0.]]),\n        array([[0., 0., 1., 0.]]), array([[0., 0., 1., 0.]]),\n        array([[0., 0., 0., 1.]]), array([[0., 1., 0., 0.]]),\n        array([[1., 0., 0., 0.]]), array([[0., 1., 0., 0.]]),\n        array([[0., 1., 0., 0.]]), array([[0., 0., 1., 0.]]),\n        array([[0., 1., 0., 0.]]), array([[0., 1., 0., 0.]]),\n        array([[0., 1., 0., 0.]]), array([[0., 0., 0., 1.]]),\n        array([[0., 0., 0., 1.]]), array([[1., 0., 0., 0.]]),\n        array([[0., 1., 0., 0.]]), array([[1., 0., 0., 0.]]),\n        array([[1., 0., 0., 0.]]), array([[1., 0., 0., 0.]]),\n        array([[1., 0., 0., 0.]]), array([[0., 1., 0., 0.]]),\n        array([[1., 0., 0., 0.]]), array([[0., 0., 0., 1.]]),\n        array([[1., 0., 0., 0.]]), array([[1., 0., 0., 0.]])],\n       [array([[0., 0., 0., 1.]]), array([[0., 1., 0., 0.]]),\n        array([[0., 0., 0., 1.]]), array([[1., 0., 0., 0.]]),\n        array([[0., 1., 0., 0.]]), array([[1., 0., 0., 0.]]),\n        array([[0., 0., 0., 1.]]), array([[0., 0., 0., 1.]]),\n        array([[0., 0., 0., 1.]]), array([[0., 0., 1., 0.]]),\n        array([[0., 1., 0., 0.]]), array([[1., 0., 0., 0.]]),\n        array([[0., 0., 0., 1.]]), array([[0., 0., 0., 1.]]),\n        array([[0., 0., 0., 1.]]), array([[0., 0., 1., 0.]]),\n        array([[1., 0., 0., 0.]]), array([[0., 1., 0., 0.]]),\n        array([[0., 0., 1., 0.]]), array([[0., 0., 1., 0.]]),\n        array([[0., 1., 0., 0.]]), array([[1., 0., 0., 0.]]),\n        array([[0., 0., 0., 1.]]), array([[1., 0., 0., 0.]]),\n        array([[0., 1., 0., 0.]]), array([[0., 0., 1., 0.]]),\n        array([[1., 0., 0., 0.]]), array([[0., 0., 1., 0.]]),\n        array([[0., 1., 0., 0.]]), array([[1., 0., 0., 0.]])],\n       [array([[1., 0., 0., 0.]]), array([[0., 0., 1., 0.]]),\n        array([[0., 0., 1., 0.]]), array([[1., 0., 0., 0.]]),\n        array([[0., 0., 1., 0.]]), array([[0., 0., 0., 1.]]),\n        array([[0., 1., 0., 0.]]), array([[1., 0., 0., 0.]]),\n        array([[1., 0., 0., 0.]]), array([[1., 0., 0., 0.]]),\n        array([[0., 1., 0., 0.]]), array([[1., 0., 0., 0.]]),\n        array([[0., 1., 0., 0.]]), array([[0., 1., 0., 0.]]),\n        array([[0., 0., 1., 0.]]), array([[0., 0., 0., 1.]]),\n        array([[0., 1., 0., 0.]]), array([[1., 0., 0., 0.]]),\n        array([[0., 0., 1., 0.]]), array([[1., 0., 0., 0.]]),\n        array([[0., 0., 0., 1.]]), array([[0., 0., 1., 0.]]),\n        array([[0., 0., 0., 1.]]), array([[0., 0., 0., 1.]]),\n        array([[0., 1., 0., 0.]]), array([[0., 1., 0., 0.]]),\n        array([[1., 0., 0., 0.]]), array([[0., 0., 0., 1.]]),\n        array([[0., 1., 0., 0.]]), array([[0., 0., 0., 1.]])],\n       [array([[0., 1., 0., 0.]]), array([[0., 0., 1., 0.]]),\n        array([[0., 0., 0., 1.]]), array([[0., 1., 0., 0.]]),\n        array([[1., 0., 0., 0.]]), array([[0., 0., 0., 1.]]),\n        array([[0., 0., 0., 1.]]), array([[0., 1., 0., 0.]]),\n        array([[0., 0., 0., 1.]]), array([[0., 0., 1., 0.]]),\n        array([[0., 1., 0., 0.]]), array([[0., 0., 0., 1.]]),\n        array([[0., 0., 1., 0.]]), array([[0., 0., 0., 1.]]),\n        array([[0., 1., 0., 0.]]), array([[0., 0., 1., 0.]]),\n        array([[0., 0., 1., 0.]]), array([[0., 1., 0., 0.]]),\n        array([[1., 0., 0., 0.]]), array([[0., 0., 0., 1.]]),\n        array([[1., 0., 0., 0.]]), array([[0., 0., 1., 0.]]),\n        array([[1., 0., 0., 0.]]), array([[0., 0., 0., 1.]]),\n        array([[1., 0., 0., 0.]]), array([[1., 0., 0., 0.]]),\n        array([[0., 1., 0., 0.]]), array([[1., 0., 0., 0.]]),\n        array([[1., 0., 0., 0.]]), array([[0., 0., 1., 0.]])],\n       [array([[0., 0., 0., 1.]]), array([[0., 1., 0., 0.]]),\n        array([[0., 0., 0., 1.]]), array([[1., 0., 0., 0.]]),\n        array([[1., 0., 0., 0.]]), array([[1., 0., 0., 0.]]),\n        array([[0., 0., 1., 0.]]), array([[0., 0., 0., 1.]]),\n        array([[0., 0., 0., 1.]]), array([[0., 0., 1., 0.]]),\n        array([[0., 1., 0., 0.]]), array([[0., 1., 0., 0.]]),\n        array([[0., 0., 0., 1.]]), array([[0., 1., 0., 0.]]),\n        array([[0., 1., 0., 0.]]), array([[0., 1., 0., 0.]]),\n        array([[0., 0., 0., 1.]]), array([[0., 1., 0., 0.]]),\n        array([[0., 0., 0., 1.]]), array([[0., 0., 0., 1.]]),\n        array([[0., 1., 0., 0.]]), array([[1., 0., 0., 0.]]),\n        array([[0., 1., 0., 0.]]), array([[0., 1., 0., 0.]]),\n        array([[1., 0., 0., 0.]]), array([[0., 0., 0., 1.]]),\n        array([[0., 0., 0., 1.]]), array([[1., 0., 0., 0.]]),\n        array([[0., 1., 0., 0.]]), array([[1., 0., 0., 0.]])],\n       [array([[0., 0., 0., 1.]]), array([[0., 1., 0., 0.]]),\n        array([[0., 1., 0., 0.]]), array([[0., 0., 1., 0.]]),\n        array([[0., 0., 0., 1.]]), array([[0., 1., 0., 0.]]),\n        array([[0., 1., 0., 0.]]), array([[0., 0., 1., 0.]]),\n        array([[0., 0., 1., 0.]]), array([[0., 0., 1., 0.]]),\n        array([[0., 1., 0., 0.]]), array([[1., 0., 0., 0.]]),\n        array([[0., 0., 0., 1.]]), array([[0., 0., 0., 1.]]),\n        array([[0., 0., 1., 0.]]), array([[0., 0., 1., 0.]]),\n        array([[1., 0., 0., 0.]]), array([[0., 0., 1., 0.]]),\n        array([[0., 0., 1., 0.]]), array([[1., 0., 0., 0.]]),\n        array([[0., 0., 0., 1.]]), array([[0., 0., 1., 0.]]),\n        array([[0., 0., 0., 1.]]), array([[0., 1., 0., 0.]]),\n        array([[1., 0., 0., 0.]]), array([[0., 0., 0., 1.]]),\n        array([[0., 0., 0., 1.]]), array([[1., 0., 0., 0.]]),\n        array([[1., 0., 0., 0.]]), array([[0., 0., 0., 1.]])],\n       [array([[0., 1., 0., 0.]]), array([[1., 0., 0., 0.]]),\n        array([[0., 0., 0., 1.]]), array([[1., 0., 0., 0.]]),\n        array([[1., 0., 0., 0.]]), array([[0., 0., 1., 0.]]),\n        array([[0., 0., 0., 1.]]), array([[1., 0., 0., 0.]]),\n        array([[0., 0., 0., 1.]]), array([[1., 0., 0., 0.]]),\n        array([[0., 0., 0., 1.]]), array([[0., 0., 0., 1.]]),\n        array([[0., 1., 0., 0.]]), array([[0., 0., 0., 1.]]),\n        array([[1., 0., 0., 0.]]), array([[0., 0., 0., 1.]]),\n        array([[0., 0., 0., 1.]]), array([[0., 0., 0., 1.]]),\n        array([[0., 0., 0., 1.]]), array([[0., 0., 1., 0.]]),\n        array([[0., 1., 0., 0.]]), array([[0., 0., 0., 1.]]),\n        array([[0., 1., 0., 0.]]), array([[0., 1., 0., 0.]]),\n        array([[0., 0., 0., 1.]]), array([[0., 0., 0., 1.]]),\n        array([[0., 0., 0., 1.]]), array([[0., 0., 0., 1.]]),\n        array([[0., 0., 1., 0.]]), array([[0., 0., 0., 1.]])],\n       [array([[1., 0., 0., 0.]]), array([[0., 0., 1., 0.]]),\n        array([[0., 0., 0., 1.]]), array([[0., 0., 1., 0.]]),\n        array([[0., 1., 0., 0.]]), array([[0., 1., 0., 0.]]),\n        array([[0., 1., 0., 0.]]), array([[0., 0., 1., 0.]]),\n        array([[0., 1., 0., 0.]]), array([[1., 0., 0., 0.]]),\n        array([[1., 0., 0., 0.]]), array([[1., 0., 0., 0.]]),\n        array([[0., 1., 0., 0.]]), array([[0., 0., 0., 1.]]),\n        array([[0., 0., 1., 0.]]), array([[0., 1., 0., 0.]]),\n        array([[0., 1., 0., 0.]]), array([[1., 0., 0., 0.]]),\n        array([[0., 1., 0., 0.]]), array([[0., 0., 0., 1.]]),\n        array([[0., 0., 1., 0.]]), array([[1., 0., 0., 0.]]),\n        array([[0., 1., 0., 0.]]), array([[1., 0., 0., 0.]]),\n        array([[1., 0., 0., 0.]]), array([[0., 1., 0., 0.]]),\n        array([[0., 0., 0., 1.]]), array([[0., 0., 0., 1.]]),\n        array([[0., 0., 1., 0.]]), array([[1., 0., 0., 0.]])],\n       [array([[0., 0., 0., 1.]]), array([[0., 0., 1., 0.]]),\n        array([[0., 0., 1., 0.]]), array([[1., 0., 0., 0.]]),\n        array([[0., 1., 0., 0.]]), array([[0., 0., 1., 0.]]),\n        array([[1., 0., 0., 0.]]), array([[0., 1., 0., 0.]]),\n        array([[0., 1., 0., 0.]]), array([[1., 0., 0., 0.]]),\n        array([[0., 0., 0., 1.]]), array([[0., 0., 1., 0.]]),\n        array([[0., 0., 1., 0.]]), array([[0., 0., 1., 0.]]),\n        array([[0., 0., 0., 1.]]), array([[0., 0., 1., 0.]]),\n        array([[0., 0., 1., 0.]]), array([[0., 0., 0., 1.]]),\n        array([[1., 0., 0., 0.]]), array([[1., 0., 0., 0.]]),\n        array([[0., 0., 0., 1.]]), array([[0., 0., 1., 0.]]),\n        array([[0., 0., 0., 1.]]), array([[0., 0., 0., 1.]]),\n        array([[0., 0., 0., 1.]]), array([[0., 0., 1., 0.]]),\n        array([[1., 0., 0., 0.]]), array([[0., 1., 0., 0.]]),\n        array([[0., 1., 0., 0.]]), array([[0., 0., 1., 0.]])],\n       [array([[0., 0., 1., 0.]]), array([[0., 1., 0., 0.]]),\n        array([[1., 0., 0., 0.]]), array([[0., 0., 0., 1.]]),\n        array([[1., 0., 0., 0.]]), array([[0., 1., 0., 0.]]),\n        array([[0., 1., 0., 0.]]), array([[0., 0., 0., 1.]]),\n        array([[0., 0., 1., 0.]]), array([[0., 0., 0., 1.]]),\n        array([[1., 0., 0., 0.]]), array([[0., 0., 0., 1.]]),\n        array([[0., 1., 0., 0.]]), array([[0., 1., 0., 0.]]),\n        array([[1., 0., 0., 0.]]), array([[0., 0., 0., 1.]]),\n        array([[1., 0., 0., 0.]]), array([[0., 0., 1., 0.]]),\n        array([[0., 0., 0., 1.]]), array([[1., 0., 0., 0.]]),\n        array([[1., 0., 0., 0.]]), array([[0., 1., 0., 0.]]),\n        array([[0., 1., 0., 0.]]), array([[0., 1., 0., 0.]]),\n        array([[0., 0., 0., 1.]]), array([[0., 0., 0., 1.]]),\n        array([[0., 1., 0., 0.]]), array([[0., 0., 0., 1.]]),\n        array([[0., 1., 0., 0.]]), array([[0., 0., 0., 1.]])],\n       [array([[0., 0., 0., 1.]]), array([[0., 1., 0., 0.]]),\n        array([[0., 1., 0., 0.]]), array([[0., 0., 1., 0.]]),\n        array([[0., 0., 0., 1.]]), array([[0., 1., 0., 0.]]),\n        array([[0., 1., 0., 0.]]), array([[1., 0., 0., 0.]]),\n        array([[0., 1., 0., 0.]]), array([[0., 1., 0., 0.]]),\n        array([[1., 0., 0., 0.]]), array([[0., 0., 0., 1.]]),\n        array([[1., 0., 0., 0.]]), array([[0., 1., 0., 0.]]),\n        array([[0., 0., 1., 0.]]), array([[0., 0., 1., 0.]]),\n        array([[0., 0., 0., 1.]]), array([[0., 1., 0., 0.]]),\n        array([[0., 0., 0., 1.]]), array([[0., 1., 0., 0.]]),\n        array([[0., 0., 0., 1.]]), array([[0., 0., 0., 1.]]),\n        array([[0., 0., 0., 1.]]), array([[1., 0., 0., 0.]]),\n        array([[0., 0., 0., 1.]]), array([[1., 0., 0., 0.]]),\n        array([[0., 1., 0., 0.]]), array([[1., 0., 0., 0.]]),\n        array([[1., 0., 0., 0.]]), array([[1., 0., 0., 0.]])],\n       [array([[0., 0., 1., 0.]]), array([[0., 1., 0., 0.]]),\n        array([[0., 0., 1., 0.]]), array([[0., 0., 1., 0.]]),\n        array([[0., 0., 1., 0.]]), array([[0., 0., 1., 0.]]),\n        array([[0., 1., 0., 0.]]), array([[0., 0., 1., 0.]]),\n        array([[0., 1., 0., 0.]]), array([[1., 0., 0., 0.]]),\n        array([[1., 0., 0., 0.]]), array([[0., 0., 0., 1.]]),\n        array([[1., 0., 0., 0.]]), array([[0., 0., 0., 1.]]),\n        array([[1., 0., 0., 0.]]), array([[0., 1., 0., 0.]]),\n        array([[0., 1., 0., 0.]]), array([[0., 0., 0., 1.]]),\n        array([[0., 1., 0., 0.]]), array([[0., 0., 0., 1.]]),\n        array([[0., 0., 0., 1.]]), array([[1., 0., 0., 0.]]),\n        array([[0., 1., 0., 0.]]), array([[1., 0., 0., 0.]]),\n        array([[0., 0., 1., 0.]]), array([[0., 0., 1., 0.]]),\n        array([[0., 1., 0., 0.]]), array([[1., 0., 0., 0.]]),\n        array([[0., 0., 0., 1.]]), array([[1., 0., 0., 0.]])],\n       [array([[1., 0., 0., 0.]]), array([[1., 0., 0., 0.]]),\n        array([[0., 0., 0., 1.]]), array([[0., 0., 0., 1.]]),\n        array([[0., 0., 1., 0.]]), array([[0., 0., 1., 0.]]),\n        array([[0., 0., 1., 0.]]), array([[0., 1., 0., 0.]]),\n        array([[0., 0., 0., 1.]]), array([[0., 0., 1., 0.]]),\n        array([[0., 0., 1., 0.]]), array([[1., 0., 0., 0.]]),\n        array([[0., 0., 1., 0.]]), array([[0., 0., 1., 0.]]),\n        array([[0., 0., 1., 0.]]), array([[1., 0., 0., 0.]]),\n        array([[0., 0., 1., 0.]]), array([[0., 0., 0., 1.]]),\n        array([[0., 0., 1., 0.]]), array([[0., 0., 0., 1.]]),\n        array([[0., 0., 0., 1.]]), array([[0., 0., 0., 1.]]),\n        array([[0., 1., 0., 0.]]), array([[0., 0., 1., 0.]]),\n        array([[1., 0., 0., 0.]]), array([[0., 1., 0., 0.]]),\n        array([[0., 1., 0., 0.]]), array([[1., 0., 0., 0.]]),\n        array([[0., 0., 0., 1.]]), array([[0., 0., 1., 0.]])],\n       [array([[0., 0., 0., 1.]]), array([[0., 0., 1., 0.]]),\n        array([[0., 1., 0., 0.]]), array([[0., 0., 1., 0.]]),\n        array([[0., 1., 0., 0.]]), array([[0., 1., 0., 0.]]),\n        array([[1., 0., 0., 0.]]), array([[1., 0., 0., 0.]]),\n        array([[0., 1., 0., 0.]]), array([[0., 1., 0., 0.]]),\n        array([[1., 0., 0., 0.]]), array([[0., 0., 1., 0.]]),\n        array([[0., 0., 1., 0.]]), array([[0., 0., 0., 1.]]),\n        array([[0., 0., 1., 0.]]), array([[0., 0., 1., 0.]]),\n        array([[0., 0., 1., 0.]]), array([[1., 0., 0., 0.]]),\n        array([[0., 1., 0., 0.]]), array([[0., 0., 1., 0.]]),\n        array([[1., 0., 0., 0.]]), array([[1., 0., 0., 0.]]),\n        array([[0., 1., 0., 0.]]), array([[0., 0., 0., 1.]]),\n        array([[0., 1., 0., 0.]]), array([[0., 0., 1., 0.]]),\n        array([[0., 0., 1., 0.]]), array([[1., 0., 0., 0.]]),\n        array([[0., 0., 0., 1.]]), array([[0., 0., 1., 0.]])],\n       [array([[0., 0., 0., 1.]]), array([[1., 0., 0., 0.]]),\n        array([[0., 0., 1., 0.]]), array([[0., 0., 1., 0.]]),\n        array([[0., 0., 0., 1.]]), array([[0., 0., 0., 1.]]),\n        array([[0., 0., 1., 0.]]), array([[0., 0., 0., 1.]]),\n        array([[1., 0., 0., 0.]]), array([[0., 0., 1., 0.]]),\n        array([[0., 0., 1., 0.]]), array([[0., 0., 0., 1.]]),\n        array([[0., 1., 0., 0.]]), array([[0., 1., 0., 0.]]),\n        array([[0., 0., 0., 1.]]), array([[0., 0., 0., 1.]]),\n        array([[0., 0., 1., 0.]]), array([[0., 0., 1., 0.]]),\n        array([[1., 0., 0., 0.]]), array([[0., 0., 1., 0.]]),\n        array([[1., 0., 0., 0.]]), array([[1., 0., 0., 0.]]),\n        array([[1., 0., 0., 0.]]), array([[0., 0., 1., 0.]]),\n        array([[0., 0., 0., 1.]]), array([[0., 1., 0., 0.]]),\n        array([[0., 1., 0., 0.]]), array([[0., 1., 0., 0.]]),\n        array([[1., 0., 0., 0.]]), array([[0., 0., 1., 0.]])],\n       [array([[0., 1., 0., 0.]]), array([[0., 0., 1., 0.]]),\n        array([[0., 1., 0., 0.]]), array([[1., 0., 0., 0.]]),\n        array([[0., 1., 0., 0.]]), array([[0., 0., 1., 0.]]),\n        array([[1., 0., 0., 0.]]), array([[0., 0., 1., 0.]]),\n        array([[0., 0., 0., 1.]]), array([[0., 1., 0., 0.]]),\n        array([[0., 0., 0., 1.]]), array([[1., 0., 0., 0.]]),\n        array([[0., 0., 0., 1.]]), array([[0., 1., 0., 0.]]),\n        array([[1., 0., 0., 0.]]), array([[0., 0., 1., 0.]]),\n        array([[0., 1., 0., 0.]]), array([[1., 0., 0., 0.]]),\n        array([[0., 1., 0., 0.]]), array([[0., 0., 0., 1.]]),\n        array([[0., 0., 1., 0.]]), array([[0., 0., 1., 0.]]),\n        array([[1., 0., 0., 0.]]), array([[0., 0., 0., 1.]]),\n        array([[0., 1., 0., 0.]]), array([[0., 1., 0., 0.]]),\n        array([[0., 0., 0., 1.]]), array([[1., 0., 0., 0.]]),\n        array([[0., 0., 0., 1.]]), array([[0., 0., 0., 1.]])],\n       [array([[0., 0., 0., 1.]]), array([[1., 0., 0., 0.]]),\n        array([[1., 0., 0., 0.]]), array([[0., 1., 0., 0.]]),\n        array([[0., 0., 1., 0.]]), array([[0., 0., 0., 1.]]),\n        array([[0., 1., 0., 0.]]), array([[0., 0., 0., 1.]]),\n        array([[0., 0., 0., 1.]]), array([[0., 1., 0., 0.]]),\n        array([[0., 0., 1., 0.]]), array([[0., 1., 0., 0.]]),\n        array([[0., 0., 1., 0.]]), array([[1., 0., 0., 0.]]),\n        array([[1., 0., 0., 0.]]), array([[0., 1., 0., 0.]]),\n        array([[1., 0., 0., 0.]]), array([[0., 1., 0., 0.]]),\n        array([[0., 1., 0., 0.]]), array([[0., 0., 1., 0.]]),\n        array([[0., 1., 0., 0.]]), array([[1., 0., 0., 0.]]),\n        array([[0., 0., 0., 1.]]), array([[0., 0., 0., 1.]]),\n        array([[1., 0., 0., 0.]]), array([[0., 0., 0., 1.]]),\n        array([[0., 0., 1., 0.]]), array([[1., 0., 0., 0.]]),\n        array([[0., 1., 0., 0.]]), array([[0., 1., 0., 0.]])],\n       [array([[0., 1., 0., 0.]]), array([[0., 0., 1., 0.]]),\n        array([[1., 0., 0., 0.]]), array([[0., 0., 1., 0.]]),\n        array([[0., 1., 0., 0.]]), array([[0., 0., 0., 1.]]),\n        array([[0., 0., 0., 1.]]), array([[1., 0., 0., 0.]]),\n        array([[0., 1., 0., 0.]]), array([[0., 0., 0., 1.]]),\n        array([[1., 0., 0., 0.]]), array([[0., 0., 1., 0.]]),\n        array([[0., 1., 0., 0.]]), array([[0., 0., 0., 1.]]),\n        array([[0., 0., 0., 1.]]), array([[0., 0., 1., 0.]]),\n        array([[1., 0., 0., 0.]]), array([[0., 0., 0., 1.]]),\n        array([[0., 0., 1., 0.]]), array([[1., 0., 0., 0.]]),\n        array([[0., 0., 1., 0.]]), array([[1., 0., 0., 0.]]),\n        array([[1., 0., 0., 0.]]), array([[0., 0., 1., 0.]]),\n        array([[0., 0., 0., 1.]]), array([[1., 0., 0., 0.]]),\n        array([[1., 0., 0., 0.]]), array([[0., 1., 0., 0.]]),\n        array([[0., 1., 0., 0.]]), array([[1., 0., 0., 0.]])],\n       [array([[0., 1., 0., 0.]]), array([[0., 0., 0., 1.]]),\n        array([[1., 0., 0., 0.]]), array([[1., 0., 0., 0.]]),\n        array([[0., 0., 1., 0.]]), array([[1., 0., 0., 0.]]),\n        array([[0., 0., 0., 1.]]), array([[0., 0., 1., 0.]]),\n        array([[0., 0., 1., 0.]]), array([[0., 0., 1., 0.]]),\n        array([[0., 0., 0., 1.]]), array([[0., 0., 1., 0.]]),\n        array([[0., 0., 0., 1.]]), array([[1., 0., 0., 0.]]),\n        array([[1., 0., 0., 0.]]), array([[0., 0., 0., 1.]]),\n        array([[0., 1., 0., 0.]]), array([[1., 0., 0., 0.]]),\n        array([[0., 0., 0., 1.]]), array([[0., 0., 1., 0.]]),\n        array([[0., 0., 1., 0.]]), array([[1., 0., 0., 0.]]),\n        array([[1., 0., 0., 0.]]), array([[0., 0., 1., 0.]]),\n        array([[0., 0., 0., 1.]]), array([[0., 0., 1., 0.]]),\n        array([[0., 0., 1., 0.]]), array([[0., 1., 0., 0.]]),\n        array([[0., 1., 0., 0.]]), array([[0., 0., 1., 0.]])]],\n      dtype=object)"
     },
     "execution_count": 117,
     "metadata": {},
     "output_type": "execute_result"
    }
   ],
   "source": [
    "df_np[features]"
   ],
   "metadata": {
    "collapsed": false
   }
  },
  {
   "cell_type": "markdown",
   "source": [
    "### Tensor transformation works for individual indices"
   ],
   "metadata": {
    "collapsed": false
   }
  },
  {
   "cell_type": "code",
   "execution_count": null,
   "outputs": [],
   "source": [
    "a = torch.tensor(df_np[features][0][0], dtype=torch.int32)\n",
    "b = torch.tensor(df_np[features][0][1], dtype=torch.int32)"
   ],
   "metadata": {
    "collapsed": false
   }
  },
  {
   "cell_type": "markdown",
   "source": [
    "### Does not work for the whole train dataset, nor for more than one one-hot encoded nd.array at the time"
   ],
   "metadata": {
    "collapsed": false
   }
  },
  {
   "cell_type": "code",
   "execution_count": 135,
   "outputs": [
    {
     "name": "stdout",
     "output_type": "stream",
     "text": [
      "<class 'pandas.core.frame.DataFrame'>\n",
      "RangeIndex: 2 entries, 0 to 1\n",
      "Data columns (total 1 columns):\n",
      " #   Column  Non-Null Count  Dtype \n",
      "---  ------  --------------  ----- \n",
      " 0   col1    2 non-null      object\n",
      "dtypes: object(1)\n",
      "memory usage: 144.0+ bytes\n"
     ]
    }
   ],
   "source": [
    "a = torch.tensor(df_np[features][0][0], dtype=torch.int32)\n",
    "b = torch.tensor(df_np[features][0][1], dtype=torch.int32)\n",
    "c = {'col1':[a,b]}\n",
    "df_c = pd.DataFrame(data=c)\n",
    "df_c.info()"
   ],
   "metadata": {
    "collapsed": false
   }
  },
  {
   "cell_type": "code",
   "execution_count": 137,
   "outputs": [
    {
     "ename": "TypeError",
     "evalue": "can't convert np.ndarray of type numpy.object_. The only supported types are: float64, float32, float16, complex64, complex128, int64, int32, int16, int8, uint8, and bool.",
     "output_type": "error",
     "traceback": [
      "\u001B[1;31m---------------------------------------------------------------------------\u001B[0m",
      "\u001B[1;31mTypeError\u001B[0m                                 Traceback (most recent call last)",
      "Cell \u001B[1;32mIn[137], line 1\u001B[0m\n\u001B[1;32m----> 1\u001B[0m \u001B[43mtorch\u001B[49m\u001B[38;5;241;43m.\u001B[39;49m\u001B[43mtensor\u001B[49m\u001B[43m(\u001B[49m\u001B[43mdf_c\u001B[49m\u001B[38;5;241;43m.\u001B[39;49m\u001B[43mvalues\u001B[49m\u001B[43m,\u001B[49m\u001B[43m \u001B[49m\u001B[43mdtype\u001B[49m\u001B[38;5;241;43m=\u001B[39;49m\u001B[43mtorch\u001B[49m\u001B[38;5;241;43m.\u001B[39;49m\u001B[43mint32\u001B[49m\u001B[43m)\u001B[49m\n",
      "\u001B[1;31mTypeError\u001B[0m: can't convert np.ndarray of type numpy.object_. The only supported types are: float64, float32, float16, complex64, complex128, int64, int32, int16, int8, uint8, and bool."
     ]
    }
   ],
   "source": [
    "torch.tensor(df_c.values, dtype=torch.int32)"
   ],
   "metadata": {
    "collapsed": false
   }
  },
  {
   "cell_type": "code",
   "execution_count": 98,
   "outputs": [
    {
     "data": {
      "text/plain": "tensor([[1, 0, 0, 0]], dtype=torch.int32)"
     },
     "execution_count": 98,
     "metadata": {},
     "output_type": "execute_result"
    }
   ],
   "source": [
    "torch.tensor(df_std[features].values[0][0], dtype=torch.int32)"
   ],
   "metadata": {
    "collapsed": false
   }
  },
  {
   "cell_type": "code",
   "execution_count": 55,
   "outputs": [
    {
     "ename": "TypeError",
     "evalue": "can't convert np.ndarray of type numpy.object_. The only supported types are: float64, float32, float16, complex64, complex128, int64, int32, int16, int8, uint8, and bool.",
     "output_type": "error",
     "traceback": [
      "\u001B[1;31m---------------------------------------------------------------------------\u001B[0m",
      "\u001B[1;31mTypeError\u001B[0m                                 Traceback (most recent call last)",
      "Cell \u001B[1;32mIn[55], line 1\u001B[0m\n\u001B[1;32m----> 1\u001B[0m \u001B[43mtorch\u001B[49m\u001B[38;5;241;43m.\u001B[39;49m\u001B[43mfrom_numpy\u001B[49m\u001B[43m(\u001B[49m\u001B[43mdf_std\u001B[49m\u001B[43m[\u001B[49m\u001B[43mfeatures\u001B[49m\u001B[43m]\u001B[49m\u001B[38;5;241;43m.\u001B[39;49m\u001B[43mvalues\u001B[49m\u001B[43m)\u001B[49m\n",
      "\u001B[1;31mTypeError\u001B[0m: can't convert np.ndarray of type numpy.object_. The only supported types are: float64, float32, float16, complex64, complex128, int64, int32, int16, int8, uint8, and bool."
     ]
    }
   ],
   "source": [
    "torch.from_numpy(df_std[features].values)"
   ],
   "metadata": {
    "collapsed": false
   }
  },
  {
   "cell_type": "code",
   "execution_count": 47,
   "outputs": [
    {
     "ename": "TypeError",
     "evalue": "can't convert np.ndarray of type numpy.object_. The only supported types are: float64, float32, float16, complex64, complex128, int64, int32, int16, int8, uint8, and bool.",
     "output_type": "error",
     "traceback": [
      "\u001B[1;31m---------------------------------------------------------------------------\u001B[0m",
      "\u001B[1;31mTypeError\u001B[0m                                 Traceback (most recent call last)",
      "Cell \u001B[1;32mIn[47], line 4\u001B[0m\n\u001B[0;32m      1\u001B[0m i \u001B[38;5;241m=\u001B[39m \u001B[38;5;241m27\u001B[39m\n\u001B[0;32m      2\u001B[0m sequence_length \u001B[38;5;241m=\u001B[39m \u001B[38;5;241m30\u001B[39m\n\u001B[1;32m----> 4\u001B[0m train_dataset \u001B[38;5;241m=\u001B[39m \u001B[43mSequenceDataset\u001B[49m\u001B[43m(\u001B[49m\n\u001B[0;32m      5\u001B[0m \u001B[43m    \u001B[49m\u001B[43mdf_std\u001B[49m\u001B[43m,\u001B[49m\n\u001B[0;32m      6\u001B[0m \u001B[43m    \u001B[49m\u001B[43mtarget\u001B[49m\u001B[38;5;241;43m=\u001B[39;49m\u001B[43mtarget_energy\u001B[49m\u001B[43m,\u001B[49m\n\u001B[0;32m      7\u001B[0m \u001B[43m    \u001B[49m\u001B[43mfeatures\u001B[49m\u001B[38;5;241;43m=\u001B[39;49m\u001B[43mfeatures\u001B[49m\u001B[43m,\u001B[49m\n\u001B[0;32m      8\u001B[0m \u001B[43m    \u001B[49m\u001B[43msequence_length\u001B[49m\u001B[38;5;241;43m=\u001B[39;49m\u001B[43msequence_length\u001B[49m\n\u001B[0;32m      9\u001B[0m \u001B[43m)\u001B[49m\n\u001B[0;32m     11\u001B[0m X, y \u001B[38;5;241m=\u001B[39m train_dataset[i]\n\u001B[0;32m     12\u001B[0m \u001B[38;5;28mprint\u001B[39m(X)\n",
      "Cell \u001B[1;32mIn[38], line 7\u001B[0m, in \u001B[0;36mSequenceDataset.__init__\u001B[1;34m(self, dataframe, target, features, sequence_length)\u001B[0m\n\u001B[0;32m      5\u001B[0m \u001B[38;5;28mself\u001B[39m\u001B[38;5;241m.\u001B[39msequence_length \u001B[38;5;241m=\u001B[39m sequence_length\n\u001B[0;32m      6\u001B[0m \u001B[38;5;28mself\u001B[39m\u001B[38;5;241m.\u001B[39my \u001B[38;5;241m=\u001B[39m torch\u001B[38;5;241m.\u001B[39mtensor(dataframe[\u001B[38;5;28mself\u001B[39m\u001B[38;5;241m.\u001B[39mtarget]\u001B[38;5;241m.\u001B[39mvalues)\u001B[38;5;241m.\u001B[39mfloat()\n\u001B[1;32m----> 7\u001B[0m \u001B[38;5;28mself\u001B[39m\u001B[38;5;241m.\u001B[39mX \u001B[38;5;241m=\u001B[39m \u001B[43mtorch\u001B[49m\u001B[38;5;241;43m.\u001B[39;49m\u001B[43mtensor\u001B[49m\u001B[43m(\u001B[49m\u001B[43mdataframe\u001B[49m\u001B[43m[\u001B[49m\u001B[38;5;28;43mself\u001B[39;49m\u001B[38;5;241;43m.\u001B[39;49m\u001B[43mfeatures\u001B[49m\u001B[43m]\u001B[49m\u001B[38;5;241;43m.\u001B[39;49m\u001B[43mvalues\u001B[49m\u001B[43m)\u001B[49m\u001B[38;5;241m.\u001B[39mfloat()\n",
      "\u001B[1;31mTypeError\u001B[0m: can't convert np.ndarray of type numpy.object_. The only supported types are: float64, float32, float16, complex64, complex128, int64, int32, int16, int8, uint8, and bool."
     ]
    }
   ],
   "source": [
    "i = 27\n",
    "sequence_length = 30\n",
    "\n",
    "train_dataset = SequenceDataset(\n",
    "    df_std,\n",
    "    target=target_energy,\n",
    "    features=features,\n",
    "    sequence_length=sequence_length\n",
    ")\n",
    "\n",
    "X, y = train_dataset[i]\n",
    "print(X)"
   ],
   "metadata": {
    "collapsed": false
   }
  },
  {
   "cell_type": "markdown",
   "source": [
    "### So this step also does not work... once we solve this it should be pretty easy, the whole procedure for a LSTM regression is here: https://www.crosstab.io/articles/time-series-pytorch-lstm/"
   ],
   "metadata": {
    "collapsed": false
   },
   "execution_count": 140
  }
 ],
 "metadata": {
  "kernelspec": {
   "display_name": "Python 3",
   "language": "python",
   "name": "python3"
  },
  "language_info": {
   "codemirror_mode": {
    "name": "ipython",
    "version": 2
   },
   "file_extension": ".py",
   "mimetype": "text/x-python",
   "name": "python",
   "nbconvert_exporter": "python",
   "pygments_lexer": "ipython2",
   "version": "2.7.6"
  }
 },
 "nbformat": 4,
 "nbformat_minor": 0
}
