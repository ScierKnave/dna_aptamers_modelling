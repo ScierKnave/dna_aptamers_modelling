{
 "cells": [
  {
   "cell_type": "code",
   "execution_count": 35,
   "metadata": {},
   "outputs": [],
   "source": [
    "import math\n",
    "import os\n",
    "import torch\n",
    "from torch import nn, Tensor\n",
    "import torch.nn.functional as F\n",
    "from torch.nn import TransformerEncoder, TransformerEncoderLayer\n",
    "from torch.utils.data import TensorDataset, DataLoader\n",
    "device = torch.device('cuda' if torch.cuda.is_available() else 'cpu')\n",
    "import json\n",
    "import pandas as pd\n",
    "import sklearn\n",
    "from sklearn.preprocessing import OneHotEncoder"
   ]
  },
  {
   "attachments": {},
   "cell_type": "markdown",
   "metadata": {},
   "source": [
    "# Hyperparameters"
   ]
  },
  {
   "cell_type": "code",
   "execution_count": 36,
   "metadata": {},
   "outputs": [],
   "source": [
    "# Transformer HyperHPeters\n",
    "# Only 4 nucleotides possible (ACGT)\n",
    "ntokens_HP = 4\n",
    "# Number of attention heads\n",
    "nhead_HP = 8\n",
    "# Output size of the heads, which \n",
    "# learn an embedding.\n",
    "head_embedsize_HP = 4\n",
    "# For some reason PyTorch needs us to do this manually\n",
    "d_model_HP = head_embedsize_HP * nhead_HP\n",
    "# No dropout for now\n",
    "dropout_HP = 0\n",
    "# Standard stuff\n",
    "activation_HP = \"relu\"\n",
    "layer_norm_eps_HP = 1e-5\n",
    "batch_first_HP = True\n",
    "norm_first_HP = False\n",
    "\n",
    "# Trainig and validation Hyperparameters\n",
    "datasetsize_HP = 1000\n",
    "split_HP = 0.2\n",
    "batchsize_HP = 100\n",
    "batchsize_HP = min(batchsize_HP, (int)(datasetsize_HP*0.2))\n",
    "nepochs_HP = 5\n",
    "device = torch.device(\"cuda\" if torch.cuda.is_available() else \"cpu\")\n",
    "loss_HP = nn.MSELoss()\n",
    "learnrate_HP = 1e-4"
   ]
  },
  {
   "cell_type": "code",
   "execution_count": 37,
   "metadata": {},
   "outputs": [],
   "source": [
    "# Create transformer model\n",
    "class RegressionTranformer(nn.Module):\n",
    "    def __init__(self):\n",
    "        super(RegressionTranformer, self).__init__()\n",
    "        self.encoder_transformer = nn.TransformerEncoderLayer(\n",
    "            d_model = d_model_HP,\n",
    "            nhead = nhead_HP,\n",
    "            dropout = dropout_HP,\n",
    "            activation = activation_HP,\n",
    "            layer_norm_eps = layer_norm_eps_HP,\n",
    "            batch_first = batch_first_HP,\n",
    "            norm_first = norm_first_HP\n",
    "        )\n",
    "        self.embedder = nn.Embedding(ntokens_HP, d_model_HP)\n",
    "        self.linear = nn.Linear(d_model_HP, 1)\n",
    "\n",
    "        # ADD FORWARD LAYER -> ENCODER OUTPUT -> 1 FOR REGRES\n",
    "\n",
    "    def forward(self, x):\n",
    "        ŷ = self.embedder(x)\n",
    "        ŷ = self.encoder_transformer(ŷ)\n",
    "        ŷ = self.linear(ŷ)\n",
    "        return ŷ\n",
    "        "
   ]
  },
  {
   "cell_type": "code",
   "execution_count": 38,
   "metadata": {},
   "outputs": [
    {
     "name": "stdout",
     "output_type": "stream",
     "text": [
      "torch.Size([10, 512])\n"
     ]
    }
   ],
   "source": [
    "encoder_layer = nn.TransformerEncoderLayer(d_model=512, nhead=8)\n",
    "src = torch.rand(10, 512)\n",
    "out = encoder_layer(src)\n",
    "print(out.shape)"
   ]
  },
  {
   "attachments": {},
   "cell_type": "markdown",
   "metadata": {},
   "source": [
    "# Importation and preprocessing"
   ]
  },
  {
   "cell_type": "code",
   "execution_count": 39,
   "metadata": {},
   "outputs": [],
   "source": [
    "features_df = pd.read_json('data\\strandenergylist.json')\n",
    "energy_df = features_df[1]\n",
    "energy_df = energy_df.head(datasetsize_HP)\n",
    "features_df = features_df.head(datasetsize_HP)\n",
    "features_df = features_df[0].str.split('', expand=True)\n",
    "features_df = features_df.drop([0, 31], axis=1)\n",
    "labels_df = features_df[1]"
   ]
  },
  {
   "attachments": {},
   "cell_type": "markdown",
   "metadata": {},
   "source": [
    "### Transformation into pytorch tensors"
   ]
  },
  {
   "cell_type": "code",
   "execution_count": 40,
   "metadata": {},
   "outputs": [],
   "source": [
    "# Transform string features into as DNA tensor\n",
    "dna = features_df.to_numpy()\n",
    "for i in range(dna.shape[0]):\n",
    "    for j in range(dna.shape[1]):\n",
    "        if (dna[i,j] == 'A'): dna[i,j] = 0\n",
    "        if (dna[i,j] == 'C'): dna[i,j] = 1\n",
    "        if (dna[i,j] == 'G'): dna[i,j] = 2\n",
    "        if (dna[i,j] == 'T'): dna[i,j] = 3\n",
    "dna = dna.astype(int)\n",
    "dna = torch.from_numpy(dna)\n",
    "dna = F.one_hot(dna.to(torch.int64), num_classes=4).to(device)\n",
    "dna = dna.reshape(datasetsize_HP, 120)\n",
    "# Get free energy as pytorch tensor\n",
    "energy = torch.tensor(energy_df.values).to(torch.float).to(device)"
   ]
  },
  {
   "attachments": {},
   "cell_type": "markdown",
   "metadata": {},
   "source": [
    "### Creation of test and validation iterators"
   ]
  },
  {
   "cell_type": "code",
   "execution_count": 47,
   "metadata": {},
   "outputs": [],
   "source": [
    "dataset = TensorDataset(dna, energy)\n",
    "ntrain = (int) (split_HP * datasetsize_HP)\n",
    "ntest = datasetsize_HP - ntrain\n",
    "train_set, vali_set = torch.utils.data.random_split(dataset, [ntrain, ntest])\n",
    "\n",
    "train_dataloader = DataLoader(train_set, batch_size=batchsize_HP, shuffle=True)\n",
    "vali_dataloader = DataLoader(vali_set, batch_size=datasetsize_HP, shuffle=True)"
   ]
  },
  {
   "attachments": {},
   "cell_type": "markdown",
   "metadata": {},
   "source": [
    "# Train the Transformer"
   ]
  },
  {
   "cell_type": "code",
   "execution_count": 42,
   "metadata": {},
   "outputs": [
    {
     "name": "stderr",
     "output_type": "stream",
     "text": [
      "c:\\ProgramData\\miniconda3\\lib\\site-packages\\torch\\nn\\modules\\loss.py:536: UserWarning: Using a target size (torch.Size([100])) that is different to the input size (torch.Size([100, 120, 1])). This will likely lead to incorrect results due to broadcasting. Please ensure they have the same size.\n",
      "  return F.mse_loss(input, target, reduction=self.reduction)\n"
     ]
    },
    {
     "name": "stdout",
     "output_type": "stream",
     "text": [
      "tensor(17.5319, grad_fn=<MseLossBackward0>)\n",
      "tensor(13.6409, grad_fn=<MseLossBackward0>)\n",
      "tensor(13.7521, grad_fn=<MseLossBackward0>)\n",
      "tensor(10.6784, grad_fn=<MseLossBackward0>)\n",
      "tensor(10.4984, grad_fn=<MseLossBackward0>)\n"
     ]
    }
   ],
   "source": [
    "transformer = RegressionTranformer()\n",
    "transformer = transformer.to(device)\n",
    "\n",
    "transformer_optimizer = torch.optim.Adam(transformer.parameters(), lr=learnrate_HP)\n",
    "\n",
    "\n",
    "\n",
    "def trainroutine():\n",
    "    for epoch in range(nepochs_HP):\n",
    "        running_loss = 0.0\n",
    "        for i, (x_batch, y_batch) in enumerate(train_dataloader):\n",
    "            x_batch = x_batch.to(device)\n",
    "            y_batch = y_batch.to(device)\n",
    "            \n",
    "            # Forward propagation\n",
    "            ŷ_batch = transformer(x_batch)\n",
    "            \n",
    "            # Backpropagation\n",
    "            batch_loss = loss_HP(ŷ_batch, y_batch)\n",
    "            batch_loss.backward()\n",
    "            transformer_optimizer.step()\n",
    "            transformer_optimizer.zero_grad()\n",
    "\n",
    "            # Print statistics\n",
    "            running_loss += batch_loss.item()\n",
    "        print(batch_loss)\n",
    "trainroutine()\n",
    "torch.save(transformer.state_dict(),\"transformer_weights.pt\")\n"
   ]
  },
  {
   "attachments": {},
   "cell_type": "markdown",
   "metadata": {},
   "source": [
    "# Get validation accuracy"
   ]
  },
  {
   "cell_type": "code",
   "execution_count": 50,
   "metadata": {},
   "outputs": [
    {
     "name": "stdout",
     "output_type": "stream",
     "text": [
      "8.622295379638672\n"
     ]
    }
   ],
   "source": [
    "def get_reg_accuracy():\n",
    "    batch_loss = 0\n",
    "    for (x_fullbatch, y_fullbatch) in vali_dataloader:\n",
    "            x_fullbatch = x_fullbatch.to(device)\n",
    "            y_fullbatch = y_fullbatch.to(device)\n",
    "            ŷ_fullbatch = transformer(x_fullbatch)\n",
    "            batch_loss = loss_HP(ŷ_fullbatch, y_fullbatch)\n",
    "    return batch_loss.item()\n",
    "print( get_reg_accuracy() )"
   ]
  },
  {
   "attachments": {},
   "cell_type": "markdown",
   "metadata": {},
   "source": [
    "# Notes\n",
    "\n",
    "- We could add a positionnal encoding (with\n",
    "PositionalEncoding) (see https://pytorch.org/tutorials/beginner/transformer_tutorial.html)\n",
    "\n",
    "Usually, embedding is done in order to compress the representation of words (loss of information).\n",
    "In our case, their are 4 possible tokens, which means that no compression is needed."
   ]
  }
 ],
 "metadata": {
  "kernelspec": {
   "display_name": "base",
   "language": "python",
   "name": "python3"
  },
  "language_info": {
   "codemirror_mode": {
    "name": "ipython",
    "version": 3
   },
   "file_extension": ".py",
   "mimetype": "text/x-python",
   "name": "python",
   "nbconvert_exporter": "python",
   "pygments_lexer": "ipython3",
   "version": "3.10.8"
  },
  "orig_nbformat": 4
 },
 "nbformat": 4,
 "nbformat_minor": 2
}
