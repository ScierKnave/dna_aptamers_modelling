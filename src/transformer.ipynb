{
 "cells": [
  {
   "cell_type": "code",
   "execution_count": null,
   "metadata": {},
   "outputs": [],
   "source": [
    "import math\n",
    "import os\n",
    "import torch\n",
    "from torch import nn, Tensor\n",
    "import torch.nn.functional as F\n",
    "from torch.nn import TransformerEncoder, TransformerEncoderLayer\n",
    "from torch.utils.data import dataset\n",
    "device = torch.device('cuda' if torch.cuda.is_available() else 'cpu')\n",
    "import json\n",
    "import pandas as pd\n",
    "import sklearn\n",
    "from sklearn.preprocessing import OneHotEncoder"
   ]
  },
  {
   "attachments": {},
   "cell_type": "markdown",
   "metadata": {},
   "source": [
    "# HyperHPeters"
   ]
  },
  {
   "cell_type": "code",
   "execution_count": null,
   "metadata": {},
   "outputs": [],
   "source": [
    "# Transformer HyperHPeters\n",
    "# Only 4 nucleotides possible (ACGT)\n",
    "ntokens_HP = 4\n",
    "# Number of attention heads\n",
    "nhead_HP = 8\n",
    "# Output size of the heads, which \n",
    "# learn an embedding.\n",
    "head_embedsize_HP = 4\n",
    "# For some reason PyTorch needs us to do this manually\n",
    "d_model_HP = head_embedsize_HP * nhead_HP\n",
    "# Output dimension of the feedforward network\n",
    "# Set to 1 since this is a regression task\n",
    "dim_feedforward_HP = 1\n",
    "# No dropout for now\n",
    "dropout_HP = 0\n",
    "# Standard stuff\n",
    "activation_HP = \"relu\"\n",
    "layer_norm_eps_HP = 1e-5\n",
    "batch_first_HP = True\n",
    "norm_first_HP = False\n",
    "\n",
    "# Data:\n",
    "n_rows_HP = 100\n",
    "split_HP = 0.2"
   ]
  },
  {
   "cell_type": "code",
   "execution_count": null,
   "metadata": {},
   "outputs": [],
   "source": [
    "# Create transformer model\n",
    "class RegressionTranformer(nn.Module):\n",
    "    def __init__(self):\n",
    "        super().__init__()\n",
    "        self.encoder_transformer = nn.TransformerEncoderLayer(\n",
    "            d_model = d_model_HP,\n",
    "            nhead = nhead_HP,\n",
    "            dim_feedforward = dim_feedforward_HP,\n",
    "            dropout = dropout_HP,\n",
    "            activation = activation_HP,\n",
    "            layer_norm_eps = layer_norm_eps_HP,\n",
    "            batch_first = batch_first_HP,\n",
    "            norm_first = norm_first_HP\n",
    "        )\n",
    "        self.embedder = nn.Embedding(ntokens_HP, d_model_HP)\n",
    "\n",
    "    def forward(self, X):\n",
    "        Y = self.embedder(X)\n",
    "        Y = self.encoder_transformer(Y)\n",
    "        return Y\n",
    "        \n",
    "RegressionTranformer = RegressionTranformer().to(device)"
   ]
  },
  {
   "attachments": {},
   "cell_type": "markdown",
   "metadata": {},
   "source": [
    "# Importation and preprocessing"
   ]
  },
  {
   "cell_type": "code",
   "execution_count": null,
   "metadata": {},
   "outputs": [],
   "source": [
    "features_df = pd.read_json('data\\strandenergylist.json')\n",
    "energy_df = features_df[1]\n",
    "features_df = features_df.head(n_rows_HP)\n",
    "features_df = features_df[0].str.split('', expand=True)\n",
    "features_df = features_df.drop([0, 31], axis=1)\n",
    "labels_df = features_df[1]"
   ]
  },
  {
   "attachments": {},
   "cell_type": "markdown",
   "metadata": {},
   "source": [
    "### Transformation into pytorch tensors"
   ]
  },
  {
   "cell_type": "code",
   "execution_count": null,
   "metadata": {},
   "outputs": [],
   "source": [
    "# Transform string features into as DNA tensor\n",
    "dna = features_df.to_numpy()\n",
    "for i in range(dna.shape[0]):\n",
    "    for j in range(dna.shape[1]):\n",
    "        if (dna[i,j] == 'A'): dna[i,j] = 0\n",
    "        if (dna[i,j] == 'C'): dna[i,j] = 1\n",
    "        if (dna[i,j] == 'G'): dna[i,j] = 2\n",
    "        if (dna[i,j] == 'T'): dna[i,j] = 3\n",
    "dna = dna.astype(int)\n",
    "dna = torch.from_numpy(dna)\n",
    "dna = F.one_hot(dna.to(torch.int64), num_classes=4)\n",
    "dna\n",
    "\n",
    "# Get free energy as pytorch tensor\n",
    "energy = torch.tensor(energy_df.values)\n",
    "print(energy)"
   ]
  },
  {
   "attachments": {},
   "cell_type": "markdown",
   "metadata": {},
   "source": [
    "### Creation of test and validation iterators"
   ]
  },
  {
   "cell_type": "code",
   "execution_count": null,
   "metadata": {},
   "outputs": [],
   "source": [
    "dataset = TensorDataset()\n",
    "ntrain = (int) split_HP * n_rows_HP\n",
    "ntest = n_rows_HP - ntrain\n",
    "train_set, vali_set = torch.utils.data.random_split(dataset, [ntrain, ntest])\n",
    "test_dataloader = \n",
    "\n",
    "vali_dataload = "
   ]
  },
  {
   "attachments": {},
   "cell_type": "markdown",
   "metadata": {},
   "source": [
    "# Train the Transformer"
   ]
  },
  {
   "cell_type": "code",
   "execution_count": null,
   "metadata": {},
   "outputs": [],
   "source": []
  },
  {
   "attachments": {},
   "cell_type": "markdown",
   "metadata": {},
   "source": [
    "# Notes\n",
    "\n",
    "- We could add a positionnal encoding (with\n",
    "PositionalEncoding) (see https://pytorch.org/tutorials/beginner/transformer_tutorial.html)\n",
    "\n",
    "Usually, embedding is done in order to compress the representation of words (loss of information).\n",
    "In our case, their are 4 possible tokens, which means that no compression is needed."
   ]
  }
 ],
 "metadata": {
  "kernelspec": {
   "display_name": "base",
   "language": "python",
   "name": "python3"
  },
  "language_info": {
   "codemirror_mode": {
    "name": "ipython",
    "version": 3
   },
   "file_extension": ".py",
   "mimetype": "text/x-python",
   "name": "python",
   "nbconvert_exporter": "python",
   "pygments_lexer": "ipython3",
   "version": "3.10.8"
  },
  "orig_nbformat": 4
 },
 "nbformat": 4,
 "nbformat_minor": 2
}
