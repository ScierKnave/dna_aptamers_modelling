{
  "cells": [
    {
      "cell_type": "code",
      "execution_count": 28,
      "metadata": {
        "id": "OvvkIKdVhMwf"
      },
      "outputs": [],
      "source": [
        "import math\n",
        "import os\n",
        "import torch\n",
        "from torch import nn, Tensor\n",
        "import torch.nn.functional as F\n",
        "from torch.nn import TransformerEncoder, TransformerEncoderLayer\n",
        "from torch.utils.data import TensorDataset, DataLoader\n",
        "device = torch.device('cuda' if torch.cuda.is_available() else 'cpu')\n",
        "import json\n",
        "import pandas as pd\n",
        "import numpy as np\n",
        "import sklearn\n",
        "from sklearn.preprocessing import OneHotEncoder\n",
        "\n",
        "if torch.cuda.is_available():\n",
        "  torch.set_default_tensor_type('torch.cuda.FloatTensor')"
      ]
    },
    {
      "cell_type": "markdown",
      "metadata": {
        "id": "N6_JjGTPhMwg"
      },
      "source": [
        "# Hyperparameters"
      ]
    },
    {
      "cell_type": "code",
      "execution_count": 29,
      "metadata": {
        "id": "oYsS0wzFhMwh"
      },
      "outputs": [],
      "source": [
        "# Transformer HyperHPeters\n",
        "# The length of our token sequences\n",
        "ntokens_HP = 30\n",
        "# Number of attention heads\n",
        "nheads_HP = 8\n",
        "# The encoding dimensions of our tokens\n",
        "token_encode_size_HP = 16\n",
        "# The embedding string size\n",
        "# Pytorch will cut this embedded sequence \n",
        "# and give an equal amount to each head, different \n",
        "# than in theory \n",
        "embed_size_HP = token_encode_size_HP *  nheads_HP\n",
        "# Output size of the heads, which \n",
        "# learn an embedding.\n",
        "head_embedsize_HP = 4\n",
        "# For some reason PyTorch needs us to do this manually\n",
        "d_model_HP = head_embedsize_HP * nheads_HP\n",
        "# No dropout for now\n",
        "dropout_HP = 0\n",
        "# Number of encoding layers\n",
        "n_encoders_HP = 3\n",
        "\n",
        "# Standard stuff\n",
        "activation_HP = \"relu\"\n",
        "layer_norm_eps_HP = 1e-5\n",
        "batch_first_HP = True\n",
        "norm_first_HP = False\n",
        "\n",
        "# Trainig and validation Hyperparameters\n",
        "datasetsize_HP = 1000000\n",
        "split_HP = 0.9\n",
        "batchsize_HP = 150\n",
        "batchsize_HP = min(batchsize_HP, (int)(datasetsize_HP*0.2))\n",
        "nepochs_HP = 10\n",
        "device = torch.device(\"cuda\" if torch.cuda.is_available() else \"cpu\")\n",
        "loss_HP = nn.MSELoss()\n",
        "learnrate_HP = 1e-4"
      ]
    },
    {
      "cell_type": "markdown",
      "metadata": {
        "id": "r0-3qv1dhMwj"
      },
      "source": [
        "# Import and preprocess the data"
      ]
    },
    {
      "cell_type": "code",
      "execution_count": 30,
      "metadata": {
        "id": "8r4fpLUShMwj",
        "colab": {
          "base_uri": "https://localhost:8080/",
          "height": 380
        },
        "outputId": "9ddfeb5b-5f0c-4f7b-d09c-f49d4aa5ed83"
      },
      "outputs": [
        {
          "output_type": "error",
          "ename": "KeyboardInterrupt",
          "evalue": "ignored",
          "traceback": [
            "\u001b[0;31m---------------------------------------------------------------------------\u001b[0m",
            "\u001b[0;31mKeyboardInterrupt\u001b[0m                         Traceback (most recent call last)",
            "\u001b[0;32m<ipython-input-30-5045597f3f4e>\u001b[0m in \u001b[0;36m<cell line: 2>\u001b[0;34m()\u001b[0m\n\u001b[1;32m      1\u001b[0m \u001b[0;32mfrom\u001b[0m \u001b[0mgoogle\u001b[0m\u001b[0;34m.\u001b[0m\u001b[0mcolab\u001b[0m \u001b[0;32mimport\u001b[0m \u001b[0mdrive\u001b[0m\u001b[0;34m\u001b[0m\u001b[0;34m\u001b[0m\u001b[0m\n\u001b[0;32m----> 2\u001b[0;31m \u001b[0mdrive\u001b[0m\u001b[0;34m.\u001b[0m\u001b[0mmount\u001b[0m\u001b[0;34m(\u001b[0m\u001b[0;34m'/content/drive'\u001b[0m\u001b[0;34m)\u001b[0m\u001b[0;34m\u001b[0m\u001b[0;34m\u001b[0m\u001b[0m\n\u001b[0m\u001b[1;32m      3\u001b[0m \u001b[0;34m\u001b[0m\u001b[0m\n\u001b[1;32m      4\u001b[0m \u001b[0;34m\u001b[0m\u001b[0m\n\u001b[1;32m      5\u001b[0m \u001b[0;31m# Json -> Dataframe\u001b[0m\u001b[0;34m\u001b[0m\u001b[0;34m\u001b[0m\u001b[0m\n",
            "\u001b[0;32m/usr/local/lib/python3.9/dist-packages/google/colab/drive.py\u001b[0m in \u001b[0;36mmount\u001b[0;34m(mountpoint, force_remount, timeout_ms, readonly)\u001b[0m\n\u001b[1;32m    101\u001b[0m \u001b[0;32mdef\u001b[0m \u001b[0mmount\u001b[0m\u001b[0;34m(\u001b[0m\u001b[0mmountpoint\u001b[0m\u001b[0;34m,\u001b[0m \u001b[0mforce_remount\u001b[0m\u001b[0;34m=\u001b[0m\u001b[0;32mFalse\u001b[0m\u001b[0;34m,\u001b[0m \u001b[0mtimeout_ms\u001b[0m\u001b[0;34m=\u001b[0m\u001b[0;36m120000\u001b[0m\u001b[0;34m,\u001b[0m \u001b[0mreadonly\u001b[0m\u001b[0;34m=\u001b[0m\u001b[0;32mFalse\u001b[0m\u001b[0;34m)\u001b[0m\u001b[0;34m:\u001b[0m\u001b[0;34m\u001b[0m\u001b[0;34m\u001b[0m\u001b[0m\n\u001b[1;32m    102\u001b[0m   \u001b[0;34m\"\"\"Mount your Google Drive at the specified mountpoint path.\"\"\"\u001b[0m\u001b[0;34m\u001b[0m\u001b[0;34m\u001b[0m\u001b[0m\n\u001b[0;32m--> 103\u001b[0;31m   return _mount(\n\u001b[0m\u001b[1;32m    104\u001b[0m       \u001b[0mmountpoint\u001b[0m\u001b[0;34m,\u001b[0m\u001b[0;34m\u001b[0m\u001b[0;34m\u001b[0m\u001b[0m\n\u001b[1;32m    105\u001b[0m       \u001b[0mforce_remount\u001b[0m\u001b[0;34m=\u001b[0m\u001b[0mforce_remount\u001b[0m\u001b[0;34m,\u001b[0m\u001b[0;34m\u001b[0m\u001b[0;34m\u001b[0m\u001b[0m\n",
            "\u001b[0;32m/usr/local/lib/python3.9/dist-packages/google/colab/drive.py\u001b[0m in \u001b[0;36m_mount\u001b[0;34m(mountpoint, force_remount, timeout_ms, ephemeral, readonly)\u001b[0m\n\u001b[1;32m    130\u001b[0m   )\n\u001b[1;32m    131\u001b[0m   \u001b[0;32mif\u001b[0m \u001b[0mephemeral\u001b[0m\u001b[0;34m:\u001b[0m\u001b[0;34m\u001b[0m\u001b[0;34m\u001b[0m\u001b[0m\n\u001b[0;32m--> 132\u001b[0;31m     _message.blocking_request(\n\u001b[0m\u001b[1;32m    133\u001b[0m         \u001b[0;34m'request_auth'\u001b[0m\u001b[0;34m,\u001b[0m \u001b[0mrequest\u001b[0m\u001b[0;34m=\u001b[0m\u001b[0;34m{\u001b[0m\u001b[0;34m'authType'\u001b[0m\u001b[0;34m:\u001b[0m \u001b[0;34m'dfs_ephemeral'\u001b[0m\u001b[0;34m}\u001b[0m\u001b[0;34m,\u001b[0m \u001b[0mtimeout_sec\u001b[0m\u001b[0;34m=\u001b[0m\u001b[0;32mNone\u001b[0m\u001b[0;34m\u001b[0m\u001b[0;34m\u001b[0m\u001b[0m\n\u001b[1;32m    134\u001b[0m     )\n",
            "\u001b[0;32m/usr/local/lib/python3.9/dist-packages/google/colab/_message.py\u001b[0m in \u001b[0;36mblocking_request\u001b[0;34m(request_type, request, timeout_sec, parent)\u001b[0m\n\u001b[1;32m    175\u001b[0m       \u001b[0mrequest_type\u001b[0m\u001b[0;34m,\u001b[0m \u001b[0mrequest\u001b[0m\u001b[0;34m,\u001b[0m \u001b[0mparent\u001b[0m\u001b[0;34m=\u001b[0m\u001b[0mparent\u001b[0m\u001b[0;34m,\u001b[0m \u001b[0mexpect_reply\u001b[0m\u001b[0;34m=\u001b[0m\u001b[0;32mTrue\u001b[0m\u001b[0;34m\u001b[0m\u001b[0;34m\u001b[0m\u001b[0m\n\u001b[1;32m    176\u001b[0m   )\n\u001b[0;32m--> 177\u001b[0;31m   \u001b[0;32mreturn\u001b[0m \u001b[0mread_reply_from_input\u001b[0m\u001b[0;34m(\u001b[0m\u001b[0mrequest_id\u001b[0m\u001b[0;34m,\u001b[0m \u001b[0mtimeout_sec\u001b[0m\u001b[0;34m)\u001b[0m\u001b[0;34m\u001b[0m\u001b[0;34m\u001b[0m\u001b[0m\n\u001b[0m",
            "\u001b[0;32m/usr/local/lib/python3.9/dist-packages/google/colab/_message.py\u001b[0m in \u001b[0;36mread_reply_from_input\u001b[0;34m(message_id, timeout_sec)\u001b[0m\n\u001b[1;32m     95\u001b[0m     \u001b[0mreply\u001b[0m \u001b[0;34m=\u001b[0m \u001b[0m_read_next_input_message\u001b[0m\u001b[0;34m(\u001b[0m\u001b[0;34m)\u001b[0m\u001b[0;34m\u001b[0m\u001b[0;34m\u001b[0m\u001b[0m\n\u001b[1;32m     96\u001b[0m     \u001b[0;32mif\u001b[0m \u001b[0mreply\u001b[0m \u001b[0;34m==\u001b[0m \u001b[0m_NOT_READY\u001b[0m \u001b[0;32mor\u001b[0m \u001b[0;32mnot\u001b[0m \u001b[0misinstance\u001b[0m\u001b[0;34m(\u001b[0m\u001b[0mreply\u001b[0m\u001b[0;34m,\u001b[0m \u001b[0mdict\u001b[0m\u001b[0;34m)\u001b[0m\u001b[0;34m:\u001b[0m\u001b[0;34m\u001b[0m\u001b[0;34m\u001b[0m\u001b[0m\n\u001b[0;32m---> 97\u001b[0;31m       \u001b[0mtime\u001b[0m\u001b[0;34m.\u001b[0m\u001b[0msleep\u001b[0m\u001b[0;34m(\u001b[0m\u001b[0;36m0.025\u001b[0m\u001b[0;34m)\u001b[0m\u001b[0;34m\u001b[0m\u001b[0;34m\u001b[0m\u001b[0m\n\u001b[0m\u001b[1;32m     98\u001b[0m       \u001b[0;32mcontinue\u001b[0m\u001b[0;34m\u001b[0m\u001b[0;34m\u001b[0m\u001b[0m\n\u001b[1;32m     99\u001b[0m     if (\n",
            "\u001b[0;31mKeyboardInterrupt\u001b[0m: "
          ]
        }
      ],
      "source": [
        "from google.colab import drive\n",
        "drive.mount('/content/drive')\n",
        "\n",
        "\n",
        "# Json -> Dataframe\n",
        "features_df = pd.read_json('/content/drive/MyDrive/strandenergylist.json')\n",
        "energy_df = features_df[1]\n",
        "energy_df = energy_df.head(datasetsize_HP)\n",
        "features_df = features_df.head(datasetsize_HP)\n",
        "features_df = features_df[0].str.split('', expand=True)\n",
        "features_df = features_df.drop([0, 31], axis=1)\n",
        "labels_df = features_df[1]\n",
        "\n",
        "\n",
        "# Dataframe -> Tensors\n",
        "dna = features_df.to_numpy()\n",
        "for i in range(dna.shape[0]):\n",
        "    for j in range(dna.shape[1]):\n",
        "        if (dna[i,j] == 'A'): dna[i,j] = 0\n",
        "        if (dna[i,j] == 'C'): dna[i,j] = 1\n",
        "        if (dna[i,j] == 'G'): dna[i,j] = 2\n",
        "        if (dna[i,j] == 'T'): dna[i,j] = 3\n",
        "dna = dna.astype(int)\n",
        "dna = torch.from_numpy(dna)\n",
        "energy = torch.tensor(energy_df.values).to(torch.float)\n",
        "\n",
        "\n",
        "# Tensors -> Dataloaders\n",
        "dataset = TensorDataset(dna, energy)\n",
        "ntrain = (int) (split_HP * datasetsize_HP)\n",
        "ntest = datasetsize_HP - ntrain\n",
        "train_set, vali_set = torch.utils.data.random_split(dataset, [ntrain, ntest], \n",
        "                                                    generator=torch.Generator(device='cuda'))\n",
        "\n",
        "train_dataloader = DataLoader(train_set, batch_size=batchsize_HP, shuffle=True, \n",
        "                              generator=torch.Generator(device='cuda'))\n",
        "vali_dataloader = DataLoader(vali_set, batch_size=batchsize_HP, shuffle=True, \n",
        "                             generator=torch.Generator(device='cuda'))"
      ]
    },
    {
      "cell_type": "markdown",
      "metadata": {
        "id": "mE4uz7nehMwi"
      },
      "source": [
        "# Create the transformer model"
      ]
    },
    {
      "cell_type": "code",
      "execution_count": null,
      "metadata": {
        "id": "VDT-LncKhMwi"
      },
      "outputs": [],
      "source": [
        "# Created entirely by the Pytorch team and pasted here.\n",
        "# Adds information of position in the encoding of the tokens.\n",
        "class PositionalEncoding(nn.Module):\n",
        "    def __init__(self, d_model: int, dropout: float = 0.1, max_len: int = 5000):\n",
        "        super().__init__()\n",
        "        self.dropout = nn.Dropout(p=dropout)\n",
        "        position = torch.arange(max_len).unsqueeze(1)\n",
        "        div_term = torch.exp(torch.arange(0, d_model, 2) * (-math.log(10000.0) / d_model))\n",
        "        pe = torch.zeros(max_len, 1, d_model)\n",
        "        pe[:, 0, 0::2] = torch.sin(position * div_term)\n",
        "        pe[:, 0, 1::2] = torch.cos(position * div_term)\n",
        "        self.register_buffer('pe', pe)\n",
        "    def forward(self, x: Tensor) -> Tensor:\n",
        "        \"\"\"\n",
        "        Args:\n",
        "            x: Tensor, shape [seq_len, batch_size, embedding_dim]\n",
        "        \"\"\"\n",
        "        x = x + self.pe[:x.size(0)]\n",
        "        return self.dropout(x)\n",
        "\n",
        "class RegressionTranformer(nn.Module):\n",
        "    def __init__(self):\n",
        "        super(RegressionTranformer, self).__init__()\n",
        "\n",
        "        # Takes indexed sequences of tokens and embeds them.\n",
        "        # [batch_size, seq_len] -> [seq_len, batch_size, embedding_dim] TODO check this!\n",
        "        self.embedder = nn.Embedding(ntokens_HP, embed_size_HP)\n",
        "\n",
        "        # Will add information about position in sequence to each token.\n",
        "        # The second argument is the dropout probability.\n",
        "        # [seq_len, batch_size, embedding_dim] -> [seq_len, batch_size, embedding_dim] TODO check this!\n",
        "        self.posi_encoder = PositionalEncoding(embed_size_HP, 0.5)\n",
        "\n",
        "        # The core of our regression transformer\n",
        "        transformer_encoder_layer = nn.TransformerEncoderLayer(\n",
        "            d_model = embed_size_HP,\n",
        "            nhead = nheads_HP,\n",
        "            dropout = dropout_HP,\n",
        "            activation = activation_HP,\n",
        "            layer_norm_eps = layer_norm_eps_HP,\n",
        "            batch_first = batch_first_HP,\n",
        "            norm_first = norm_first_HP\n",
        "        )\n",
        "        self.encoding_layers = nn.TransformerEncoder(transformer_encoder_layer, n_encoders_HP)\n",
        "\n",
        "      \n",
        "        # A linear map returning a scalar value, which is the predicted free\n",
        "        # energy of the input sequence.\n",
        "        # [batch_size, flatten_seq_len] -> [1]\n",
        "        self.linear = nn.Linear(embed_size_HP * ntokens_HP, 1) \n",
        "\n",
        "\n",
        "    def forward(self, x):\n",
        "        ŷ =  self.embedder(x)\n",
        "\n",
        "        # Normalise the encoding.\n",
        "        ŷ = ŷ * (1 / math.sqrt(embed_size_HP))\n",
        "\n",
        "        # Add positionnal encoding\n",
        "        ŷ = torch.permute(ŷ, (1,0,2)) # Necessary for the posi. enc. function.\n",
        "        ŷ = self.posi_encoder(ŷ)\n",
        "\n",
        "        # Apply the attention mechanisms\n",
        "        ŷ = torch.permute(ŷ, (1,0,2)) # Back to normal\n",
        "        ŷ = self.encoding_layers(ŷ)\n",
        "\n",
        "        # Flatten the outputs\n",
        "        ŷ = ŷ.flatten(1,2)\n",
        "\n",
        "        # Apply last linear layer for regression\n",
        "        ŷ = self.linear(ŷ)\n",
        "\n",
        "        return ŷ\n",
        "        \n",
        "transformer = RegressionTranformer().to(device)"
      ]
    },
    {
      "cell_type": "markdown",
      "metadata": {
        "id": "C12-5_uchMwk"
      },
      "source": [
        "# Train the Transformer"
      ]
    },
    {
      "cell_type": "code",
      "execution_count": 27,
      "metadata": {
        "id": "y5yz-zoWhMwk",
        "colab": {
          "base_uri": "https://localhost:8080/"
        },
        "outputId": "4551c5f4-1562-4835-ce1f-79d60a4d646e"
      },
      "outputs": [
        {
          "output_type": "stream",
          "name": "stdout",
          "text": [
            "Training loss: [1.05644]\n",
            "Test loss: [1.02584]\n",
            "Training loss: [1.05644, 1.03086]\n",
            "Test loss: [1.02584, 1.02113]\n",
            "Training loss: [1.05644, 1.03086, 1.01714]\n",
            "Test loss: [1.02584, 1.02113, 0.99846]\n",
            "Training loss: [1.05644, 1.03086, 1.01714, 1.00559]\n",
            "Test loss: [1.02584, 1.02113, 0.99846, 1.00494]\n",
            "Training loss: [1.05644, 1.03086, 1.01714, 1.00559, 0.99202]\n",
            "Test loss: [1.02584, 1.02113, 0.99846, 1.00494, 0.97102]\n",
            "Training loss: [1.05644, 1.03086, 1.01714, 1.00559, 0.99202, 0.97439]\n",
            "Test loss: [1.02584, 1.02113, 0.99846, 1.00494, 0.97102, 0.94599]\n",
            "Training loss: [1.05644, 1.03086, 1.01714, 1.00559, 0.99202, 0.97439, 0.95137]\n",
            "Test loss: [1.02584, 1.02113, 0.99846, 1.00494, 0.97102, 0.94599, 0.91527]\n",
            "Training loss: [1.05644, 1.03086, 1.01714, 1.00559, 0.99202, 0.97439, 0.95137, 0.92506]\n",
            "Test loss: [1.02584, 1.02113, 0.99846, 1.00494, 0.97102, 0.94599, 0.91527, 0.88143]\n",
            "Training loss: [1.05644, 1.03086, 1.01714, 1.00559, 0.99202, 0.97439, 0.95137, 0.92506, 0.88759]\n",
            "Test loss: [1.02584, 1.02113, 0.99846, 1.00494, 0.97102, 0.94599, 0.91527, 0.88143, 0.82701]\n",
            "Training loss: [1.05644, 1.03086, 1.01714, 1.00559, 0.99202, 0.97439, 0.95137, 0.92506, 0.88759, 0.82456]\n",
            "Test loss: [1.02584, 1.02113, 0.99846, 1.00494, 0.97102, 0.94599, 0.91527, 0.88143, 0.82701, 0.72478]\n"
          ]
        }
      ],
      "source": [
        "# Train # 1\n",
        "def get_reg_accuracy():\n",
        "    total = 0\n",
        "    \n",
        "    with torch.inference_mode():\n",
        "      transformer.eval()\n",
        "      for x_batch, y_batch in vali_dataloader:\n",
        "            x_batch = x_batch.to(device)\n",
        "            y_batch = y_batch.to(device)\n",
        "            ŷ_batch = transformer(x_batch)\n",
        "            batch_loss = loss_HP(ŷ_batch, y_batch.unsqueeze(1))\n",
        "            total += batchsize_HP * batch_loss.item()\n",
        "\n",
        "    transformer.train()\n",
        "    return total / (datasetsize_HP*(1-split_HP))\n",
        "\n",
        "\n",
        "transformer_optimizer = torch.optim.Adam(transformer.parameters(), lr=learnrate_HP)\n",
        "\n",
        "trainloss = []\n",
        "testloss = []\n",
        "\n",
        "def trainroutine():\n",
        "    global trainloss, testloss\n",
        "    for epoch in range(nepochs_HP):\n",
        "        running_loss = 0.0\n",
        "        for i, (x_batch, y_batch) in enumerate(train_dataloader):\n",
        "            # Put the data on the device\n",
        "            x_batch = x_batch.to(device)\n",
        "            y_batch = y_batch.to(device)\n",
        "            \n",
        "            # Forward propagation\n",
        "            ŷ_batch = transformer(x_batch)\n",
        "            \n",
        "            # Backpropagation\n",
        "            batch_loss = loss_HP(ŷ_batch, y_batch.unsqueeze(1))\n",
        "            transformer_optimizer.zero_grad()\n",
        "            batch_loss.backward()\n",
        "            transformer_optimizer.step()\n",
        "            \n",
        "\n",
        "            # Print statistics\n",
        "            running_loss += batch_loss.item()*batchsize_HP\n",
        "        \n",
        "        # Print the results through the epochs\n",
        "        trainloss = trainloss + [ round(running_loss/(datasetsize_HP*split_HP), 5) ]\n",
        "        print(\"Training loss:\", trainloss)\n",
        "        testloss = testloss + [ round(get_reg_accuracy(), 5) ]\n",
        "        print(\"Test loss:\", testloss)\n",
        "        \n",
        "trainroutine()\n",
        "torch.save(transformer.state_dict(),\"transformer_weights.pt\")\n"
      ]
    },
    {
      "cell_type": "code",
      "source": [
        "def trainroutine():\n",
        "    global trainloss, testloss\n",
        "    for epoch in range(nepochs_HP):\n",
        "        running_loss = 0.0\n",
        "        for i, (x_batch, y_batch) in enumerate(train_dataloader):\n",
        "            # Put the data on the device\n",
        "            x_batch = x_batch.to(device)\n",
        "            y_batch = y_batch.to(device)\n",
        "            \n",
        "            # Forward propagation\n",
        "            ŷ_batch = transformer(x_batch)\n",
        "            \n",
        "            # Backpropagation\n",
        "            batch_loss = loss_HP(ŷ_batch, y_batch.unsqueeze(1))\n",
        "            transformer_optimizer.zero_grad()\n",
        "            batch_loss.backward()\n",
        "            transformer_optimizer.step()\n",
        "            \n",
        "\n",
        "            # Print statistics\n",
        "            running_loss += batch_loss.item()*batchsize_HP\n",
        "        \n",
        "        # Print the results through the epochs\n",
        "        trainloss = trainloss + [ round(running_loss/(datasetsize_HP*split_HP), 5) ]\n",
        "        print(\"Training loss:\", trainloss)\n",
        "        testloss = testloss + [ round(get_reg_accuracy(), 5) ]\n",
        "        print(\"Test loss:\", testloss)\n",
        "        \n",
        "trainroutine()\n",
        "torch.save(transformer.state_dict(),\"transformer_weights.pt\")"
      ],
      "metadata": {
        "id": "r9ao6HCdVy8B",
        "colab": {
          "base_uri": "https://localhost:8080/"
        },
        "outputId": "c21ddd4a-414e-4c2a-f48a-19ce2ba6bdb4"
      },
      "execution_count": 31,
      "outputs": [
        {
          "output_type": "stream",
          "name": "stdout",
          "text": [
            "Training loss: [1.05644, 1.03086, 1.01714, 1.00559, 0.99202, 0.97439, 0.95137, 0.92506, 0.88759, 0.82456, 0.76444]\n",
            "Test loss: [1.02584, 1.02113, 0.99846, 1.00494, 0.97102, 0.94599, 0.91527, 0.88143, 0.82701, 0.72478, 0.6673]\n",
            "Training loss: [1.05644, 1.03086, 1.01714, 1.00559, 0.99202, 0.97439, 0.95137, 0.92506, 0.88759, 0.82456, 0.76444, 0.69671]\n",
            "Test loss: [1.02584, 1.02113, 0.99846, 1.00494, 0.97102, 0.94599, 0.91527, 0.88143, 0.82701, 0.72478, 0.6673, 0.52301]\n",
            "Training loss: [1.05644, 1.03086, 1.01714, 1.00559, 0.99202, 0.97439, 0.95137, 0.92506, 0.88759, 0.82456, 0.76444, 0.69671, 0.57303]\n",
            "Test loss: [1.02584, 1.02113, 0.99846, 1.00494, 0.97102, 0.94599, 0.91527, 0.88143, 0.82701, 0.72478, 0.6673, 0.52301, 0.43675]\n",
            "Training loss: [1.05644, 1.03086, 1.01714, 1.00559, 0.99202, 0.97439, 0.95137, 0.92506, 0.88759, 0.82456, 0.76444, 0.69671, 0.57303, 0.50381]\n",
            "Test loss: [1.02584, 1.02113, 0.99846, 1.00494, 0.97102, 0.94599, 0.91527, 0.88143, 0.82701, 0.72478, 0.6673, 0.52301, 0.43675, 0.40473]\n",
            "Training loss: [1.05644, 1.03086, 1.01714, 1.00559, 0.99202, 0.97439, 0.95137, 0.92506, 0.88759, 0.82456, 0.76444, 0.69671, 0.57303, 0.50381, 0.45914]\n",
            "Test loss: [1.02584, 1.02113, 0.99846, 1.00494, 0.97102, 0.94599, 0.91527, 0.88143, 0.82701, 0.72478, 0.6673, 0.52301, 0.43675, 0.40473, 0.38269]\n",
            "Training loss: [1.05644, 1.03086, 1.01714, 1.00559, 0.99202, 0.97439, 0.95137, 0.92506, 0.88759, 0.82456, 0.76444, 0.69671, 0.57303, 0.50381, 0.45914, 0.42502]\n",
            "Test loss: [1.02584, 1.02113, 0.99846, 1.00494, 0.97102, 0.94599, 0.91527, 0.88143, 0.82701, 0.72478, 0.6673, 0.52301, 0.43675, 0.40473, 0.38269, 0.33079]\n",
            "Training loss: [1.05644, 1.03086, 1.01714, 1.00559, 0.99202, 0.97439, 0.95137, 0.92506, 0.88759, 0.82456, 0.76444, 0.69671, 0.57303, 0.50381, 0.45914, 0.42502, 0.39308]\n",
            "Test loss: [1.02584, 1.02113, 0.99846, 1.00494, 0.97102, 0.94599, 0.91527, 0.88143, 0.82701, 0.72478, 0.6673, 0.52301, 0.43675, 0.40473, 0.38269, 0.33079, 0.30652]\n",
            "Training loss: [1.05644, 1.03086, 1.01714, 1.00559, 0.99202, 0.97439, 0.95137, 0.92506, 0.88759, 0.82456, 0.76444, 0.69671, 0.57303, 0.50381, 0.45914, 0.42502, 0.39308, 0.35949]\n",
            "Test loss: [1.02584, 1.02113, 0.99846, 1.00494, 0.97102, 0.94599, 0.91527, 0.88143, 0.82701, 0.72478, 0.6673, 0.52301, 0.43675, 0.40473, 0.38269, 0.33079, 0.30652, 0.27225]\n",
            "Training loss: [1.05644, 1.03086, 1.01714, 1.00559, 0.99202, 0.97439, 0.95137, 0.92506, 0.88759, 0.82456, 0.76444, 0.69671, 0.57303, 0.50381, 0.45914, 0.42502, 0.39308, 0.35949, 0.32629]\n",
            "Test loss: [1.02584, 1.02113, 0.99846, 1.00494, 0.97102, 0.94599, 0.91527, 0.88143, 0.82701, 0.72478, 0.6673, 0.52301, 0.43675, 0.40473, 0.38269, 0.33079, 0.30652, 0.27225, 0.26275]\n",
            "Training loss: [1.05644, 1.03086, 1.01714, 1.00559, 0.99202, 0.97439, 0.95137, 0.92506, 0.88759, 0.82456, 0.76444, 0.69671, 0.57303, 0.50381, 0.45914, 0.42502, 0.39308, 0.35949, 0.32629, 0.29404]\n",
            "Test loss: [1.02584, 1.02113, 0.99846, 1.00494, 0.97102, 0.94599, 0.91527, 0.88143, 0.82701, 0.72478, 0.6673, 0.52301, 0.43675, 0.40473, 0.38269, 0.33079, 0.30652, 0.27225, 0.26275, 0.2301]\n"
          ]
        }
      ]
    },
    {
      "cell_type": "code",
      "source": [
        "def trainroutine():\n",
        "    global trainloss, testloss\n",
        "    for epoch in range(nepochs_HP):\n",
        "        running_loss = 0.0\n",
        "        for i, (x_batch, y_batch) in enumerate(train_dataloader):\n",
        "            # Put the data on the device\n",
        "            x_batch = x_batch.to(device)\n",
        "            y_batch = y_batch.to(device)\n",
        "            \n",
        "            # Forward propagation\n",
        "            ŷ_batch = transformer(x_batch)\n",
        "            \n",
        "            # Backpropagation\n",
        "            batch_loss = loss_HP(ŷ_batch, y_batch.unsqueeze(1))\n",
        "            transformer_optimizer.zero_grad()\n",
        "            batch_loss.backward()\n",
        "            transformer_optimizer.step()\n",
        "            \n",
        "\n",
        "            # Print statistics\n",
        "            running_loss += batch_loss.item()*batchsize_HP\n",
        "        \n",
        "        # Print the results through the epochs\n",
        "        trainloss = trainloss + [ round(running_loss/(datasetsize_HP*split_HP), 5) ]\n",
        "        print(\"Training loss:\", trainloss)\n",
        "        testloss = testloss + [ round(get_reg_accuracy(), 5) ]\n",
        "        print(\"Test loss:\", testloss)\n",
        "        \n",
        "trainroutine()\n",
        "torch.save(transformer.state_dict(),\"transformer_weights.pt\")"
      ],
      "metadata": {
        "id": "Q_UIopdoV6_E",
        "colab": {
          "base_uri": "https://localhost:8080/"
        },
        "outputId": "18643a33-1185-4e82-9dae-33ecd0f64c77"
      },
      "execution_count": 32,
      "outputs": [
        {
          "output_type": "stream",
          "name": "stdout",
          "text": [
            "Training loss: [1.05644, 1.03086, 1.01714, 1.00559, 0.99202, 0.97439, 0.95137, 0.92506, 0.88759, 0.82456, 0.76444, 0.69671, 0.57303, 0.50381, 0.45914, 0.42502, 0.39308, 0.35949, 0.32629, 0.29404, 0.26689]\n",
            "Test loss: [1.02584, 1.02113, 0.99846, 1.00494, 0.97102, 0.94599, 0.91527, 0.88143, 0.82701, 0.72478, 0.6673, 0.52301, 0.43675, 0.40473, 0.38269, 0.33079, 0.30652, 0.27225, 0.26275, 0.2301, 0.21104]\n",
            "Training loss: [1.05644, 1.03086, 1.01714, 1.00559, 0.99202, 0.97439, 0.95137, 0.92506, 0.88759, 0.82456, 0.76444, 0.69671, 0.57303, 0.50381, 0.45914, 0.42502, 0.39308, 0.35949, 0.32629, 0.29404, 0.26689, 0.24031]\n",
            "Test loss: [1.02584, 1.02113, 0.99846, 1.00494, 0.97102, 0.94599, 0.91527, 0.88143, 0.82701, 0.72478, 0.6673, 0.52301, 0.43675, 0.40473, 0.38269, 0.33079, 0.30652, 0.27225, 0.26275, 0.2301, 0.21104, 0.19692]\n",
            "Training loss: [1.05644, 1.03086, 1.01714, 1.00559, 0.99202, 0.97439, 0.95137, 0.92506, 0.88759, 0.82456, 0.76444, 0.69671, 0.57303, 0.50381, 0.45914, 0.42502, 0.39308, 0.35949, 0.32629, 0.29404, 0.26689, 0.24031, 0.21881]\n",
            "Test loss: [1.02584, 1.02113, 0.99846, 1.00494, 0.97102, 0.94599, 0.91527, 0.88143, 0.82701, 0.72478, 0.6673, 0.52301, 0.43675, 0.40473, 0.38269, 0.33079, 0.30652, 0.27225, 0.26275, 0.2301, 0.21104, 0.19692, 0.18105]\n",
            "Training loss: [1.05644, 1.03086, 1.01714, 1.00559, 0.99202, 0.97439, 0.95137, 0.92506, 0.88759, 0.82456, 0.76444, 0.69671, 0.57303, 0.50381, 0.45914, 0.42502, 0.39308, 0.35949, 0.32629, 0.29404, 0.26689, 0.24031, 0.21881, 0.20106]\n",
            "Test loss: [1.02584, 1.02113, 0.99846, 1.00494, 0.97102, 0.94599, 0.91527, 0.88143, 0.82701, 0.72478, 0.6673, 0.52301, 0.43675, 0.40473, 0.38269, 0.33079, 0.30652, 0.27225, 0.26275, 0.2301, 0.21104, 0.19692, 0.18105, 0.17461]\n",
            "Training loss: [1.05644, 1.03086, 1.01714, 1.00559, 0.99202, 0.97439, 0.95137, 0.92506, 0.88759, 0.82456, 0.76444, 0.69671, 0.57303, 0.50381, 0.45914, 0.42502, 0.39308, 0.35949, 0.32629, 0.29404, 0.26689, 0.24031, 0.21881, 0.20106, 0.18646]\n",
            "Test loss: [1.02584, 1.02113, 0.99846, 1.00494, 0.97102, 0.94599, 0.91527, 0.88143, 0.82701, 0.72478, 0.6673, 0.52301, 0.43675, 0.40473, 0.38269, 0.33079, 0.30652, 0.27225, 0.26275, 0.2301, 0.21104, 0.19692, 0.18105, 0.17461, 0.16649]\n",
            "Training loss: [1.05644, 1.03086, 1.01714, 1.00559, 0.99202, 0.97439, 0.95137, 0.92506, 0.88759, 0.82456, 0.76444, 0.69671, 0.57303, 0.50381, 0.45914, 0.42502, 0.39308, 0.35949, 0.32629, 0.29404, 0.26689, 0.24031, 0.21881, 0.20106, 0.18646, 0.17394]\n",
            "Test loss: [1.02584, 1.02113, 0.99846, 1.00494, 0.97102, 0.94599, 0.91527, 0.88143, 0.82701, 0.72478, 0.6673, 0.52301, 0.43675, 0.40473, 0.38269, 0.33079, 0.30652, 0.27225, 0.26275, 0.2301, 0.21104, 0.19692, 0.18105, 0.17461, 0.16649, 0.15781]\n",
            "Training loss: [1.05644, 1.03086, 1.01714, 1.00559, 0.99202, 0.97439, 0.95137, 0.92506, 0.88759, 0.82456, 0.76444, 0.69671, 0.57303, 0.50381, 0.45914, 0.42502, 0.39308, 0.35949, 0.32629, 0.29404, 0.26689, 0.24031, 0.21881, 0.20106, 0.18646, 0.17394, 0.16302]\n",
            "Test loss: [1.02584, 1.02113, 0.99846, 1.00494, 0.97102, 0.94599, 0.91527, 0.88143, 0.82701, 0.72478, 0.6673, 0.52301, 0.43675, 0.40473, 0.38269, 0.33079, 0.30652, 0.27225, 0.26275, 0.2301, 0.21104, 0.19692, 0.18105, 0.17461, 0.16649, 0.15781, 0.15753]\n",
            "Training loss: [1.05644, 1.03086, 1.01714, 1.00559, 0.99202, 0.97439, 0.95137, 0.92506, 0.88759, 0.82456, 0.76444, 0.69671, 0.57303, 0.50381, 0.45914, 0.42502, 0.39308, 0.35949, 0.32629, 0.29404, 0.26689, 0.24031, 0.21881, 0.20106, 0.18646, 0.17394, 0.16302, 0.15378]\n",
            "Test loss: [1.02584, 1.02113, 0.99846, 1.00494, 0.97102, 0.94599, 0.91527, 0.88143, 0.82701, 0.72478, 0.6673, 0.52301, 0.43675, 0.40473, 0.38269, 0.33079, 0.30652, 0.27225, 0.26275, 0.2301, 0.21104, 0.19692, 0.18105, 0.17461, 0.16649, 0.15781, 0.15753, 0.15046]\n",
            "Training loss: [1.05644, 1.03086, 1.01714, 1.00559, 0.99202, 0.97439, 0.95137, 0.92506, 0.88759, 0.82456, 0.76444, 0.69671, 0.57303, 0.50381, 0.45914, 0.42502, 0.39308, 0.35949, 0.32629, 0.29404, 0.26689, 0.24031, 0.21881, 0.20106, 0.18646, 0.17394, 0.16302, 0.15378, 0.14598]\n",
            "Test loss: [1.02584, 1.02113, 0.99846, 1.00494, 0.97102, 0.94599, 0.91527, 0.88143, 0.82701, 0.72478, 0.6673, 0.52301, 0.43675, 0.40473, 0.38269, 0.33079, 0.30652, 0.27225, 0.26275, 0.2301, 0.21104, 0.19692, 0.18105, 0.17461, 0.16649, 0.15781, 0.15753, 0.15046, 0.1566]\n",
            "Training loss: [1.05644, 1.03086, 1.01714, 1.00559, 0.99202, 0.97439, 0.95137, 0.92506, 0.88759, 0.82456, 0.76444, 0.69671, 0.57303, 0.50381, 0.45914, 0.42502, 0.39308, 0.35949, 0.32629, 0.29404, 0.26689, 0.24031, 0.21881, 0.20106, 0.18646, 0.17394, 0.16302, 0.15378, 0.14598, 0.13876]\n",
            "Test loss: [1.02584, 1.02113, 0.99846, 1.00494, 0.97102, 0.94599, 0.91527, 0.88143, 0.82701, 0.72478, 0.6673, 0.52301, 0.43675, 0.40473, 0.38269, 0.33079, 0.30652, 0.27225, 0.26275, 0.2301, 0.21104, 0.19692, 0.18105, 0.17461, 0.16649, 0.15781, 0.15753, 0.15046, 0.1566, 0.15292]\n"
          ]
        }
      ]
    },
    {
      "cell_type": "code",
      "source": [
        "def trainroutine():\n",
        "    global trainloss, testloss\n",
        "    for epoch in range(nepochs_HP):\n",
        "        running_loss = 0.0\n",
        "        for i, (x_batch, y_batch) in enumerate(train_dataloader):\n",
        "            # Put the data on the device\n",
        "            x_batch = x_batch.to(device)\n",
        "            y_batch = y_batch.to(device)\n",
        "            \n",
        "            # Forward propagation\n",
        "            ŷ_batch = transformer(x_batch)\n",
        "            \n",
        "            # Backpropagation\n",
        "            batch_loss = loss_HP(ŷ_batch, y_batch.unsqueeze(1))\n",
        "            transformer_optimizer.zero_grad()\n",
        "            batch_loss.backward()\n",
        "            transformer_optimizer.step()\n",
        "            \n",
        "\n",
        "            # Print statistics\n",
        "            running_loss += batch_loss.item()*batchsize_HP\n",
        "        \n",
        "        # Print the results through the epochs\n",
        "        trainloss = trainloss + [ round(running_loss/(datasetsize_HP*split_HP), 5) ]\n",
        "        print(\"Training loss:\", trainloss)\n",
        "        testloss = testloss + [ round(get_reg_accuracy(), 5) ]\n",
        "        print(\"Test loss:\", testloss)\n",
        "        \n",
        "trainroutine()\n",
        "torch.save(transformer.state_dict(),\"transformer_weights.pt\")"
      ],
      "metadata": {
        "id": "BLVuM99rV8QI"
      },
      "execution_count": null,
      "outputs": []
    },
    {
      "cell_type": "code",
      "source": [
        "model_parameters = filter(lambda p: p.requires_grad, transformer.parameters())\n",
        "params = sum([np.prod(p.size()) for p in model_parameters])\n",
        "print(params)"
      ],
      "metadata": {
        "id": "M4XJcp1zx-3_"
      },
      "execution_count": null,
      "outputs": []
    }
  ],
  "metadata": {
    "kernelspec": {
      "display_name": "base",
      "language": "python",
      "name": "python3"
    },
    "language_info": {
      "codemirror_mode": {
        "name": "ipython",
        "version": 3
      },
      "file_extension": ".py",
      "mimetype": "text/x-python",
      "name": "python",
      "nbconvert_exporter": "python",
      "pygments_lexer": "ipython3",
      "version": "3.10.8"
    },
    "orig_nbformat": 4,
    "colab": {
      "provenance": []
    },
    "accelerator": "GPU",
    "gpuClass": "standard"
  },
  "nbformat": 4,
  "nbformat_minor": 0
}