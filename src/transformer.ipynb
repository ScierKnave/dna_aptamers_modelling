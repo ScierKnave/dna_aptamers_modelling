{
 "cells": [
  {
   "cell_type": "code",
   "execution_count": 69,
   "metadata": {},
   "outputs": [],
   "source": [
    "import math\n",
    "import os\n",
    "import torch\n",
    "from torch import nn, Tensor\n",
    "import torch.nn.functional as F\n",
    "from torch.nn import TransformerEncoder, TransformerEncoderLayer\n",
    "from torch.utils.data import TensorDataset, DataLoader\n",
    "device = torch.device('cuda' if torch.cuda.is_available() else 'cpu')\n",
    "import json\n",
    "import pandas as pd\n",
    "import sklearn\n",
    "from sklearn.preprocessing import OneHotEncoder"
   ]
  },
  {
   "attachments": {},
   "cell_type": "markdown",
   "metadata": {},
   "source": [
    "# Hyperparameters"
   ]
  },
  {
   "cell_type": "code",
   "execution_count": 70,
   "metadata": {},
   "outputs": [],
   "source": [
    "# Transformer HyperHPeters\n",
    "# Only 4 nucleotides possible (ACGT)\n",
    "ntokens_HP = 4\n",
    "# Number of attention heads\n",
    "nhead_HP = 8\n",
    "# Output size of the heads, which \n",
    "# learn an embedding.\n",
    "head_embedsize_HP = 4\n",
    "# For some reason PyTorch needs us to do this manually\n",
    "d_model_HP = head_embedsize_HP * nhead_HP\n",
    "# Output dimension of the feedforward network\n",
    "# Set to 1 since this is a regression task\n",
    "dim_feedforward_HP = 1\n",
    "# No dropout for now\n",
    "dropout_HP = 0\n",
    "# Standard stuff\n",
    "activation_HP = \"relu\"\n",
    "layer_norm_eps_HP = 1e-5\n",
    "batch_first_HP = True\n",
    "norm_first_HP = False\n",
    "\n",
    "# Trainig and validation Hyperparameters\n",
    "datasetsize_HP = 100\n",
    "split_HP = 0.2\n",
    "batchsize_HP = 100\n",
    "batchsize_HP = min(batchsize_HP, (int)(datasetsize_HP*0.2))\n",
    "nepochs_HP = 5\n",
    "device = torch.device(\"cuda\" if torch.cuda.is_available() else \"cpu\")\n",
    "loss_HP = nn.MSELoss()\n",
    "learnrate_HP = 1e-4"
   ]
  },
  {
   "cell_type": "code",
   "execution_count": 71,
   "metadata": {},
   "outputs": [],
   "source": [
    "# Create transformer model\n",
    "class RegressionTranformer(nn.Module):\n",
    "    def __init__(self):\n",
    "        super(RegressionTranformer, self).__init__()\n",
    "        self.encoder_transformer = nn.TransformerEncoderLayer(\n",
    "            d_model = d_model_HP,\n",
    "            nhead = nhead_HP,\n",
    "            dim_feedforward = dim_feedforward_HP,\n",
    "            dropout = dropout_HP,\n",
    "            activation = activation_HP,\n",
    "            layer_norm_eps = layer_norm_eps_HP,\n",
    "            batch_first = batch_first_HP,\n",
    "            norm_first = norm_first_HP\n",
    "        )\n",
    "        self.embedder = nn.Embedding(ntokens_HP, d_model_HP)\n",
    "        self.\n",
    "\n",
    "        # ADD FORWARD LAYER -> ENCODER OUTPUT -> 1 FOR REGRES\n",
    "\n",
    "    def forward(self, x):\n",
    "        ŷ = self.embedder(x)\n",
    "        ŷ = self.encoder_transformer(ŷ)\n",
    "        return ŷ\n",
    "        "
   ]
  },
  {
   "cell_type": "code",
   "execution_count": 83,
   "metadata": {},
   "outputs": [
    {
     "name": "stdout",
     "output_type": "stream",
     "text": [
      "torch.Size([10, 512])\n"
     ]
    }
   ],
   "source": [
    "encoder_layer = nn.TransformerEncoderLayer(d_model=512, nhead=8)\n",
    "src = torch.rand(10, 512)\n",
    "out = encoder_layer(src)\n",
    "print(out.shape)"
   ]
  },
  {
   "attachments": {},
   "cell_type": "markdown",
   "metadata": {},
   "source": [
    "# Importation and preprocessing"
   ]
  },
  {
   "cell_type": "code",
   "execution_count": 72,
   "metadata": {},
   "outputs": [],
   "source": [
    "features_df = pd.read_json('data\\strandenergylist.json')\n",
    "energy_df = features_df[1]\n",
    "energy_df = energy_df.head(datasetsize_HP)\n",
    "features_df = features_df.head(datasetsize_HP)\n",
    "features_df = features_df[0].str.split('', expand=True)\n",
    "features_df = features_df.drop([0, 31], axis=1)\n",
    "labels_df = features_df[1]"
   ]
  },
  {
   "attachments": {},
   "cell_type": "markdown",
   "metadata": {},
   "source": [
    "### Transformation into pytorch tensors"
   ]
  },
  {
   "cell_type": "code",
   "execution_count": 73,
   "metadata": {},
   "outputs": [],
   "source": [
    "# Transform string features into as DNA tensor\n",
    "dna = features_df.to_numpy()\n",
    "for i in range(dna.shape[0]):\n",
    "    for j in range(dna.shape[1]):\n",
    "        if (dna[i,j] == 'A'): dna[i,j] = 0\n",
    "        if (dna[i,j] == 'C'): dna[i,j] = 1\n",
    "        if (dna[i,j] == 'G'): dna[i,j] = 2\n",
    "        if (dna[i,j] == 'T'): dna[i,j] = 3\n",
    "dna = dna.astype(int)\n",
    "dna = torch.from_numpy(dna)\n",
    "dna = F.one_hot(dna.to(torch.int64), num_classes=4).to(device)\n",
    "dna = dna.reshape(datasetsize_HP, 120)\n",
    "# Get free energy as pytorch tensor\n",
    "energy = torch.tensor(energy_df.values).to(device)"
   ]
  },
  {
   "attachments": {},
   "cell_type": "markdown",
   "metadata": {},
   "source": [
    "### Creation of test and validation iterators"
   ]
  },
  {
   "cell_type": "code",
   "execution_count": 74,
   "metadata": {},
   "outputs": [],
   "source": [
    "dataset = TensorDataset(dna, energy)\n",
    "ntrain = (int) (split_HP * datasetsize_HP)\n",
    "ntest = datasetsize_HP - ntrain\n",
    "train_set, vali_set = torch.utils.data.random_split(dataset, [ntrain, ntest])\n",
    "\n",
    "train_dataloader = DataLoader(train_set, batch_size=batchsize_HP, shuffle=True)\n",
    "vali_dataload = DataLoader(vali_set, batch_size=batchsize_HP, shuffle=True)"
   ]
  },
  {
   "attachments": {},
   "cell_type": "markdown",
   "metadata": {},
   "source": [
    "# Train the Transformer"
   ]
  },
  {
   "cell_type": "code",
   "execution_count": 75,
   "metadata": {},
   "outputs": [
    {
     "name": "stderr",
     "output_type": "stream",
     "text": [
      "c:\\ProgramData\\miniconda3\\lib\\site-packages\\torch\\nn\\modules\\loss.py:536: UserWarning: Using a target size (torch.Size([20])) that is different to the input size (torch.Size([20, 120, 32])). This will likely lead to incorrect results due to broadcasting. Please ensure they have the same size.\n",
      "  return F.mse_loss(input, target, reduction=self.reduction)\n"
     ]
    },
    {
     "ename": "RuntimeError",
     "evalue": "The size of tensor a (32) must match the size of tensor b (20) at non-singleton dimension 2",
     "output_type": "error",
     "traceback": [
      "\u001b[1;31m---------------------------------------------------------------------------\u001b[0m",
      "\u001b[1;31mRuntimeError\u001b[0m                              Traceback (most recent call last)",
      "Cell \u001b[1;32mIn[75], line 30\u001b[0m\n\u001b[0;32m     27\u001b[0m                 \u001b[39mprint\u001b[39m(\u001b[39m'\u001b[39m\u001b[39m[\u001b[39m\u001b[39m%d\u001b[39;00m\u001b[39m, \u001b[39m\u001b[39m%5d\u001b[39;00m\u001b[39m] loss: \u001b[39m\u001b[39m%.3f\u001b[39;00m\u001b[39m'\u001b[39m \u001b[39m%\u001b[39m\n\u001b[0;32m     28\u001b[0m                     (epoch \u001b[39m+\u001b[39m \u001b[39m1\u001b[39m, i \u001b[39m+\u001b[39m \u001b[39m1\u001b[39m, running_loss \u001b[39m/\u001b[39m \u001b[39m1000\u001b[39m))\n\u001b[0;32m     29\u001b[0m                 running_loss \u001b[39m=\u001b[39m \u001b[39m0.0\u001b[39m\n\u001b[1;32m---> 30\u001b[0m trainroutine()\n",
      "Cell \u001b[1;32mIn[75], line 19\u001b[0m, in \u001b[0;36mtrainroutine\u001b[1;34m()\u001b[0m\n\u001b[0;32m     16\u001b[0m ŷ_batch \u001b[39m=\u001b[39m transformer(x_batch)\n\u001b[0;32m     18\u001b[0m \u001b[39m# Backpropagation\u001b[39;00m\n\u001b[1;32m---> 19\u001b[0m batch_loss \u001b[39m=\u001b[39m loss_HP(ŷ_batch, y_batch)\u001b[39m.\u001b[39mbackward()\n\u001b[0;32m     20\u001b[0m batch_loss\u001b[39m.\u001b[39mbackward()\n\u001b[0;32m     21\u001b[0m transformer_optimizer\u001b[39m.\u001b[39mstep()\n",
      "File \u001b[1;32mc:\\ProgramData\\miniconda3\\lib\\site-packages\\torch\\nn\\modules\\module.py:1194\u001b[0m, in \u001b[0;36mModule._call_impl\u001b[1;34m(self, *input, **kwargs)\u001b[0m\n\u001b[0;32m   1190\u001b[0m \u001b[39m# If we don't have any hooks, we want to skip the rest of the logic in\u001b[39;00m\n\u001b[0;32m   1191\u001b[0m \u001b[39m# this function, and just call forward.\u001b[39;00m\n\u001b[0;32m   1192\u001b[0m \u001b[39mif\u001b[39;00m \u001b[39mnot\u001b[39;00m (\u001b[39mself\u001b[39m\u001b[39m.\u001b[39m_backward_hooks \u001b[39mor\u001b[39;00m \u001b[39mself\u001b[39m\u001b[39m.\u001b[39m_forward_hooks \u001b[39mor\u001b[39;00m \u001b[39mself\u001b[39m\u001b[39m.\u001b[39m_forward_pre_hooks \u001b[39mor\u001b[39;00m _global_backward_hooks\n\u001b[0;32m   1193\u001b[0m         \u001b[39mor\u001b[39;00m _global_forward_hooks \u001b[39mor\u001b[39;00m _global_forward_pre_hooks):\n\u001b[1;32m-> 1194\u001b[0m     \u001b[39mreturn\u001b[39;00m forward_call(\u001b[39m*\u001b[39m\u001b[39minput\u001b[39m, \u001b[39m*\u001b[39m\u001b[39m*\u001b[39mkwargs)\n\u001b[0;32m   1195\u001b[0m \u001b[39m# Do not call functions when jit is used\u001b[39;00m\n\u001b[0;32m   1196\u001b[0m full_backward_hooks, non_full_backward_hooks \u001b[39m=\u001b[39m [], []\n",
      "File \u001b[1;32mc:\\ProgramData\\miniconda3\\lib\\site-packages\\torch\\nn\\modules\\loss.py:536\u001b[0m, in \u001b[0;36mMSELoss.forward\u001b[1;34m(self, input, target)\u001b[0m\n\u001b[0;32m    535\u001b[0m \u001b[39mdef\u001b[39;00m \u001b[39mforward\u001b[39m(\u001b[39mself\u001b[39m, \u001b[39minput\u001b[39m: Tensor, target: Tensor) \u001b[39m-\u001b[39m\u001b[39m>\u001b[39m Tensor:\n\u001b[1;32m--> 536\u001b[0m     \u001b[39mreturn\u001b[39;00m F\u001b[39m.\u001b[39;49mmse_loss(\u001b[39minput\u001b[39;49m, target, reduction\u001b[39m=\u001b[39;49m\u001b[39mself\u001b[39;49m\u001b[39m.\u001b[39;49mreduction)\n",
      "File \u001b[1;32mc:\\ProgramData\\miniconda3\\lib\\site-packages\\torch\\nn\\functional.py:3291\u001b[0m, in \u001b[0;36mmse_loss\u001b[1;34m(input, target, size_average, reduce, reduction)\u001b[0m\n\u001b[0;32m   3288\u001b[0m \u001b[39mif\u001b[39;00m size_average \u001b[39mis\u001b[39;00m \u001b[39mnot\u001b[39;00m \u001b[39mNone\u001b[39;00m \u001b[39mor\u001b[39;00m reduce \u001b[39mis\u001b[39;00m \u001b[39mnot\u001b[39;00m \u001b[39mNone\u001b[39;00m:\n\u001b[0;32m   3289\u001b[0m     reduction \u001b[39m=\u001b[39m _Reduction\u001b[39m.\u001b[39mlegacy_get_string(size_average, reduce)\n\u001b[1;32m-> 3291\u001b[0m expanded_input, expanded_target \u001b[39m=\u001b[39m torch\u001b[39m.\u001b[39;49mbroadcast_tensors(\u001b[39minput\u001b[39;49m, target)\n\u001b[0;32m   3292\u001b[0m \u001b[39mreturn\u001b[39;00m torch\u001b[39m.\u001b[39m_C\u001b[39m.\u001b[39m_nn\u001b[39m.\u001b[39mmse_loss(expanded_input, expanded_target, _Reduction\u001b[39m.\u001b[39mget_enum(reduction))\n",
      "File \u001b[1;32mc:\\ProgramData\\miniconda3\\lib\\site-packages\\torch\\functional.py:74\u001b[0m, in \u001b[0;36mbroadcast_tensors\u001b[1;34m(*tensors)\u001b[0m\n\u001b[0;32m     72\u001b[0m \u001b[39mif\u001b[39;00m has_torch_function(tensors):\n\u001b[0;32m     73\u001b[0m     \u001b[39mreturn\u001b[39;00m handle_torch_function(broadcast_tensors, tensors, \u001b[39m*\u001b[39mtensors)\n\u001b[1;32m---> 74\u001b[0m \u001b[39mreturn\u001b[39;00m _VF\u001b[39m.\u001b[39;49mbroadcast_tensors(tensors)\n",
      "\u001b[1;31mRuntimeError\u001b[0m: The size of tensor a (32) must match the size of tensor b (20) at non-singleton dimension 2"
     ]
    }
   ],
   "source": [
    "transformer = RegressionTranformer()\n",
    "transformer = transformer.to(device)\n",
    "\n",
    "transformer_optimizer = torch.optim.Adam(transformer.parameters(), lr=learnrate_HP)\n",
    "\n",
    "\n",
    "\n",
    "def trainroutine():\n",
    "    for epoch in range(nepochs_HP):\n",
    "        running_loss = 0.0\n",
    "        for i, (x_batch, y_batch) in enumerate(train_dataloader):\n",
    "            x_batch = x_batch.to(device)\n",
    "            y_batch = y_batch.to(device)\n",
    "            \n",
    "            # Forward propagation\n",
    "            ŷ_batch = transformer(x_batch)\n",
    "            \n",
    "            # Backpropagation\n",
    "            batch_loss = loss_HP(ŷ_batch, y_batch).backward()\n",
    "            batch_loss.backward()\n",
    "            transformer_optimizer.step()\n",
    "            transformer_optimizer.zero_grad()\n",
    "\n",
    "            # Print statistics\n",
    "            running_loss += batch_loss.item()\n",
    "            if i % 1000 == 999:\n",
    "                print('[%d, %5d] loss: %.3f' %\n",
    "                    (epoch + 1, i + 1, running_loss / 1000))\n",
    "                running_loss = 0.0\n",
    "trainroutine()"
   ]
  },
  {
   "attachments": {},
   "cell_type": "markdown",
   "metadata": {},
   "source": [
    "# Notes\n",
    "\n",
    "- We could add a positionnal encoding (with\n",
    "PositionalEncoding) (see https://pytorch.org/tutorials/beginner/transformer_tutorial.html)\n",
    "\n",
    "Usually, embedding is done in order to compress the representation of words (loss of information).\n",
    "In our case, their are 4 possible tokens, which means that no compression is needed."
   ]
  }
 ],
 "metadata": {
  "kernelspec": {
   "display_name": "base",
   "language": "python",
   "name": "python3"
  },
  "language_info": {
   "codemirror_mode": {
    "name": "ipython",
    "version": 3
   },
   "file_extension": ".py",
   "mimetype": "text/x-python",
   "name": "python",
   "nbconvert_exporter": "python",
   "pygments_lexer": "ipython3",
   "version": "3.10.8"
  },
  "orig_nbformat": 4
 },
 "nbformat": 4,
 "nbformat_minor": 2
}
