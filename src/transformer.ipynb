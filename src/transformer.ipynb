{
  "cells": [
    {
      "cell_type": "code",
      "execution_count": 1,
      "metadata": {
        "id": "OvvkIKdVhMwf"
      },
      "outputs": [],
      "source": [
        "import math\n",
        "import os\n",
        "import torch\n",
        "from torch import nn, Tensor\n",
        "import torch.nn.functional as F\n",
        "from torch.nn import TransformerEncoder, TransformerEncoderLayer\n",
        "from torch.utils.data import TensorDataset, DataLoader\n",
        "device = torch.device('cuda' if torch.cuda.is_available() else 'cpu')\n",
        "import json\n",
        "import pandas as pd\n",
        "import sklearn\n",
        "from sklearn.preprocessing import OneHotEncoder"
      ]
    },
    {
      "cell_type": "markdown",
      "metadata": {
        "id": "N6_JjGTPhMwg"
      },
      "source": [
        "# Hyperparameters"
      ]
    },
    {
      "cell_type": "code",
      "execution_count": 2,
      "metadata": {
        "id": "oYsS0wzFhMwh"
      },
      "outputs": [],
      "source": [
        "# Transformer HyperHPeters\n",
        "# The length of our token sequences\n",
        "ntokens_HP = 30\n",
        "# Number of attention heads\n",
        "nheads_HP = 8\n",
        "# The encoding dimensions of our tokens\n",
        "token_encode_size_HP = 4\n",
        "# The embedding string size\n",
        "# Pytorch will cut this embedded sequence \n",
        "# and give an equal amount to each head, different \n",
        "# than in theory \n",
        "embed_size_HP = token_encode_size_HP *  nheads_HP\n",
        "# Output size of the heads, which \n",
        "# learn an embedding.\n",
        "head_embedsize_HP = 4\n",
        "# For some reason PyTorch needs us to do this manually\n",
        "d_model_HP = head_embedsize_HP * nheads_HP\n",
        "# No dropout for now\n",
        "dropout_HP = 0\n",
        "# Standard stuff\n",
        "activation_HP = \"relu\"\n",
        "layer_norm_eps_HP = 1e-5\n",
        "batch_first_HP = True\n",
        "norm_first_HP = False\n",
        "\n",
        "# Trainig and validation Hyperparameters\n",
        "datasetsize_HP = 10000\n",
        "split_HP = 0.2\n",
        "batchsize_HP = 10\n",
        "batchsize_HP = min(batchsize_HP, (int)(datasetsize_HP*0.2))\n",
        "nepochs_HP = 40\n",
        "device = torch.device(\"cuda\" if torch.cuda.is_available() else \"cpu\")\n",
        "loss_HP = nn.MSELoss()\n",
        "learnrate_HP = 1e-4"
      ]
    },
    {
      "cell_type": "markdown",
      "metadata": {
        "id": "mE4uz7nehMwi"
      },
      "source": [
        "# Create the transformer model"
      ]
    },
    {
      "cell_type": "code",
      "execution_count": 3,
      "metadata": {
        "id": "VDT-LncKhMwi"
      },
      "outputs": [],
      "source": [
        "# Created entirely by the Pytorch team and pasted here.\n",
        "# Adds information of position in the encoding of the tokens.\n",
        "class PositionalEncoding(nn.Module):\n",
        "    def __init__(self, d_model: int, dropout: float = 0.1, max_len: int = 5000):\n",
        "        super().__init__()\n",
        "        self.dropout = nn.Dropout(p=dropout)\n",
        "        position = torch.arange(max_len).unsqueeze(1)\n",
        "        div_term = torch.exp(torch.arange(0, d_model, 2) * (-math.log(10000.0) / d_model))\n",
        "        pe = torch.zeros(max_len, 1, d_model)\n",
        "        pe[:, 0, 0::2] = torch.sin(position * div_term)\n",
        "        pe[:, 0, 1::2] = torch.cos(position * div_term)\n",
        "        self.register_buffer('pe', pe)\n",
        "    def forward(self, x: Tensor) -> Tensor:\n",
        "        \"\"\"\n",
        "        Args:\n",
        "            x: Tensor, shape [seq_len, batch_size, embedding_dim]\n",
        "        \"\"\"\n",
        "        x = x + self.pe[:x.size(0)]\n",
        "        return self.dropout(x)\n",
        "\n",
        "class RegressionTranformer(nn.Module):\n",
        "    def __init__(self):\n",
        "        super(RegressionTranformer, self).__init__()\n",
        "        self.encoder = nn.TransformerEncoderLayer(\n",
        "            d_model = embed_size_HP,\n",
        "            nhead = nheads_HP,\n",
        "            dropout = dropout_HP,\n",
        "            activation = activation_HP,\n",
        "            layer_norm_eps = layer_norm_eps_HP,\n",
        "            batch_first = batch_first_HP,\n",
        "            norm_first = norm_first_HP\n",
        "        )\n",
        "        # Takes indexed sequences of tokens and embeds them.\n",
        "        # [batch_size, seq_len] -> [seq_len, batch_size, embedding_dim] TODO check this!\n",
        "        self.embedder = nn.Embedding(ntokens_HP, embed_size_HP)\n",
        "        # Will add information about position in sequence to each token.\n",
        "        # The second argument is the dropout probability.\n",
        "        # [seq_len, batch_size, embedding_dim] -> [seq_len, batch_size, embedding_dim] TODO check this!\n",
        "        self.posi_encoder = PositionalEncoding(embed_size_HP, 0.5)\n",
        "\n",
        "        # This final layer will take the represented ouput and maps to a real number.\n",
        "        # [batch_size, flatten_seq_len] -> [1]\n",
        "        self.linear = nn.Linear(embed_size_HP * ntokens_HP, 1)\n",
        "\n",
        "\n",
        "    def forward(self, x):\n",
        "        #print(\"embedder input: \", x.shape)\n",
        "        ŷ = self.embedder(x)\n",
        "        #print(\"embedder output: \", ŷ.shape)\n",
        "\n",
        "        ŷ = torch.permute(ŷ, (1,0,2)).to(device) # Necessary for the posi. enc. function.\n",
        "        #print(\"posi input: \", ŷ.shape)\n",
        "        ŷ = self.posi_encoder(ŷ)\n",
        "        #print(\"posi output: \", ŷ.shape)\n",
        "\n",
        "        ŷ = torch.permute(ŷ, (1,0,2)).to(device) # Back to normal\n",
        "        #print(\"encod input: \", ŷ.shape)\n",
        "        ŷ = self.encoder(ŷ)\n",
        "        #print(\"encod output: \", ŷ.shape)\n",
        "\n",
        "        #print(\"concat input: \", ŷ.shape)\n",
        "        ŷ = ŷ.flatten(1,2).to(device)\n",
        "        #print(\"concat output: \", ŷ.shape)\n",
        "\n",
        "        #print(\"linear input: \", ŷ.shape)\n",
        "        ŷ = self.linear(ŷ)\n",
        "        #print(\"linear output: \", ŷ.shape)\n",
        "\n",
        "        return ŷ\n",
        "        \n",
        "transformer = RegressionTranformer()\n",
        "transformer = transformer.to(device)"
      ]
    },
    {
      "cell_type": "code",
      "execution_count": 4,
      "metadata": {
        "colab": {
          "base_uri": "https://localhost:8080/",
          "height": 53
        },
        "id": "o7GGnLREhMwi",
        "outputId": "c6bfc3f4-5f70-48dd-9bcd-94ccc4e8668e"
      },
      "outputs": [
        {
          "output_type": "execute_result",
          "data": {
            "text/plain": [
              "'\\nembed_layer = nn.Embedding(4, 16)\\ninput = torch.rand(10, 30).to(torch.int)\\nembedded = embed_layer(input)\\nprint(output.shape)\\n\\nencoder_layer = nn.TransformerEncoderLayer(d_model=16, nhead=8)\\nout = encoder_layer(embedded)\\nprint(out.shape)\\n'"
            ],
            "application/vnd.google.colaboratory.intrinsic+json": {
              "type": "string"
            }
          },
          "metadata": {},
          "execution_count": 4
        }
      ],
      "source": [
        "'''\n",
        "embed_layer = nn.Embedding(4, 16)\n",
        "input = torch.rand(10, 30).to(torch.int)\n",
        "embedded = embed_layer(input)\n",
        "print(output.shape)\n",
        "\n",
        "encoder_layer = nn.TransformerEncoderLayer(d_model=16, nhead=8)\n",
        "out = encoder_layer(embedded)\n",
        "print(out.shape)\n",
        "'''"
      ]
    },
    {
      "cell_type": "markdown",
      "metadata": {
        "id": "r0-3qv1dhMwj"
      },
      "source": [
        "# Import and preprocess the data"
      ]
    },
    {
      "cell_type": "code",
      "execution_count": 5,
      "metadata": {
        "id": "OSkzaVSmhMwj"
      },
      "outputs": [],
      "source": [
        "features_df = pd.read_json('strandenergylist.json')\n",
        "energy_df = features_df[1]\n",
        "energy_df = energy_df.head(datasetsize_HP)\n",
        "features_df = features_df.head(datasetsize_HP)\n",
        "features_df = features_df[0].str.split('', expand=True)\n",
        "features_df = features_df.drop([0, 31], axis=1)\n",
        "labels_df = features_df[1]"
      ]
    },
    {
      "cell_type": "code",
      "source": [
        "from google.colab import drive\n",
        "drive.mount('/content/drive')"
      ],
      "metadata": {
        "colab": {
          "base_uri": "https://localhost:8080/"
        },
        "id": "iUqz6CpthvtC",
        "outputId": "8c5ac550-4067-43ce-b00e-6d8442349d19"
      },
      "execution_count": 6,
      "outputs": [
        {
          "output_type": "stream",
          "name": "stdout",
          "text": [
            "Drive already mounted at /content/drive; to attempt to forcibly remount, call drive.mount(\"/content/drive\", force_remount=True).\n"
          ]
        }
      ]
    },
    {
      "cell_type": "markdown",
      "metadata": {
        "id": "bphVGGvhhMwj"
      },
      "source": [
        "### Transformation into pytorch tensors"
      ]
    },
    {
      "cell_type": "code",
      "execution_count": 7,
      "metadata": {
        "id": "8r4fpLUShMwj"
      },
      "outputs": [],
      "source": [
        "# Transform string features into as DNA tensor\n",
        "dna = features_df.to_numpy()\n",
        "for i in range(dna.shape[0]):\n",
        "    for j in range(dna.shape[1]):\n",
        "        if (dna[i,j] == 'A'): dna[i,j] = 0\n",
        "        if (dna[i,j] == 'C'): dna[i,j] = 1\n",
        "        if (dna[i,j] == 'G'): dna[i,j] = 2\n",
        "        if (dna[i,j] == 'T'): dna[i,j] = 3\n",
        "dna = dna.astype(int)\n",
        "dna = torch.from_numpy(dna)\n",
        "#dna = F.one_hot(dna.to(torch.int64), num_classes=4).to(device)\n",
        "#dna = dna.reshape(datasetsize_HP, 120)\n",
        "# Get free energy as pytorch tensor\n",
        "energy = torch.tensor(energy_df.values).to(torch.float).to(device)"
      ]
    },
    {
      "cell_type": "markdown",
      "metadata": {
        "id": "PWpoKxrbhMwk"
      },
      "source": [
        "### Creation of test and validation iterators"
      ]
    },
    {
      "cell_type": "code",
      "execution_count": 8,
      "metadata": {
        "id": "ImeH9IDxhMwk"
      },
      "outputs": [],
      "source": [
        "dataset = TensorDataset(dna, energy)\n",
        "ntrain = (int) (split_HP * datasetsize_HP)\n",
        "ntest = datasetsize_HP - ntrain\n",
        "train_set, vali_set = torch.utils.data.random_split(dataset, [ntrain, ntest])\n",
        "\n",
        "train_dataloader = DataLoader(train_set, batch_size=batchsize_HP, shuffle=True)\n",
        "vali_dataloader = DataLoader(vali_set, batch_size=batchsize_HP, shuffle=True)"
      ]
    },
    {
      "cell_type": "markdown",
      "metadata": {
        "id": "C12-5_uchMwk"
      },
      "source": [
        "# Train the Transformer"
      ]
    },
    {
      "cell_type": "code",
      "execution_count": 9,
      "metadata": {
        "colab": {
          "base_uri": "https://localhost:8080/"
        },
        "id": "y5yz-zoWhMwk",
        "outputId": "a277b7f3-c120-4359-fc39-b3775d43fcef"
      },
      "outputs": [
        {
          "output_type": "stream",
          "name": "stderr",
          "text": [
            "/usr/local/lib/python3.9/dist-packages/torch/nn/modules/loss.py:536: UserWarning: Using a target size (torch.Size([10])) that is different to the input size (torch.Size([10, 1])). This will likely lead to incorrect results due to broadcasting. Please ensure they have the same size.\n",
            "  return F.mse_loss(input, target, reduction=self.reduction)\n"
          ]
        },
        {
          "output_type": "stream",
          "name": "stdout",
          "text": [
            "tensor(47.0936, grad_fn=<DivBackward0>)\n",
            "Test loss current batch  tensor(0.7444, grad_fn=<MseLossBackward0>)\n",
            "Test loss current batch  tensor(1.0710, grad_fn=<MseLossBackward0>)\n",
            "Test loss current batch  tensor(3.1454, grad_fn=<MseLossBackward0>)\n",
            "Test loss current batch  tensor(1.8229, grad_fn=<MseLossBackward0>)\n",
            "Test loss current batch  tensor(0.9314, grad_fn=<MseLossBackward0>)\n",
            "Test loss current batch  tensor(1.6279, grad_fn=<MseLossBackward0>)\n",
            "Test loss current batch  tensor(1.1543, grad_fn=<MseLossBackward0>)\n",
            "Test loss current batch  tensor(2.6682, grad_fn=<MseLossBackward0>)\n",
            "Test loss current batch  tensor(1.2413, grad_fn=<MseLossBackward0>)\n",
            "Test loss current batch  tensor(1.0188, grad_fn=<MseLossBackward0>)\n",
            "Test loss current batch  tensor(6.7823, grad_fn=<MseLossBackward0>)\n",
            "Test loss current batch  tensor(1.1757, grad_fn=<MseLossBackward0>)\n",
            "Test loss current batch  tensor(1.0194, grad_fn=<MseLossBackward0>)\n",
            "Test loss current batch  tensor(2.1936, grad_fn=<MseLossBackward0>)\n",
            "Test loss current batch  tensor(0.5311, grad_fn=<MseLossBackward0>)\n",
            "Test loss current batch  tensor(0.9123, grad_fn=<MseLossBackward0>)\n",
            "Test loss current batch  tensor(1.5495, grad_fn=<MseLossBackward0>)\n",
            "Test loss current batch  tensor(1.0221, grad_fn=<MseLossBackward0>)\n",
            "Test loss current batch  tensor(1.2763, grad_fn=<MseLossBackward0>)\n",
            "Test loss current batch  tensor(2.0302, grad_fn=<MseLossBackward0>)\n",
            "Test loss current batch  tensor(2.9186, grad_fn=<MseLossBackward0>)\n",
            "Test loss current batch  tensor(2.1202, grad_fn=<MseLossBackward0>)\n",
            "Test loss current batch  tensor(1.1604, grad_fn=<MseLossBackward0>)\n",
            "Test loss current batch  tensor(3.1301, grad_fn=<MseLossBackward0>)\n",
            "Test loss current batch  tensor(1.0967, grad_fn=<MseLossBackward0>)\n",
            "Test loss current batch  tensor(0.9830, grad_fn=<MseLossBackward0>)\n",
            "Test loss current batch  tensor(1.5352, grad_fn=<MseLossBackward0>)\n",
            "Test loss current batch  tensor(0.5803, grad_fn=<MseLossBackward0>)\n",
            "Test loss current batch  tensor(0.7934, grad_fn=<MseLossBackward0>)\n",
            "Test loss current batch  tensor(0.6698, grad_fn=<MseLossBackward0>)\n",
            "Test loss current batch  tensor(1.0564, grad_fn=<MseLossBackward0>)\n",
            "Test loss current batch  tensor(1.3987, grad_fn=<MseLossBackward0>)\n",
            "Test loss current batch  tensor(0.9423, grad_fn=<MseLossBackward0>)\n",
            "Test loss current batch  tensor(0.9831, grad_fn=<MseLossBackward0>)\n",
            "Test loss current batch  tensor(2.2141, grad_fn=<MseLossBackward0>)\n",
            "Test loss current batch  tensor(1.2925, grad_fn=<MseLossBackward0>)\n",
            "Test loss current batch  tensor(3.3533, grad_fn=<MseLossBackward0>)\n",
            "Test loss current batch  tensor(1.1107, grad_fn=<MseLossBackward0>)\n",
            "Test loss current batch  tensor(1.9967, grad_fn=<MseLossBackward0>)\n",
            "Test loss current batch  tensor(1.2406, grad_fn=<MseLossBackward0>)\n"
          ]
        }
      ],
      "source": [
        "def get_reg_accuracy():\n",
        "    batch_loss = 0\n",
        "    total = 0\n",
        "    for (x_batch, y_batch) in vali_dataloader:\n",
        "            x_batch = x_batch.to(device)\n",
        "            y_batch = y_batch.to(device)\n",
        "            ŷ_batch = transformer(x_batch).to(device)\n",
        "            batch_loss += x_batch.shape[0] * loss_HP(ŷ_batch, y_batch)\n",
        "    return batch_loss / (int)(datasetsize_HP*0.2)\n",
        "print( get_reg_accuracy() )\n",
        "\n",
        "\n",
        "\n",
        "\n",
        "transformer_optimizer = torch.optim.Adam(transformer.parameters(), lr=learnrate_HP)\n",
        "def trainroutine():\n",
        "    for epoch in range(nepochs_HP):\n",
        "        running_loss = 0.0\n",
        "        for i, (x_batch, y_batch) in enumerate(train_dataloader):\n",
        "            x_batch = x_batch.to(device)\n",
        "            y_batch = y_batch.to(device)\n",
        "            \n",
        "            # Forward propagation\n",
        "            ŷ_batch = transformer(x_batch).to(device)\n",
        "            \n",
        "            # Backpropagation\n",
        "            batch_loss = loss_HP(ŷ_batch, y_batch)\n",
        "            batch_loss.backward()\n",
        "            transformer_optimizer.step()\n",
        "            transformer_optimizer.zero_grad()\n",
        "\n",
        "            # Print statistics\n",
        "            running_loss += batch_loss.item()\n",
        "        print(\"Test loss current batch \", batch_loss)\n",
        "        print(\"Valid loss\", get_reg_accuracy())\n",
        "trainroutine()\n",
        "torch.save(transformer.state_dict(),\"transformer_weights.pt\")\n"
      ]
    },
    {
      "cell_type": "markdown",
      "metadata": {
        "id": "_tJDjYNIhMwk"
      },
      "source": [
        "# Get validation accuracy"
      ]
    },
    {
      "cell_type": "code",
      "execution_count": 10,
      "metadata": {
        "id": "pbpgD4MohMwk"
      },
      "outputs": [],
      "source": [
        "def get_reg_accuracy():\n",
        "    batch_loss = 0\n",
        "    for (x_fullbatch, y_fullbatch) in vali_dataloader:\n",
        "            x_fullbatch = x_fullbatch.to(device)\n",
        "            y_fullbatch = y_fullbatch.to(device)\n",
        "            ŷ_fullbatch = transformer(x_fullbatch)\n",
        "            batch_loss = loss_HP(ŷ_fullbatch, y_fullbatch)\n",
        "    return batch_loss.item()\n",
        "#print( get_reg_accuracy() )"
      ]
    },
    {
      "cell_type": "markdown",
      "metadata": {
        "id": "N4peNfb_hMwl"
      },
      "source": [
        "# Notes\n",
        "\n",
        "- We could add a positionnal encoding (with\n",
        "PositionalEncoding) (see https://pytorch.org/tutorials/beginner/transformer_tutorial.html)\n",
        "\n",
        "Usually, embedding is done in order to compress the representation of words (loss of information).\n",
        "In our case, their are 4 possible tokens, which means that no compression is needed."
      ]
    }
  ],
  "metadata": {
    "kernelspec": {
      "display_name": "base",
      "language": "python",
      "name": "python3"
    },
    "language_info": {
      "codemirror_mode": {
        "name": "ipython",
        "version": 3
      },
      "file_extension": ".py",
      "mimetype": "text/x-python",
      "name": "python",
      "nbconvert_exporter": "python",
      "pygments_lexer": "ipython3",
      "version": "3.10.8"
    },
    "orig_nbformat": 4,
    "colab": {
      "provenance": [],
      "toc_visible": true
    },
    "accelerator": "TPU",
    "gpuClass": "standard"
  },
  "nbformat": 4,
  "nbformat_minor": 0
}