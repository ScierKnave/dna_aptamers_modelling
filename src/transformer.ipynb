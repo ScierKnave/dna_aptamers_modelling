{
 "cells": [
  {
   "cell_type": "code",
   "execution_count": 35,
   "metadata": {},
   "outputs": [],
   "source": [
    "import torch\n",
    "from torch import nn, Tensor\n",
    "import torch.nn.functional as F\n",
    "from torch.nn import TransformerEncoder, TransformerEncoderLayer\n",
    "from torch.utils.data import dataset\n",
    "device = torch.device('cuda' if torch.cuda.is_available() else 'cpu')"
   ]
  },
  {
   "attachments": {},
   "cell_type": "markdown",
   "metadata": {},
   "source": [
    "# Hyperparameters"
   ]
  },
  {
   "cell_type": "code",
   "execution_count": 36,
   "metadata": {},
   "outputs": [],
   "source": [
    "\n",
    "# Only 4 nucleotides possible (ACGT)\n",
    "token_space_size_PARAM = 4\n",
    "# Number of attention heads\n",
    "nhead_PARAM = 8\n",
    "# Input size of the heads\n",
    "head_inp_size_PARAM = 30\n",
    "# For some reason pytorch needs this\n",
    "d_model_PARAM = head_inp_size_PARAM * nhead_PARAM\n",
    "# Output dimension of the feedforward network\n",
    "# Set to 1 since this is a regression task\n",
    "dim_feedforward_PARAM = 1\n",
    "dropout_PARAM = 0\n",
    "activation_PARAM = \"relu\"\n",
    "layer_norm_eps_PARAM = 1e-5\n",
    "batch_first_PARAM = True\n",
    "norm_first_PARAM = False"
   ]
  },
  {
   "cell_type": "code",
   "execution_count": 37,
   "metadata": {},
   "outputs": [],
   "source": [
    "# Create transformer model\n",
    "class RegressionTranformer(nn.Module):\n",
    "    def __init__(self):\n",
    "        super().__init__()\n",
    "        self.encoder_transformer = nn.TransformerEncoderLayer(\n",
    "            d_model = d_model_PARAM,\n",
    "            nhead = nhead_PARAM,\n",
    "            dim_feedforward = dim_feedforward_PARAM,\n",
    "            dropout = dropout_PARAM,\n",
    "            activation = activation_PARAM,\n",
    "            layer_norm_eps = layer_norm_eps_PARAM,\n",
    "            batch_first = batch_first_PARAM,\n",
    "            norm_first = norm_first_PARAM\n",
    "        )\n",
    "        self.embedder = nn.Embedding(token_space_size_PARAM, \n",
    "            d_model_PARAM)\n",
    "    \n",
    "    def forward(self, X):\n",
    "        Y = self.embedder(X)\n",
    "        Y = self.encoder_transformer(Y)\n",
    "        return Y\n",
    "RegressionTranformer = RegressionTranformer().to(device)"
   ]
  },
  {
   "attachments": {},
   "cell_type": "markdown",
   "metadata": {},
   "source": [
    "# Notes\n",
    "\n",
    "- We could add a positionnal encoding (with\n",
    "PositionalEncoding) (see https://pytorch.org/tutorials/beginner/transformer_tutorial.html)"
   ]
  }
 ],
 "metadata": {
  "kernelspec": {
   "display_name": "base",
   "language": "python",
   "name": "python3"
  },
  "language_info": {
   "codemirror_mode": {
    "name": "ipython",
    "version": 3
   },
   "file_extension": ".py",
   "mimetype": "text/x-python",
   "name": "python",
   "nbconvert_exporter": "python",
   "pygments_lexer": "ipython3",
   "version": "3.10.8"
  },
  "orig_nbformat": 4
 },
 "nbformat": 4,
 "nbformat_minor": 2
}
