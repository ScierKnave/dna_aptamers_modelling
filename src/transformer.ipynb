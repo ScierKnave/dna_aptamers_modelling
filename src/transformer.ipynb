{
  "cells": [
    {
      "cell_type": "code",
      "execution_count": 9,
      "metadata": {
        "id": "OvvkIKdVhMwf"
      },
      "outputs": [],
      "source": [
        "import math\n",
        "import os\n",
        "import torch\n",
        "from torch import nn, Tensor\n",
        "import torch.nn.functional as F\n",
        "from torch.nn import TransformerEncoder, TransformerEncoderLayer\n",
        "from torch.utils.data import TensorDataset, DataLoader\n",
        "device = torch.device('cuda' if torch.cuda.is_available() else 'cpu')\n",
        "import json\n",
        "import pandas as pd\n",
        "import numpy as np\n",
        "import sklearn\n",
        "from sklearn.preprocessing import OneHotEncoder\n",
        "\n",
        "if torch.cuda.is_available():\n",
        "  torch.set_default_tensor_type('torch.cuda.FloatTensor')"
      ]
    },
    {
      "cell_type": "markdown",
      "metadata": {
        "id": "N6_JjGTPhMwg"
      },
      "source": [
        "# Hyperparameters"
      ]
    },
    {
      "cell_type": "code",
      "execution_count": 10,
      "metadata": {
        "id": "oYsS0wzFhMwh"
      },
      "outputs": [],
      "source": [
        "# Transformer HyperHPeters\n",
        "# The length of our token sequences\n",
        "ntokens_HP = 30\n",
        "# Number of attention heads\n",
        "nheads_HP = 8\n",
        "# The encoding dimensions of our tokens\n",
        "token_encode_size_HP = 16\n",
        "# The embedding string size\n",
        "# Pytorch will cut this embedded sequence \n",
        "# and give an equal amount to each head, different \n",
        "# than in theory \n",
        "embed_size_HP = token_encode_size_HP *  nheads_HP\n",
        "# Output size of the heads, which \n",
        "# learn an embedding.\n",
        "head_embedsize_HP = 4\n",
        "# For some reason PyTorch needs us to do this manually\n",
        "d_model_HP = head_embedsize_HP * nheads_HP\n",
        "# No dropout for now\n",
        "dropout_HP = 0\n",
        "# Number of encoding layers\n",
        "n_encoders_HP = 3\n",
        "\n",
        "# Standard stuff\n",
        "activation_HP = \"relu\"\n",
        "layer_norm_eps_HP = 1e-5\n",
        "batch_first_HP = True\n",
        "norm_first_HP = False\n",
        "\n",
        "# Trainig and validation Hyperparameters\n",
        "datasetsize_HP = 1000000\n",
        "split_HP = 0.9\n",
        "batchsize_HP = 150\n",
        "batchsize_HP = min(batchsize_HP, (int)(datasetsize_HP*0.2))\n",
        "nepochs_HP = 10\n",
        "device = torch.device(\"cuda\" if torch.cuda.is_available() else \"cpu\")\n",
        "loss_HP = nn.MSELoss()\n",
        "learnrate_HP = 1e-4"
      ]
    },
    {
      "cell_type": "markdown",
      "metadata": {
        "id": "r0-3qv1dhMwj"
      },
      "source": [
        "# Import and preprocess the data"
      ]
    },
    {
      "cell_type": "code",
      "execution_count": 11,
      "metadata": {
        "id": "8r4fpLUShMwj",
        "colab": {
          "base_uri": "https://localhost:8080/"
        },
        "outputId": "db0f9608-352e-4cd8-ef91-0ca46db223d2"
      },
      "outputs": [
        {
          "output_type": "stream",
          "name": "stdout",
          "text": [
            "Drive already mounted at /content/drive; to attempt to forcibly remount, call drive.mount(\"/content/drive\", force_remount=True).\n"
          ]
        }
      ],
      "source": [
        "from google.colab import drive\n",
        "drive.mount('/content/drive')\n",
        "\n",
        "\n",
        "# Json -> Dataframe\n",
        "features_df = pd.read_json('/content/drive/MyDrive/strandenergylist.json')\n",
        "energy_df = features_df[1]\n",
        "energy_df = energy_df.head(datasetsize_HP)\n",
        "features_df = features_df.head(datasetsize_HP)\n",
        "features_df = features_df[0].str.split('', expand=True)\n",
        "features_df = features_df.drop([0, 31], axis=1)\n",
        "labels_df = features_df[1]\n",
        "\n",
        "\n",
        "# Dataframe -> Tensors\n",
        "dna = features_df.to_numpy()\n",
        "for i in range(dna.shape[0]):\n",
        "    for j in range(dna.shape[1]):\n",
        "        if (dna[i,j] == 'A'): dna[i,j] = 0\n",
        "        if (dna[i,j] == 'C'): dna[i,j] = 1\n",
        "        if (dna[i,j] == 'G'): dna[i,j] = 2\n",
        "        if (dna[i,j] == 'T'): dna[i,j] = 3\n",
        "dna = dna.astype(int)\n",
        "dna = torch.from_numpy(dna)\n",
        "energy = torch.tensor(energy_df.values).to(torch.float)\n",
        "\n",
        "\n",
        "# Tensors -> Dataloaders\n",
        "dataset = TensorDataset(dna, energy)\n",
        "ntrain = (int) (split_HP * datasetsize_HP)\n",
        "ntest = datasetsize_HP - ntrain\n",
        "train_set, vali_set = torch.utils.data.random_split(dataset, [ntrain, ntest], \n",
        "                                                    generator=torch.Generator(device='cuda'))\n",
        "\n",
        "train_dataloader = DataLoader(train_set, batch_size=batchsize_HP, shuffle=True, \n",
        "                              generator=torch.Generator(device='cuda'))\n",
        "vali_dataloader = DataLoader(vali_set, batch_size=batchsize_HP, shuffle=True, \n",
        "                             generator=torch.Generator(device='cuda'))"
      ]
    },
    {
      "cell_type": "markdown",
      "metadata": {
        "id": "mE4uz7nehMwi"
      },
      "source": [
        "# Create the transformer model"
      ]
    },
    {
      "cell_type": "code",
      "execution_count": 12,
      "metadata": {
        "id": "VDT-LncKhMwi"
      },
      "outputs": [],
      "source": [
        "# Created entirely by the Pytorch team and pasted here.\n",
        "# Adds information of position in the encoding of the tokens.\n",
        "class PositionalEncoding(nn.Module):\n",
        "    def __init__(self, d_model: int, dropout: float = 0.1, max_len: int = 5000):\n",
        "        super().__init__()\n",
        "        self.dropout = nn.Dropout(p=dropout)\n",
        "        position = torch.arange(max_len).unsqueeze(1)\n",
        "        div_term = torch.exp(torch.arange(0, d_model, 2) * (-math.log(10000.0) / d_model))\n",
        "        pe = torch.zeros(max_len, 1, d_model)\n",
        "        pe[:, 0, 0::2] = torch.sin(position * div_term)\n",
        "        pe[:, 0, 1::2] = torch.cos(position * div_term)\n",
        "        self.register_buffer('pe', pe)\n",
        "    def forward(self, x: Tensor) -> Tensor:\n",
        "        \"\"\"\n",
        "        Args:\n",
        "            x: Tensor, shape [seq_len, batch_size, embedding_dim]\n",
        "        \"\"\"\n",
        "        x = x + self.pe[:x.size(0)]\n",
        "        return self.dropout(x)\n",
        "\n",
        "class RegressionTranformer(nn.Module):\n",
        "    def __init__(self):\n",
        "        super(RegressionTranformer, self).__init__()\n",
        "\n",
        "        # Takes indexed sequences of tokens and embeds them.\n",
        "        # [batch_size, seq_len] -> [seq_len, batch_size, embedding_dim] TODO check this!\n",
        "        self.embedder = nn.Embedding(ntokens_HP, embed_size_HP)\n",
        "\n",
        "        # Will add information about position in sequence to each token.\n",
        "        # The second argument is the dropout probability.\n",
        "        # [seq_len, batch_size, embedding_dim] -> [seq_len, batch_size, embedding_dim] TODO check this!\n",
        "        self.posi_encoder = PositionalEncoding(embed_size_HP, 0.5)\n",
        "\n",
        "        # The core of our regression transformer\n",
        "        transformer_encoder_layer = nn.TransformerEncoderLayer(\n",
        "            d_model = embed_size_HP,\n",
        "            nhead = nheads_HP,\n",
        "            dropout = dropout_HP,\n",
        "            activation = activation_HP,\n",
        "            layer_norm_eps = layer_norm_eps_HP,\n",
        "            batch_first = batch_first_HP,\n",
        "            norm_first = norm_first_HP\n",
        "        )\n",
        "        self.encoding_layers = nn.TransformerEncoder(transformer_encoder_layer, n_encoders_HP)\n",
        "\n",
        "      \n",
        "        # A linear map returning a scalar value, which is the predicted free\n",
        "        # energy of the input sequence.\n",
        "        # [batch_size, flatten_seq_len] -> [1]\n",
        "        self.linear = nn.Linear(embed_size_HP * ntokens_HP, 1) \n",
        "\n",
        "\n",
        "    def forward(self, x):\n",
        "        ŷ =  self.embedder(x)\n",
        "\n",
        "        # Normalise the encoding.\n",
        "        ŷ = ŷ * (1 / math.sqrt(embed_size_HP))\n",
        "\n",
        "        #ŷ = torch.permute(ŷ, (1,0,2)) # Necessary for the posi. enc. function.\n",
        "        #ŷ = self.posi_encoder(ŷ)\n",
        "\n",
        "        #ŷ = torch.permute(ŷ, (1,0,2)) # Back to normal\n",
        "        ŷ = self.encoding_layers(ŷ)\n",
        "\n",
        "        ŷ = ŷ.flatten(1,2)\n",
        "\n",
        "        ŷ = self.linear(ŷ)\n",
        "\n",
        "        return ŷ\n",
        "        \n",
        "transformer = RegressionTranformer().to(device)"
      ]
    },
    {
      "cell_type": "markdown",
      "metadata": {
        "id": "C12-5_uchMwk"
      },
      "source": [
        "# Train the Transformer"
      ]
    },
    {
      "cell_type": "code",
      "execution_count": 13,
      "metadata": {
        "id": "y5yz-zoWhMwk",
        "colab": {
          "base_uri": "https://localhost:8080/"
        },
        "outputId": "05b9c617-92aa-4591-89c7-d11be94c1756"
      },
      "outputs": [
        {
          "output_type": "stream",
          "name": "stdout",
          "text": [
            "Training loss: [5.32297]\n",
            "Test loss: [2.20779]\n",
            "Training loss: [5.32297, 3.60724]\n",
            "Test loss: [2.20779, 0.16653]\n",
            "Training loss: [5.32297, 3.60724, 1.38904]\n",
            "Test loss: [2.20779, 0.16653, 2.14547]\n",
            "Training loss: [5.32297, 3.60724, 1.38904, 0.41158]\n",
            "Test loss: [2.20779, 0.16653, 2.14547, 6.22859]\n",
            "Training loss: [5.32297, 3.60724, 1.38904, 0.41158, 0.8953]\n",
            "Test loss: [2.20779, 0.16653, 2.14547, 6.22859, 6.28923]\n",
            "Training loss: [5.32297, 3.60724, 1.38904, 0.41158, 0.8953, 0.23392]\n",
            "Test loss: [2.20779, 0.16653, 2.14547, 6.22859, 6.28923, 3.5576]\n",
            "Training loss: [5.32297, 3.60724, 1.38904, 0.41158, 0.8953, 0.23392, 0.0473]\n",
            "Test loss: [2.20779, 0.16653, 2.14547, 6.22859, 6.28923, 3.5576, 2.21382]\n",
            "Training loss: [5.32297, 3.60724, 1.38904, 0.41158, 0.8953, 0.23392, 0.0473, 0.19307]\n",
            "Test loss: [2.20779, 0.16653, 2.14547, 6.22859, 6.28923, 3.5576, 2.21382, 2.45008]\n",
            "Training loss: [5.32297, 3.60724, 1.38904, 0.41158, 0.8953, 0.23392, 0.0473, 0.19307, 0.10916]\n",
            "Test loss: [2.20779, 0.16653, 2.14547, 6.22859, 6.28923, 3.5576, 2.21382, 2.45008, 3.47179]\n",
            "Training loss: [5.32297, 3.60724, 1.38904, 0.41158, 0.8953, 0.23392, 0.0473, 0.19307, 0.10916, 0.04162]\n",
            "Test loss: [2.20779, 0.16653, 2.14547, 6.22859, 6.28923, 3.5576, 2.21382, 2.45008, 3.47179, 4.48761]\n"
          ]
        }
      ],
      "source": [
        "# Train # 1\n",
        "def get_reg_accuracy():\n",
        "    total = 0\n",
        "    \n",
        "    with torch.inference_mode():\n",
        "      transformer.eval()\n",
        "      for x_batch, y_batch in vali_dataloader:\n",
        "            x_batch = x_batch.to(device)\n",
        "            y_batch = y_batch.to(device)\n",
        "            ŷ_batch = transformer(x_batch)\n",
        "            batch_loss = loss_HP(ŷ_batch, y_batch.unsqueeze(1))\n",
        "            total += batchsize_HP * batch_loss.item()\n",
        "\n",
        "    transformer.train()\n",
        "    return total / (datasetsize_HP*(1-split_HP))\n",
        "\n",
        "\n",
        "transformer_optimizer = torch.optim.Adam(transformer.parameters(), lr=learnrate_HP)\n",
        "\n",
        "trainloss = []\n",
        "testloss = []\n",
        "\n",
        "def trainroutine():\n",
        "    global trainloss, testloss\n",
        "    for epoch in range(nepochs_HP):\n",
        "        running_loss = 0.0\n",
        "        for i, (x_batch, y_batch) in enumerate(train_dataloader):\n",
        "            # Put the data on the device\n",
        "            x_batch = x_batch.to(device)\n",
        "            y_batch = y_batch.to(device)\n",
        "            \n",
        "            # Forward propagation\n",
        "            ŷ_batch = transformer(x_batch)\n",
        "            \n",
        "            # Backpropagation\n",
        "            batch_loss = loss_HP(ŷ_batch, y_batch.unsqueeze(1))\n",
        "            transformer_optimizer.zero_grad()\n",
        "            batch_loss.backward()\n",
        "            transformer_optimizer.step()\n",
        "            \n",
        "\n",
        "            # Print statistics\n",
        "            running_loss += batch_loss.item()*batchsize_HP\n",
        "        \n",
        "        # Print the results through the epochs\n",
        "        trainloss = trainloss + [ round(running_loss/(datasetsize_HP*split_HP), 5) ]\n",
        "        print(\"Training loss:\", trainloss)\n",
        "        testloss = testloss + [ round(get_reg_accuracy(), 5) ]\n",
        "        print(\"Test loss:\", testloss)\n",
        "        \n",
        "trainroutine()\n",
        "torch.save(transformer.state_dict(),\"transformer_weights.pt\")\n"
      ]
    },
    {
      "cell_type": "code",
      "source": [
        "def trainroutine():\n",
        "    global trainloss, testloss\n",
        "    for epoch in range(nepochs_HP):\n",
        "        running_loss = 0.0\n",
        "        for i, (x_batch, y_batch) in enumerate(train_dataloader):\n",
        "            # Put the data on the device\n",
        "            x_batch = x_batch.to(device)\n",
        "            y_batch = y_batch.to(device)\n",
        "            \n",
        "            # Forward propagation\n",
        "            ŷ_batch = transformer(x_batch)\n",
        "            \n",
        "            # Backpropagation\n",
        "            batch_loss = loss_HP(ŷ_batch, y_batch.unsqueeze(1))\n",
        "            transformer_optimizer.zero_grad()\n",
        "            batch_loss.backward()\n",
        "            transformer_optimizer.step()\n",
        "            \n",
        "\n",
        "            # Print statistics\n",
        "            running_loss += batch_loss.item()*batchsize_HP\n",
        "        \n",
        "        # Print the results through the epochs\n",
        "        trainloss = trainloss + [ round(running_loss/(datasetsize_HP*split_HP), 5) ]\n",
        "        print(\"Training loss:\", trainloss)\n",
        "        testloss = testloss + [ round(get_reg_accuracy(), 5) ]\n",
        "        print(\"Test loss:\", testloss)\n",
        "        \n",
        "trainroutine()\n",
        "torch.save(transformer.state_dict(),\"transformer_weights.pt\")"
      ],
      "metadata": {
        "colab": {
          "base_uri": "https://localhost:8080/"
        },
        "id": "r9ao6HCdVy8B",
        "outputId": "5ca3602f-4c4e-4c58-b6ea-1dc9982054a7"
      },
      "execution_count": 14,
      "outputs": [
        {
          "output_type": "stream",
          "name": "stdout",
          "text": [
            "Training loss: [5.32297, 3.60724, 1.38904, 0.41158, 0.8953, 0.23392, 0.0473, 0.19307, 0.10916, 0.04162, 0.05259]\n",
            "Test loss: [2.20779, 0.16653, 2.14547, 6.22859, 6.28923, 3.5576, 2.21382, 2.45008, 3.47179, 4.48761, 4.53273]\n",
            "Training loss: [5.32297, 3.60724, 1.38904, 0.41158, 0.8953, 0.23392, 0.0473, 0.19307, 0.10916, 0.04162, 0.05259, 0.02536]\n",
            "Test loss: [2.20779, 0.16653, 2.14547, 6.22859, 6.28923, 3.5576, 2.21382, 2.45008, 3.47179, 4.48761, 4.53273, 3.73197]\n",
            "Training loss: [5.32297, 3.60724, 1.38904, 0.41158, 0.8953, 0.23392, 0.0473, 0.19307, 0.10916, 0.04162, 0.05259, 0.02536, 0.00497]\n",
            "Test loss: [2.20779, 0.16653, 2.14547, 6.22859, 6.28923, 3.5576, 2.21382, 2.45008, 3.47179, 4.48761, 4.53273, 3.73197, 3.14374]\n",
            "Training loss: [5.32297, 3.60724, 1.38904, 0.41158, 0.8953, 0.23392, 0.0473, 0.19307, 0.10916, 0.04162, 0.05259, 0.02536, 0.00497, 0.01208]\n",
            "Test loss: [2.20779, 0.16653, 2.14547, 6.22859, 6.28923, 3.5576, 2.21382, 2.45008, 3.47179, 4.48761, 4.53273, 3.73197, 3.14374, 3.18439]\n",
            "Training loss: [5.32297, 3.60724, 1.38904, 0.41158, 0.8953, 0.23392, 0.0473, 0.19307, 0.10916, 0.04162, 0.05259, 0.02536, 0.00497, 0.01208, 0.00454]\n",
            "Test loss: [2.20779, 0.16653, 2.14547, 6.22859, 6.28923, 3.5576, 2.21382, 2.45008, 3.47179, 4.48761, 4.53273, 3.73197, 3.14374, 3.18439, 3.57365]\n",
            "Training loss: [5.32297, 3.60724, 1.38904, 0.41158, 0.8953, 0.23392, 0.0473, 0.19307, 0.10916, 0.04162, 0.05259, 0.02536, 0.00497, 0.01208, 0.00454, 0.00237]\n",
            "Test loss: [2.20779, 0.16653, 2.14547, 6.22859, 6.28923, 3.5576, 2.21382, 2.45008, 3.47179, 4.48761, 4.53273, 3.73197, 3.14374, 3.18439, 3.57365, 3.7811]\n",
            "Training loss: [5.32297, 3.60724, 1.38904, 0.41158, 0.8953, 0.23392, 0.0473, 0.19307, 0.10916, 0.04162, 0.05259, 0.02536, 0.00497, 0.01208, 0.00454, 0.00237, 0.00347]\n",
            "Test loss: [2.20779, 0.16653, 2.14547, 6.22859, 6.28923, 3.5576, 2.21382, 2.45008, 3.47179, 4.48761, 4.53273, 3.73197, 3.14374, 3.18439, 3.57365, 3.7811, 3.69066]\n",
            "Training loss: [5.32297, 3.60724, 1.38904, 0.41158, 0.8953, 0.23392, 0.0473, 0.19307, 0.10916, 0.04162, 0.05259, 0.02536, 0.00497, 0.01208, 0.00454, 0.00237, 0.00347, 0.00034]\n",
            "Test loss: [2.20779, 0.16653, 2.14547, 6.22859, 6.28923, 3.5576, 2.21382, 2.45008, 3.47179, 4.48761, 4.53273, 3.73197, 3.14374, 3.18439, 3.57365, 3.7811, 3.69066, 3.51569]\n",
            "Training loss: [5.32297, 3.60724, 1.38904, 0.41158, 0.8953, 0.23392, 0.0473, 0.19307, 0.10916, 0.04162, 0.05259, 0.02536, 0.00497, 0.01208, 0.00454, 0.00237, 0.00347, 0.00034, 0.00064]\n",
            "Test loss: [2.20779, 0.16653, 2.14547, 6.22859, 6.28923, 3.5576, 2.21382, 2.45008, 3.47179, 4.48761, 4.53273, 3.73197, 3.14374, 3.18439, 3.57365, 3.7811, 3.69066, 3.51569, 3.47407]\n",
            "Training loss: [5.32297, 3.60724, 1.38904, 0.41158, 0.8953, 0.23392, 0.0473, 0.19307, 0.10916, 0.04162, 0.05259, 0.02536, 0.00497, 0.01208, 0.00454, 0.00237, 0.00347, 0.00034, 0.00064, 0.00053]\n",
            "Test loss: [2.20779, 0.16653, 2.14547, 6.22859, 6.28923, 3.5576, 2.21382, 2.45008, 3.47179, 4.48761, 4.53273, 3.73197, 3.14374, 3.18439, 3.57365, 3.7811, 3.69066, 3.51569, 3.47407, 3.56972]\n"
          ]
        }
      ]
    },
    {
      "cell_type": "code",
      "source": [
        "def trainroutine():\n",
        "    global trainloss, testloss\n",
        "    for epoch in range(nepochs_HP):\n",
        "        running_loss = 0.0\n",
        "        for i, (x_batch, y_batch) in enumerate(train_dataloader):\n",
        "            # Put the data on the device\n",
        "            x_batch = x_batch.to(device)\n",
        "            y_batch = y_batch.to(device)\n",
        "            \n",
        "            # Forward propagation\n",
        "            ŷ_batch = transformer(x_batch)\n",
        "            \n",
        "            # Backpropagation\n",
        "            batch_loss = loss_HP(ŷ_batch, y_batch.unsqueeze(1))\n",
        "            transformer_optimizer.zero_grad()\n",
        "            batch_loss.backward()\n",
        "            transformer_optimizer.step()\n",
        "            \n",
        "\n",
        "            # Print statistics\n",
        "            running_loss += batch_loss.item()*batchsize_HP\n",
        "        \n",
        "        # Print the results through the epochs\n",
        "        trainloss = trainloss + [ round(running_loss/(datasetsize_HP*split_HP), 5) ]\n",
        "        print(\"Training loss:\", trainloss)\n",
        "        testloss = testloss + [ round(get_reg_accuracy(), 5) ]\n",
        "        print(\"Test loss:\", testloss)\n",
        "        \n",
        "trainroutine()\n",
        "torch.save(transformer.state_dict(),\"transformer_weights.pt\")"
      ],
      "metadata": {
        "colab": {
          "base_uri": "https://localhost:8080/"
        },
        "id": "Q_UIopdoV6_E",
        "outputId": "e2ce4edf-1f61-456c-f0d7-b9d9945a308b"
      },
      "execution_count": 15,
      "outputs": [
        {
          "output_type": "stream",
          "name": "stdout",
          "text": [
            "Training loss: [5.32297, 3.60724, 1.38904, 0.41158, 0.8953, 0.23392, 0.0473, 0.19307, 0.10916, 0.04162, 0.05259, 0.02536, 0.00497, 0.01208, 0.00454, 0.00237, 0.00347, 0.00034, 0.00064, 0.00053, 0.00018]\n",
            "Test loss: [2.20779, 0.16653, 2.14547, 6.22859, 6.28923, 3.5576, 2.21382, 2.45008, 3.47179, 4.48761, 4.53273, 3.73197, 3.14374, 3.18439, 3.57365, 3.7811, 3.69066, 3.51569, 3.47407, 3.56972, 3.65511]\n",
            "Training loss: [5.32297, 3.60724, 1.38904, 0.41158, 0.8953, 0.23392, 0.0473, 0.19307, 0.10916, 0.04162, 0.05259, 0.02536, 0.00497, 0.01208, 0.00454, 0.00237, 0.00347, 0.00034, 0.00064, 0.00053, 0.00018, 0.00046]\n",
            "Test loss: [2.20779, 0.16653, 2.14547, 6.22859, 6.28923, 3.5576, 2.21382, 2.45008, 3.47179, 4.48761, 4.53273, 3.73197, 3.14374, 3.18439, 3.57365, 3.7811, 3.69066, 3.51569, 3.47407, 3.56972, 3.65511, 3.62541]\n",
            "Training loss: [5.32297, 3.60724, 1.38904, 0.41158, 0.8953, 0.23392, 0.0473, 0.19307, 0.10916, 0.04162, 0.05259, 0.02536, 0.00497, 0.01208, 0.00454, 0.00237, 0.00347, 0.00034, 0.00064, 0.00053, 0.00018, 0.00046, 9e-05]\n",
            "Test loss: [2.20779, 0.16653, 2.14547, 6.22859, 6.28923, 3.5576, 2.21382, 2.45008, 3.47179, 4.48761, 4.53273, 3.73197, 3.14374, 3.18439, 3.57365, 3.7811, 3.69066, 3.51569, 3.47407, 3.56972, 3.65511, 3.62541, 3.54702]\n",
            "Training loss: [5.32297, 3.60724, 1.38904, 0.41158, 0.8953, 0.23392, 0.0473, 0.19307, 0.10916, 0.04162, 0.05259, 0.02536, 0.00497, 0.01208, 0.00454, 0.00237, 0.00347, 0.00034, 0.00064, 0.00053, 0.00018, 0.00046, 9e-05, 0.00018]\n",
            "Test loss: [2.20779, 0.16653, 2.14547, 6.22859, 6.28923, 3.5576, 2.21382, 2.45008, 3.47179, 4.48761, 4.53273, 3.73197, 3.14374, 3.18439, 3.57365, 3.7811, 3.69066, 3.51569, 3.47407, 3.56972, 3.65511, 3.62541, 3.54702, 3.5301]\n",
            "Training loss: [5.32297, 3.60724, 1.38904, 0.41158, 0.8953, 0.23392, 0.0473, 0.19307, 0.10916, 0.04162, 0.05259, 0.02536, 0.00497, 0.01208, 0.00454, 0.00237, 0.00347, 0.00034, 0.00064, 0.00053, 0.00018, 0.00046, 9e-05, 0.00018, 9e-05]\n",
            "Test loss: [2.20779, 0.16653, 2.14547, 6.22859, 6.28923, 3.5576, 2.21382, 2.45008, 3.47179, 4.48761, 4.53273, 3.73197, 3.14374, 3.18439, 3.57365, 3.7811, 3.69066, 3.51569, 3.47407, 3.56972, 3.65511, 3.62541, 3.54702, 3.5301, 3.58099]\n",
            "Training loss: [5.32297, 3.60724, 1.38904, 0.41158, 0.8953, 0.23392, 0.0473, 0.19307, 0.10916, 0.04162, 0.05259, 0.02536, 0.00497, 0.01208, 0.00454, 0.00237, 0.00347, 0.00034, 0.00064, 0.00053, 0.00018, 0.00046, 9e-05, 0.00018, 9e-05, 4e-05]\n",
            "Test loss: [2.20779, 0.16653, 2.14547, 6.22859, 6.28923, 3.5576, 2.21382, 2.45008, 3.47179, 4.48761, 4.53273, 3.73197, 3.14374, 3.18439, 3.57365, 3.7811, 3.69066, 3.51569, 3.47407, 3.56972, 3.65511, 3.62541, 3.54702, 3.5301, 3.58099, 3.60385]\n",
            "Training loss: [5.32297, 3.60724, 1.38904, 0.41158, 0.8953, 0.23392, 0.0473, 0.19307, 0.10916, 0.04162, 0.05259, 0.02536, 0.00497, 0.01208, 0.00454, 0.00237, 0.00347, 0.00034, 0.00064, 0.00053, 0.00018, 0.00046, 9e-05, 0.00018, 9e-05, 4e-05, 4e-05]\n",
            "Test loss: [2.20779, 0.16653, 2.14547, 6.22859, 6.28923, 3.5576, 2.21382, 2.45008, 3.47179, 4.48761, 4.53273, 3.73197, 3.14374, 3.18439, 3.57365, 3.7811, 3.69066, 3.51569, 3.47407, 3.56972, 3.65511, 3.62541, 3.54702, 3.5301, 3.58099, 3.60385, 3.58119]\n",
            "Training loss: [5.32297, 3.60724, 1.38904, 0.41158, 0.8953, 0.23392, 0.0473, 0.19307, 0.10916, 0.04162, 0.05259, 0.02536, 0.00497, 0.01208, 0.00454, 0.00237, 0.00347, 0.00034, 0.00064, 0.00053, 0.00018, 0.00046, 9e-05, 0.00018, 9e-05, 4e-05, 4e-05, 1e-05]\n",
            "Test loss: [2.20779, 0.16653, 2.14547, 6.22859, 6.28923, 3.5576, 2.21382, 2.45008, 3.47179, 4.48761, 4.53273, 3.73197, 3.14374, 3.18439, 3.57365, 3.7811, 3.69066, 3.51569, 3.47407, 3.56972, 3.65511, 3.62541, 3.54702, 3.5301, 3.58099, 3.60385, 3.58119, 3.55952]\n",
            "Training loss: [5.32297, 3.60724, 1.38904, 0.41158, 0.8953, 0.23392, 0.0473, 0.19307, 0.10916, 0.04162, 0.05259, 0.02536, 0.00497, 0.01208, 0.00454, 0.00237, 0.00347, 0.00034, 0.00064, 0.00053, 0.00018, 0.00046, 9e-05, 0.00018, 9e-05, 4e-05, 4e-05, 1e-05, 2e-05]\n",
            "Test loss: [2.20779, 0.16653, 2.14547, 6.22859, 6.28923, 3.5576, 2.21382, 2.45008, 3.47179, 4.48761, 4.53273, 3.73197, 3.14374, 3.18439, 3.57365, 3.7811, 3.69066, 3.51569, 3.47407, 3.56972, 3.65511, 3.62541, 3.54702, 3.5301, 3.58099, 3.60385, 3.58119, 3.55952, 3.56445]\n",
            "Training loss: [5.32297, 3.60724, 1.38904, 0.41158, 0.8953, 0.23392, 0.0473, 0.19307, 0.10916, 0.04162, 0.05259, 0.02536, 0.00497, 0.01208, 0.00454, 0.00237, 0.00347, 0.00034, 0.00064, 0.00053, 0.00018, 0.00046, 9e-05, 0.00018, 9e-05, 4e-05, 4e-05, 1e-05, 2e-05, 1e-05]\n",
            "Test loss: [2.20779, 0.16653, 2.14547, 6.22859, 6.28923, 3.5576, 2.21382, 2.45008, 3.47179, 4.48761, 4.53273, 3.73197, 3.14374, 3.18439, 3.57365, 3.7811, 3.69066, 3.51569, 3.47407, 3.56972, 3.65511, 3.62541, 3.54702, 3.5301, 3.58099, 3.60385, 3.58119, 3.55952, 3.56445, 3.57985]\n"
          ]
        }
      ]
    },
    {
      "cell_type": "code",
      "source": [
        "def trainroutine():\n",
        "    global trainloss, testloss\n",
        "    for epoch in range(nepochs_HP):\n",
        "        running_loss = 0.0\n",
        "        for i, (x_batch, y_batch) in enumerate(train_dataloader):\n",
        "            # Put the data on the device\n",
        "            x_batch = x_batch.to(device)\n",
        "            y_batch = y_batch.to(device)\n",
        "            \n",
        "            # Forward propagation\n",
        "            ŷ_batch = transformer(x_batch)\n",
        "            \n",
        "            # Backpropagation\n",
        "            batch_loss = loss_HP(ŷ_batch, y_batch.unsqueeze(1))\n",
        "            transformer_optimizer.zero_grad()\n",
        "            batch_loss.backward()\n",
        "            transformer_optimizer.step()\n",
        "            \n",
        "\n",
        "            # Print statistics\n",
        "            running_loss += batch_loss.item()*batchsize_HP\n",
        "        \n",
        "        # Print the results through the epochs\n",
        "        trainloss = trainloss + [ round(running_loss/(datasetsize_HP*split_HP), 5) ]\n",
        "        print(\"Training loss:\", trainloss)\n",
        "        testloss = testloss + [ round(get_reg_accuracy(), 5) ]\n",
        "        print(\"Test loss:\", testloss)\n",
        "        \n",
        "trainroutine()\n",
        "torch.save(transformer.state_dict(),\"transformer_weights.pt\")"
      ],
      "metadata": {
        "colab": {
          "base_uri": "https://localhost:8080/"
        },
        "id": "BLVuM99rV8QI",
        "outputId": "0dfb9a11-fadc-4512-cb40-71ccfce70c27"
      },
      "execution_count": 16,
      "outputs": [
        {
          "output_type": "stream",
          "name": "stdout",
          "text": [
            "Training loss: [5.32297, 3.60724, 1.38904, 0.41158, 0.8953, 0.23392, 0.0473, 0.19307, 0.10916, 0.04162, 0.05259, 0.02536, 0.00497, 0.01208, 0.00454, 0.00237, 0.00347, 0.00034, 0.00064, 0.00053, 0.00018, 0.00046, 9e-05, 0.00018, 9e-05, 4e-05, 4e-05, 1e-05, 2e-05, 1e-05, 1e-05]\n",
            "Test loss: [2.20779, 0.16653, 2.14547, 6.22859, 6.28923, 3.5576, 2.21382, 2.45008, 3.47179, 4.48761, 4.53273, 3.73197, 3.14374, 3.18439, 3.57365, 3.7811, 3.69066, 3.51569, 3.47407, 3.56972, 3.65511, 3.62541, 3.54702, 3.5301, 3.58099, 3.60385, 3.58119, 3.55952, 3.56445, 3.57985, 3.58278]\n",
            "Training loss: [5.32297, 3.60724, 1.38904, 0.41158, 0.8953, 0.23392, 0.0473, 0.19307, 0.10916, 0.04162, 0.05259, 0.02536, 0.00497, 0.01208, 0.00454, 0.00237, 0.00347, 0.00034, 0.00064, 0.00053, 0.00018, 0.00046, 9e-05, 0.00018, 9e-05, 4e-05, 4e-05, 1e-05, 2e-05, 1e-05, 1e-05, 0.0]\n",
            "Test loss: [2.20779, 0.16653, 2.14547, 6.22859, 6.28923, 3.5576, 2.21382, 2.45008, 3.47179, 4.48761, 4.53273, 3.73197, 3.14374, 3.18439, 3.57365, 3.7811, 3.69066, 3.51569, 3.47407, 3.56972, 3.65511, 3.62541, 3.54702, 3.5301, 3.58099, 3.60385, 3.58119, 3.55952, 3.56445, 3.57985, 3.58278, 3.57461]\n",
            "Training loss: [5.32297, 3.60724, 1.38904, 0.41158, 0.8953, 0.23392, 0.0473, 0.19307, 0.10916, 0.04162, 0.05259, 0.02536, 0.00497, 0.01208, 0.00454, 0.00237, 0.00347, 0.00034, 0.00064, 0.00053, 0.00018, 0.00046, 9e-05, 0.00018, 9e-05, 4e-05, 4e-05, 1e-05, 2e-05, 1e-05, 1e-05, 0.0, 0.0]\n",
            "Test loss: [2.20779, 0.16653, 2.14547, 6.22859, 6.28923, 3.5576, 2.21382, 2.45008, 3.47179, 4.48761, 4.53273, 3.73197, 3.14374, 3.18439, 3.57365, 3.7811, 3.69066, 3.51569, 3.47407, 3.56972, 3.65511, 3.62541, 3.54702, 3.5301, 3.58099, 3.60385, 3.58119, 3.55952, 3.56445, 3.57985, 3.58278, 3.57461, 3.57232]\n",
            "Training loss: [5.32297, 3.60724, 1.38904, 0.41158, 0.8953, 0.23392, 0.0473, 0.19307, 0.10916, 0.04162, 0.05259, 0.02536, 0.00497, 0.01208, 0.00454, 0.00237, 0.00347, 0.00034, 0.00064, 0.00053, 0.00018, 0.00046, 9e-05, 0.00018, 9e-05, 4e-05, 4e-05, 1e-05, 2e-05, 1e-05, 1e-05, 0.0, 0.0, 0.0]\n",
            "Test loss: [2.20779, 0.16653, 2.14547, 6.22859, 6.28923, 3.5576, 2.21382, 2.45008, 3.47179, 4.48761, 4.53273, 3.73197, 3.14374, 3.18439, 3.57365, 3.7811, 3.69066, 3.51569, 3.47407, 3.56972, 3.65511, 3.62541, 3.54702, 3.5301, 3.58099, 3.60385, 3.58119, 3.55952, 3.56445, 3.57985, 3.58278, 3.57461, 3.57232, 3.57839]\n",
            "Training loss: [5.32297, 3.60724, 1.38904, 0.41158, 0.8953, 0.23392, 0.0473, 0.19307, 0.10916, 0.04162, 0.05259, 0.02536, 0.00497, 0.01208, 0.00454, 0.00237, 0.00347, 0.00034, 0.00064, 0.00053, 0.00018, 0.00046, 9e-05, 0.00018, 9e-05, 4e-05, 4e-05, 1e-05, 2e-05, 1e-05, 1e-05, 0.0, 0.0, 0.0, 0.0]\n",
            "Test loss: [2.20779, 0.16653, 2.14547, 6.22859, 6.28923, 3.5576, 2.21382, 2.45008, 3.47179, 4.48761, 4.53273, 3.73197, 3.14374, 3.18439, 3.57365, 3.7811, 3.69066, 3.51569, 3.47407, 3.56972, 3.65511, 3.62541, 3.54702, 3.5301, 3.58099, 3.60385, 3.58119, 3.55952, 3.56445, 3.57985, 3.58278, 3.57461, 3.57232, 3.57839, 3.58052]\n",
            "Training loss: [5.32297, 3.60724, 1.38904, 0.41158, 0.8953, 0.23392, 0.0473, 0.19307, 0.10916, 0.04162, 0.05259, 0.02536, 0.00497, 0.01208, 0.00454, 0.00237, 0.00347, 0.00034, 0.00064, 0.00053, 0.00018, 0.00046, 9e-05, 0.00018, 9e-05, 4e-05, 4e-05, 1e-05, 2e-05, 1e-05, 1e-05, 0.0, 0.0, 0.0, 0.0, 0.0]\n",
            "Test loss: [2.20779, 0.16653, 2.14547, 6.22859, 6.28923, 3.5576, 2.21382, 2.45008, 3.47179, 4.48761, 4.53273, 3.73197, 3.14374, 3.18439, 3.57365, 3.7811, 3.69066, 3.51569, 3.47407, 3.56972, 3.65511, 3.62541, 3.54702, 3.5301, 3.58099, 3.60385, 3.58119, 3.55952, 3.56445, 3.57985, 3.58278, 3.57461, 3.57232, 3.57839, 3.58052, 3.57545]\n",
            "Training loss: [5.32297, 3.60724, 1.38904, 0.41158, 0.8953, 0.23392, 0.0473, 0.19307, 0.10916, 0.04162, 0.05259, 0.02536, 0.00497, 0.01208, 0.00454, 0.00237, 0.00347, 0.00034, 0.00064, 0.00053, 0.00018, 0.00046, 9e-05, 0.00018, 9e-05, 4e-05, 4e-05, 1e-05, 2e-05, 1e-05, 1e-05, 0.0, 0.0, 0.0, 0.0, 0.0, 0.0]\n",
            "Test loss: [2.20779, 0.16653, 2.14547, 6.22859, 6.28923, 3.5576, 2.21382, 2.45008, 3.47179, 4.48761, 4.53273, 3.73197, 3.14374, 3.18439, 3.57365, 3.7811, 3.69066, 3.51569, 3.47407, 3.56972, 3.65511, 3.62541, 3.54702, 3.5301, 3.58099, 3.60385, 3.58119, 3.55952, 3.56445, 3.57985, 3.58278, 3.57461, 3.57232, 3.57839, 3.58052, 3.57545, 3.57306]\n",
            "Training loss: [5.32297, 3.60724, 1.38904, 0.41158, 0.8953, 0.23392, 0.0473, 0.19307, 0.10916, 0.04162, 0.05259, 0.02536, 0.00497, 0.01208, 0.00454, 0.00237, 0.00347, 0.00034, 0.00064, 0.00053, 0.00018, 0.00046, 9e-05, 0.00018, 9e-05, 4e-05, 4e-05, 1e-05, 2e-05, 1e-05, 1e-05, 0.0, 0.0, 0.0, 0.0, 0.0, 0.0, 0.0]\n",
            "Test loss: [2.20779, 0.16653, 2.14547, 6.22859, 6.28923, 3.5576, 2.21382, 2.45008, 3.47179, 4.48761, 4.53273, 3.73197, 3.14374, 3.18439, 3.57365, 3.7811, 3.69066, 3.51569, 3.47407, 3.56972, 3.65511, 3.62541, 3.54702, 3.5301, 3.58099, 3.60385, 3.58119, 3.55952, 3.56445, 3.57985, 3.58278, 3.57461, 3.57232, 3.57839, 3.58052, 3.57545, 3.57306, 3.57565]\n",
            "Training loss: [5.32297, 3.60724, 1.38904, 0.41158, 0.8953, 0.23392, 0.0473, 0.19307, 0.10916, 0.04162, 0.05259, 0.02536, 0.00497, 0.01208, 0.00454, 0.00237, 0.00347, 0.00034, 0.00064, 0.00053, 0.00018, 0.00046, 9e-05, 0.00018, 9e-05, 4e-05, 4e-05, 1e-05, 2e-05, 1e-05, 1e-05, 0.0, 0.0, 0.0, 0.0, 0.0, 0.0, 0.0, 0.0]\n",
            "Test loss: [2.20779, 0.16653, 2.14547, 6.22859, 6.28923, 3.5576, 2.21382, 2.45008, 3.47179, 4.48761, 4.53273, 3.73197, 3.14374, 3.18439, 3.57365, 3.7811, 3.69066, 3.51569, 3.47407, 3.56972, 3.65511, 3.62541, 3.54702, 3.5301, 3.58099, 3.60385, 3.58119, 3.55952, 3.56445, 3.57985, 3.58278, 3.57461, 3.57232, 3.57839, 3.58052, 3.57545, 3.57306, 3.57565, 3.57714]\n",
            "Training loss: [5.32297, 3.60724, 1.38904, 0.41158, 0.8953, 0.23392, 0.0473, 0.19307, 0.10916, 0.04162, 0.05259, 0.02536, 0.00497, 0.01208, 0.00454, 0.00237, 0.00347, 0.00034, 0.00064, 0.00053, 0.00018, 0.00046, 9e-05, 0.00018, 9e-05, 4e-05, 4e-05, 1e-05, 2e-05, 1e-05, 1e-05, 0.0, 0.0, 0.0, 0.0, 0.0, 0.0, 0.0, 0.0, 0.0]\n",
            "Test loss: [2.20779, 0.16653, 2.14547, 6.22859, 6.28923, 3.5576, 2.21382, 2.45008, 3.47179, 4.48761, 4.53273, 3.73197, 3.14374, 3.18439, 3.57365, 3.7811, 3.69066, 3.51569, 3.47407, 3.56972, 3.65511, 3.62541, 3.54702, 3.5301, 3.58099, 3.60385, 3.58119, 3.55952, 3.56445, 3.57985, 3.58278, 3.57461, 3.57232, 3.57839, 3.58052, 3.57545, 3.57306, 3.57565, 3.57714, 3.57592]\n"
          ]
        }
      ]
    },
    {
      "cell_type": "code",
      "source": [
        "model_parameters = filter(lambda p: p.requires_grad, transformer.parameters())\n",
        "params = sum([np.prod(p.size()) for p in model_parameters])\n",
        "print(params)"
      ],
      "metadata": {
        "id": "M4XJcp1zx-3_",
        "colab": {
          "base_uri": "https://localhost:8080/"
        },
        "outputId": "7fbd2a11-4f6b-4fff-e25e-253f3fd24d43"
      },
      "execution_count": 17,
      "outputs": [
        {
          "output_type": "stream",
          "name": "stdout",
          "text": [
            "1786753\n"
          ]
        }
      ]
    },
    {
      "cell_type": "markdown",
      "metadata": {
        "id": "_tJDjYNIhMwk"
      },
      "source": [
        "# Get validation accuracy"
      ]
    },
    {
      "cell_type": "code",
      "execution_count": 18,
      "metadata": {
        "id": "pbpgD4MohMwk"
      },
      "outputs": [],
      "source": [
        "def get_reg_accuracy():\n",
        "    total = 0\n",
        "    \n",
        "    with torch.inference_mode():\n",
        "      transformer.eval()\n",
        "      for x_batch, y_batch in vali_dataloader:\n",
        "            x_batch = x_batch.to(device)\n",
        "            y_batch = y_batch.to(device)\n",
        "            ŷ_batch = transformer(x_batch)\n",
        "            batch_loss = loss_HP(ŷ_batch, y_batch.unsqueeze(1))\n",
        "            total += batchsize_HP * batch_loss.item()\n",
        "\n",
        "    transformer.train()\n",
        "#print( get_reg_accuracy() )"
      ]
    },
    {
      "cell_type": "markdown",
      "metadata": {
        "id": "N4peNfb_hMwl"
      },
      "source": [
        "# Notes\n",
        "\n",
        "- We could add a positionnal encoding (with\n",
        "PositionalEncoding) (see https://pytorch.org/tutorials/beginner/transformer_tutorial.html)\n",
        "\n",
        "Usually, embedding is done in order to compress the representation of words (loss of information).\n",
        "In our case, their are 4 possible tokens, which means that no compression is needed."
      ]
    }
  ],
  "metadata": {
    "kernelspec": {
      "display_name": "base",
      "language": "python",
      "name": "python3"
    },
    "language_info": {
      "codemirror_mode": {
        "name": "ipython",
        "version": 3
      },
      "file_extension": ".py",
      "mimetype": "text/x-python",
      "name": "python",
      "nbconvert_exporter": "python",
      "pygments_lexer": "ipython3",
      "version": "3.10.8"
    },
    "orig_nbformat": 4,
    "colab": {
      "provenance": []
    },
    "accelerator": "GPU",
    "gpuClass": "standard"
  },
  "nbformat": 4,
  "nbformat_minor": 0
}