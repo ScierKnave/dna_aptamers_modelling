{
  "cells": [
    {
      "cell_type": "code",
      "execution_count": 1,
      "metadata": {
        "id": "OvvkIKdVhMwf"
      },
      "outputs": [],
      "source": [
        "import math\n",
        "import os\n",
        "import torch\n",
        "from torch import nn, Tensor\n",
        "import torch.nn.functional as F\n",
        "from torch.nn import TransformerEncoder, TransformerEncoderLayer\n",
        "from torch.utils.data import TensorDataset, DataLoader\n",
        "device = torch.device('cuda' if torch.cuda.is_available() else 'cpu')\n",
        "import json\n",
        "import pandas as pd\n",
        "import numpy as np\n",
        "import sklearn\n",
        "from sklearn.preprocessing import OneHotEncoder\n",
        "\n",
        "if torch.cuda.is_available():\n",
        "  torch.set_default_tensor_type('torch.cuda.FloatTensor')"
      ]
    },
    {
      "cell_type": "markdown",
      "metadata": {
        "id": "N6_JjGTPhMwg"
      },
      "source": [
        "# Hyperparameters"
      ]
    },
    {
      "cell_type": "code",
      "execution_count": 2,
      "metadata": {
        "id": "oYsS0wzFhMwh"
      },
      "outputs": [],
      "source": [
        "# Transformer HyperHPeters\n",
        "# The length of our token sequences\n",
        "ntokens_HP = 30\n",
        "# Number of attention heads\n",
        "nheads_HP = 8\n",
        "# The encoding dimensions of our tokens\n",
        "token_encode_size_HP = 16\n",
        "# The embedding string size\n",
        "# Pytorch will cut this embedded sequence \n",
        "# and give an equal amount to each head, different \n",
        "# than in theory \n",
        "embed_size_HP = token_encode_size_HP *  nheads_HP\n",
        "# Output size of the heads, which \n",
        "# learn an embedding.\n",
        "head_embedsize_HP = 4\n",
        "# For some reason PyTorch needs us to do this manually\n",
        "d_model_HP = head_embedsize_HP * nheads_HP\n",
        "# No dropout for now\n",
        "dropout_HP = 0\n",
        "# Number of encoding layers\n",
        "n_encoders_HP = 3\n",
        "\n",
        "# Standard stuff\n",
        "activation_HP = \"relu\"\n",
        "layer_norm_eps_HP = 1e-5\n",
        "batch_first_HP = True\n",
        "norm_first_HP = False\n",
        "\n",
        "# Trainig and validation Hyperparameters\n",
        "datasetsize_HP = 1_000_000\n",
        "split_HP = 0.9\n",
        "batchsize_HP = 350\n",
        "batchsize_HP = min(batchsize_HP, (int)(datasetsize_HP*0.2))\n",
        "nepochs_HP = 10\n",
        "device = torch.device(\"cuda\" if torch.cuda.is_available() else \"cpu\")\n",
        "loss_HP = nn.MSELoss()\n",
        "learnrate_HP = 1e-4"
      ]
    },
    {
      "cell_type": "markdown",
      "metadata": {
        "id": "r0-3qv1dhMwj"
      },
      "source": [
        "# Import and preprocess the data"
      ]
    },
    {
      "cell_type": "code",
      "execution_count": 3,
      "metadata": {
        "id": "8r4fpLUShMwj",
        "colab": {
          "base_uri": "https://localhost:8080/"
        },
        "outputId": "4b33490d-929f-4636-bc03-150c013b6027"
      },
      "outputs": [
        {
          "output_type": "stream",
          "name": "stdout",
          "text": [
            "Mounted at /content/drive\n"
          ]
        }
      ],
      "source": [
        "from google.colab import drive\n",
        "drive.mount('/content/drive')\n",
        "\n",
        "\n",
        "# Json -> Dataframe\n",
        "features_df = pd.read_json('/content/drive/MyDrive/strandenergylist.json')\n",
        "energy_df = features_df[1]\n",
        "energy_df = energy_df.head(datasetsize_HP)\n",
        "features_df = features_df.head(datasetsize_HP)\n",
        "features_df = features_df[0].str.split('', expand=True)\n",
        "features_df = features_df.drop([0, 31], axis=1)\n",
        "labels_df = features_df[1]\n",
        "\n",
        "\n",
        "# Dataframe -> Tensors\n",
        "dna = features_df.to_numpy()\n",
        "for i in range(dna.shape[0]):\n",
        "    for j in range(dna.shape[1]):\n",
        "        if (dna[i,j] == 'A'): dna[i,j] = 0\n",
        "        if (dna[i,j] == 'C'): dna[i,j] = 1\n",
        "        if (dna[i,j] == 'G'): dna[i,j] = 2\n",
        "        if (dna[i,j] == 'T'): dna[i,j] = 3\n",
        "dna = dna.astype(int)\n",
        "dna = torch.from_numpy(dna)\n",
        "energy = torch.tensor(energy_df.values).to(torch.float)\n",
        "\n",
        "\n",
        "# Tensors -> Dataloaders\n",
        "dataset = TensorDataset(dna, energy)\n",
        "ntrain = (int) (split_HP * datasetsize_HP)\n",
        "ntest = datasetsize_HP - ntrain\n",
        "train_set, vali_set = torch.utils.data.random_split(dataset, [ntrain, ntest], \n",
        "                                                    generator=torch.Generator(device='cuda'))\n",
        "\n",
        "train_dataloader = DataLoader(train_set, batch_size=batchsize_HP, shuffle=True, \n",
        "                              generator=torch.Generator(device='cuda'))\n",
        "vali_dataloader = DataLoader(vali_set, batch_size=batchsize_HP, shuffle=True, \n",
        "                             generator=torch.Generator(device='cuda'))"
      ]
    },
    {
      "cell_type": "markdown",
      "metadata": {
        "id": "mE4uz7nehMwi"
      },
      "source": [
        "# Create the transformer model"
      ]
    },
    {
      "cell_type": "code",
      "execution_count": 4,
      "metadata": {
        "id": "VDT-LncKhMwi"
      },
      "outputs": [],
      "source": [
        "# Created entirely by the Pytorch team and pasted here.\n",
        "# Adds information of position in the encoding of the tokens.\n",
        "class PositionalEncoding(nn.Module):\n",
        "    def __init__(self, d_model: int, dropout: float = 0.1, max_len: int = 5000):\n",
        "        super().__init__()\n",
        "        self.dropout = nn.Dropout(p=dropout)\n",
        "        position = torch.arange(max_len).unsqueeze(1)\n",
        "        div_term = torch.exp(torch.arange(0, d_model, 2) * (-math.log(10000.0) / d_model))\n",
        "        pe = torch.zeros(max_len, 1, d_model)\n",
        "        pe[:, 0, 0::2] = torch.sin(position * div_term)\n",
        "        pe[:, 0, 1::2] = torch.cos(position * div_term)\n",
        "        self.register_buffer('pe', pe)\n",
        "    def forward(self, x: Tensor) -> Tensor:\n",
        "        \"\"\"\n",
        "        Args:\n",
        "            x: Tensor, shape [seq_len, batch_size, embedding_dim]\n",
        "        \"\"\"\n",
        "        x = x + self.pe[:x.size(0)]\n",
        "        return self.dropout(x)\n",
        "\n",
        "class RegressionTranformer(nn.Module):\n",
        "    def __init__(self):\n",
        "        super(RegressionTranformer, self).__init__()\n",
        "\n",
        "        # Takes indexed sequences of tokens and embeds them.\n",
        "        # [batch_size, seq_len] -> [seq_len, batch_size, embedding_dim] TODO check this!\n",
        "        self.embedder = nn.Embedding(ntokens_HP, embed_size_HP)\n",
        "\n",
        "        # Will add information about position in sequence to each token.\n",
        "        # The second argument is the dropout probability.\n",
        "        # [seq_len, batch_size, embedding_dim] -> [seq_len, batch_size, embedding_dim] TODO check this!\n",
        "        self.posi_encoder = PositionalEncoding(embed_size_HP, 0.5)\n",
        "\n",
        "        # The core of our regression transformer\n",
        "        transformer_encoder_layer = nn.TransformerEncoderLayer(\n",
        "            d_model = embed_size_HP,\n",
        "            nhead = nheads_HP,\n",
        "            dropout = dropout_HP,\n",
        "            activation = activation_HP,\n",
        "            layer_norm_eps = layer_norm_eps_HP,\n",
        "            batch_first = batch_first_HP,\n",
        "            norm_first = norm_first_HP\n",
        "        )\n",
        "        self.encoding_layers = nn.TransformerEncoder(transformer_encoder_layer, n_encoders_HP)\n",
        "\n",
        "      \n",
        "        # A linear map returning a scalar value, which is the predicted free\n",
        "        # energy of the input sequence.\n",
        "        # [batch_size, flatten_seq_len] -> [1]\n",
        "        self.linear = nn.Linear(embed_size_HP * ntokens_HP, 1) \n",
        "\n",
        "\n",
        "    def forward(self, x):\n",
        "        ŷ =  self.embedder(x)\n",
        "\n",
        "        # Normalise the encoding.\n",
        "        ŷ = ŷ * math.sqrt(embed_size_HP)\n",
        "\n",
        "        ŷ = torch.permute(ŷ, (1,0,2)) # Necessary for the posi. enc. function.\n",
        "        ŷ = self.posi_encoder(ŷ)\n",
        "\n",
        "        ŷ = torch.permute(ŷ, (1,0,2)) # Back to normal\n",
        "        ŷ = self.encoding_layers(ŷ)\n",
        "\n",
        "        ŷ = ŷ.flatten(1,2)\n",
        "\n",
        "        ŷ = self.linear(ŷ)\n",
        "\n",
        "        return ŷ\n",
        "        \n",
        "transformer = RegressionTranformer().to(device)"
      ]
    },
    {
      "cell_type": "markdown",
      "metadata": {
        "id": "C12-5_uchMwk"
      },
      "source": [
        "# Train the Transformer"
      ]
    },
    {
      "cell_type": "code",
      "execution_count": 5,
      "metadata": {
        "id": "y5yz-zoWhMwk",
        "colab": {
          "base_uri": "https://localhost:8080/"
        },
        "outputId": "e011fef2-5ce3-4b56-c862-913b683dcb2e"
      },
      "outputs": [
        {
          "output_type": "stream",
          "name": "stdout",
          "text": [
            "[1] Training loss: 1.133\n",
            "[1] Test loss: 1.033\n",
            "[2] Training loss: 1.043\n",
            "[2] Test loss: 1.032\n",
            "[3] Training loss: 1.038\n",
            "[3] Test loss: 1.032\n",
            "[4] Training loss: 1.036\n",
            "[4] Test loss: 1.029\n",
            "[5] Training loss: 1.035\n",
            "[5] Test loss: 1.033\n",
            "[6] Training loss: 1.033\n",
            "[6] Test loss: 1.026\n",
            "[7] Training loss: 1.033\n",
            "[7] Test loss: 1.032\n",
            "[8] Training loss: 1.032\n",
            "[8] Test loss: 1.029\n",
            "[9] Training loss: 1.032\n",
            "[9] Test loss: 1.029\n",
            "[10] Training loss: 1.031\n",
            "[10] Test loss: 1.031\n"
          ]
        }
      ],
      "source": [
        "# Train # 1\n",
        "def get_reg_accuracy():\n",
        "    total = 0\n",
        "    \n",
        "    with torch.inference_mode():\n",
        "      transformer.eval()\n",
        "      for x_batch, y_batch in vali_dataloader:\n",
        "            x_batch = x_batch.to(device)\n",
        "            y_batch = y_batch.to(device)\n",
        "            ŷ_batch = transformer(x_batch)\n",
        "            batch_loss = loss_HP(ŷ_batch, y_batch.unsqueeze(1))\n",
        "            total += batchsize_HP * batch_loss.item()\n",
        "\n",
        "    transformer.train()\n",
        "    return total / (datasetsize_HP*(1-split_HP))\n",
        "\n",
        "\n",
        "transformer_optimizer = torch.optim.Adam(transformer.parameters(), lr=learnrate_HP)\n",
        "\n",
        "def trainroutine():\n",
        "    for epoch in range(nepochs_HP):\n",
        "        running_loss = 0.0\n",
        "        for i, (x_batch, y_batch) in enumerate(train_dataloader):\n",
        "            # Put the data on the device\n",
        "            x_batch = x_batch.to(device)\n",
        "            y_batch = y_batch.to(device)\n",
        "            \n",
        "            # Forward propagation\n",
        "            ŷ_batch = transformer(x_batch)\n",
        "            \n",
        "            # Backpropagation\n",
        "            batch_loss = loss_HP(ŷ_batch, y_batch.unsqueeze(1))\n",
        "            transformer_optimizer.zero_grad()\n",
        "            batch_loss.backward()\n",
        "            transformer_optimizer.step()\n",
        "            \n",
        "\n",
        "            # Print statistics\n",
        "            running_loss += batch_loss.item()*batchsize_HP\n",
        "        print(\"[%d] Training loss: %.3f\" %(epoch+1, running_loss/(datasetsize_HP*split_HP)))\n",
        "        print(\"[%d] Test loss: %.3f\" %(epoch+1, get_reg_accuracy()))\n",
        "        \n",
        "trainroutine()\n",
        "torch.save(transformer.state_dict(),\"transformer_weights.pt\")\n"
      ]
    },
    {
      "cell_type": "code",
      "source": [
        "# Train # 2\n",
        "def trainroutine():\n",
        "    for epoch in range(nepochs_HP):\n",
        "        running_loss = 0.0\n",
        "        for i, (x_batch, y_batch) in enumerate(train_dataloader):\n",
        "            # Put the data on the device\n",
        "            x_batch = x_batch.to(device)\n",
        "            y_batch = y_batch.to(device)\n",
        "            \n",
        "            # Forward propagation\n",
        "            ŷ_batch = transformer(x_batch)\n",
        "            \n",
        "            # Backpropagation\n",
        "            batch_loss = loss_HP(ŷ_batch, y_batch.unsqueeze(1))\n",
        "            transformer_optimizer.zero_grad()\n",
        "            batch_loss.backward()\n",
        "            transformer_optimizer.step()\n",
        "            \n",
        "\n",
        "            # Print statistics\n",
        "            running_loss += batch_loss.item()*batchsize_HP\n",
        "        print(\"[%d] Training loss: %.3f\" %(epoch+1, running_loss/(datasetsize_HP*split_HP)))\n",
        "        print(\"[%d] Test loss: %.3f\" %(epoch+1, get_reg_accuracy()))\n",
        "        \n",
        "trainroutine()"
      ],
      "metadata": {
        "colab": {
          "base_uri": "https://localhost:8080/",
          "height": 623
        },
        "id": "r9ao6HCdVy8B",
        "outputId": "d8790932-90e5-4944-8fb6-d8e2c84d6cd3"
      },
      "execution_count": 6,
      "outputs": [
        {
          "output_type": "stream",
          "name": "stdout",
          "text": [
            "[1] Training loss: 1.031\n",
            "[1] Test loss: 1.028\n",
            "[2] Training loss: 1.030\n",
            "[2] Test loss: 1.028\n",
            "[3] Training loss: 1.031\n",
            "[3] Test loss: 1.028\n",
            "[4] Training loss: 1.030\n",
            "[4] Test loss: 1.032\n",
            "[5] Training loss: 1.029\n",
            "[5] Test loss: 1.032\n",
            "[6] Training loss: 1.029\n",
            "[6] Test loss: 1.033\n",
            "[7] Training loss: 1.029\n",
            "[7] Test loss: 1.028\n",
            "[8] Training loss: 1.029\n",
            "[8] Test loss: 1.033\n"
          ]
        },
        {
          "output_type": "error",
          "ename": "KeyboardInterrupt",
          "evalue": "ignored",
          "traceback": [
            "\u001b[0;31m---------------------------------------------------------------------------\u001b[0m",
            "\u001b[0;31mKeyboardInterrupt\u001b[0m                         Traceback (most recent call last)",
            "\u001b[0;32m<ipython-input-6-5ca2918d4d1e>\u001b[0m in \u001b[0;36m<cell line: 25>\u001b[0;34m()\u001b[0m\n\u001b[1;32m     23\u001b[0m         \u001b[0mprint\u001b[0m\u001b[0;34m(\u001b[0m\u001b[0;34m\"[%d] Test loss: %.3f\"\u001b[0m \u001b[0;34m%\u001b[0m\u001b[0;34m(\u001b[0m\u001b[0mepoch\u001b[0m\u001b[0;34m+\u001b[0m\u001b[0;36m1\u001b[0m\u001b[0;34m,\u001b[0m \u001b[0mget_reg_accuracy\u001b[0m\u001b[0;34m(\u001b[0m\u001b[0;34m)\u001b[0m\u001b[0;34m)\u001b[0m\u001b[0;34m)\u001b[0m\u001b[0;34m\u001b[0m\u001b[0;34m\u001b[0m\u001b[0m\n\u001b[1;32m     24\u001b[0m \u001b[0;34m\u001b[0m\u001b[0m\n\u001b[0;32m---> 25\u001b[0;31m \u001b[0mtrainroutine\u001b[0m\u001b[0;34m(\u001b[0m\u001b[0;34m)\u001b[0m\u001b[0;34m\u001b[0m\u001b[0;34m\u001b[0m\u001b[0m\n\u001b[0m",
            "\u001b[0;32m<ipython-input-6-5ca2918d4d1e>\u001b[0m in \u001b[0;36mtrainroutine\u001b[0;34m()\u001b[0m\n\u001b[1;32m     14\u001b[0m             \u001b[0mbatch_loss\u001b[0m \u001b[0;34m=\u001b[0m \u001b[0mloss_HP\u001b[0m\u001b[0;34m(\u001b[0m\u001b[0mŷ_batch\u001b[0m\u001b[0;34m,\u001b[0m \u001b[0my_batch\u001b[0m\u001b[0;34m.\u001b[0m\u001b[0munsqueeze\u001b[0m\u001b[0;34m(\u001b[0m\u001b[0;36m1\u001b[0m\u001b[0;34m)\u001b[0m\u001b[0;34m)\u001b[0m\u001b[0;34m\u001b[0m\u001b[0;34m\u001b[0m\u001b[0m\n\u001b[1;32m     15\u001b[0m             \u001b[0mtransformer_optimizer\u001b[0m\u001b[0;34m.\u001b[0m\u001b[0mzero_grad\u001b[0m\u001b[0;34m(\u001b[0m\u001b[0;34m)\u001b[0m\u001b[0;34m\u001b[0m\u001b[0;34m\u001b[0m\u001b[0m\n\u001b[0;32m---> 16\u001b[0;31m             \u001b[0mbatch_loss\u001b[0m\u001b[0;34m.\u001b[0m\u001b[0mbackward\u001b[0m\u001b[0;34m(\u001b[0m\u001b[0;34m)\u001b[0m\u001b[0;34m\u001b[0m\u001b[0;34m\u001b[0m\u001b[0m\n\u001b[0m\u001b[1;32m     17\u001b[0m             \u001b[0mtransformer_optimizer\u001b[0m\u001b[0;34m.\u001b[0m\u001b[0mstep\u001b[0m\u001b[0;34m(\u001b[0m\u001b[0;34m)\u001b[0m\u001b[0;34m\u001b[0m\u001b[0;34m\u001b[0m\u001b[0m\n\u001b[1;32m     18\u001b[0m \u001b[0;34m\u001b[0m\u001b[0m\n",
            "\u001b[0;32m/usr/local/lib/python3.9/dist-packages/torch/_tensor.py\u001b[0m in \u001b[0;36mbackward\u001b[0;34m(self, gradient, retain_graph, create_graph, inputs)\u001b[0m\n\u001b[1;32m    486\u001b[0m                 \u001b[0minputs\u001b[0m\u001b[0;34m=\u001b[0m\u001b[0minputs\u001b[0m\u001b[0;34m,\u001b[0m\u001b[0;34m\u001b[0m\u001b[0;34m\u001b[0m\u001b[0m\n\u001b[1;32m    487\u001b[0m             )\n\u001b[0;32m--> 488\u001b[0;31m         torch.autograd.backward(\n\u001b[0m\u001b[1;32m    489\u001b[0m             \u001b[0mself\u001b[0m\u001b[0;34m,\u001b[0m \u001b[0mgradient\u001b[0m\u001b[0;34m,\u001b[0m \u001b[0mretain_graph\u001b[0m\u001b[0;34m,\u001b[0m \u001b[0mcreate_graph\u001b[0m\u001b[0;34m,\u001b[0m \u001b[0minputs\u001b[0m\u001b[0;34m=\u001b[0m\u001b[0minputs\u001b[0m\u001b[0;34m\u001b[0m\u001b[0;34m\u001b[0m\u001b[0m\n\u001b[1;32m    490\u001b[0m         )\n",
            "\u001b[0;32m/usr/local/lib/python3.9/dist-packages/torch/autograd/__init__.py\u001b[0m in \u001b[0;36mbackward\u001b[0;34m(tensors, grad_tensors, retain_graph, create_graph, grad_variables, inputs)\u001b[0m\n\u001b[1;32m    195\u001b[0m     \u001b[0;31m# some Python versions print out the first line of a multi-line function\u001b[0m\u001b[0;34m\u001b[0m\u001b[0;34m\u001b[0m\u001b[0m\n\u001b[1;32m    196\u001b[0m     \u001b[0;31m# calls in the traceback and some print out the last line\u001b[0m\u001b[0;34m\u001b[0m\u001b[0;34m\u001b[0m\u001b[0m\n\u001b[0;32m--> 197\u001b[0;31m     Variable._execution_engine.run_backward(  # Calls into the C++ engine to run the backward pass\n\u001b[0m\u001b[1;32m    198\u001b[0m         \u001b[0mtensors\u001b[0m\u001b[0;34m,\u001b[0m \u001b[0mgrad_tensors_\u001b[0m\u001b[0;34m,\u001b[0m \u001b[0mretain_graph\u001b[0m\u001b[0;34m,\u001b[0m \u001b[0mcreate_graph\u001b[0m\u001b[0;34m,\u001b[0m \u001b[0minputs\u001b[0m\u001b[0;34m,\u001b[0m\u001b[0;34m\u001b[0m\u001b[0;34m\u001b[0m\u001b[0m\n\u001b[1;32m    199\u001b[0m         allow_unreachable=True, accumulate_grad=True)  # Calls into the C++ engine to run the backward pass\n",
            "\u001b[0;31mKeyboardInterrupt\u001b[0m: "
          ]
        }
      ]
    },
    {
      "cell_type": "code",
      "source": [
        "# Train # 3\n",
        "def trainroutine():\n",
        "    for epoch in range(nepochs_HP):\n",
        "        running_loss = 0.0\n",
        "        for i, (x_batch, y_batch) in enumerate(train_dataloader):\n",
        "            # Put the data on the device\n",
        "            x_batch = x_batch.to(device)\n",
        "            y_batch = y_batch.to(device)\n",
        "            \n",
        "            # Forward propagation\n",
        "            ŷ_batch = transformer(x_batch)\n",
        "            \n",
        "            # Backpropagation\n",
        "            batch_loss = loss_HP(ŷ_batch, y_batch.unsqueeze(1))\n",
        "            transformer_optimizer.zero_grad()\n",
        "            batch_loss.backward()\n",
        "            transformer_optimizer.step()\n",
        "            \n",
        "\n",
        "            # Print statistics\n",
        "            running_loss += batch_loss.item()*batchsize_HP\n",
        "        print(\"[%d] Training loss: %.3f\" %(epoch+1, running_loss/(datasetsize_HP*split_HP)))\n",
        "        print(\"[%d] Test loss: %.3f\" %(epoch+1, get_reg_accuracy()))\n",
        "        \n",
        "trainroutine()"
      ],
      "metadata": {
        "id": "Q_UIopdoV6_E"
      },
      "execution_count": null,
      "outputs": []
    },
    {
      "cell_type": "code",
      "source": [
        "# Train # 4\n",
        "def trainroutine():\n",
        "    for epoch in range(nepochs_HP):\n",
        "        running_loss = 0.0\n",
        "        for i, (x_batch, y_batch) in enumerate(train_dataloader):\n",
        "            # Put the data on the device\n",
        "            x_batch = x_batch.to(device)\n",
        "            y_batch = y_batch.to(device)\n",
        "            \n",
        "            # Forward propagation\n",
        "            ŷ_batch = transformer(x_batch)\n",
        "            \n",
        "            # Backpropagation\n",
        "            batch_loss = loss_HP(ŷ_batch, y_batch.unsqueeze(1))\n",
        "            transformer_optimizer.zero_grad()\n",
        "            batch_loss.backward()\n",
        "            transformer_optimizer.step()\n",
        "            \n",
        "\n",
        "            # Print statistics\n",
        "            running_loss += batch_loss.item()*batchsize_HP\n",
        "        print(\"[%d] Training loss: %.3f\" %(epoch+1, running_loss/(datasetsize_HP*split_HP)))\n",
        "        print(\"[%d] Test loss: %.3f\" %(epoch+1, get_reg_accuracy()))\n",
        "        \n",
        "trainroutine()"
      ],
      "metadata": {
        "id": "BLVuM99rV8QI"
      },
      "execution_count": null,
      "outputs": []
    },
    {
      "cell_type": "code",
      "source": [
        "model_parameters = filter(lambda p: p.requires_grad, transformer.parameters())\n",
        "params = sum([np.prod(p.size()) for p in model_parameters])\n",
        "print(params)"
      ],
      "metadata": {
        "id": "M4XJcp1zx-3_"
      },
      "execution_count": null,
      "outputs": []
    },
    {
      "cell_type": "markdown",
      "metadata": {
        "id": "_tJDjYNIhMwk"
      },
      "source": [
        "# Get validation accuracy"
      ]
    },
    {
      "cell_type": "code",
      "execution_count": null,
      "metadata": {
        "id": "pbpgD4MohMwk"
      },
      "outputs": [],
      "source": [
        "def get_reg_accuracy():\n",
        "    total = 0\n",
        "    \n",
        "    with torch.inference_mode():\n",
        "      transformer.eval()\n",
        "      for x_batch, y_batch in vali_dataloader:\n",
        "            x_batch = x_batch.to(device)\n",
        "            y_batch = y_batch.to(device)\n",
        "            ŷ_batch = transformer(x_batch)\n",
        "            batch_loss = loss_HP(ŷ_batch, y_batch.unsqueeze(1))\n",
        "            total += batchsize_HP * batch_loss.item()\n",
        "\n",
        "    transformer.train()\n",
        "#print( get_reg_accuracy() )"
      ]
    },
    {
      "cell_type": "markdown",
      "metadata": {
        "id": "N4peNfb_hMwl"
      },
      "source": [
        "# Notes\n",
        "\n",
        "- We could add a positionnal encoding (with\n",
        "PositionalEncoding) (see https://pytorch.org/tutorials/beginner/transformer_tutorial.html)\n",
        "\n",
        "Usually, embedding is done in order to compress the representation of words (loss of information).\n",
        "In our case, their are 4 possible tokens, which means that no compression is needed."
      ]
    }
  ],
  "metadata": {
    "kernelspec": {
      "display_name": "base",
      "language": "python",
      "name": "python3"
    },
    "language_info": {
      "codemirror_mode": {
        "name": "ipython",
        "version": 3
      },
      "file_extension": ".py",
      "mimetype": "text/x-python",
      "name": "python",
      "nbconvert_exporter": "python",
      "pygments_lexer": "ipython3",
      "version": "3.10.8"
    },
    "orig_nbformat": 4,
    "colab": {
      "provenance": []
    },
    "accelerator": "GPU",
    "gpuClass": "standard"
  },
  "nbformat": 4,
  "nbformat_minor": 0
}