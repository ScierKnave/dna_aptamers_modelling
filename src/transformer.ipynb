{
 "cells": [
  {
   "cell_type": "code",
   "execution_count": 47,
   "metadata": {},
   "outputs": [],
   "source": [
    "import math\n",
    "import os\n",
    "import torch\n",
    "from torch import nn, Tensor\n",
    "import torch.nn.functional as F\n",
    "from torch.nn import TransformerEncoder, TransformerEncoderLayer\n",
    "from torch.utils.data import dataset\n",
    "device = torch.device('cuda' if torch.cuda.is_available() else 'cpu')"
   ]
  },
  {
   "attachments": {},
   "cell_type": "markdown",
   "metadata": {},
   "source": [
    "# Hyperparameters"
   ]
  },
  {
   "cell_type": "code",
   "execution_count": 48,
   "metadata": {},
   "outputs": [],
   "source": [
    "# Only 4 nucleotides possible (ACGT)\n",
    "ntokens_PARAM = 4\n",
    "# Number of attention heads\n",
    "nhead_PARAM = 8\n",
    "# Output size of the heads \n",
    "# (same as embed size of the tokens)\n",
    "head_inp_size_PARAM = 4\n",
    "# For some reason PyTorch needs us to do this manually\n",
    "d_model_PARAM = head_inp_size_PARAM * nhead_PARAM\n",
    "# Output dimension of the feedforward network\n",
    "# Set to 1 since this is a regression task\n",
    "dim_feedforward_PARAM = 1\n",
    "# No dropout for now\n",
    "dropout_PARAM = 0\n",
    "# Standard stuff\n",
    "activation_PARAM = \"relu\"\n",
    "layer_norm_eps_PARAM = 1e-5\n",
    "batch_first_PARAM = True\n",
    "norm_first_PARAM = False"
   ]
  },
  {
   "cell_type": "code",
   "execution_count": 49,
   "metadata": {},
   "outputs": [
    {
     "ename": "NameError",
     "evalue": "name 'PositionalEncoding' is not defined",
     "output_type": "error",
     "traceback": [
      "\u001b[1;31m---------------------------------------------------------------------------\u001b[0m",
      "\u001b[1;31mNameError\u001b[0m                                 Traceback (most recent call last)",
      "Cell \u001b[1;32mIn[49], line 24\u001b[0m\n\u001b[0;32m     22\u001b[0m         Y \u001b[39m=\u001b[39m \u001b[39mself\u001b[39m\u001b[39m.\u001b[39mencoder_transformer(Y)\n\u001b[0;32m     23\u001b[0m         \u001b[39mreturn\u001b[39;00m Y\n\u001b[1;32m---> 24\u001b[0m RegressionTranformer \u001b[39m=\u001b[39m RegressionTranformer()\u001b[39m.\u001b[39mto(device)\n",
      "Cell \u001b[1;32mIn[49], line 16\u001b[0m, in \u001b[0;36mRegressionTranformer.__init__\u001b[1;34m(self)\u001b[0m\n\u001b[0;32m      5\u001b[0m \u001b[39mself\u001b[39m\u001b[39m.\u001b[39mencoder_transformer \u001b[39m=\u001b[39m nn\u001b[39m.\u001b[39mTransformerEncoderLayer(\n\u001b[0;32m      6\u001b[0m     d_model \u001b[39m=\u001b[39m d_model_PARAM,\n\u001b[0;32m      7\u001b[0m     nhead \u001b[39m=\u001b[39m nhead_PARAM,\n\u001b[1;32m   (...)\u001b[0m\n\u001b[0;32m     13\u001b[0m     norm_first \u001b[39m=\u001b[39m norm_first_PARAM\n\u001b[0;32m     14\u001b[0m )\n\u001b[0;32m     15\u001b[0m \u001b[39mself\u001b[39m\u001b[39m.\u001b[39membedder \u001b[39m=\u001b[39m nn\u001b[39m.\u001b[39mEmbedding(ntokens_PARAM, d_model_PARAM)\n\u001b[1;32m---> 16\u001b[0m \u001b[39mself\u001b[39m\u001b[39m.\u001b[39mpos_encoder \u001b[39m=\u001b[39m PositionalEncoding(d_model_PARAM, dropout_PARAM)\n",
      "\u001b[1;31mNameError\u001b[0m: name 'PositionalEncoding' is not defined"
     ]
    }
   ],
   "source": [
    "# Create transformer model\n",
    "class RegressionTranformer(nn.Module):\n",
    "    def __init__(self):\n",
    "        super().__init__()\n",
    "        self.encoder_transformer = nn.TransformerEncoderLayer(\n",
    "            d_model = d_model_PARAM,\n",
    "            nhead = nhead_PARAM,\n",
    "            dim_feedforward = dim_feedforward_PARAM,\n",
    "            dropout = dropout_PARAM,\n",
    "            activation = activation_PARAM,\n",
    "            layer_norm_eps = layer_norm_eps_PARAM,\n",
    "            batch_first = batch_first_PARAM,\n",
    "            norm_first = norm_first_PARAM\n",
    "        )\n",
    "        self.embedder = nn.Embedding(ntokens_PARAM, d_model_PARAM)\n",
    "\n",
    "    \n",
    "    def forward(self, X):\n",
    "        Y = self.embedder(X)\n",
    "        Y = self.encoder_transformer(Y)\n",
    "        return Y\n",
    "RegressionTranformer = RegressionTranformer().to(device)"
   ]
  },
  {
   "attachments": {},
   "cell_type": "markdown",
   "metadata": {},
   "source": [
    "# Notes\n",
    "\n",
    "- We could add a positionnal encoding (with\n",
    "PositionalEncoding) (see https://pytorch.org/tutorials/beginner/transformer_tutorial.html)\n",
    "\n",
    "Usually, embedding is done in order to compress the representation of words (loss of information).\n",
    "In our case, their are 4 possible tokens, which means that no compression is needed."
   ]
  }
 ],
 "metadata": {
  "kernelspec": {
   "display_name": "base",
   "language": "python",
   "name": "python3"
  },
  "language_info": {
   "codemirror_mode": {
    "name": "ipython",
    "version": 3
   },
   "file_extension": ".py",
   "mimetype": "text/x-python",
   "name": "python",
   "nbconvert_exporter": "python",
   "pygments_lexer": "ipython3",
   "version": "3.10.8"
  },
  "orig_nbformat": 4
 },
 "nbformat": 4,
 "nbformat_minor": 2
}
